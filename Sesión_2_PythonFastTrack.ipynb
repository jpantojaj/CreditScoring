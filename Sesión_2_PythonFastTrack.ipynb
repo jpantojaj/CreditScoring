{
  "cells": [
    {
      "cell_type": "markdown",
      "metadata": {
        "id": "view-in-github",
        "colab_type": "text"
      },
      "source": [
        "<a href=\"https://colab.research.google.com/github/jpantojaj/Credit_Scoring_Specialization/blob/main/Sesi%C3%B3n_2_PythonFastTrack.ipynb\" target=\"_parent\"><img src=\"https://colab.research.google.com/assets/colab-badge.svg\" alt=\"Open In Colab\"/></a>"
      ]
    },
    {
      "cell_type": "markdown",
      "metadata": {
        "id": "RQtJerYzR99G"
      },
      "source": [
        "## Operaciones Básicas"
      ]
    },
    {
      "cell_type": "code",
      "execution_count": null,
      "metadata": {
        "scrolled": true,
        "id": "gmdqdiNFR99J",
        "colab": {
          "base_uri": "https://localhost:8080/"
        },
        "outputId": "36302a16-3d9d-42d4-aa13-273a6aee866a"
      },
      "outputs": [
        {
          "output_type": "stream",
          "name": "stdout",
          "text": [
            "500\n"
          ]
        },
        {
          "output_type": "execute_result",
          "data": {
            "text/plain": [
              "500"
            ]
          },
          "metadata": {},
          "execution_count": 1
        }
      ],
      "source": [
        "p1=500\n",
        "print(p1)\n",
        "p1"
      ]
    },
    {
      "cell_type": "markdown",
      "source": [
        "**estamos** **practicando**"
      ],
      "metadata": {
        "id": "7CZzCVZq_Ixx"
      }
    },
    {
      "cell_type": "code",
      "execution_count": null,
      "metadata": {
        "id": "1_xBDACdR99N",
        "colab": {
          "base_uri": "https://localhost:8080/"
        },
        "outputId": "01e9396e-894e-4742-d9a6-52df298496aa"
      },
      "outputs": [
        {
          "output_type": "execute_result",
          "data": {
            "text/plain": [
              "200.5"
            ]
          },
          "metadata": {},
          "execution_count": 2
        }
      ],
      "source": [
        "p2=200.5\n",
        "p2"
      ]
    },
    {
      "cell_type": "code",
      "execution_count": null,
      "metadata": {
        "id": "mHQAssfyR99O",
        "colab": {
          "base_uri": "https://localhost:8080/"
        },
        "outputId": "7a21c56d-30d3-4834-d326-16cd4d833735"
      },
      "outputs": [
        {
          "output_type": "stream",
          "name": "stdout",
          "text": [
            "<class 'int'>\n",
            "<class 'float'>\n"
          ]
        }
      ],
      "source": [
        "print(type(p1))\n",
        "print(type(p2))"
      ]
    },
    {
      "cell_type": "code",
      "execution_count": null,
      "metadata": {
        "id": "cK8ArdtXR99O"
      },
      "outputs": [],
      "source": [
        "w=int(p2)"
      ]
    },
    {
      "cell_type": "code",
      "source": [
        "w"
      ],
      "metadata": {
        "id": "yPSw3jHMt5iY",
        "colab": {
          "base_uri": "https://localhost:8080/"
        },
        "outputId": "8a1992ed-6b3b-4f70-ac8e-ab776699f2fa"
      },
      "execution_count": null,
      "outputs": [
        {
          "output_type": "execute_result",
          "data": {
            "text/plain": [
              "200"
            ]
          },
          "metadata": {},
          "execution_count": 5
        }
      ]
    },
    {
      "cell_type": "code",
      "execution_count": null,
      "metadata": {
        "id": "xJrD0pR6R99P",
        "colab": {
          "base_uri": "https://localhost:8080/"
        },
        "outputId": "783d90b6-5170-418e-c3d3-88f4e0bff256"
      },
      "outputs": [
        {
          "output_type": "execute_result",
          "data": {
            "text/plain": [
              "6"
            ]
          },
          "metadata": {},
          "execution_count": 6
        }
      ],
      "source": [
        "a = 5\n",
        "a = a + 1\n",
        "a"
      ]
    },
    {
      "cell_type": "code",
      "execution_count": null,
      "metadata": {
        "id": "Ntr_6fPyR99Q",
        "colab": {
          "base_uri": "https://localhost:8080/"
        },
        "outputId": "25b72f4b-038c-4640-ff38-2aab6a2db8c3"
      },
      "outputs": [
        {
          "output_type": "execute_result",
          "data": {
            "text/plain": [
              "7"
            ]
          },
          "metadata": {},
          "execution_count": 7
        }
      ],
      "source": [
        "a+=1\n",
        "a"
      ]
    },
    {
      "cell_type": "code",
      "execution_count": null,
      "metadata": {
        "id": "YPLZuDwPR99R",
        "colab": {
          "base_uri": "https://localhost:8080/"
        },
        "outputId": "ccea1e4a-8731-4784-ba42-ba1bc163bcfc"
      },
      "outputs": [
        {
          "output_type": "execute_result",
          "data": {
            "text/plain": [
              "1000"
            ]
          },
          "metadata": {},
          "execution_count": 8
        }
      ],
      "source": [
        "p=5\n",
        "q=200\n",
        "total=p*q\n",
        "total"
      ]
    },
    {
      "cell_type": "code",
      "execution_count": null,
      "metadata": {
        "id": "Va7d8hrcR99R"
      },
      "outputs": [],
      "source": [
        "total/p"
      ]
    },
    {
      "cell_type": "markdown",
      "metadata": {
        "id": "M49zTU6UR99S"
      },
      "source": [
        "## Print"
      ]
    },
    {
      "cell_type": "code",
      "execution_count": null,
      "metadata": {
        "id": "JGawtinxR99T",
        "colab": {
          "base_uri": "https://localhost:8080/"
        },
        "outputId": "8371c243-96bf-4ff4-e9e1-6f2b6d0ecd21"
      },
      "outputs": [
        {
          "output_type": "stream",
          "name": "stdout",
          "text": [
            "Curso de Backtesting y Strees Testing\n",
            "<class 'str'>\n"
          ]
        },
        {
          "output_type": "execute_result",
          "data": {
            "text/plain": [
              "37"
            ]
          },
          "metadata": {},
          "execution_count": 9
        }
      ],
      "source": [
        "x = \"Curso de Backtesting y Strees Testing\"\n",
        "print(x)\n",
        "print(type(x))\n",
        "len(x)"
      ]
    },
    {
      "cell_type": "code",
      "execution_count": null,
      "metadata": {
        "id": "UHx3HXOrR99T",
        "colab": {
          "base_uri": "https://localhost:8080/"
        },
        "outputId": "719ba776-5d06-4cce-f889-52b2173584b7"
      },
      "outputs": [
        {
          "output_type": "stream",
          "name": "stdout",
          "text": [
            "Me interesa el Curso de Backtesting y Strees Testing en este ciclo\n"
          ]
        }
      ],
      "source": [
        "print(\"Me interesa el {} en este ciclo\".format(x))"
      ]
    },
    {
      "cell_type": "code",
      "execution_count": null,
      "metadata": {
        "id": "WRGVBLscR99U"
      },
      "outputs": [],
      "source": [
        "y=\"2020-II\""
      ]
    },
    {
      "cell_type": "code",
      "execution_count": null,
      "metadata": {
        "id": "P49ox_UoR99U",
        "colab": {
          "base_uri": "https://localhost:8080/"
        },
        "outputId": "aebde595-746d-4b5f-dce5-4db827f4ef91"
      },
      "outputs": [
        {
          "output_type": "stream",
          "name": "stdout",
          "text": [
            "Me interesa el Curso de Backtesting y Strees Testing en este ciclo 2020-II\n"
          ]
        }
      ],
      "source": [
        "print(\"Me interesa el {} en este ciclo {}\".format(x, y))"
      ]
    },
    {
      "cell_type": "markdown",
      "metadata": {
        "id": "_fbjBnSUR99V"
      },
      "source": [
        "## Input"
      ]
    },
    {
      "cell_type": "code",
      "execution_count": null,
      "metadata": {
        "id": "3Ry7yU6LR99V",
        "colab": {
          "base_uri": "https://localhost:8080/"
        },
        "outputId": "12263e07-473f-47ae-c144-f4c19f0d111c"
      },
      "outputs": [
        {
          "output_type": "stream",
          "name": "stdout",
          "text": [
            "Bienvenido al curso, Cuál es tu nombre?: JJ\n",
            "Hola JJ\n"
          ]
        }
      ],
      "source": [
        "nombre = input(\"Bienvenido al curso, Cuál es tu nombre?: \")\n",
        "print('Hola', nombre)"
      ]
    },
    {
      "cell_type": "code",
      "execution_count": null,
      "metadata": {
        "id": "iEd-k-gxR99W",
        "colab": {
          "base_uri": "https://localhost:8080/"
        },
        "outputId": "bb2a2e3d-68c4-4f1c-8fc2-5910cc0d85c8"
      },
      "outputs": [
        {
          "output_type": "stream",
          "name": "stdout",
          "text": [
            "Bienvenido al curso, ingresa tu nombre: JIOHNNY\n",
            "Ingresa tu edad: 40\n",
            "Mi nombre es JIOHNNY, tengo 40 años\n"
          ]
        }
      ],
      "source": [
        "nombre = input(\"Bienvenido al curso, ingresa tu nombre: \")\n",
        "edad = input(\"Ingresa tu edad: \")\n",
        "print(\"Mi nombre es {}, tengo {} años\".format(nombre,edad))"
      ]
    },
    {
      "cell_type": "code",
      "execution_count": null,
      "metadata": {
        "id": "mdoUY2CaR99W",
        "colab": {
          "base_uri": "https://localhost:8080/"
        },
        "outputId": "6371ce9d-bbc5-4230-82ce-af722128ad75"
      },
      "outputs": [
        {
          "output_type": "stream",
          "name": "stdout",
          "text": [
            "Ingresa el precio: 10\n",
            "Ingresa la cantidad: 2\n",
            "El total de la cuenta es: 20\n"
          ]
        }
      ],
      "source": [
        "p = input(\"Ingresa el precio: \")\n",
        "p=int(p)\n",
        "q = input(\"Ingresa la cantidad: \")\n",
        "q=int(q)\n",
        "print('El total de la cuenta es: {}'.format(p*q))"
      ]
    },
    {
      "cell_type": "markdown",
      "metadata": {
        "id": "PPzncB3CR99X"
      },
      "source": [
        "## Tipos de Datos"
      ]
    },
    {
      "cell_type": "markdown",
      "metadata": {
        "id": "mU0Wv3McR99X"
      },
      "source": [
        "### Booleanos"
      ]
    },
    {
      "cell_type": "code",
      "execution_count": null,
      "metadata": {
        "id": "35hxFgj2R99X",
        "colab": {
          "base_uri": "https://localhost:8080/"
        },
        "outputId": "b737982d-17a5-402d-ecbb-dce6c2554976"
      },
      "outputs": [
        {
          "output_type": "execute_result",
          "data": {
            "text/plain": [
              "True"
            ]
          },
          "metadata": {},
          "execution_count": 16
        }
      ],
      "source": [
        "e=True\n",
        "e"
      ]
    },
    {
      "cell_type": "code",
      "execution_count": null,
      "metadata": {
        "id": "6K6b9ZOAR99Y",
        "colab": {
          "base_uri": "https://localhost:8080/"
        },
        "outputId": "0ed7cf02-ea98-4d99-ae0d-626ebd83c2b2"
      },
      "outputs": [
        {
          "output_type": "execute_result",
          "data": {
            "text/plain": [
              "True"
            ]
          },
          "metadata": {},
          "execution_count": 17
        }
      ],
      "source": [
        "p=100\n",
        "q=200\n",
        "p<q  #podemos probar con < y >"
      ]
    },
    {
      "cell_type": "markdown",
      "metadata": {
        "id": "5ZPqqhixR99Y"
      },
      "source": [
        "### Listas (List)"
      ]
    },
    {
      "cell_type": "code",
      "execution_count": null,
      "metadata": {
        "id": "eM48odc-R99Z",
        "colab": {
          "base_uri": "https://localhost:8080/"
        },
        "outputId": "81f5dc0a-5286-43a9-fe35-9cafe57a9786"
      },
      "outputs": [
        {
          "output_type": "execute_result",
          "data": {
            "text/plain": [
              "[1, 2, 3]"
            ]
          },
          "metadata": {},
          "execution_count": 18
        }
      ],
      "source": [
        "lista = [1, 2, 3]\n",
        "lista"
      ]
    },
    {
      "cell_type": "code",
      "execution_count": null,
      "metadata": {
        "id": "6k1X6_cMR99Z",
        "colab": {
          "base_uri": "https://localhost:8080/"
        },
        "outputId": "5ad9b48f-ae48-45c7-d60c-00b7ae58995c"
      },
      "outputs": [
        {
          "output_type": "execute_result",
          "data": {
            "text/plain": [
              "list"
            ]
          },
          "metadata": {},
          "execution_count": 19
        }
      ],
      "source": [
        "type(lista)"
      ]
    },
    {
      "cell_type": "code",
      "execution_count": null,
      "metadata": {
        "id": "8Mn3sdepR99Z",
        "colab": {
          "base_uri": "https://localhost:8080/"
        },
        "outputId": "3dd4a4c0-9f32-4de6-b4ee-c15c0fbe3756"
      },
      "outputs": [
        {
          "output_type": "execute_result",
          "data": {
            "text/plain": [
              "[2, 'google', 5]"
            ]
          },
          "metadata": {},
          "execution_count": 20
        }
      ],
      "source": [
        "lista = [2, \"google\", 5]\n",
        "lista"
      ]
    },
    {
      "cell_type": "code",
      "execution_count": null,
      "metadata": {
        "id": "U3fS_zOER99a",
        "colab": {
          "base_uri": "https://localhost:8080/"
        },
        "outputId": "34932803-57fb-44f0-f2b3-3b5fce999dca"
      },
      "outputs": [
        {
          "output_type": "execute_result",
          "data": {
            "text/plain": [
              "['google', [3, 6, 7]]"
            ]
          },
          "metadata": {},
          "execution_count": 21
        }
      ],
      "source": [
        "lista = [\"google\", [3, 6, 7]]\n",
        "lista"
      ]
    },
    {
      "cell_type": "code",
      "execution_count": null,
      "metadata": {
        "id": "uAHvVgcpR99a",
        "colab": {
          "base_uri": "https://localhost:8080/"
        },
        "outputId": "02af8b9f-ac2f-425d-8014-1dff505151eb"
      },
      "outputs": [
        {
          "output_type": "execute_result",
          "data": {
            "text/plain": [
              "5"
            ]
          },
          "metadata": {},
          "execution_count": 22
        }
      ],
      "source": [
        "lista = [2, \"google\", 5]\n",
        "lista[2] #pueden jugar con las posiciones, solo recordar que la posición inicial arranca en 0"
      ]
    },
    {
      "cell_type": "code",
      "execution_count": null,
      "metadata": {
        "id": "YaQGjb4aR99b",
        "colab": {
          "base_uri": "https://localhost:8080/",
          "height": 36
        },
        "outputId": "fb9c763f-1f21-4b38-8db8-a89ab34965b5"
      },
      "outputs": [
        {
          "output_type": "execute_result",
          "data": {
            "text/plain": [
              "'amazon'"
            ],
            "application/vnd.google.colaboratory.intrinsic+json": {
              "type": "string"
            }
          },
          "metadata": {},
          "execution_count": 23
        }
      ],
      "source": [
        "lista = [\"google\", [3, 6, 7], [\"amazon\", 5, 6]]\n",
        "lista[2][0] #referencia la posición dentro de una lista y luego la que esta dentro del elemento lista"
      ]
    },
    {
      "cell_type": "code",
      "execution_count": null,
      "metadata": {
        "id": "9GjndhEfR99b",
        "colab": {
          "base_uri": "https://localhost:8080/"
        },
        "outputId": "07d4e6a4-52e3-4352-cccc-393224ccd64a"
      },
      "outputs": [
        {
          "output_type": "execute_result",
          "data": {
            "text/plain": [
              "list"
            ]
          },
          "metadata": {},
          "execution_count": 24
        }
      ],
      "source": [
        "type(lista) #ver los tipos"
      ]
    },
    {
      "cell_type": "code",
      "execution_count": null,
      "metadata": {
        "id": "rP8u4v5hR99c",
        "colab": {
          "base_uri": "https://localhost:8080/"
        },
        "outputId": "81ed8fc6-321a-43aa-a357-4e70129ef8c0"
      },
      "outputs": [
        {
          "output_type": "execute_result",
          "data": {
            "text/plain": [
              "6"
            ]
          },
          "metadata": {},
          "execution_count": 25
        }
      ],
      "source": [
        "lista[-1][2] #negativos arranca desde la última posición"
      ]
    },
    {
      "cell_type": "code",
      "execution_count": null,
      "metadata": {
        "id": "giZvm1QDR99c",
        "colab": {
          "base_uri": "https://localhost:8080/"
        },
        "outputId": "919f1c8f-6b28-418e-db75-a941b9debff6"
      },
      "outputs": [
        {
          "output_type": "execute_result",
          "data": {
            "text/plain": [
              "['GOOG', 'SP500']"
            ]
          },
          "metadata": {},
          "execution_count": 26
        }
      ],
      "source": [
        "lista = [2, 5, 7, \"GOOG\", \"SP500\", \"AMZN\", 15]\n",
        "lista[3:5]"
      ]
    },
    {
      "cell_type": "code",
      "execution_count": null,
      "metadata": {
        "id": "foSwse2-R99d",
        "colab": {
          "base_uri": "https://localhost:8080/"
        },
        "outputId": "7d66736a-ecd6-4f1b-cd27-7b430bb371f3"
      },
      "outputs": [
        {
          "output_type": "execute_result",
          "data": {
            "text/plain": [
              "['GOOG', 'SP500', 'AMZN', 15]"
            ]
          },
          "metadata": {},
          "execution_count": 27
        }
      ],
      "source": [
        "lista[3:]"
      ]
    },
    {
      "cell_type": "code",
      "execution_count": null,
      "metadata": {
        "id": "A08eX60hR99d",
        "colab": {
          "base_uri": "https://localhost:8080/"
        },
        "outputId": "eb463c7b-f5ed-432d-cc11-042431949a9e"
      },
      "outputs": [
        {
          "output_type": "execute_result",
          "data": {
            "text/plain": [
              "7"
            ]
          },
          "metadata": {},
          "execution_count": 28
        }
      ],
      "source": [
        "len(lista)"
      ]
    },
    {
      "cell_type": "markdown",
      "metadata": {
        "id": "2Dx1kEsqR99e"
      },
      "source": [
        "### Diccionarios (Dictionary)"
      ]
    },
    {
      "cell_type": "code",
      "execution_count": null,
      "metadata": {
        "id": "doDgH8zxR99e"
      },
      "outputs": [],
      "source": [
        "dic = {'key1':'value1',\n",
        "       'key2':'value2',\n",
        "       'key3':'value3'}"
      ]
    },
    {
      "cell_type": "code",
      "execution_count": null,
      "metadata": {
        "id": "A5MofwyWR99e",
        "colab": {
          "base_uri": "https://localhost:8080/"
        },
        "outputId": "61ba53c3-a5d6-4566-d895-419f8e32ef1f"
      },
      "outputs": [
        {
          "output_type": "execute_result",
          "data": {
            "text/plain": [
              "dict"
            ]
          },
          "metadata": {},
          "execution_count": 30
        }
      ],
      "source": [
        "type(dic)"
      ]
    },
    {
      "cell_type": "code",
      "execution_count": null,
      "metadata": {
        "id": "RW1WPcETR99f",
        "colab": {
          "base_uri": "https://localhost:8080/",
          "height": 36
        },
        "outputId": "66485038-54ed-4c02-bddc-9cf04ab55603"
      },
      "outputs": [
        {
          "output_type": "execute_result",
          "data": {
            "text/plain": [
              "'value1'"
            ],
            "application/vnd.google.colaboratory.intrinsic+json": {
              "type": "string"
            }
          },
          "metadata": {},
          "execution_count": 31
        }
      ],
      "source": [
        "dic[\"key1\"]"
      ]
    },
    {
      "cell_type": "code",
      "execution_count": null,
      "metadata": {
        "id": "Q3oJETmlR99h",
        "colab": {
          "base_uri": "https://localhost:8080/"
        },
        "outputId": "5f0fa7ad-f4a1-41f5-fd7c-c52d5d7d9e74"
      },
      "outputs": [
        {
          "output_type": "execute_result",
          "data": {
            "text/plain": [
              "str"
            ]
          },
          "metadata": {},
          "execution_count": 32
        }
      ],
      "source": [
        "type(dic[\"key1\"])"
      ]
    },
    {
      "cell_type": "code",
      "execution_count": null,
      "metadata": {
        "id": "kjbcIYvVR99h",
        "colab": {
          "base_uri": "https://localhost:8080/"
        },
        "outputId": "3535d64d-fbe8-41bc-e536-cc57bd727d90"
      },
      "outputs": [
        {
          "output_type": "execute_result",
          "data": {
            "text/plain": [
              "{'key1': 1500, 'key2': 1000, 'key3': 2000}"
            ]
          },
          "metadata": {},
          "execution_count": 33
        }
      ],
      "source": [
        "dic2 =  {\"key1\": 1500,\n",
        "         \"key2\": 1000,\n",
        "         \"key3\": 2000}\n",
        "dic2"
      ]
    },
    {
      "cell_type": "code",
      "execution_count": null,
      "metadata": {
        "id": "UnzexznXR99i",
        "colab": {
          "base_uri": "https://localhost:8080/"
        },
        "outputId": "7f36ac56-48ed-4656-f444-e7c9f7ed3985"
      },
      "outputs": [
        {
          "output_type": "execute_result",
          "data": {
            "text/plain": [
              "2000"
            ]
          },
          "metadata": {},
          "execution_count": 34
        }
      ],
      "source": [
        "dic2[\"key3\"]"
      ]
    },
    {
      "cell_type": "code",
      "execution_count": null,
      "metadata": {
        "id": "h-cGXsIaR99i",
        "colab": {
          "base_uri": "https://localhost:8080/"
        },
        "outputId": "0ee0917c-2638-4906-fb09-92b16b3324e4"
      },
      "outputs": [
        {
          "output_type": "execute_result",
          "data": {
            "text/plain": [
              "{'key1': 1500, 'key2': 1000, 'key3': 2000, 'key4': 1800}"
            ]
          },
          "metadata": {},
          "execution_count": 35
        }
      ],
      "source": [
        "dic2[\"key4\"]=1800\n",
        "dic2"
      ]
    },
    {
      "cell_type": "code",
      "execution_count": null,
      "metadata": {
        "id": "nUo92xySR99j",
        "colab": {
          "base_uri": "https://localhost:8080/"
        },
        "outputId": "c8e64a3a-520a-4569-839d-e3b7cd76f638"
      },
      "outputs": [
        {
          "output_type": "execute_result",
          "data": {
            "text/plain": [
              "{'key1': 1500, 'key2': 1000, 'key3': 2000}"
            ]
          },
          "metadata": {},
          "execution_count": 36
        }
      ],
      "source": [
        "del dic2[\"key4\"]\n",
        "dic2"
      ]
    },
    {
      "cell_type": "code",
      "execution_count": null,
      "metadata": {
        "id": "rYxzz2qeR99j",
        "colab": {
          "base_uri": "https://localhost:8080/",
          "height": 158
        },
        "outputId": "d431e9c4-61cc-4b66-bc24-dced8f756dbf"
      },
      "outputs": [
        {
          "output_type": "error",
          "ename": "NameError",
          "evalue": "name 'dic2' is not defined",
          "traceback": [
            "\u001b[0;31m---------------------------------------------------------------------------\u001b[0m",
            "\u001b[0;31mNameError\u001b[0m                                 Traceback (most recent call last)",
            "\u001b[0;32m<ipython-input-37-faece3d30243>\u001b[0m in \u001b[0;36m<cell line: 2>\u001b[0;34m()\u001b[0m\n\u001b[1;32m      1\u001b[0m \u001b[0;32mdel\u001b[0m \u001b[0mdic2\u001b[0m \u001b[0;31m#borramos esta variable\u001b[0m\u001b[0;34m\u001b[0m\u001b[0;34m\u001b[0m\u001b[0m\n\u001b[0;32m----> 2\u001b[0;31m \u001b[0mdic2\u001b[0m\u001b[0;34m\u001b[0m\u001b[0;34m\u001b[0m\u001b[0m\n\u001b[0m",
            "\u001b[0;31mNameError\u001b[0m: name 'dic2' is not defined"
          ]
        }
      ],
      "source": [
        "del dic2 #borramos esta variable\n",
        "dic2"
      ]
    },
    {
      "cell_type": "markdown",
      "metadata": {
        "id": "KVMZfmCKR99k"
      },
      "source": [
        "### Cadenas (String)"
      ]
    },
    {
      "cell_type": "code",
      "execution_count": null,
      "metadata": {
        "id": "kbqZdo86R99k",
        "colab": {
          "base_uri": "https://localhost:8080/",
          "height": 36
        },
        "outputId": "3983e3f6-5763-48a9-804e-1f6eaf4f2bf3"
      },
      "outputs": [
        {
          "output_type": "execute_result",
          "data": {
            "text/plain": [
              "'Johnny Pantoja'"
            ],
            "application/vnd.google.colaboratory.intrinsic+json": {
              "type": "string"
            }
          },
          "metadata": {},
          "execution_count": 38
        }
      ],
      "source": [
        "nombre = \"Johnny\"\n",
        "apellido = \"Pantoja\"\n",
        "nombre_completo = nombre +\" \"+ apellido\n",
        "nombre_completo"
      ]
    },
    {
      "cell_type": "code",
      "execution_count": null,
      "metadata": {
        "id": "Z6W9OiSHR99l",
        "colab": {
          "base_uri": "https://localhost:8080/",
          "height": 36
        },
        "outputId": "58a1a36a-cc7d-4253-92cd-6f86c421052f"
      },
      "outputs": [
        {
          "output_type": "execute_result",
          "data": {
            "text/plain": [
              "'johnny pantoja'"
            ],
            "application/vnd.google.colaboratory.intrinsic+json": {
              "type": "string"
            }
          },
          "metadata": {},
          "execution_count": 39
        }
      ],
      "source": [
        "nombre_completo.lower() #probar con lower"
      ]
    },
    {
      "cell_type": "code",
      "execution_count": null,
      "metadata": {
        "id": "wzdMeQJSR99l",
        "colab": {
          "base_uri": "https://localhost:8080/"
        },
        "outputId": "947c6540-a492-44d8-b783-7023a1b487a2"
      },
      "outputs": [
        {
          "output_type": "execute_result",
          "data": {
            "text/plain": [
              "['Johnny', 'Pantoja']"
            ]
          },
          "metadata": {},
          "execution_count": 40
        }
      ],
      "source": [
        "v=nombre_completo.split() #probar asignándolo a una variable\n",
        "v"
      ]
    },
    {
      "cell_type": "code",
      "execution_count": null,
      "metadata": {
        "id": "NPAaZUKnR99m",
        "colab": {
          "base_uri": "https://localhost:8080/"
        },
        "outputId": "61df699e-635b-481f-901d-941f060ad23f"
      },
      "outputs": [
        {
          "output_type": "execute_result",
          "data": {
            "text/plain": [
              "list"
            ]
          },
          "metadata": {},
          "execution_count": 41
        }
      ],
      "source": [
        "type(v)"
      ]
    },
    {
      "cell_type": "code",
      "execution_count": null,
      "metadata": {
        "id": "BgCEt170R99m",
        "colab": {
          "base_uri": "https://localhost:8080/",
          "height": 36
        },
        "outputId": "b0abdf9a-4993-489f-eb66-fac38c953e75"
      },
      "outputs": [
        {
          "output_type": "execute_result",
          "data": {
            "text/plain": [
              "'Pantoja'"
            ],
            "application/vnd.google.colaboratory.intrinsic+json": {
              "type": "string"
            }
          },
          "metadata": {},
          "execution_count": 42
        }
      ],
      "source": [
        "v[1]"
      ]
    },
    {
      "cell_type": "code",
      "execution_count": null,
      "metadata": {
        "id": "G4p88KpRR99n",
        "colab": {
          "base_uri": "https://localhost:8080/"
        },
        "outputId": "06872d4b-4b54-4045-f1ca-68187289d918"
      },
      "outputs": [
        {
          "output_type": "execute_result",
          "data": {
            "text/plain": [
              "['johnny.pantoja', 'gmail.com']"
            ]
          },
          "metadata": {},
          "execution_count": 43
        }
      ],
      "source": [
        "c = 'johnny.pantoja@gmail.com'\n",
        "z = c.split('@')\n",
        "z"
      ]
    },
    {
      "cell_type": "code",
      "source": [
        "type(z)"
      ],
      "metadata": {
        "colab": {
          "base_uri": "https://localhost:8080/"
        },
        "id": "Tmsnd6PeDTV8",
        "outputId": "81384f71-21b7-4333-acd8-a023526e05a7"
      },
      "execution_count": null,
      "outputs": [
        {
          "output_type": "execute_result",
          "data": {
            "text/plain": [
              "list"
            ]
          },
          "metadata": {},
          "execution_count": 44
        }
      ]
    },
    {
      "cell_type": "markdown",
      "metadata": {
        "id": "Cu9ZtVXYR99n"
      },
      "source": [
        "### Tuplas (Tuple)"
      ]
    },
    {
      "cell_type": "code",
      "execution_count": null,
      "metadata": {
        "id": "OqKQnng3R99o"
      },
      "outputs": [],
      "source": [
        "tuple_1 = ('google', 'amazon', 10, 15, 1992);\n",
        "tuple_2 = (450, 55, 977, 2100);"
      ]
    },
    {
      "cell_type": "code",
      "execution_count": null,
      "metadata": {
        "id": "gLy7_yW7R99o",
        "colab": {
          "base_uri": "https://localhost:8080/"
        },
        "outputId": "9430aa07-cade-4e94-a5a0-2c4dd06c3928"
      },
      "outputs": [
        {
          "output_type": "execute_result",
          "data": {
            "text/plain": [
              "1992"
            ]
          },
          "metadata": {},
          "execution_count": 46
        }
      ],
      "source": [
        "tuple_1[-1] #probar las opciones"
      ]
    },
    {
      "cell_type": "code",
      "execution_count": null,
      "metadata": {
        "id": "D1AwDzQ4R99p",
        "colab": {
          "base_uri": "https://localhost:8080/"
        },
        "outputId": "933562c9-97d5-4989-dc1e-c9c287f7dcaa"
      },
      "outputs": [
        {
          "output_type": "execute_result",
          "data": {
            "text/plain": [
              "('amazon', 10)"
            ]
          },
          "metadata": {},
          "execution_count": 47
        }
      ],
      "source": [
        "tuple_1[1:3] #probar con diferentes opciones de filetear la tupla"
      ]
    },
    {
      "cell_type": "code",
      "execution_count": null,
      "metadata": {
        "id": "W-BCv9xbR99p",
        "colab": {
          "base_uri": "https://localhost:8080/",
          "height": 141
        },
        "outputId": "08d48c70-a735-44af-e4f3-ae3c146a8195"
      },
      "outputs": [
        {
          "output_type": "error",
          "ename": "TypeError",
          "evalue": "'tuple' object does not support item assignment",
          "traceback": [
            "\u001b[0;31m---------------------------------------------------------------------------\u001b[0m",
            "\u001b[0;31mTypeError\u001b[0m                                 Traceback (most recent call last)",
            "\u001b[0;32m<ipython-input-48-6bf7827c2ecb>\u001b[0m in \u001b[0;36m<cell line: 1>\u001b[0;34m()\u001b[0m\n\u001b[0;32m----> 1\u001b[0;31m \u001b[0mtuple_1\u001b[0m\u001b[0;34m[\u001b[0m\u001b[0;36m1\u001b[0m\u001b[0;34m]\u001b[0m\u001b[0;34m=\u001b[0m\u001b[0;34m'facebook'\u001b[0m\u001b[0;34m\u001b[0m\u001b[0;34m\u001b[0m\u001b[0m\n\u001b[0m",
            "\u001b[0;31mTypeError\u001b[0m: 'tuple' object does not support item assignment"
          ]
        }
      ],
      "source": [
        "tuple_1[1]='facebook'"
      ]
    },
    {
      "cell_type": "code",
      "execution_count": null,
      "metadata": {
        "id": "UWtb01rlR99q",
        "colab": {
          "base_uri": "https://localhost:8080/"
        },
        "outputId": "b4892326-c96d-400a-9fdb-72440d7709db"
      },
      "outputs": [
        {
          "output_type": "execute_result",
          "data": {
            "text/plain": [
              "('google', 'amazon', 10, 15, 1992, 450, 55, 977, 2100)"
            ]
          },
          "metadata": {},
          "execution_count": 49
        }
      ],
      "source": [
        "tuple_3=tuple_1+tuple_2\n",
        "tuple_3"
      ]
    },
    {
      "cell_type": "markdown",
      "metadata": {
        "id": "_Vm6yFZcR99q"
      },
      "source": [
        "### Collecciones (Sets)"
      ]
    },
    {
      "cell_type": "code",
      "execution_count": null,
      "metadata": {
        "id": "IAjvsx2NR99r",
        "colab": {
          "base_uri": "https://localhost:8080/"
        },
        "outputId": "890bf630-6944-42a7-bde0-ea14ea73d525"
      },
      "outputs": [
        {
          "output_type": "execute_result",
          "data": {
            "text/plain": [
              "set"
            ]
          },
          "metadata": {},
          "execution_count": 50
        }
      ],
      "source": [
        "set_1 = {'GOOG', 'APPL', 'T','TSLA','T','APPL'}\n",
        "set_1\n",
        "type(set_1)"
      ]
    },
    {
      "cell_type": "code",
      "source": [
        "set_1"
      ],
      "metadata": {
        "colab": {
          "base_uri": "https://localhost:8080/"
        },
        "id": "MiD2VHRh0Mpo",
        "outputId": "45b9cd16-7ff1-4ddd-f881-30287903eb1a"
      },
      "execution_count": null,
      "outputs": [
        {
          "output_type": "execute_result",
          "data": {
            "text/plain": [
              "{'APPL', 'GOOG', 'T', 'TSLA'}"
            ]
          },
          "metadata": {},
          "execution_count": 51
        }
      ]
    },
    {
      "cell_type": "code",
      "execution_count": null,
      "metadata": {
        "id": "FcS_T5ieR99r",
        "colab": {
          "base_uri": "https://localhost:8080/"
        },
        "outputId": "b0797cc9-aff6-4ddf-85d4-d7d0a934612b"
      },
      "outputs": [
        {
          "output_type": "execute_result",
          "data": {
            "text/plain": [
              "[5, 'APPL', 6, 'TSLA', 'GOOG', 'T']"
            ]
          },
          "metadata": {},
          "execution_count": 52
        }
      ],
      "source": [
        "lista = ['GOOG', 'APPL', 'T','TSLA','T','APPL', 5, 6, 5]\n",
        "lista2 = list(set(lista))\n",
        "lista2"
      ]
    },
    {
      "cell_type": "code",
      "execution_count": null,
      "metadata": {
        "id": "DV7U4QovR99s",
        "colab": {
          "base_uri": "https://localhost:8080/"
        },
        "outputId": "dd92c4cf-f6a2-4911-c59d-eec2810fe287"
      },
      "outputs": [
        {
          "output_type": "execute_result",
          "data": {
            "text/plain": [
              "list"
            ]
          },
          "metadata": {},
          "execution_count": 53
        }
      ],
      "source": [
        "type(lista2)"
      ]
    },
    {
      "cell_type": "markdown",
      "metadata": {
        "id": "Y0e_nC3sR99s"
      },
      "source": [
        "### Operadores de Comparación"
      ]
    },
    {
      "cell_type": "code",
      "execution_count": null,
      "metadata": {
        "id": "6DxDEBO2R99s",
        "colab": {
          "base_uri": "https://localhost:8080/"
        },
        "outputId": "de60931b-ea77-4c46-8df8-e4f9757cb1a5"
      },
      "outputs": [
        {
          "output_type": "execute_result",
          "data": {
            "text/plain": [
              "True"
            ]
          },
          "metadata": {},
          "execution_count": 54
        }
      ],
      "source": [
        "s1 = 1000\n",
        "s2 = 1000\n",
        "s1 == s2 #probar con < , > , <= , >= , !="
      ]
    },
    {
      "cell_type": "markdown",
      "metadata": {
        "id": "tMq31O5RR99t"
      },
      "source": [
        "### Operadores Lógicos"
      ]
    },
    {
      "cell_type": "code",
      "execution_count": null,
      "metadata": {
        "id": "0afN-pMWR99t",
        "colab": {
          "base_uri": "https://localhost:8080/"
        },
        "outputId": "554ce379-b705-4964-e16b-f1758fb06fba"
      },
      "outputs": [
        {
          "output_type": "execute_result",
          "data": {
            "text/plain": [
              "True"
            ]
          },
          "metadata": {},
          "execution_count": 55
        }
      ],
      "source": [
        "True or False  #probar diferentes combinaciones con and y or"
      ]
    },
    {
      "cell_type": "code",
      "execution_count": null,
      "metadata": {
        "id": "wlZIRzikR99u",
        "colab": {
          "base_uri": "https://localhost:8080/"
        },
        "outputId": "a3803004-19bd-48f7-f8eb-b79bd82d6ca1"
      },
      "outputs": [
        {
          "output_type": "execute_result",
          "data": {
            "text/plain": [
              "False"
            ]
          },
          "metadata": {},
          "execution_count": 56
        }
      ],
      "source": [
        "(10>3) and (9==3)"
      ]
    },
    {
      "cell_type": "code",
      "execution_count": null,
      "metadata": {
        "id": "vF5twcD4R99u",
        "colab": {
          "base_uri": "https://localhost:8080/"
        },
        "outputId": "3b592adf-75ea-4465-b659-5e4ebfb5c9fc"
      },
      "outputs": [
        {
          "output_type": "execute_result",
          "data": {
            "text/plain": [
              "True"
            ]
          },
          "metadata": {},
          "execution_count": 57
        }
      ],
      "source": [
        "(9>3) or (12==10)"
      ]
    },
    {
      "cell_type": "markdown",
      "metadata": {
        "id": "9tUrIR3UR99v"
      },
      "source": [
        "### Sentencias Condicionales"
      ]
    },
    {
      "cell_type": "code",
      "execution_count": null,
      "metadata": {
        "id": "05r9Q6a_R99v",
        "colab": {
          "base_uri": "https://localhost:8080/"
        },
        "outputId": "11558167-d2e1-4989-9e31-5b90e37097e6"
      },
      "outputs": [
        {
          "output_type": "stream",
          "name": "stdout",
          "text": [
            "Verdadero\n"
          ]
        }
      ],
      "source": [
        "if 10 > 9:  #probemos con diferentes operadores\n",
        "    print('Verdadero')\n",
        "else:\n",
        "    print('Falso')"
      ]
    },
    {
      "cell_type": "code",
      "execution_count": null,
      "metadata": {
        "id": "hrsNojrvR99w",
        "colab": {
          "base_uri": "https://localhost:8080/"
        },
        "outputId": "d4783c79-8950-458f-a9cb-0858e92e8bde"
      },
      "outputs": [
        {
          "output_type": "stream",
          "name": "stdout",
          "text": [
            "Ninguno\n"
          ]
        }
      ],
      "source": [
        "if 5 > 7:\n",
        "    print('Verdadero')\n",
        "elif 2 > 4:\n",
        "    print('Falso')\n",
        "else:\n",
        "    print('Ninguno')"
      ]
    },
    {
      "cell_type": "code",
      "execution_count": null,
      "metadata": {
        "id": "vO3-gReUR99x",
        "colab": {
          "base_uri": "https://localhost:8080/"
        },
        "outputId": "132d3979-c786-4f6a-cad0-f791faa16b0b"
      },
      "outputs": [
        {
          "output_type": "stream",
          "name": "stdout",
          "text": [
            "Ingresa tu nombre:JJ\n",
            "Acceso denegado\n"
          ]
        }
      ],
      "source": [
        "nombre = input('Ingresa tu nombre:')\n",
        "if nombre.lower() == 'johnny':  #probar con variantes upper() , lower()\n",
        "    print(\"Acceso Otorgado\")\n",
        "else:\n",
        "    print(\"Acceso denegado\")"
      ]
    },
    {
      "cell_type": "code",
      "execution_count": null,
      "metadata": {
        "id": "4yjHMtNBR99x",
        "colab": {
          "base_uri": "https://localhost:8080/"
        },
        "outputId": "d7aff139-3b90-48c9-bde6-129ff19c70ef"
      },
      "outputs": [
        {
          "output_type": "stream",
          "name": "stdout",
          "text": [
            "Ingresa tu nombre/apellido:TT\n",
            "Acceso Denegado\n"
          ]
        }
      ],
      "source": [
        "nombre = input('Ingresa tu nombre/apellido:')\n",
        "if nombre == 'Johnny' or nombre =='Pantoja':\n",
        "    print(\"Acceso Otorgado\")\n",
        "else:\n",
        "    print(\"Acceso Denegado\")"
      ]
    },
    {
      "cell_type": "markdown",
      "metadata": {
        "id": "gs3hwqPzR99y"
      },
      "source": [
        "## BUCLES"
      ]
    },
    {
      "cell_type": "markdown",
      "metadata": {
        "id": "cFQzoVh0R99y"
      },
      "source": [
        "### FOR"
      ]
    },
    {
      "cell_type": "code",
      "execution_count": null,
      "metadata": {
        "id": "IXGfGRzlR99z"
      },
      "outputs": [],
      "source": [
        "lista = [1, 2, 3, 4, 5]"
      ]
    },
    {
      "cell_type": "code",
      "execution_count": null,
      "metadata": {
        "id": "f2KrXiHdR99z",
        "colab": {
          "base_uri": "https://localhost:8080/"
        },
        "outputId": "2b962cc9-2d54-4154-8f90-b46559535847"
      },
      "outputs": [
        {
          "output_type": "stream",
          "name": "stdout",
          "text": [
            "1\n",
            "2\n",
            "3\n",
            "4\n",
            "5\n"
          ]
        }
      ],
      "source": [
        "for i in lista:\n",
        "    print(i)"
      ]
    },
    {
      "cell_type": "code",
      "execution_count": null,
      "metadata": {
        "id": "aykNsnAVR990",
        "colab": {
          "base_uri": "https://localhost:8080/"
        },
        "outputId": "83d1ecb8-87ab-413c-8823-d3cd1bd4c5b9"
      },
      "outputs": [
        {
          "output_type": "stream",
          "name": "stdout",
          "text": [
            "1\n",
            "Hola\n",
            "2\n",
            "Hola\n",
            "3\n",
            "Hola\n",
            "4\n",
            "Hola\n",
            "5\n",
            "Hola\n"
          ]
        }
      ],
      "source": [
        "for i in lista:\n",
        "    print(i)\n",
        "    print('Hola')"
      ]
    },
    {
      "cell_type": "markdown",
      "metadata": {
        "id": "DQMQu5VVR990"
      },
      "source": [
        "### RANGE"
      ]
    },
    {
      "cell_type": "code",
      "execution_count": null,
      "metadata": {
        "id": "DgwNvKcCR991",
        "colab": {
          "base_uri": "https://localhost:8080/"
        },
        "outputId": "e18b27f8-227d-4ef8-e7c3-aa848fb23cbc"
      },
      "outputs": [
        {
          "output_type": "stream",
          "name": "stdout",
          "text": [
            "0\n",
            "1\n",
            "2\n",
            "3\n",
            "4\n"
          ]
        }
      ],
      "source": [
        "for i in range(5):\n",
        "    print(i)"
      ]
    },
    {
      "cell_type": "code",
      "execution_count": null,
      "metadata": {
        "id": "0EAcXQFeR992",
        "colab": {
          "base_uri": "https://localhost:8080/"
        },
        "outputId": "a4b0533b-c15d-466a-81ca-05b4db00b219"
      },
      "outputs": [
        {
          "output_type": "stream",
          "name": "stdout",
          "text": [
            "4\n",
            "3\n",
            "2\n",
            "1\n",
            "0\n"
          ]
        }
      ],
      "source": [
        "for i in reversed(range(5)):\n",
        "    print(i)"
      ]
    },
    {
      "cell_type": "code",
      "execution_count": null,
      "metadata": {
        "id": "GX8Z4nuwR992",
        "colab": {
          "base_uri": "https://localhost:8080/"
        },
        "outputId": "81eb1efd-e944-42c6-8bcd-c194ccd02e25"
      },
      "outputs": [
        {
          "output_type": "stream",
          "name": "stdout",
          "text": [
            "1\n",
            "4\n",
            "7\n",
            "10\n",
            "13\n",
            "16\n",
            "19\n"
          ]
        }
      ],
      "source": [
        "for i in range(1, 20, 3): #probar también con decrecimientos\n",
        "    print(i)"
      ]
    },
    {
      "cell_type": "markdown",
      "metadata": {
        "id": "f6OKrk0iR993"
      },
      "source": [
        "### WHILE"
      ]
    },
    {
      "cell_type": "code",
      "execution_count": null,
      "metadata": {
        "id": "dBxIK3BaR993",
        "colab": {
          "base_uri": "https://localhost:8080/"
        },
        "outputId": "7e111a88-01e1-4839-b95c-3849f9f8c712"
      },
      "outputs": [
        {
          "output_type": "stream",
          "name": "stdout",
          "text": [
            "0\n",
            "1\n",
            "2\n",
            "3\n",
            "4\n",
            "5\n",
            "6\n",
            "7\n",
            "8\n"
          ]
        }
      ],
      "source": [
        "i = 0\n",
        "while i <=8:\n",
        "    print(i)\n",
        "    i = i + 1"
      ]
    },
    {
      "cell_type": "markdown",
      "metadata": {
        "id": "Yg8PCKwGR994"
      },
      "source": [
        "### BREAK / CONTINUE"
      ]
    },
    {
      "cell_type": "code",
      "execution_count": null,
      "metadata": {
        "id": "uwSvTgSkR994",
        "colab": {
          "base_uri": "https://localhost:8080/"
        },
        "outputId": "05f4198e-a1b2-4393-ac93-0b132589895f"
      },
      "outputs": [
        {
          "output_type": "execute_result",
          "data": {
            "text/plain": [
              "[1, 2, 3, 4, 5]"
            ]
          },
          "metadata": {},
          "execution_count": 69
        }
      ],
      "source": [
        "lista"
      ]
    },
    {
      "cell_type": "code",
      "execution_count": null,
      "metadata": {
        "id": "biklFZk5R994",
        "colab": {
          "base_uri": "https://localhost:8080/"
        },
        "outputId": "029b05f8-8a7d-4fbc-f849-ef9ffeb00d9d"
      },
      "outputs": [
        {
          "output_type": "stream",
          "name": "stdout",
          "text": [
            "1\n",
            "2\n",
            "3\n"
          ]
        }
      ],
      "source": [
        "for i in lista:\n",
        "    print(i)\n",
        "    if i == 3:\n",
        "        break"
      ]
    },
    {
      "cell_type": "code",
      "execution_count": null,
      "metadata": {
        "id": "3iqGADYoR995",
        "colab": {
          "base_uri": "https://localhost:8080/"
        },
        "outputId": "fcc7e5b3-4b78-45f0-931f-4cfec82b38ad"
      },
      "outputs": [
        {
          "output_type": "stream",
          "name": "stdout",
          "text": [
            "1\n",
            "3\n",
            "5\n"
          ]
        }
      ],
      "source": [
        "for i in lista:\n",
        "    if i%2 == 0:\n",
        "        continue\n",
        "    print(i)"
      ]
    },
    {
      "cell_type": "markdown",
      "metadata": {
        "id": "fKWZen1QR995"
      },
      "source": [
        "### BUCLES ANIDADOS"
      ]
    },
    {
      "cell_type": "code",
      "execution_count": null,
      "metadata": {
        "id": "oTBwYACDR996",
        "colab": {
          "base_uri": "https://localhost:8080/"
        },
        "outputId": "1ab1720e-2e35-4256-d4df-1a528c6c0ca7"
      },
      "outputs": [
        {
          "output_type": "stream",
          "name": "stdout",
          "text": [
            "1 * 1 = 1\n",
            "1 * 2 = 2\n",
            "1 * 3 = 3\n",
            "2 * 1 = 2\n",
            "2 * 2 = 4\n",
            "2 * 3 = 6\n"
          ]
        }
      ],
      "source": [
        "for x in range(1,3):\n",
        "    for y in range(1, 4):\n",
        "        print('{} * {} = {}'.format(x, y, x*y))"
      ]
    },
    {
      "cell_type": "code",
      "execution_count": null,
      "metadata": {
        "id": "ll9vidHER996",
        "colab": {
          "base_uri": "https://localhost:8080/"
        },
        "outputId": "a54ddda5-4167-403f-becb-a279dcd86c3a"
      },
      "outputs": [
        {
          "output_type": "stream",
          "name": "stdout",
          "text": [
            "black iphone\n",
            "black samsung\n",
            "black blackberry\n",
            "white iphone\n",
            "white samsung\n",
            "white blackberry\n",
            "gold iphone\n",
            "gold samsung\n",
            "gold blackberry\n"
          ]
        }
      ],
      "source": [
        "color = ['black', 'white', 'gold']\n",
        "equipo = ['iphone', 'samsung', 'blackberry']\n",
        "for i in color:\n",
        "    for j in equipo:\n",
        "        print(i, j)"
      ]
    },
    {
      "cell_type": "markdown",
      "metadata": {
        "id": "BB-giwnRR997"
      },
      "source": [
        "### LISTAS BASADAS EN LISTAS"
      ]
    },
    {
      "cell_type": "code",
      "execution_count": null,
      "metadata": {
        "id": "RMuW0Yv6R998",
        "colab": {
          "base_uri": "https://localhost:8080/"
        },
        "outputId": "e54c72aa-e05d-4b7c-e7da-d82dbbb66dfb"
      },
      "outputs": [
        {
          "output_type": "execute_result",
          "data": {
            "text/plain": [
              "[1, 4, 9, 16]"
            ]
          },
          "metadata": {},
          "execution_count": 74
        }
      ],
      "source": [
        "input_list = [1, 2, 3, 4]\n",
        "output_list = []\n",
        "for element in input_list:\n",
        "    output_list.append(element**2)\n",
        "output_list"
      ]
    },
    {
      "cell_type": "code",
      "execution_count": null,
      "metadata": {
        "id": "O4dhldRyR998",
        "colab": {
          "base_uri": "https://localhost:8080/"
        },
        "outputId": "355c2fda-9fc3-402b-f3c7-bd5cb1f66382"
      },
      "outputs": [
        {
          "output_type": "execute_result",
          "data": {
            "text/plain": [
              "[1, 4, 9, 16]"
            ]
          },
          "metadata": {},
          "execution_count": 75
        }
      ],
      "source": [
        "output_list=[i ** 2  for i in input_list]\n",
        "output_list"
      ]
    },
    {
      "cell_type": "code",
      "execution_count": null,
      "metadata": {
        "id": "3h_oSP_kR999",
        "colab": {
          "base_uri": "https://localhost:8080/"
        },
        "outputId": "22bd4702-eafb-4b25-e793-c0374a4675e2"
      },
      "outputs": [
        {
          "output_type": "execute_result",
          "data": {
            "text/plain": [
              "[4, 16, 36, 64, 100]"
            ]
          },
          "metadata": {},
          "execution_count": 76
        }
      ],
      "source": [
        "input_list = [1, 2, 3, 4, 5, 6, 7, 8, 9, 10]\n",
        "output_list = []\n",
        "for i in input_list:\n",
        "    if i % 2==0:\n",
        "        output_list.append(i**2)\n",
        "output_list"
      ]
    },
    {
      "cell_type": "code",
      "execution_count": null,
      "metadata": {
        "id": "-cV7Tm5bR99-",
        "colab": {
          "base_uri": "https://localhost:8080/"
        },
        "outputId": "da6653fc-ccbb-4360-b036-c4b0f12e5d11"
      },
      "outputs": [
        {
          "output_type": "execute_result",
          "data": {
            "text/plain": [
              "[4, 16, 36, 64, 100]"
            ]
          },
          "metadata": {},
          "execution_count": 77
        }
      ],
      "source": [
        "output_list = [i**2  for i in input_list if i%2 == 0]\n",
        "output_list"
      ]
    },
    {
      "cell_type": "markdown",
      "metadata": {
        "id": "6f20RYbkR99_"
      },
      "source": [
        "### FUNCIONES"
      ]
    },
    {
      "cell_type": "code",
      "execution_count": null,
      "metadata": {
        "id": "qEzdz-XpR9-A"
      },
      "outputs": [],
      "source": [
        "def func1():\n",
        "    print('Hola')"
      ]
    },
    {
      "cell_type": "code",
      "execution_count": null,
      "metadata": {
        "id": "88iafhZ9R9-A"
      },
      "outputs": [],
      "source": [
        "func1()"
      ]
    },
    {
      "cell_type": "code",
      "execution_count": null,
      "metadata": {
        "id": "dE4i9l92R9-B"
      },
      "outputs": [],
      "source": [
        "def squared(x):\n",
        "    return x ** 2"
      ]
    },
    {
      "cell_type": "code",
      "execution_count": null,
      "metadata": {
        "id": "5Qc1VCQZR9-C"
      },
      "outputs": [],
      "source": [
        "squared(5)"
      ]
    },
    {
      "cell_type": "code",
      "execution_count": null,
      "metadata": {
        "id": "n81A0Pq2R9-D"
      },
      "outputs": [],
      "source": [
        "def func2(x):\n",
        "    print(\"Mi portafolio es de {} soles\".format(x))"
      ]
    },
    {
      "cell_type": "code",
      "execution_count": null,
      "metadata": {
        "id": "h25oLX72R9-E"
      },
      "outputs": [],
      "source": [
        "func2(2000)"
      ]
    },
    {
      "cell_type": "markdown",
      "metadata": {
        "id": "xHg4geANR9-F"
      },
      "source": [
        "### EXPRESIONES LAMBDA"
      ]
    },
    {
      "cell_type": "code",
      "execution_count": null,
      "metadata": {
        "id": "WgLt_t9LR9-F"
      },
      "outputs": [],
      "source": [
        "y = lambda x:x**2"
      ]
    },
    {
      "cell_type": "code",
      "source": [
        "def cuadrado_x(x):\n",
        "  return x**2"
      ],
      "metadata": {
        "id": "26YFGMemJZoq"
      },
      "execution_count": null,
      "outputs": []
    },
    {
      "cell_type": "code",
      "source": [
        "cuadrado_x(3)"
      ],
      "metadata": {
        "id": "HirkfOtMJlAA"
      },
      "execution_count": null,
      "outputs": []
    },
    {
      "cell_type": "code",
      "execution_count": null,
      "metadata": {
        "id": "_E-i7StNR9-G"
      },
      "outputs": [],
      "source": [
        "y(3)"
      ]
    },
    {
      "cell_type": "code",
      "execution_count": null,
      "metadata": {
        "id": "CEQZuqHWR9-H"
      },
      "outputs": [],
      "source": [
        "def suma(x, y, z):\n",
        "    return x+y+z"
      ]
    },
    {
      "cell_type": "code",
      "execution_count": null,
      "metadata": {
        "id": "BN_S3NY5R9-I"
      },
      "outputs": [],
      "source": [
        "suma(3,5,7)"
      ]
    },
    {
      "cell_type": "code",
      "execution_count": null,
      "metadata": {
        "id": "vtuz1cZUR9-J"
      },
      "outputs": [],
      "source": [
        "suma2 = lambda x, y, z : x+y+z"
      ]
    },
    {
      "cell_type": "code",
      "execution_count": null,
      "metadata": {
        "id": "wdMZFUZhR9-J"
      },
      "outputs": [],
      "source": [
        "suma2(3,5,7)"
      ]
    },
    {
      "cell_type": "markdown",
      "metadata": {
        "id": "PPa9-LuVR9-K"
      },
      "source": [
        "### FILTROS"
      ]
    },
    {
      "cell_type": "code",
      "execution_count": null,
      "metadata": {
        "id": "uxlAWqdnR9-K"
      },
      "outputs": [],
      "source": [
        "precios = [105, 5055, 40, 356, 923, 1443, 222, 62]"
      ]
    },
    {
      "cell_type": "code",
      "execution_count": null,
      "metadata": {
        "id": "Bm4aRsUwR9-L"
      },
      "outputs": [],
      "source": [
        "out = list(filter(lambda x: (x % 2 == 0),precios))\n",
        "out"
      ]
    },
    {
      "cell_type": "code",
      "execution_count": null,
      "metadata": {
        "id": "2xF3t3PqR9-M"
      },
      "outputs": [],
      "source": [
        "out = list(filter(lambda x: (x>=100),precios))\n",
        "out"
      ]
    },
    {
      "cell_type": "code",
      "execution_count": null,
      "metadata": {
        "scrolled": true,
        "id": "a9WnzumuR9-M"
      },
      "outputs": [],
      "source": [
        "out = list(filter(lambda x: (x>=200 and x<=250),precios) )\n",
        "out"
      ]
    },
    {
      "cell_type": "markdown",
      "metadata": {
        "id": "f7yOpaRM5IbG"
      },
      "source": [
        "# NUMPY\n",
        "### Es una librería de álgebra lineal usada para array multidimensionales"
      ]
    },
    {
      "cell_type": "code",
      "execution_count": null,
      "metadata": {
        "id": "Im1W7JIgR9-N"
      },
      "outputs": [],
      "source": [
        "import numpy as np\n",
        "my_list = [10, 20, 50, 60, 70]\n",
        "my_list"
      ]
    },
    {
      "cell_type": "code",
      "execution_count": null,
      "metadata": {
        "id": "pDwP0KyTR9-O"
      },
      "outputs": [],
      "source": [
        "x = np.array(my_list)\n",
        "x"
      ]
    },
    {
      "cell_type": "code",
      "execution_count": null,
      "metadata": {
        "id": "Bzco_jtVR9-P"
      },
      "outputs": [],
      "source": [
        "type(x)"
      ]
    },
    {
      "cell_type": "code",
      "execution_count": null,
      "metadata": {
        "id": "dbfXENOkR9-P"
      },
      "outputs": [],
      "source": [
        "matrix = np.array([[5, 8], [9, 13]])\n",
        "matrix"
      ]
    },
    {
      "cell_type": "code",
      "execution_count": null,
      "metadata": {
        "id": "u7lA34MpR9-Q"
      },
      "outputs": [],
      "source": [
        "type(matrix)"
      ]
    },
    {
      "cell_type": "markdown",
      "metadata": {
        "id": "xw6lJB1HR9-Q"
      },
      "source": [
        "### Funciones y Métodos"
      ]
    },
    {
      "cell_type": "code",
      "execution_count": null,
      "metadata": {
        "id": "lQ6-S5rrR9-R"
      },
      "outputs": [],
      "source": [
        "x = np.random.rand(10) #distribución uniforme\n",
        "x"
      ]
    },
    {
      "cell_type": "code",
      "execution_count": null,
      "metadata": {
        "id": "G4uOx3XYR9-S"
      },
      "outputs": [],
      "source": [
        "x = np.random.rand(5, 5)\n",
        "x"
      ]
    },
    {
      "cell_type": "code",
      "execution_count": null,
      "metadata": {
        "id": "2zJsQI9dR9-T"
      },
      "outputs": [],
      "source": [
        "x = np.random.randn(10) #distribución normal\n",
        "x"
      ]
    },
    {
      "cell_type": "code",
      "execution_count": null,
      "metadata": {
        "id": "jqSF35UhR9-U"
      },
      "outputs": [],
      "source": [
        "x = np.random.randint(1, 10)\n",
        "x"
      ]
    },
    {
      "cell_type": "code",
      "execution_count": null,
      "metadata": {
        "id": "ShLpqT0FR9-U"
      },
      "outputs": [],
      "source": [
        "x = np.random.randint(1, 100, 15)\n",
        "x"
      ]
    },
    {
      "cell_type": "code",
      "execution_count": null,
      "metadata": {
        "id": "9cCQnlt_R9-V"
      },
      "outputs": [],
      "source": [
        "x = np.arange(1, 50)\n",
        "x"
      ]
    },
    {
      "cell_type": "code",
      "execution_count": null,
      "metadata": {
        "id": "wE5gZcVRR9-V"
      },
      "outputs": [],
      "source": [
        "x = np.arange(1, 50, 5)\n",
        "x"
      ]
    },
    {
      "cell_type": "code",
      "execution_count": null,
      "metadata": {
        "id": "Ej4co8SNR9-W"
      },
      "outputs": [],
      "source": [
        "x = np.eye(5)\n",
        "x"
      ]
    },
    {
      "cell_type": "code",
      "execution_count": null,
      "metadata": {
        "id": "QqUxWOr5R9-W"
      },
      "outputs": [],
      "source": [
        "x = np.ones(5)\n",
        "x"
      ]
    },
    {
      "cell_type": "code",
      "execution_count": null,
      "metadata": {
        "id": "f7ptY2jsR9-X"
      },
      "outputs": [],
      "source": [
        "x = np.ones((5,5))\n",
        "x"
      ]
    },
    {
      "cell_type": "code",
      "execution_count": null,
      "metadata": {
        "id": "I8PByMFIR9-X"
      },
      "outputs": [],
      "source": [
        "x = np.zeros(10)\n",
        "x"
      ]
    },
    {
      "cell_type": "markdown",
      "metadata": {
        "id": "980PKtbu9Z0k"
      },
      "source": [
        "### SHAPE, LENGTH, TYPE, RESHAPE, MAX/MIN"
      ]
    },
    {
      "cell_type": "code",
      "execution_count": null,
      "metadata": {
        "id": "RMhCMBbBR9-Y"
      },
      "outputs": [],
      "source": [
        "lista = [-30, 4, 50, 60, 29, 15, 22, 90]\n",
        "x = np.array(lista)\n",
        "x"
      ]
    },
    {
      "cell_type": "code",
      "execution_count": null,
      "metadata": {
        "id": "AkmRWm2ER9-Z"
      },
      "outputs": [],
      "source": [
        "len(x)"
      ]
    },
    {
      "cell_type": "code",
      "execution_count": null,
      "metadata": {
        "id": "bAsf1NmRR9-Z"
      },
      "outputs": [],
      "source": [
        "x.shape"
      ]
    },
    {
      "cell_type": "code",
      "source": [
        "x[1:5]"
      ],
      "metadata": {
        "id": "tzNWw9TGNUx0"
      },
      "execution_count": null,
      "outputs": []
    },
    {
      "cell_type": "code",
      "execution_count": null,
      "metadata": {
        "id": "NqMgNvAsR9-a"
      },
      "outputs": [],
      "source": [
        "matrix"
      ]
    },
    {
      "cell_type": "code",
      "execution_count": null,
      "metadata": {
        "id": "4vuE49V-R9-b"
      },
      "outputs": [],
      "source": [
        "matrix.dtype"
      ]
    },
    {
      "cell_type": "code",
      "execution_count": null,
      "metadata": {
        "id": "ImT30zz3R9-b"
      },
      "outputs": [],
      "source": [
        "matrix.shape"
      ]
    },
    {
      "cell_type": "code",
      "execution_count": null,
      "metadata": {
        "id": "lCjMWt5cR9-c"
      },
      "outputs": [],
      "source": [
        "x"
      ]
    },
    {
      "cell_type": "code",
      "execution_count": null,
      "metadata": {
        "id": "E8CTAQqIR9-c"
      },
      "outputs": [],
      "source": [
        "z = x.reshape(2,4)\n",
        "print(x)\n",
        "print(z)"
      ]
    },
    {
      "cell_type": "code",
      "execution_count": null,
      "metadata": {
        "id": "pcppgslZR9-d"
      },
      "outputs": [],
      "source": [
        "x.max()"
      ]
    },
    {
      "cell_type": "code",
      "execution_count": null,
      "metadata": {
        "id": "bG5FNJU0R9-d"
      },
      "outputs": [],
      "source": [
        "x.min()"
      ]
    },
    {
      "cell_type": "code",
      "execution_count": null,
      "metadata": {
        "id": "Hl01Sjb1R9-e"
      },
      "outputs": [],
      "source": [
        "x.argmax()"
      ]
    },
    {
      "cell_type": "code",
      "execution_count": null,
      "metadata": {
        "id": "yLXutkAVR9-e"
      },
      "outputs": [],
      "source": [
        "x.argmin()"
      ]
    },
    {
      "cell_type": "markdown",
      "metadata": {
        "id": "VRyk_VYQArV3"
      },
      "source": [
        "### Operaciones Matemáticas"
      ]
    },
    {
      "cell_type": "code",
      "execution_count": null,
      "metadata": {
        "id": "MV8gsbO8R9-f"
      },
      "outputs": [],
      "source": [
        "x = np.arange(1, 10)\n",
        "x"
      ]
    },
    {
      "cell_type": "code",
      "execution_count": null,
      "metadata": {
        "id": "WjT5x85oR9-g"
      },
      "outputs": [],
      "source": [
        "y = np.arange(1, 10)\n",
        "y"
      ]
    },
    {
      "cell_type": "code",
      "execution_count": null,
      "metadata": {
        "id": "pFHS0wHnR9-h"
      },
      "outputs": [],
      "source": [
        "np.sqrt(4)"
      ]
    },
    {
      "cell_type": "code",
      "execution_count": null,
      "metadata": {
        "id": "fG2hp8jlR9-h"
      },
      "outputs": [],
      "source": [
        "x**2"
      ]
    },
    {
      "cell_type": "code",
      "execution_count": null,
      "metadata": {
        "id": "BZi7puZ4R9-i"
      },
      "outputs": [],
      "source": [
        "np.sqrt(x**2)"
      ]
    },
    {
      "cell_type": "code",
      "execution_count": null,
      "metadata": {
        "id": "eohL04RbR9-i"
      },
      "outputs": [],
      "source": [
        "z = np.exp(y)\n",
        "z"
      ]
    },
    {
      "cell_type": "markdown",
      "metadata": {
        "id": "7vrYxNi1R9-j"
      },
      "source": [
        "### Particiones e Indices"
      ]
    },
    {
      "cell_type": "code",
      "execution_count": null,
      "metadata": {
        "id": "MeK0Hi2BR9-j"
      },
      "outputs": [],
      "source": [
        "x = np.array([20, 40, 50, 21, 15])\n",
        "x"
      ]
    },
    {
      "cell_type": "code",
      "execution_count": null,
      "metadata": {
        "id": "icCOV7A0R9-k"
      },
      "outputs": [],
      "source": [
        "x[2:4]"
      ]
    },
    {
      "cell_type": "code",
      "execution_count": null,
      "metadata": {
        "id": "BLs_E5NMR9-k"
      },
      "outputs": [],
      "source": [
        "x[0:2] = 10\n",
        "x"
      ]
    },
    {
      "cell_type": "code",
      "execution_count": null,
      "metadata": {
        "id": "VQPfkDDzR9-l"
      },
      "outputs": [],
      "source": [
        "matrix = np.random.randint(1,10, (5, 5))\n",
        "matrix"
      ]
    },
    {
      "cell_type": "code",
      "execution_count": null,
      "metadata": {
        "id": "1zeIC898R9-l"
      },
      "outputs": [],
      "source": [
        "matrix[2]"
      ]
    },
    {
      "cell_type": "code",
      "execution_count": null,
      "metadata": {
        "id": "xdFaixpwR9-m"
      },
      "outputs": [],
      "source": [
        "matrix[0][2]"
      ]
    },
    {
      "cell_type": "code",
      "execution_count": null,
      "metadata": {
        "id": "ZBUuijBkR9-m"
      },
      "outputs": [],
      "source": [
        "mini_matrix = matrix[:3]\n",
        "mini_matrix"
      ]
    },
    {
      "cell_type": "code",
      "execution_count": null,
      "metadata": {
        "id": "0nmYZ6ApR9-n"
      },
      "outputs": [],
      "source": [
        "mini_matrix = matrix[2:]\n",
        "mini_matrix"
      ]
    },
    {
      "cell_type": "code",
      "execution_count": null,
      "metadata": {
        "id": "NLSEG95ZR9-n"
      },
      "outputs": [],
      "source": [
        "mini_matrix = matrix[:, :2]\n",
        "mini_matrix"
      ]
    },
    {
      "cell_type": "code",
      "execution_count": null,
      "metadata": {
        "id": "KrfIzo8eR9-o"
      },
      "outputs": [],
      "source": [
        "mini_matrix = matrix[:, 2:]\n",
        "mini_matrix"
      ]
    },
    {
      "cell_type": "markdown",
      "metadata": {
        "id": "vHw2nYSvR9-o"
      },
      "source": [
        "### Selección de elementos (condicionales)"
      ]
    },
    {
      "cell_type": "code",
      "execution_count": null,
      "metadata": {
        "id": "PaFkGYm1R9-p"
      },
      "outputs": [],
      "source": [
        "matrix = np.random.randint(1,10, (5, 5))\n",
        "matrix"
      ]
    },
    {
      "cell_type": "code",
      "execution_count": null,
      "metadata": {
        "id": "Yge10GsxR9-p"
      },
      "outputs": [],
      "source": [
        "new_matrix = matrix[matrix>3]\n",
        "new_matrix"
      ]
    },
    {
      "cell_type": "code",
      "execution_count": null,
      "metadata": {
        "id": "3AbU3fvnR9-q"
      },
      "outputs": [],
      "source": [
        "new_matrix = matrix[matrix%2==0]\n",
        "new_matrix"
      ]
    },
    {
      "cell_type": "markdown",
      "metadata": {
        "id": "1ivPDcc7p8lD"
      },
      "source": [
        "# PANDAS\n",
        "### Pandas en una herramienta de manipulación, que usa una estrutctura de datos conocida como DataFrame"
      ]
    },
    {
      "cell_type": "code",
      "execution_count": null,
      "metadata": {
        "id": "R8SCjFwXR9-r"
      },
      "outputs": [],
      "source": [
        "import pandas as pd"
      ]
    },
    {
      "cell_type": "code",
      "execution_count": null,
      "metadata": {
        "id": "Mh2v8NHOR9-r"
      },
      "outputs": [],
      "source": [
        "my_list = ['AAPL','AMZN','T']\n",
        "my_list"
      ]
    },
    {
      "cell_type": "code",
      "execution_count": null,
      "metadata": {
        "id": "rwHFf4maR9-s"
      },
      "outputs": [],
      "source": [
        "label   = ['stock#1', 'stock#2', 'stock#3']\n",
        "label"
      ]
    },
    {
      "cell_type": "code",
      "execution_count": null,
      "metadata": {
        "id": "AxbfiQaMR9-s"
      },
      "outputs": [],
      "source": [
        "type(my_list)"
      ]
    },
    {
      "cell_type": "code",
      "execution_count": null,
      "metadata": {
        "id": "Z32oBqRBR9-t"
      },
      "outputs": [],
      "source": [
        "type(label)"
      ]
    },
    {
      "cell_type": "code",
      "execution_count": null,
      "metadata": {
        "id": "X0jmyMMGR9-t"
      },
      "outputs": [],
      "source": [
        "x_series = pd.Series(data = my_list, index = label)\n",
        "x_series"
      ]
    },
    {
      "cell_type": "code",
      "execution_count": null,
      "metadata": {
        "id": "nGrfHkuXR9-u"
      },
      "outputs": [],
      "source": [
        "x_series.shape"
      ]
    },
    {
      "cell_type": "code",
      "execution_count": null,
      "metadata": {
        "id": "qrVW5TuqR9-u"
      },
      "outputs": [],
      "source": [
        "type(x_series)"
      ]
    },
    {
      "cell_type": "code",
      "execution_count": null,
      "metadata": {
        "id": "DqFohie-R9-v"
      },
      "outputs": [],
      "source": [
        "bank_client_df = pd.DataFrame({'Bank client ID':[111, 222, 333, 444],\n",
        "                               'Bank Client Name':['Chanel', 'Steve', 'Mitch', 'Ryan'],\n",
        "                               'Net worth [$]':[3500, 29000, 10000, 2000],\n",
        "                               'Years with bank':[3, 4, 9, 5]})\n",
        "bank_client_df"
      ]
    },
    {
      "cell_type": "code",
      "execution_count": null,
      "metadata": {
        "id": "cvxhvlOtR9-v"
      },
      "outputs": [],
      "source": [
        "type(bank_client_df)"
      ]
    },
    {
      "cell_type": "code",
      "execution_count": null,
      "metadata": {
        "id": "ISQC2YAlR9-w"
      },
      "outputs": [],
      "source": [
        "bank_client_df.head() #se puede jugar con los argumentos y cambian las filas observadas"
      ]
    },
    {
      "cell_type": "code",
      "execution_count": null,
      "metadata": {
        "id": "N7PPaZ9MR9-w"
      },
      "outputs": [],
      "source": [
        "bank_client_df.tail(2)  #se puede jugar con los argumentos y cambian las filas observadas"
      ]
    },
    {
      "cell_type": "code",
      "execution_count": null,
      "metadata": {
        "id": "_NSKbpv8R9-x"
      },
      "outputs": [],
      "source": [
        "df_loyal = bank_client_df[(bank_client_df['Years with bank'] >= 5) ]\n",
        "df_loyal"
      ]
    },
    {
      "cell_type": "code",
      "execution_count": null,
      "metadata": {
        "id": "2587P7buR9-x"
      },
      "outputs": [],
      "source": [
        "del bank_client_df['Bank client ID']\n",
        "bank_client_df"
      ]
    },
    {
      "cell_type": "code",
      "execution_count": null,
      "metadata": {
        "id": "cvr4AOb5R9-y"
      },
      "outputs": [],
      "source": [
        "def valor(x):\n",
        "    return x * 1.1"
      ]
    },
    {
      "cell_type": "code",
      "execution_count": null,
      "metadata": {
        "id": "Gq6UYEh5R9-y"
      },
      "outputs": [],
      "source": [
        "bank_client_df['Net worth [$]'].apply(valor)"
      ]
    },
    {
      "cell_type": "code",
      "execution_count": null,
      "metadata": {
        "id": "1LjcPdWbR9-z"
      },
      "outputs": [],
      "source": [
        "bank_client_df"
      ]
    },
    {
      "cell_type": "code",
      "execution_count": null,
      "metadata": {
        "id": "SnAX9Iq8R9-z"
      },
      "outputs": [],
      "source": [
        "bank_client_df['Net worth [$]']=bank_client_df['Net worth [$]'].apply(valor)\n",
        "bank_client_df"
      ]
    },
    {
      "cell_type": "code",
      "execution_count": null,
      "metadata": {
        "id": "exEwPEd3R9-0"
      },
      "outputs": [],
      "source": [
        "bank_client_df['Bank Client Name'].apply(len)"
      ]
    },
    {
      "cell_type": "code",
      "execution_count": null,
      "metadata": {
        "id": "O6DOS1DvR9-0"
      },
      "outputs": [],
      "source": [
        "bank_client_df['Years with bank'].sum()"
      ]
    },
    {
      "cell_type": "code",
      "execution_count": null,
      "metadata": {
        "id": "iQC15R3rR9-1"
      },
      "outputs": [],
      "source": [
        "bank_client_df.sort_values(by = 'Years with bank')"
      ]
    },
    {
      "cell_type": "code",
      "execution_count": null,
      "metadata": {
        "id": "e7LLVXRAR9-1"
      },
      "outputs": [],
      "source": [
        "bank_client_df"
      ]
    },
    {
      "cell_type": "code",
      "execution_count": null,
      "metadata": {
        "id": "e-HsRqpvR9-2"
      },
      "outputs": [],
      "source": [
        "bank_client_df.sort_values(by = 'Years with bank', inplace = True)"
      ]
    },
    {
      "cell_type": "code",
      "execution_count": null,
      "metadata": {
        "id": "SviyJ6aGR9-2"
      },
      "outputs": [],
      "source": [
        "bank_client_df"
      ]
    },
    {
      "cell_type": "code",
      "execution_count": null,
      "metadata": {
        "id": "w9VuZxUrR9-3"
      },
      "outputs": [],
      "source": [
        "df1 = pd.DataFrame({'A': ['A0', 'A1', 'A2', 'A3'],\n",
        "                    'B': ['B0', 'B1', 'B2', 'B3'],\n",
        "                    'C': ['C0', 'C1', 'C2', 'C3'],\n",
        "                    'D': ['D0', 'D1', 'D2', 'D3']},index=[0, 1, 2, 3])\n",
        "df1"
      ]
    },
    {
      "cell_type": "code",
      "execution_count": null,
      "metadata": {
        "id": "uLorIaSfR9-3"
      },
      "outputs": [],
      "source": [
        "df2 = pd.DataFrame({'A': ['A4', 'A5', 'A6', 'A7'],\n",
        "                    'B': ['B4', 'B5', 'B6', 'B7'],\n",
        "                    'C': ['C4', 'C5', 'C6', 'C7'],\n",
        "                    'D': ['D4', 'D5', 'D6', 'D7']},index=[4, 5, 6, 7])\n",
        "df2"
      ]
    },
    {
      "cell_type": "code",
      "execution_count": null,
      "metadata": {
        "id": "n0QvSZrkR9-4"
      },
      "outputs": [],
      "source": [
        "df3 = pd.DataFrame({'A': ['A8', 'A9', 'A10', 'A11'],\n",
        "                    'B': ['B8', 'B9', 'B10', 'B11'],\n",
        "                    'C': ['C8', 'C9', 'C10', 'C11'],\n",
        "                    'D': ['D8', 'D9', 'D10', 'D11']},index=[8, 9, 10, 11])\n",
        "df3"
      ]
    },
    {
      "cell_type": "code",
      "execution_count": null,
      "metadata": {
        "id": "85iX4FPXR9-5"
      },
      "outputs": [],
      "source": [
        "pd.concat([df1, df2, df3])"
      ]
    },
    {
      "cell_type": "code",
      "execution_count": null,
      "metadata": {
        "id": "SRw71ihZR9-5"
      },
      "outputs": [],
      "source": [
        "raw_data = {'Bank Client ID': ['1', '2', '3', '4', '5'],\n",
        "            'First Name': ['Nancy', 'Alex', 'Shep', 'Max', 'Allen'],\n",
        "            'Last Name': ['Rob', 'Ali', 'George', 'Mitch', 'Steve']}\n",
        "Bank_df_1 = pd.DataFrame(raw_data, columns = ['Bank Client ID', 'First Name'])\n",
        "Bank_df_1"
      ]
    },
    {
      "cell_type": "code",
      "execution_count": null,
      "metadata": {
        "id": "3EEvPlkjR9-6"
      },
      "outputs": [],
      "source": [
        "raw_data = {\n",
        "        'Bank Client ID': ['6', '7', '8', '9', '10'],\n",
        "        'First Name': ['Bill', 'Dina', 'Sarah', 'Heather', 'Holly'],\n",
        "        'Last Name': ['Christian', 'Mo', 'Steve', 'Bob', 'Michelle']}\n",
        "Bank_df_2 = pd.DataFrame(raw_data, columns = ['Bank Client ID', 'First Name'])\n",
        "Bank_df_2"
      ]
    },
    {
      "cell_type": "code",
      "execution_count": null,
      "metadata": {
        "id": "O2NyDlzUR9-7"
      },
      "outputs": [],
      "source": [
        "raw_data = {\n",
        "        'Bank Client ID': ['1', '2', '3', '4', '5', '6', '7', '8', '9', '10'],\n",
        "        'Annual Salary [$/year]': [25000, 35000, 45000, 48000, 49000, 32000, 33000, 34000, 23000, 22000]}\n",
        "bank_df_salary = pd.DataFrame(raw_data, columns = ['Bank Client ID','Annual Salary [$/year]'])\n",
        "bank_df_salary"
      ]
    },
    {
      "cell_type": "code",
      "execution_count": null,
      "metadata": {
        "id": "7aj4sEOFR9-7"
      },
      "outputs": [],
      "source": [
        "bank_df_all = pd.concat([Bank_df_1, Bank_df_2])\n",
        "bank_df_all"
      ]
    },
    {
      "cell_type": "code",
      "execution_count": null,
      "metadata": {
        "id": "PI04LUV3R9-8"
      },
      "outputs": [],
      "source": [
        "bank_df_all = pd.merge(bank_df_all, bank_df_salary, on = 'Bank Client ID')\n",
        "bank_df_all"
      ]
    }
  ],
  "metadata": {
    "kernelspec": {
      "display_name": "Python 3",
      "language": "python",
      "name": "python3"
    },
    "language_info": {
      "codemirror_mode": {
        "name": "ipython",
        "version": 3
      },
      "file_extension": ".py",
      "mimetype": "text/x-python",
      "name": "python",
      "nbconvert_exporter": "python",
      "pygments_lexer": "ipython3",
      "version": "3.7.6"
    },
    "colab": {
      "provenance": [],
      "include_colab_link": true
    }
  },
  "nbformat": 4,
  "nbformat_minor": 0
}