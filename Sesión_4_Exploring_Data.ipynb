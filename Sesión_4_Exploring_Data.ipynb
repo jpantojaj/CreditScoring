{
  "nbformat": 4,
  "nbformat_minor": 0,
  "metadata": {
    "colab": {
      "provenance": [],
      "include_colab_link": true
    },
    "kernelspec": {
      "name": "python3",
      "display_name": "Python 3"
    },
    "language_info": {
      "name": "python"
    }
  },
  "cells": [
    {
      "cell_type": "markdown",
      "metadata": {
        "id": "view-in-github",
        "colab_type": "text"
      },
      "source": [
        "<a href=\"https://colab.research.google.com/github/jpantojaj/Credit_Scoring_Specialization/blob/main/Sesi%C3%B3n_4_Exploring_Data.ipynb\" target=\"_parent\"><img src=\"https://colab.research.google.com/assets/colab-badge.svg\" alt=\"Open In Colab\"/></a>"
      ]
    },
    {
      "cell_type": "markdown",
      "source": [
        "## Exploremos la volumetria de nuestros datos"
      ],
      "metadata": {
        "id": "qFzJtKNxWa9z"
      }
    },
    {
      "cell_type": "code",
      "execution_count": null,
      "metadata": {
        "id": "WcTe3loLVFhC"
      },
      "outputs": [],
      "source": [
        "import numpy as np\n",
        "import pandas as pd\n",
        "import matplotlib.pyplot as plt\n",
        "import seaborn as sns\n",
        "\n",
        "sns.set(style='darkgrid')\n",
        "%matplotlib inline"
      ]
    },
    {
      "cell_type": "code",
      "source": [
        "df=pd.read_csv(\"Universo.csv\")\n",
        "df.head()"
      ],
      "metadata": {
        "id": "xFNU-ZvGWabt"
      },
      "execution_count": null,
      "outputs": []
    },
    {
      "cell_type": "code",
      "source": [
        "plt.figure(figsize=(12,6))\n",
        "\n",
        "sns.countplot(data = df, x = \"Producto\")\n",
        "\n",
        "df['Producto'].value_counts(0).sort_index"
      ],
      "metadata": {
        "id": "2XBHL9jCMclz"
      },
      "execution_count": null,
      "outputs": []
    },
    {
      "cell_type": "code",
      "source": [
        "df.shape"
      ],
      "metadata": {
        "id": "rrhqy4BzF5z-"
      },
      "execution_count": null,
      "outputs": []
    },
    {
      "cell_type": "code",
      "source": [
        "df.info()"
      ],
      "metadata": {
        "id": "yBM9QPc4GJez"
      },
      "execution_count": null,
      "outputs": []
    },
    {
      "cell_type": "code",
      "source": [
        "df.pivot_table(values=\"idsolicitud\", index=\"CODMES_VENTA\", columns=\"Producto\", aggfunc=\"count\", margins=True, margins_name=\"Total\", sort=True)"
      ],
      "metadata": {
        "id": "qVzkWDRBWYnw"
      },
      "execution_count": null,
      "outputs": []
    },
    {
      "cell_type": "code",
      "source": [
        "df.pivot_table(values=\"idsolicitud\", index=\"plazo\", columns=\"Producto\", aggfunc=\"count\", margins=True, margins_name=\"Total\", sort=True)"
      ],
      "metadata": {
        "id": "xB_NNh8EXgo4"
      },
      "execution_count": null,
      "outputs": []
    },
    {
      "cell_type": "code",
      "source": [
        "%matplotlib inline\n",
        "plt.title(\"Montos Aprobados (Desembolso - Linea)\")\n",
        "\n",
        "plt.hist(df[\"mtodeuda\"][df[\"Producto\"]==\"Consumo\"], bins=20, alpha=1, edgecolor = 'black',  linewidth=1, color=\"blue\")\n",
        "plt.hist(df[\"mtodeuda\"][df[\"Producto\"]==\"Tarjeta\"], bins=20, alpha=1, edgecolor = 'black',  linewidth=1, color=\"orange\")\n",
        "plt.show()"
      ],
      "metadata": {
        "id": "95HAChHeYbqM"
      },
      "execution_count": null,
      "outputs": []
    },
    {
      "cell_type": "code",
      "source": [
        "df[ df['mtodeuda'] < 0 ]"
      ],
      "metadata": {
        "id": "_vc2rhiVKii_"
      },
      "execution_count": null,
      "outputs": []
    },
    {
      "cell_type": "code",
      "source": [
        "# Separando las poblaciones\n",
        "df_consumo=df[df[\"Producto\"]==\"Consumo\"]\n",
        "df_tarjetas=df[df[\"Producto\"]==\"Tarjetas\"]"
      ],
      "metadata": {
        "id": "raU8mJt3aK3j"
      },
      "execution_count": null,
      "outputs": []
    }
  ]
}