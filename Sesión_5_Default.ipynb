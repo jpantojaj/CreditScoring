{
  "nbformat": 4,
  "nbformat_minor": 0,
  "metadata": {
    "colab": {
      "provenance": [],
      "include_colab_link": true
    },
    "kernelspec": {
      "name": "python3",
      "display_name": "Python 3"
    },
    "language_info": {
      "name": "python"
    }
  },
  "cells": [
    {
      "cell_type": "markdown",
      "metadata": {
        "id": "view-in-github",
        "colab_type": "text"
      },
      "source": [
        "<a href=\"https://colab.research.google.com/github/jpantojaj/Credit_Scoring_Specialization/blob/main/Sesi%C3%B3n_5_Default.ipynb\" target=\"_parent\"><img src=\"https://colab.research.google.com/assets/colab-badge.svg\" alt=\"Open In Colab\"/></a>"
      ]
    },
    {
      "cell_type": "markdown",
      "source": [
        "## Analisis del Default"
      ],
      "metadata": {
        "id": "i0njFpLrgMPh"
      }
    },
    {
      "cell_type": "code",
      "source": [
        "import numpy as np\n",
        "import pandas as pd\n",
        "import matplotlib.pyplot as plt\n",
        "import seaborn as sns\n",
        "\n",
        "sns.set(style='darkgrid')\n",
        "%matplotlib inline"
      ],
      "metadata": {
        "id": "aKe5AGXub9SQ"
      },
      "execution_count": null,
      "outputs": []
    },
    {
      "cell_type": "code",
      "source": [
        "df_default=pd.read_csv(\"Default_Real.csv\")\n",
        "df_default.head(10) # T1-T2 = 12 meses"
      ],
      "metadata": {
        "id": "34Ak5PClgL0A"
      },
      "execution_count": null,
      "outputs": []
    },
    {
      "cell_type": "code",
      "source": [
        "df_default.shape"
      ],
      "metadata": {
        "id": "SlYfXkciRLd5"
      },
      "execution_count": null,
      "outputs": []
    },
    {
      "cell_type": "code",
      "source": [
        "df_default[\"Mora30_T1\"].sum(), df_default[\"Mora30_T1\"][df_default[\"Mora30_T1\"]==1].sum() # Sumar la columna o sumar los 1 es lo mismo"
      ],
      "metadata": {
        "id": "nEqAKTrMh90h"
      },
      "execution_count": null,
      "outputs": []
    },
    {
      "cell_type": "code",
      "source": [
        "df_default[\"Mora60_T1\"].sum(), df_default[\"Mora60_T1\"][df_default[\"Mora60_T1\"]==1].sum() # Sumar la columna o sumar los 1 es lo mismo"
      ],
      "metadata": {
        "id": "Jr6Q9dE1Rnkk"
      },
      "execution_count": null,
      "outputs": []
    },
    {
      "cell_type": "code",
      "source": [
        "df_default[\"Mora90_T1\"].sum(), df_default[\"Mora90_T1\"][df_default[\"Mora90_T1\"]==1].sum() # Sumar la columna o sumar los 1 es lo mismo"
      ],
      "metadata": {
        "id": "1tuOuf1RSHWO"
      },
      "execution_count": null,
      "outputs": []
    },
    {
      "cell_type": "code",
      "source": [
        "df_default[\"Mora120_T1\"].sum(), df_default[\"Mora120_T1\"][df_default[\"Mora120_T1\"]==1].sum() # Sumar la columna o sumar los 1 es lo mismo"
      ],
      "metadata": {
        "id": "3EGCygRQSLW8"
      },
      "execution_count": null,
      "outputs": []
    },
    {
      "cell_type": "code",
      "source": [
        "df_default[\"Mora30_T1\"].mean(), df_default[\"Mora30_T1\"][df_default[\"Mora30_T1\"]==1].sum()/df_default[\"Mora30_T1\"].count() # El Ratio de 1 es el promedio de la columna."
      ],
      "metadata": {
        "id": "pGn5p88diroE"
      },
      "execution_count": null,
      "outputs": []
    },
    {
      "cell_type": "code",
      "source": [
        "df_default[df_default[\"Mora30_T1\"]==1][[\"Limpio_T2\",\"Mora30_T2\",\"Mora60_T2\",\"Mora90_T2\",\"Mora120_T2\"]].mean()"
      ],
      "metadata": {
        "id": "h8SqVqhrjC_F"
      },
      "execution_count": null,
      "outputs": []
    },
    {
      "cell_type": "code",
      "source": [
        "df_default[df_default[\"Mora60_T1\"]==1][[\"Limpio_T2\",\"Mora30_T2\",\"Mora60_T2\",\"Mora90_T2\",\"Mora120_T2\"]].mean()"
      ],
      "metadata": {
        "id": "4qTA520uj0lU"
      },
      "execution_count": null,
      "outputs": []
    },
    {
      "cell_type": "code",
      "source": [
        "df_default[df_default[\"Mora90_T1\"]==1][[\"Limpio_T2\",\"Mora30_T2\",\"Mora60_T2\",\"Mora90_T2\",\"Mora120_T2\"]].mean()"
      ],
      "metadata": {
        "id": "h6Elv5vxkSx7"
      },
      "execution_count": null,
      "outputs": []
    },
    {
      "cell_type": "code",
      "source": [
        "df_default[df_default[\"Mora120_T1\"]==1][[\"Limpio_T2\",\"Mora30_T2\",\"Mora60_T2\",\"Mora90_T2\",\"Mora120_T2\"]].mean()"
      ],
      "metadata": {
        "id": "RFK4n1hvlBdK"
      },
      "execution_count": null,
      "outputs": []
    },
    {
      "cell_type": "markdown",
      "source": [
        "**Nos quedamos con Mora60 porque nos da un punto de no retorno**"
      ],
      "metadata": {
        "id": "eYVi0haBltO7"
      }
    },
    {
      "cell_type": "markdown",
      "source": [
        "### Plazo del default\n",
        "Cuan grande tiene que ser mi ventana para capturar la mayor cantidad de defaults?"
      ],
      "metadata": {
        "id": "dcnUhH4tmtxb"
      }
    },
    {
      "cell_type": "code",
      "source": [
        "df_default.pivot_table(index=\"MesesDef\",values=\"id\",aggfunc=\"count\")"
      ],
      "metadata": {
        "id": "OtiqFUu6lqGl"
      },
      "execution_count": null,
      "outputs": []
    },
    {
      "cell_type": "code",
      "source": [
        "df_aux=df_default.pivot_table(index=\"MesesDef\",values=\"id\",aggfunc=\"count\").drop([0], axis = 0)\n",
        "df_aux=df_aux.reset_index()\n",
        "df_aux.rename(columns={\"id\":\"N\"}, inplace=True)\n",
        "df_aux"
      ],
      "metadata": {
        "id": "7j7dfzgomrBf"
      },
      "execution_count": null,
      "outputs": []
    },
    {
      "cell_type": "code",
      "source": [
        "df_aux[\"Porc\"]=df_aux[\"N\"]/(df_aux[\"N\"].sum())\n",
        "df_aux[\"PorcAcm\"]=df_aux[\"Porc\"].cumsum()\n",
        "df_aux"
      ],
      "metadata": {
        "id": "Uu4GDDq6nv5o"
      },
      "execution_count": null,
      "outputs": []
    },
    {
      "cell_type": "code",
      "source": [
        "plt.plot(df_aux[\"MesesDef\"].astype(\"str\"),df_aux[\"PorcAcm\"])\n",
        "plt.axvline(x=11, color=\"red\")\n",
        "plt.axvline(x=14, color=\"red\")\n",
        "plt.axvline(x=8, color=\"red\")\n",
        "plt.axhline(y=1, color=\"yellow\")\n",
        "plt.axhline(y=0.8, color=\"yellow\")\n",
        "plt.axhline(y=0.97, color=\"yellow\")"
      ],
      "metadata": {
        "id": "kQoQbLSyo578"
      },
      "execution_count": null,
      "outputs": []
    },
    {
      "cell_type": "markdown",
      "source": [
        "**Ya en el mes 12 estoy capturando la mayoria de defaults**\n",
        "\n",
        "Definición de default: MORA 60 visto a 12 meses"
      ],
      "metadata": {
        "id": "TPky9PX7qcoA"
      }
    },
    {
      "cell_type": "code",
      "source": [
        "conditions = [\n",
        "    (df_default['MesesDef'] == 0),\n",
        "    (df_default['MesesDef'] > 0) & (df_default['MesesDef'] <= 12),\n",
        "    (df_default['MesesDef'] > 12)\n",
        "    ]\n",
        "# Valores\n",
        "values = [0, 1, 0]\n",
        "\n",
        "# Calculamos el default observado (60 a 12 meses)\n",
        "df_default['Def_60D_12M'] = np.select(conditions, values)\n",
        "df_default.head()"
      ],
      "metadata": {
        "id": "-8LJMtXCrGO8"
      },
      "execution_count": null,
      "outputs": []
    },
    {
      "cell_type": "code",
      "source": [
        "df_default['Def_60D_12M'].value_counts()"
      ],
      "metadata": {
        "id": "PQjgsrQgsqup"
      },
      "execution_count": null,
      "outputs": []
    }
  ]
}