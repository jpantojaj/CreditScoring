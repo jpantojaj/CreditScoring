{
  "nbformat": 4,
  "nbformat_minor": 0,
  "metadata": {
    "colab": {
      "provenance": [],
      "include_colab_link": true
    },
    "kernelspec": {
      "name": "python3",
      "display_name": "Python 3"
    },
    "language_info": {
      "name": "python"
    }
  },
  "cells": [
    {
      "cell_type": "markdown",
      "metadata": {
        "id": "view-in-github",
        "colab_type": "text"
      },
      "source": [
        "<a href=\"https://colab.research.google.com/github/jpantojaj/Credit_Scoring_Specialization/blob/main/Taller_MLOps.ipynb\" target=\"_parent\"><img src=\"https://colab.research.google.com/assets/colab-badge.svg\" alt=\"Open In Colab\"/></a>"
      ]
    },
    {
      "cell_type": "markdown",
      "source": [
        "## **1. Registro de modelos con MlFlow**"
      ],
      "metadata": {
        "id": "Ov5W9GD_aK_c"
      }
    },
    {
      "cell_type": "code",
      "execution_count": null,
      "metadata": {
        "id": "DA28Yvj45fMh"
      },
      "outputs": [],
      "source": [
        "!pip install mlflow --quiet"
      ]
    },
    {
      "cell_type": "code",
      "source": [
        "import mlflow\n",
        "from mlflow.models import infer_signature\n",
        "from mlflow.tracking import MlflowClient\n",
        "from sklearn import datasets\n",
        "from sklearn.model_selection import train_test_split\n",
        "from sklearn.ensemble import RandomForestClassifier\n",
        "from sklearn.metrics import accuracy_score, f1_score\n",
        "import warnings"
      ],
      "metadata": {
        "id": "pnpbEGMDMao_"
      },
      "execution_count": null,
      "outputs": []
    },
    {
      "cell_type": "code",
      "source": [
        "# informacion del modelo\n",
        "model_name = \"modelo_clase\""
      ],
      "metadata": {
        "id": "dZVzuAMULxyG"
      },
      "execution_count": null,
      "outputs": []
    },
    {
      "cell_type": "code",
      "source": [
        "# preprocesamiento de datos\n",
        "X, y = datasets.load_iris(return_X_y=True)\n",
        "X_train, X_test, y_train, y_test = train_test_split(X, y, test_size=0.2, random_state=42)"
      ],
      "metadata": {
        "id": "KO9LwMsBYSqO"
      },
      "execution_count": null,
      "outputs": []
    },
    {
      "cell_type": "code",
      "source": [
        "# registrar experimento\n",
        "experiment_info = mlflow.set_experiment(model_name)\n",
        "experiment_id = int(dict(experiment_info)[\"experiment_id\"])"
      ],
      "metadata": {
        "id": "MVt3nYUeY0AH"
      },
      "execution_count": null,
      "outputs": []
    },
    {
      "cell_type": "code",
      "source": [
        "# registro del modelo con mlflow\n",
        "with mlflow.start_run(experiment_id=experiment_id):\n",
        "    # estimacion del modelo\n",
        "    model_rf = RandomForestClassifier(n_estimators=100, max_depth=3, random_state=42)\n",
        "    model_rf.fit(X_train, y_train)\n",
        "\n",
        "    # parametros del modelo\n",
        "    params = model_rf.get_params()\n",
        "\n",
        "    # metricas del modelo\n",
        "    y_pred_train = model_rf.predict(X_train)\n",
        "    y_pred_test = model_rf.predict(X_test)\n",
        "    metricas = {\"accuracy_train\": accuracy_score(y_train, y_pred_train),\n",
        "                \"accuracy_test\": accuracy_score(y_test, y_pred_test)}\n",
        "\n",
        "    # log parametros del modelo\n",
        "    mlflow.log_params(params)\n",
        "\n",
        "    # log metricas\n",
        "    mlflow.log_metrics(metricas)\n",
        "\n",
        "    # log firma de input y outpur\n",
        "    signature = infer_signature(X_train, model_rf.predict(X_train))\n",
        "\n",
        "    # registro del modelo\n",
        "    model_info = mlflow.sklearn.log_model(model_rf,\n",
        "                                          artifact_path=model_name,\n",
        "                                          registered_model_name=model_name,\n",
        "                                          signature=signature)\n",
        "\n",
        "    # informacion del modelo\n",
        "    print(model_info.model_uri)"
      ],
      "metadata": {
        "id": "68mTWq6X9DhX"
      },
      "execution_count": null,
      "outputs": []
    },
    {
      "cell_type": "code",
      "source": [
        "# ver modelos registrados y versiones\n",
        "client = MlflowClient()\n",
        "\n",
        "# lista de modelos registrados\n",
        "print(\"Lista de todos los modelo registrados:\")\n",
        "print(\"=\" * 80)\n",
        "for model in client.search_registered_models():\n",
        "  print(model)\n",
        "print()\n",
        "\n",
        "# lista de modelos y versiones\n",
        "print(f\"Lista de versiones del modelo {model_name}:\")\n",
        "print(\"=\" * 80)\n",
        "for version in client.search_model_versions(f\"name='{model_name}'\"):\n",
        "  print(version)"
      ],
      "metadata": {
        "id": "dGolfW4PQjJc"
      },
      "execution_count": null,
      "outputs": []
    },
    {
      "cell_type": "markdown",
      "source": [
        "## **2. Mostrar información registrada del modelo**"
      ],
      "metadata": {
        "id": "Sf46KRsEaFdv"
      }
    },
    {
      "cell_type": "code",
      "source": [
        "# obtener informacion del modelo registrado\n",
        "mlflow.search_runs(experiment_ids=[str(experiment_id)])"
      ],
      "metadata": {
        "id": "dsDY9hZoy9-F"
      },
      "execution_count": null,
      "outputs": []
    },
    {
      "cell_type": "markdown",
      "source": [
        "## **3. Carga de modelo registrado para predicciones**"
      ],
      "metadata": {
        "id": "b3iUMHgG0SF-"
      }
    },
    {
      "cell_type": "code",
      "source": [
        "# obtener ultima version del modelo\n",
        "model_version = client.get_latest_versions(name=model_name)[0].version\n",
        "\n",
        "# cargar el modelo registrado\n",
        "loaded_model = mlflow.sklearn.load_model(model_uri=f\"models:/{model_name}/{model_version}\")"
      ],
      "metadata": {
        "id": "3NKXg3ebWkZb"
      },
      "execution_count": null,
      "outputs": []
    },
    {
      "cell_type": "code",
      "source": [
        "# hacer predicciones con modelo registrado\n",
        "X, y = datasets.load_iris(return_X_y=True)\n",
        "y_pred = loaded_model.predict(X)\n",
        "print(y_pred)"
      ],
      "metadata": {
        "id": "hyoBIDMRaWNc"
      },
      "execution_count": null,
      "outputs": []
    }
  ]
}