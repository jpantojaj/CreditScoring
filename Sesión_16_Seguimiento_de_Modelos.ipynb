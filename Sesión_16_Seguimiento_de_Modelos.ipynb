{
  "nbformat": 4,
  "nbformat_minor": 0,
  "metadata": {
    "colab": {
      "provenance": [],
      "authorship_tag": "ABX9TyNSkyzdH73UN0Ei8IQt89Pu",
      "include_colab_link": true
    },
    "kernelspec": {
      "name": "python3",
      "display_name": "Python 3"
    },
    "language_info": {
      "name": "python"
    }
  },
  "cells": [
    {
      "cell_type": "markdown",
      "metadata": {
        "id": "view-in-github",
        "colab_type": "text"
      },
      "source": [
        "<a href=\"https://colab.research.google.com/github/jpantojaj/Credit_Scoring_Specialization/blob/main/Sesi%C3%B3n_16_Seguimiento_de_Modelos.ipynb\" target=\"_parent\"><img src=\"https://colab.research.google.com/assets/colab-badge.svg\" alt=\"Open In Colab\"/></a>"
      ]
    },
    {
      "cell_type": "markdown",
      "source": [
        "# **Seguimiento de Nuevas Cosechas**"
      ],
      "metadata": {
        "id": "eyL9wvkSqfSB"
      }
    },
    {
      "cell_type": "markdown",
      "source": [
        "### **1. Carga Inicial de Librerías**"
      ],
      "metadata": {
        "id": "3mGII-I5qoMS"
      }
    },
    {
      "cell_type": "code",
      "execution_count": null,
      "metadata": {
        "id": "2rLpl-CZaj6J"
      },
      "outputs": [],
      "source": [
        "import pandas as pd\n",
        "import numpy as np\n",
        "import sklearn\n",
        "import seaborn as sns\n",
        "import matplotlib.pyplot as plt\n",
        "\n",
        "from scipy import stats\n",
        "import warnings\n",
        "warnings.filterwarnings('ignore')\n",
        "\n",
        "from sklearn.pipeline import Pipeline"
      ]
    },
    {
      "cell_type": "markdown",
      "source": [
        "### **2. Carga y Análisis inicial de datos**"
      ],
      "metadata": {
        "id": "345cj_cFqsyC"
      }
    },
    {
      "cell_type": "code",
      "source": [
        "df_nc = pd.read_csv('Base_SolicitudesCreditoEfectivo_NuevasCosechas.csv', sep = \",\")\n",
        "df_nc.head()"
      ],
      "metadata": {
        "id": "LV7kuNuYrkxT"
      },
      "execution_count": null,
      "outputs": []
    },
    {
      "cell_type": "code",
      "source": [
        "df_ref = pd.read_csv('Base_SolicitudesCreditoEfectivo_Test.csv', sep = \",\", index_col=False)\n",
        "df_ref.head()"
      ],
      "metadata": {
        "id": "jHMFQEsIqpj2"
      },
      "execution_count": null,
      "outputs": []
    },
    {
      "cell_type": "markdown",
      "source": [
        "#### Corregimos los tipos de variables, este paso es circunstancial"
      ],
      "metadata": {
        "id": "SWdhXKLGvP7t"
      }
    },
    {
      "cell_type": "code",
      "source": [
        "df_ref['CODMES']=df_ref['CODMES'].astype(str)\n",
        "df_ref['CODSOLICITUD']=df_ref['CODSOLICITUD'].astype(str)\n",
        "df_ref['MIN_MES_DE_DEFAULT']=df_ref['MIN_MES_DE_DEFAULT'].astype(str)\n",
        "df_ref['FLG_GARANTIA']=df_ref['FLG_GARANTIA'].astype(str)\n",
        "df_ref['TARJETA_RELACIONADA']=df_ref['TARJETA_RELACIONADA'].astype(str)\n",
        "df_ref['VEHICULAR_RELACIONADA']=df_ref['VEHICULAR_RELACIONADA'].astype(str)\n",
        "df_ref['HIPOTECARIO_RELACIONADA']=df_ref['HIPOTECARIO_RELACIONADA'].astype(str)\n",
        "df_ref['CLASIF_SISTEMA_ULT_12M']=df_ref['CLASIF_SISTEMA_ULT_12M'].astype(str)\n",
        "df_ref['FLG_PDH']=df_ref['FLG_PDH'].astype(str)\n",
        "df_ref['FLG_TC_VISA']=df_ref['FLG_TC_VISA'].astype(str)\n",
        "df_ref['FLG_TC_MC']=df_ref['FLG_TC_MC'].astype(str)"
      ],
      "metadata": {
        "id": "al3cTm9hqphy"
      },
      "execution_count": null,
      "outputs": []
    },
    {
      "cell_type": "code",
      "source": [
        "df_nc['CODMES']=df_nc['CODMES'].astype(str)\n",
        "df_nc['CODSOLICITUD']=df_nc['CODSOLICITUD'].astype(str)\n",
        "df_nc['MIN_MES_DE_DEFAULT']=df_nc['MIN_MES_DE_DEFAULT'].astype(str)\n",
        "df_nc['FLG_GARANTIA']=df_nc['FLG_GARANTIA'].astype(str)\n",
        "df_nc['TARJETA_RELACIONADA']=df_nc['TARJETA_RELACIONADA'].astype(str)\n",
        "df_nc['VEHICULAR_RELACIONADA']=df_nc['VEHICULAR_RELACIONADA'].astype(str)\n",
        "df_nc['HIPOTECARIO_RELACIONADA']=df_nc['HIPOTECARIO_RELACIONADA'].astype(str)\n",
        "df_nc['CLASIF_SISTEMA_ULT_12M']=df_nc['CLASIF_SISTEMA_ULT_12M'].astype(str)\n",
        "df_nc['FLG_PDH']=df_nc['FLG_PDH'].astype(str)\n",
        "df_nc['FLG_TC_VISA']=df_nc['FLG_TC_VISA'].astype(str)\n",
        "df_nc['FLG_TC_MC']=df_nc['FLG_TC_MC'].astype(str)"
      ],
      "metadata": {
        "id": "0xOyL3O1qpfO"
      },
      "execution_count": null,
      "outputs": []
    },
    {
      "cell_type": "markdown",
      "source": [
        "#### Como se ve nuestra muestra de referencia"
      ],
      "metadata": {
        "id": "xj_LmKmEwJ07"
      }
    },
    {
      "cell_type": "code",
      "source": [
        "sns.countplot(data = df_ref, x = \"FLG_DEFAULT_12M\")\n",
        "target_count = df_ref.FLG_DEFAULT_12M.value_counts()\n",
        "print('# Buen_Pagador:', target_count[0])\n",
        "print('# 1 Mora_12M:', target_count[1])\n",
        "print('Bad rate:', target_count[1]/(target_count[0]+target_count[1]))"
      ],
      "metadata": {
        "id": "Y3CTgBndu4i9"
      },
      "execution_count": null,
      "outputs": []
    },
    {
      "cell_type": "code",
      "source": [
        "a1=df_ref.pivot_table(values=\"CODSOLICITUD\", index=\"CODMES\", aggfunc=\"count\", sort=True)\n",
        "a1.plot(kind = 'bar',\n",
        "       #stacked = 'True',          # Muestra las barras apiladas\n",
        "       alpha = 0.4,               # nivel de transparencia\n",
        "       width = 0.9,               # Grosor de las barras para dejar espacio entre ellas\n",
        "       figsize=(9,4));            # Cambiamos el tamaño de la figura"
      ],
      "metadata": {
        "id": "3qRxRSDEwScy"
      },
      "execution_count": null,
      "outputs": []
    },
    {
      "cell_type": "code",
      "source": [
        "a2=df_ref.pivot_table(values=\"FLG_DEFAULT_12M\", index=\"CODMES\", aggfunc=\"mean\", sort=True)\n",
        "a2.plot(alpha = 0.4, figsize=(9,4), ylim=(0.04,0.09))"
      ],
      "metadata": {
        "id": "xKpWiS1Lwdma"
      },
      "execution_count": null,
      "outputs": []
    },
    {
      "cell_type": "markdown",
      "source": [
        "####  Como se ve la nueva muestra"
      ],
      "metadata": {
        "id": "SXL-wppVwGJ1"
      }
    },
    {
      "cell_type": "code",
      "source": [
        "sns.countplot(data = df_nc, x = \"FLG_DEFAULT_12M\")\n",
        "target_count = df_nc.FLG_DEFAULT_12M.value_counts()\n",
        "print('# Buen_Pagador:', target_count[0])\n",
        "print('# 1 Mora_12M:', target_count[1])\n",
        "print('Bad rate:', target_count[1]/(target_count[0]+target_count[1]))"
      ],
      "metadata": {
        "id": "sZEjlanivuJM"
      },
      "execution_count": null,
      "outputs": []
    },
    {
      "cell_type": "code",
      "source": [
        "a1=df_nc.pivot_table(values=\"CODSOLICITUD\", index=\"CODMES\", aggfunc=\"count\", sort=True)\n",
        "a1.plot(kind = 'bar',\n",
        "       #stacked = 'True',          # Muestra las barras apiladas\n",
        "       alpha = 0.4,               # nivel de transparencia\n",
        "       width = 0.9,               # Grosor de las barras para dejar espacio entre ellas\n",
        "       figsize=(9,4));            # Cambiamos el tamaño de la figura"
      ],
      "metadata": {
        "id": "xE4Jvko2v2Ap"
      },
      "execution_count": null,
      "outputs": []
    },
    {
      "cell_type": "code",
      "source": [
        "a2=df_nc.pivot_table(values=\"FLG_DEFAULT_12M\", index=\"CODMES\", aggfunc=\"mean\", sort=True)\n",
        "a2.plot(alpha = 0.4, figsize=(9,4), ylim=(0.04,0.09))"
      ],
      "metadata": {
        "id": "fdZO2-cVwy2z"
      },
      "execution_count": null,
      "outputs": []
    },
    {
      "cell_type": "markdown",
      "source": [
        "### **3. Carga de los artefactos desarrollados en el entranamiento**"
      ],
      "metadata": {
        "id": "9yvAbIm8_JOS"
      }
    },
    {
      "cell_type": "markdown",
      "source": [
        "#### En esta parte, llamamos a los pickles del Feature Engineering como del Modelo Final para su uso"
      ],
      "metadata": {
        "id": "OzqLnj-RxP5P"
      }
    },
    {
      "cell_type": "code",
      "source": [
        "import pickle"
      ],
      "metadata": {
        "id": "bPJUeKXcxoNo"
      },
      "execution_count": null,
      "outputs": []
    },
    {
      "cell_type": "code",
      "source": [
        "pip install feature_engine"
      ],
      "metadata": {
        "id": "pOLeAKzxyEyn"
      },
      "execution_count": null,
      "outputs": []
    },
    {
      "cell_type": "code",
      "source": [
        "# Cargar el pipeline del feature engineering\n",
        "with open('fe_pipeline.pickle','rb') as fe_data_file:\n",
        "     fe_final = pickle.load(fe_data_file)"
      ],
      "metadata": {
        "id": "72JCmnaGxOin"
      },
      "execution_count": null,
      "outputs": []
    },
    {
      "cell_type": "code",
      "source": [
        "# Cargar el modelo\n",
        "with open('final_model.pickle','rb') as modelFile:\n",
        "     modelo_final = pickle.load(modelFile)"
      ],
      "metadata": {
        "id": "CY4W3QLKyLMi"
      },
      "execution_count": null,
      "outputs": []
    },
    {
      "cell_type": "markdown",
      "source": [
        "### Declaremos las variables que se usaran de las Bases o MDTs cargadas"
      ],
      "metadata": {
        "id": "QCd80G2Eyhzs"
      }
    },
    {
      "cell_type": "code",
      "source": [
        "cat_cols_2=['SEGMENTOCLIENTE','CLASIF_SISTEMA_ULT_12M','FLG_PDH','PROFESION','ZONA_DEL_DESEMBOLSO','ESTADO_CIVIL']"
      ],
      "metadata": {
        "id": "rBm3Hj0kyhDx"
      },
      "execution_count": null,
      "outputs": []
    },
    {
      "cell_type": "code",
      "source": [
        "num_cols_2=['PLAZO_CREDITO','MESES_AHORROS_ULT_6M','MEDIANA_AHORROS_ULT_6M','NUMERO_DE_PAGOS_PDH', 'INGRESO_CLIENTE',\n",
        "            'EDAD_T','LINEA_DE_TC', 'MONTO_TC_MEMBRESIA']"
      ],
      "metadata": {
        "id": "5jdIj1Wpy1A8"
      },
      "execution_count": null,
      "outputs": []
    },
    {
      "cell_type": "markdown",
      "source": [
        "### Con lo anterior apliquemos los pickles a nuestras muestras"
      ],
      "metadata": {
        "id": "FAmiKUEF2ImD"
      }
    },
    {
      "cell_type": "code",
      "source": [
        "#Probemos el pipeline\n",
        "df_ref_xt=fe_final.transform(df_ref.drop(['FLG_DEFAULT_12M'],axis=1))\n",
        "df_nc_xt=fe_final.transform(df_nc.drop(['FLG_DEFAULT_12M'],axis=1))\n",
        "df_ref_y=df_ref['FLG_DEFAULT_12M']\n",
        "df_nc_y=df_nc['FLG_DEFAULT_12M']"
      ],
      "metadata": {
        "id": "AIPXEWp72XX3"
      },
      "execution_count": null,
      "outputs": []
    },
    {
      "cell_type": "code",
      "source": [
        "df_ref_xt_sel=pd.concat([df_ref_xt[cat_cols_2],df_ref_xt[num_cols_2]],axis=1)\n",
        "df_nc_xt_sel=pd.concat([df_nc_xt[cat_cols_2],df_nc_xt[num_cols_2]],axis=1)"
      ],
      "metadata": {
        "id": "IQdF3Owh5jfa"
      },
      "execution_count": null,
      "outputs": []
    },
    {
      "cell_type": "markdown",
      "source": [
        "### **4. ROC y GINI**"
      ],
      "metadata": {
        "id": "jCJ4YTE7yXX5"
      }
    },
    {
      "cell_type": "markdown",
      "source": [
        "#### Primero, evaluemos el poder predictivo del modelo en la nueva muestra, comparado con las métricas obtenidas en la muestra de referencia (test)"
      ],
      "metadata": {
        "id": "23b51JW8eW_o"
      }
    },
    {
      "cell_type": "code",
      "source": [
        "from sklearn.metrics import roc_auc_score"
      ],
      "metadata": {
        "id": "FwUI39jD60VG"
      },
      "execution_count": null,
      "outputs": []
    },
    {
      "cell_type": "code",
      "source": [
        "# Probemos el modelo\n",
        "pred_ref = modelo_final.predict_proba(df_ref_xt_sel)\n",
        "pred_nc = modelo_final.predict_proba(df_nc_xt_sel)\n",
        "print('BaseLine roc-auc: ',roc_auc_score(df_ref_y, pred_ref[:,1]), 'GINI: ', 2*roc_auc_score(df_ref_y, pred_ref[:,1])-1 )\n",
        "print('New roc-auc: ', roc_auc_score(df_nc_y, pred_nc[:,1]), 'GINI: ', 2*roc_auc_score(df_nc_y, pred_nc[:,1])-1 )"
      ],
      "metadata": {
        "id": "VHVupUuLyWRc"
      },
      "execution_count": null,
      "outputs": []
    },
    {
      "cell_type": "markdown",
      "source": [
        "#### Podemos complementar este análisis con un Bootstrapping de la muestra nueva, para ver si el GINI inicial se encuentra dentro de los posibles valores generados"
      ],
      "metadata": {
        "id": "LMTZbxm28aL-"
      }
    },
    {
      "cell_type": "code",
      "source": [
        "from sklearn.utils import resample"
      ],
      "metadata": {
        "id": "s6ARWoxUwTjY"
      },
      "execution_count": null,
      "outputs": []
    },
    {
      "cell_type": "code",
      "source": [
        "bootstrap_iter = 1000\n",
        "roc_auc = []"
      ],
      "metadata": {
        "id": "zNI2NosUw0Pb"
      },
      "execution_count": null,
      "outputs": []
    },
    {
      "cell_type": "code",
      "source": [
        "for i in range(bootstrap_iter):\n",
        "    X_, y_ = resample(df_nc_xt_sel, df_nc_y)\n",
        "    y_pred = modelo_final.predict_proba(X_)\n",
        "    acc = roc_auc_score(y_,y_pred[:,1])\n",
        "    roc_auc.append(acc)"
      ],
      "metadata": {
        "id": "n15TvpSMw0Mk"
      },
      "execution_count": null,
      "outputs": []
    },
    {
      "cell_type": "code",
      "source": [
        "roc_auc_final = np.array(roc_auc)"
      ],
      "metadata": {
        "id": "vPlcto4Uw7Yh"
      },
      "execution_count": null,
      "outputs": []
    },
    {
      "cell_type": "code",
      "source": [
        "gini_final=2*roc_auc_final-1"
      ],
      "metadata": {
        "id": "SqZY3mKXyLj9"
      },
      "execution_count": null,
      "outputs": []
    },
    {
      "cell_type": "code",
      "source": [
        "print('GINI')\n",
        "print('Average: ', gini_final.mean())\n",
        "print('Standard deviation: ', gini_final.std())"
      ],
      "metadata": {
        "id": "b2zDh_zqxdHE"
      },
      "execution_count": null,
      "outputs": []
    },
    {
      "cell_type": "code",
      "source": [
        "#bandas de confianza\n",
        "from scipy.stats import norm\n",
        "z_value = norm.ppf((1 + 0.99) / 2)"
      ],
      "metadata": {
        "id": "cQosgrlWzGtM"
      },
      "execution_count": null,
      "outputs": []
    },
    {
      "cell_type": "code",
      "source": [
        "LS=gini_final.mean()+z_value*gini_final.std()\n",
        "LS"
      ],
      "metadata": {
        "id": "U4lpJeJizyCh"
      },
      "execution_count": null,
      "outputs": []
    },
    {
      "cell_type": "code",
      "source": [
        "LI=gini_final.mean()-z_value*gini_final.std()\n",
        "LI"
      ],
      "metadata": {
        "id": "_8Qg3iw8z0do"
      },
      "execution_count": null,
      "outputs": []
    },
    {
      "cell_type": "code",
      "source": [
        "sns.kdeplot(gini_final, shade=True)\n",
        "plt.title('Distribución del GINI')\n",
        "plt.xlabel('GINI')\n",
        "plt.ylabel('Densidad')\n",
        "plt.show()"
      ],
      "metadata": {
        "id": "Ozq2wb-fxdEi"
      },
      "execution_count": null,
      "outputs": []
    },
    {
      "cell_type": "markdown",
      "source": [
        "#### Luego, también es importante verificar como se ve el poder discriminatorio de cada variable en la nueva muestra vs el baseline (referencia)"
      ],
      "metadata": {
        "id": "l-znBaWg-u0O"
      }
    },
    {
      "cell_type": "code",
      "source": [
        "from sklearn.tree import DecisionTreeClassifier"
      ],
      "metadata": {
        "id": "WU03Ynf0BtOO"
      },
      "execution_count": null,
      "outputs": []
    },
    {
      "cell_type": "code",
      "source": [
        "roc_values_1 = []\n",
        "for feature in df_ref_xt_sel.columns:\n",
        "    clf = DecisionTreeClassifier(max_depth= 4, min_samples_split=0.4674032789842478, random_state=0)\n",
        "    clf.fit(df_ref_xt_sel[feature].to_frame(), df_ref_y)\n",
        "    y_scored = clf.predict_proba(df_ref_xt_sel[feature].to_frame())\n",
        "    roc_values_1.append(roc_auc_score(df_ref_y, y_scored[:, 1]))\n",
        "\n",
        "GINI_Base = pd.Series(roc_values_1)*2-1\n",
        "GINI_Base.index = df_ref_xt_sel.columns\n",
        "GINI_Base.sort_values(ascending=False).plot.bar(figsize=(20, 5))\n",
        "plt.ylabel('GINI Baseline')"
      ],
      "metadata": {
        "id": "hxXbwxK1yLKZ"
      },
      "execution_count": null,
      "outputs": []
    },
    {
      "cell_type": "code",
      "source": [
        "roc_values_2 = []\n",
        "for feature in df_nc_xt_sel.columns:\n",
        "    clf = DecisionTreeClassifier(max_depth= 4, min_samples_split=0.4674032789842478, random_state=0)\n",
        "    clf.fit(df_nc_xt_sel[feature].to_frame(), df_nc_y)\n",
        "    y_scored = clf.predict_proba(df_nc_xt_sel[feature].to_frame())\n",
        "    roc_values_2.append(roc_auc_score(df_nc_y, y_scored[:, 1]))\n",
        "\n",
        "GINI_New = pd.Series(roc_values_2)*2-1\n",
        "GINI_New.index = df_nc_xt_sel.columns\n",
        "GINI_New.sort_values(ascending=False).plot.bar(figsize=(20, 5))\n",
        "plt.ylabel('GINI New')"
      ],
      "metadata": {
        "id": "lTtGvJLUB1Xt"
      },
      "execution_count": null,
      "outputs": []
    },
    {
      "cell_type": "code",
      "source": [
        "comparativa=pd.concat([pd.DataFrame(GINI_Base,columns=['GINI_Base']), pd.DataFrame(GINI_New,columns=['GINI_New'])], axis=1)\n",
        "comparativa['Diferencia']=comparativa['GINI_New']-comparativa['GINI_Base']\n",
        "comparativa"
      ],
      "metadata": {
        "id": "aRpEou-h3s81"
      },
      "execution_count": null,
      "outputs": []
    },
    {
      "cell_type": "markdown",
      "source": [
        "### **5. PSI y CSI**"
      ],
      "metadata": {
        "id": "LEafrBnLJO9J"
      }
    },
    {
      "cell_type": "markdown",
      "source": [
        "#### EL PSI (Population Stability Index) busca medir la estabilidad de la población basado en la comparación de la distribución por rangos fijos o percentilicos, a partir de un baseline o muestra de referencia"
      ],
      "metadata": {
        "id": "ltDqxw29bVzE"
      }
    },
    {
      "cell_type": "code",
      "source": [
        "pd.DataFrame(pred_ref[:,1]).describe()"
      ],
      "metadata": {
        "id": "a2DbsL-Smr7M"
      },
      "execution_count": null,
      "outputs": []
    },
    {
      "cell_type": "code",
      "source": [
        "def scale_range (input, min, max):\n",
        "    input += -(np.min(input))\n",
        "    input /= np.max(input) / (max - min)\n",
        "    input += min\n",
        "    return input"
      ],
      "metadata": {
        "id": "DUTnXM5GjWif"
      },
      "execution_count": null,
      "outputs": []
    },
    {
      "cell_type": "code",
      "source": [
        "buckets = 10\n",
        "raw_breakpoints = np.arange(0, buckets + 1) / (buckets) * 100\n",
        "breakpoints = scale_range(raw_breakpoints, np.min(pred_ref[:,1]), np.max(pred_ref[:,1]))"
      ],
      "metadata": {
        "id": "cZthXDwdjf4N"
      },
      "execution_count": null,
      "outputs": []
    },
    {
      "cell_type": "code",
      "source": [
        "initial_counts = np.histogram(pred_ref[:,1], breakpoints)[0]\n",
        "new_counts = np.histogram(pred_nc[:,1], breakpoints)[0]"
      ],
      "metadata": {
        "id": "DMfvsksPjWgH"
      },
      "execution_count": null,
      "outputs": []
    },
    {
      "cell_type": "code",
      "source": [
        "df = pd.DataFrame({'Bucket': np.arange(1, 11), 'Breakpoint Value':breakpoints[1:], 'Initial Count':initial_counts, 'New Count':new_counts})\n",
        "df['Initial Percent'] = df['Initial Count'] / len(pred_ref[:,1])\n",
        "df['New Percent'] = df['New Count'] / len(pred_nc[:,1])"
      ],
      "metadata": {
        "id": "SXZsCoODjWcj"
      },
      "execution_count": null,
      "outputs": []
    },
    {
      "cell_type": "code",
      "source": [
        "df['New Percent'][df['New Percent'] == 0] = 0.001"
      ],
      "metadata": {
        "id": "1uICMUcCjWZI"
      },
      "execution_count": null,
      "outputs": []
    },
    {
      "cell_type": "code",
      "source": [
        "df"
      ],
      "metadata": {
        "id": "OtTqBYX_kHLO"
      },
      "execution_count": null,
      "outputs": []
    },
    {
      "cell_type": "code",
      "source": [
        "percents = df[['Initial Percent', 'New Percent', 'Bucket']] \\\n",
        "             .melt(id_vars=['Bucket']) \\\n",
        "             .rename(columns={'variable':'Population', 'value':'Percent'})"
      ],
      "metadata": {
        "id": "vHlFrTdLkZpQ"
      },
      "execution_count": null,
      "outputs": []
    },
    {
      "cell_type": "code",
      "source": [
        "percents"
      ],
      "metadata": {
        "id": "3mMLXu-dkhSX"
      },
      "execution_count": null,
      "outputs": []
    },
    {
      "cell_type": "code",
      "source": [
        "p = sns.barplot(x=\"Bucket\", y=\"Percent\", hue=\"Population\", data=percents)\n",
        "p.set(xlabel='Bucket', ylabel='Population Percent')\n",
        "sns.despine(left=True)"
      ],
      "metadata": {
        "id": "lerJ-lf2kncA"
      },
      "execution_count": null,
      "outputs": []
    },
    {
      "cell_type": "code",
      "source": [
        "df['PSI'] = (df['New Percent'] - df['Initial Percent']) * np.log(df['New Percent'] / df['Initial Percent'])"
      ],
      "metadata": {
        "id": "mceNBsZyoI9W"
      },
      "execution_count": null,
      "outputs": []
    },
    {
      "cell_type": "code",
      "source": [
        "df"
      ],
      "metadata": {
        "id": "2Nd8MXdyoNcd"
      },
      "execution_count": null,
      "outputs": []
    },
    {
      "cell_type": "code",
      "source": [
        "np.sum(df['PSI'])"
      ],
      "metadata": {
        "id": "Msq1z3AzoRjW"
      },
      "execution_count": null,
      "outputs": []
    },
    {
      "cell_type": "markdown",
      "source": [
        "#### Según este valor, no observamos una variación significativa en las poblaciones de referencia y nueva"
      ],
      "metadata": {
        "id": "eoCyYNWGk8eg"
      }
    },
    {
      "cell_type": "markdown",
      "source": [
        "#### Seteamos una función para calcular el PSI y CSI"
      ],
      "metadata": {
        "id": "2VG1svFKokvA"
      }
    },
    {
      "cell_type": "code",
      "source": [
        "def calculate_psi(expected, actual, buckettype='bins', buckets=10, axis=0):\n",
        "    def psi(expected_array, actual_array, buckets):\n",
        "        def scale_range (input, min, max):\n",
        "            input += -(np.min(input))\n",
        "            input /= np.max(input) / (max - min)\n",
        "            input += min\n",
        "            return input\n",
        "\n",
        "        breakpoints = np.arange(0, buckets + 1) / (buckets) * 100\n",
        "\n",
        "        if buckettype == 'bins':\n",
        "            breakpoints = scale_range(breakpoints, np.min(expected_array), np.max(expected_array))\n",
        "        elif buckettype == 'quantiles':\n",
        "            breakpoints = np.stack([np.percentile(expected_array, b) for b in breakpoints])\n",
        "\n",
        "        expected_fractions = np.histogram(expected_array, breakpoints)[0] / len(expected_array)\n",
        "        actual_fractions = np.histogram(actual_array, breakpoints)[0] / len(actual_array)\n",
        "\n",
        "        def sub_psi(e_perc, a_perc):\n",
        "            if a_perc == 0:\n",
        "                a_perc = 0.0001\n",
        "            if e_perc == 0:\n",
        "                e_perc = 0.0001\n",
        "\n",
        "            value = (e_perc - a_perc) * np.log(e_perc / a_perc)\n",
        "            return(value)\n",
        "\n",
        "        psi_value = sum(sub_psi(expected_fractions[i], actual_fractions[i]) for i in range(0, len(expected_fractions)))\n",
        "\n",
        "        return(psi_value)\n",
        "\n",
        "    if len(expected.shape) == 1:\n",
        "        psi_values = np.empty(len(expected.shape))\n",
        "    else:\n",
        "        psi_values = np.empty(expected.shape[1 - axis])\n",
        "\n",
        "    for i in range(0, len(psi_values)):\n",
        "        if len(psi_values) == 1:\n",
        "            psi_values = psi(expected, actual, buckets)\n",
        "        elif axis == 0:\n",
        "            psi_values[i] = psi(expected[:,i], actual[:,i], buckets)\n",
        "        elif axis == 1:\n",
        "            psi_values[i] = psi(expected[i,:], actual[i,:], buckets)\n",
        "\n",
        "    return(psi_values)"
      ],
      "metadata": {
        "id": "VAir400C-E76"
      },
      "execution_count": null,
      "outputs": []
    },
    {
      "cell_type": "code",
      "source": [
        "calculate_psi(pred_ref[:,1], pred_nc[:,1], buckettype='bins', buckets=10, axis=0)"
      ],
      "metadata": {
        "id": "JrrhQPXN-eSQ"
      },
      "execution_count": null,
      "outputs": []
    },
    {
      "cell_type": "code",
      "source": [
        "calculate_psi(pred_ref[:,1], pred_nc[:,1], buckettype='quantiles', buckets=10, axis=0)"
      ],
      "metadata": {
        "id": "Mv3Y6dW9cRRe"
      },
      "execution_count": null,
      "outputs": []
    },
    {
      "cell_type": "markdown",
      "source": [
        "#### EL CSI (Characteristic Stability Index) es similar al PSI pero sobre las distribuciones de cada variable"
      ],
      "metadata": {
        "id": "DaTHIWvZb3st"
      }
    },
    {
      "cell_type": "code",
      "source": [
        "# Rangos Fijos\n",
        "print(\"CSI - Rangos Fijos\")\n",
        "for col in df_ref_xt_sel.columns:\n",
        "    csi_values = calculate_psi(df_ref_xt_sel[col].values, df_nc_xt_sel[col].values, buckettype='bins', buckets=10, axis=0)\n",
        "    csi = np.sum(csi_values)\n",
        "    print(f'{col} -> {csi=:.4f}')"
      ],
      "metadata": {
        "id": "JiXgbobHb3Gj"
      },
      "execution_count": null,
      "outputs": []
    },
    {
      "cell_type": "code",
      "source": [
        "# Rangos Percentílicos\n",
        "print(\"CSI - Rango Percentílicos\")\n",
        "for col in df_ref_xt_sel.columns:\n",
        "    csi_values = calculate_psi(df_ref_xt_sel[col].values, df_nc_xt_sel[col].values, buckettype='quantile', buckets=10, axis=0)\n",
        "    csi = np.sum(csi_values)\n",
        "    print(f'{col} -> {csi=:.4f}')"
      ],
      "metadata": {
        "id": "u13uDVTycizb"
      },
      "execution_count": null,
      "outputs": []
    },
    {
      "cell_type": "markdown",
      "source": [
        "### **6. Calibración**"
      ],
      "metadata": {
        "id": "YGo23yinYHWY"
      }
    },
    {
      "cell_type": "markdown",
      "source": [
        "#### Veamos rápidamente la PD Promedio vs la RD de la nueva muestra"
      ],
      "metadata": {
        "id": "GDZGzW-UuX6x"
      }
    },
    {
      "cell_type": "code",
      "source": [
        "print('La PD Promedio Baseline es: ', pred_ref[:,1].mean(), 'El RD Baseline es de: ', df_ref_y.mean())"
      ],
      "metadata": {
        "id": "hbh3VKTvuXav"
      },
      "execution_count": null,
      "outputs": []
    },
    {
      "cell_type": "code",
      "source": [
        "print('La PD Promedio Nueva es: ', pred_nc[:,1].mean(), 'El RD Nueva es de: ', df_nc_y.mean())"
      ],
      "metadata": {
        "id": "kDL88XpIJtXm"
      },
      "execution_count": null,
      "outputs": []
    },
    {
      "cell_type": "code",
      "source": [
        "from sklearn.calibration import calibration_curve\n",
        "# Una función para evaluar la calibración\n",
        "def plot_calibration_curve(y_true, probs, bins, strategy):\n",
        "\n",
        "    fraction_of_positives, mean_predicted_value = calibration_curve(\n",
        "        y_true, probs, n_bins=bins, strategy=strategy)\n",
        "\n",
        "    max_val = max(mean_predicted_value)\n",
        "\n",
        "    plt.figure(figsize=(8,10))\n",
        "    plt.subplot(2, 1, 1)\n",
        "    plt.plot(mean_predicted_value, fraction_of_positives, label='PD vs RD')\n",
        "    plt.plot(np.linspace(0, max_val, bins), np.linspace(0, max_val, bins),\n",
        "         linestyle='--', color='red', label='Perfect calibration')\n",
        "\n",
        "    plt.xlabel('Probability Predictions')\n",
        "    plt.ylabel('Fraction of positive examples')\n",
        "    plt.title('Calibration Curve')\n",
        "    plt.legend(loc='upper left')\n",
        "\n",
        "\n",
        "    plt.subplot(2, 1, 2)\n",
        "    plt.hist(probs, range=(0, 1), bins=bins, density=True, stacked=True, alpha=0.3)\n",
        "    plt.xlabel('Probability Predictions')\n",
        "    plt.ylabel('Fraction of examples')\n",
        "    plt.title('Density')\n",
        "    plt.show()"
      ],
      "metadata": {
        "id": "PdgrcwEEzUcw"
      },
      "execution_count": null,
      "outputs": []
    },
    {
      "cell_type": "markdown",
      "source": [
        "#### Como se ve en la muestra inicial o de test"
      ],
      "metadata": {
        "id": "agxJT0qJ1pgO"
      }
    },
    {
      "cell_type": "code",
      "source": [
        "plot_calibration_curve(df_ref_y, pred_ref[:, 1], bins=10, strategy='uniform')"
      ],
      "metadata": {
        "id": "sKnSmKL_1hgf"
      },
      "execution_count": null,
      "outputs": []
    },
    {
      "cell_type": "markdown",
      "source": [
        "#### Como se ve en la nueva cosecha"
      ],
      "metadata": {
        "id": "_E1Xa8Ky1wjL"
      }
    },
    {
      "cell_type": "code",
      "source": [
        "plot_calibration_curve(df_nc_y, pred_nc[:, 1], bins=10, strategy='uniform')"
      ],
      "metadata": {
        "id": "_zXnZZGS0Vkj"
      },
      "execution_count": null,
      "outputs": []
    },
    {
      "cell_type": "code",
      "source": [
        "from sklearn.calibration import CalibratedClassifierCV"
      ],
      "metadata": {
        "id": "dkmObYUW3OmJ"
      },
      "execution_count": null,
      "outputs": []
    },
    {
      "cell_type": "code",
      "source": [
        "# Calibración Sigmoide\n",
        "cal_sigmoid = CalibratedClassifierCV(modelo_final, cv='prefit', method='sigmoid')\n",
        "cal_sigmoid.fit(df_nc_xt_sel, df_nc_y)\n",
        "prob_sigmoid = cal_sigmoid.predict_proba(df_nc_xt_sel)[:, 1]"
      ],
      "metadata": {
        "id": "mds7lDba0Vod"
      },
      "execution_count": null,
      "outputs": []
    },
    {
      "cell_type": "code",
      "source": [
        "plot_calibration_curve(df_nc_y, prob_sigmoid, bins=10, strategy='uniform')"
      ],
      "metadata": {
        "id": "npkPISHN3l_q"
      },
      "execution_count": null,
      "outputs": []
    },
    {
      "cell_type": "code",
      "source": [
        "prob_sigmoid"
      ],
      "metadata": {
        "id": "aveeZA5CNOww"
      },
      "execution_count": null,
      "outputs": []
    },
    {
      "cell_type": "code",
      "source": [
        "print('La PD Promedio Nueva es: ', prob_sigmoid.mean(), 'El RD Nueva es de: ', df_nc_y.mean())"
      ],
      "metadata": {
        "id": "GzdUhoUiNT7B"
      },
      "execution_count": null,
      "outputs": []
    }
  ]
}