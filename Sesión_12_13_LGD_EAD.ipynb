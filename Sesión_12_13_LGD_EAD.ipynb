{
  "cells": [
    {
      "cell_type": "markdown",
      "metadata": {
        "id": "view-in-github",
        "colab_type": "text"
      },
      "source": [
        "<a href=\"https://colab.research.google.com/github/jpantojaj/Credit_Scoring_Specialization/blob/main/Sesi%C3%B3n_12_13_LGD_EAD.ipynb\" target=\"_parent\"><img src=\"https://colab.research.google.com/assets/colab-badge.svg\" alt=\"Open In Colab\"/></a>"
      ]
    },
    {
      "cell_type": "markdown",
      "metadata": {
        "id": "ZF-iDObwaxWR"
      },
      "source": [
        "# Importar Datos"
      ]
    },
    {
      "cell_type": "code",
      "execution_count": null,
      "metadata": {
        "id": "kPgfXpv9axWT"
      },
      "outputs": [],
      "source": [
        "import pandas as pd\n",
        "import numpy as np\n",
        "import sklearn\n",
        "import seaborn as sns\n",
        "import matplotlib.pyplot as plt\n",
        "from scipy import stats\n",
        "import warnings\n",
        "warnings.filterwarnings('ignore')"
      ]
    },
    {
      "cell_type": "code",
      "execution_count": null,
      "metadata": {
        "id": "pF0rDK9UaxWU"
      },
      "outputs": [],
      "source": [
        "loan_data_defaults = pd.read_csv('loan_data_defaults.csv')"
      ]
    },
    {
      "cell_type": "markdown",
      "metadata": {
        "id": "9BYUiDKPaxWU"
      },
      "source": [
        "# Exploramos los datos"
      ]
    },
    {
      "cell_type": "code",
      "execution_count": null,
      "metadata": {
        "id": "VxQOUAtxaxWU"
      },
      "outputs": [],
      "source": [
        "loan_data_defaults.columns.values"
      ]
    },
    {
      "cell_type": "code",
      "execution_count": null,
      "metadata": {
        "id": "7Apn321BaxWU"
      },
      "outputs": [],
      "source": [
        "loan_data_defaults.info()"
      ]
    },
    {
      "cell_type": "code",
      "execution_count": null,
      "metadata": {
        "scrolled": true,
        "id": "JrOmdcowaxWU"
      },
      "outputs": [],
      "source": [
        "loan_data_defaults.head()"
      ]
    },
    {
      "cell_type": "code",
      "execution_count": null,
      "metadata": {
        "scrolled": false,
        "id": "D2nl_hdiaxWV"
      },
      "outputs": [],
      "source": [
        "loan_data_defaults.shape"
      ]
    },
    {
      "cell_type": "markdown",
      "source": [
        "### Eliminimos posibles duplicados"
      ],
      "metadata": {
        "id": "0xbgtHgn44eU"
      }
    },
    {
      "cell_type": "code",
      "source": [
        "loan_data_defaults=loan_data_defaults.drop_duplicates()\n",
        "loan_data_defaults.reset_index()\n",
        "loan_data_defaults.shape"
      ],
      "metadata": {
        "id": "6BVkH_WtIKgp"
      },
      "execution_count": null,
      "outputs": []
    },
    {
      "cell_type": "markdown",
      "source": [
        "### Veamos el missing rate"
      ],
      "metadata": {
        "id": "rtrb7W_u4y58"
      }
    },
    {
      "cell_type": "code",
      "execution_count": null,
      "metadata": {
        "id": "94OwXy7DaxWV"
      },
      "outputs": [],
      "source": [
        "null_values = pd.concat([loan_data_defaults.isnull().sum(), loan_data_defaults.isnull().sum() / len(loan_data_defaults)], axis = 1)\n",
        "null_values.rename(columns = {0: 'number_null_values',1: 'ratio_null_values'}, inplace = True)\n",
        "null_values"
      ]
    },
    {
      "cell_type": "code",
      "source": [
        "loan_data_defaults.select_dtypes(include=['number']).describe().transpose()"
      ],
      "metadata": {
        "id": "8zahnunqIi8L"
      },
      "execution_count": null,
      "outputs": []
    },
    {
      "cell_type": "code",
      "source": [
        "loan_data_defaults=loan_data_defaults.drop(columns = ['Unnamed: 0'])"
      ],
      "metadata": {
        "id": "dwdDvMQYJU4V"
      },
      "execution_count": null,
      "outputs": []
    },
    {
      "cell_type": "code",
      "source": [
        "loan_data_defaults.drop(columns = ['recovery_rate','CCF']).hist(figsize = (15, 15))\n",
        "plt.show()"
      ],
      "metadata": {
        "id": "y3OXF4GYIzpJ"
      },
      "execution_count": null,
      "outputs": []
    },
    {
      "cell_type": "code",
      "source": [
        "loan_data_defaults.drop(columns = ['recovery_rate','CCF']).boxplot(figsize = (20, 12))\n",
        "plt.yscale('log')\n",
        "plt.xticks(rotation = 45)\n",
        "plt.show()"
      ],
      "metadata": {
        "id": "M1u9QwuwIzmU"
      },
      "execution_count": null,
      "outputs": []
    },
    {
      "cell_type": "markdown",
      "source": [
        "### Generemos un reporte de outliers"
      ],
      "metadata": {
        "id": "QAu0jfMG5O20"
      }
    },
    {
      "cell_type": "code",
      "source": [
        "def outliers_col(df):\n",
        "  for columna in df:\n",
        "    if df[columna].dtype != object:\n",
        "      q1 = stats.scoreatpercentile(df[columna], 25)\n",
        "      q3 = stats.scoreatpercentile(df[columna], 75)\n",
        "      iqr = q3-q1\n",
        "      lim_inf = q1-1.5*iqr\n",
        "      lim_sup = q3+1.5*iqr\n",
        "      n_outliers_inf = len(df[(df[columna]<lim_inf)])\n",
        "      n_outliers_sup = len(df[(df[columna]>lim_sup)])\n",
        "      print(\"{} | {} | {}\".format(\n",
        "          df[columna].name,\n",
        "          n_outliers_inf,\n",
        "          n_outliers_sup\n",
        "          ))"
      ],
      "metadata": {
        "id": "hy00VDMwIiqU"
      },
      "execution_count": null,
      "outputs": []
    },
    {
      "cell_type": "code",
      "source": [
        "outliers_col(loan_data_defaults)"
      ],
      "metadata": {
        "id": "7WHimbY5Iinv"
      },
      "execution_count": null,
      "outputs": []
    },
    {
      "cell_type": "markdown",
      "metadata": {
        "id": "EJcgX-zWaxWW"
      },
      "source": [
        "# Recovery Rate"
      ]
    },
    {
      "cell_type": "code",
      "execution_count": null,
      "metadata": {
        "id": "N4eykXxgaxWW"
      },
      "outputs": [],
      "source": [
        "loan_data_defaults['recovery_rate'].describe()"
      ]
    },
    {
      "cell_type": "code",
      "execution_count": null,
      "metadata": {
        "id": "cNL7uy4VaxWW"
      },
      "outputs": [],
      "source": [
        "#Topea el recovery rate\n",
        "loan_data_defaults['recovery_rate'] = np.where(loan_data_defaults['recovery_rate'] > 1, 1, loan_data_defaults['recovery_rate'])\n",
        "loan_data_defaults['recovery_rate'] = np.where(loan_data_defaults['recovery_rate'] < 0, 0, loan_data_defaults['recovery_rate'])"
      ]
    },
    {
      "cell_type": "code",
      "execution_count": null,
      "metadata": {
        "id": "QmxpYZ_NaxWW"
      },
      "outputs": [],
      "source": [
        "loan_data_defaults['recovery_rate'].describe()"
      ]
    },
    {
      "cell_type": "markdown",
      "metadata": {
        "id": "qgny1JYkaxWW"
      },
      "source": [
        "# Exploramos las variables"
      ]
    },
    {
      "cell_type": "code",
      "execution_count": null,
      "metadata": {
        "id": "BN8uxml2axWW"
      },
      "outputs": [],
      "source": [
        "import matplotlib.pyplot as plt\n",
        "import seaborn as sns\n",
        "sns.set()"
      ]
    },
    {
      "cell_type": "code",
      "execution_count": null,
      "metadata": {
        "id": "85A9q3X_axWX"
      },
      "outputs": [],
      "source": [
        "#Ploteamos el recovery rate\n",
        "plt.hist(loan_data_defaults['recovery_rate'], bins = 20)\n",
        "plt.show()"
      ]
    },
    {
      "cell_type": "code",
      "execution_count": null,
      "metadata": {
        "id": "LcniR6emaxWX"
      },
      "outputs": [],
      "source": [
        "# Plotea variables\n",
        "plt.scatter(loan_data_defaults['annual_inc'], loan_data_defaults['recovery_rate'],c='blue', alpha=0.5)\n",
        "plt.xlabel('annual_inc')\n",
        "plt.ylabel('recovery_rate')\n",
        "plt.show()"
      ]
    },
    {
      "cell_type": "code",
      "execution_count": null,
      "metadata": {
        "id": "CkmmxiXeaxWX"
      },
      "outputs": [],
      "source": [
        "# Plotea variables\n",
        "plt.scatter(loan_data_defaults['mths_since_last_delinq'], loan_data_defaults['recovery_rate'],c='blue', alpha=0.5)\n",
        "plt.xlabel('mths_since_last_delinq')\n",
        "plt.ylabel('recovery_rate')\n",
        "plt.show()"
      ]
    },
    {
      "cell_type": "code",
      "execution_count": null,
      "metadata": {
        "id": "Sr4eXSNTaxWX"
      },
      "outputs": [],
      "source": [
        "#Dada la alta concentración de recovery rate en 0, vamos a crear una nueva variable\n",
        "loan_data_defaults['recovery_rate_0_1'] = np.where(loan_data_defaults['recovery_rate'] == 0, 0, 1)"
      ]
    },
    {
      "cell_type": "code",
      "execution_count": null,
      "metadata": {
        "id": "pNtbupU1axWY"
      },
      "outputs": [],
      "source": [
        "loan_data_defaults['recovery_rate_0_1'].value_counts()"
      ]
    },
    {
      "cell_type": "markdown",
      "metadata": {
        "id": "fFA5f2qpaxWY"
      },
      "source": [
        "## Generamos un Modelo de LGD: Dividimos la generación del modelo en 2 etapas"
      ]
    },
    {
      "cell_type": "markdown",
      "metadata": {
        "id": "cibpNDCBaxWY"
      },
      "source": [
        "### Dividimos la data"
      ]
    },
    {
      "cell_type": "code",
      "source": [
        "from sklearn.model_selection import train_test_split"
      ],
      "metadata": {
        "id": "TNgq6dr_buOB"
      },
      "execution_count": null,
      "outputs": []
    },
    {
      "cell_type": "code",
      "execution_count": null,
      "metadata": {
        "id": "2QvgCTTkaxWY"
      },
      "outputs": [],
      "source": [
        "lgd_inputs_stage_1_train, lgd_inputs_stage_1_test, lgd_targets_stage_1_train, lgd_targets_stage_1_test = train_test_split(loan_data_defaults.drop(['recovery_rate','recovery_rate_0_1', 'CCF'], axis = 1), loan_data_defaults['recovery_rate_0_1'], test_size = 0.2, random_state = 123)"
      ]
    },
    {
      "cell_type": "markdown",
      "metadata": {
        "id": "hmIwgL9zaxWY"
      },
      "source": [
        "### Preparing the Inputs"
      ]
    },
    {
      "cell_type": "code",
      "execution_count": null,
      "metadata": {
        "id": "awGHpsb2axWZ"
      },
      "outputs": [],
      "source": [
        "features_all = ['grade:A',\n",
        "'grade:B',\n",
        "'grade:C',\n",
        "'grade:D',\n",
        "'grade:E',\n",
        "'grade:F',\n",
        "'grade:G',\n",
        "'home_ownership:MORTGAGE',\n",
        "'home_ownership:NONE',\n",
        "'home_ownership:OTHER',\n",
        "'home_ownership:OWN',\n",
        "'home_ownership:RENT',\n",
        "'verification_status:Not Verified',\n",
        "'verification_status:Source Verified',\n",
        "'verification_status:Verified',\n",
        "'purpose:car',\n",
        "'purpose:credit_card',\n",
        "'purpose:debt_consolidation',\n",
        "'purpose:educational',\n",
        "'purpose:home_improvement',\n",
        "'purpose:house',\n",
        "'purpose:major_purchase',\n",
        "'purpose:medical',\n",
        "'purpose:moving',\n",
        "'purpose:other',\n",
        "'purpose:renewable_energy',\n",
        "'purpose:small_business',\n",
        "'purpose:vacation',\n",
        "'purpose:wedding',\n",
        "'initial_list_status:f',\n",
        "'initial_list_status:w',\n",
        "'term_int',\n",
        "'emp_length_int',\n",
        "'mths_since_issue_d',\n",
        "'mths_since_earliest_cr_line',\n",
        "'funded_amnt',\n",
        "'int_rate',\n",
        "'installment',\n",
        "'annual_inc',\n",
        "'dti',\n",
        "'delinq_2yrs',\n",
        "'inq_last_6mths',\n",
        "'mths_since_last_delinq',\n",
        "'mths_since_last_record',\n",
        "'open_acc',\n",
        "'pub_rec',\n",
        "'total_acc',\n",
        "'acc_now_delinq',\n",
        "'total_rev_hi_lim']"
      ]
    },
    {
      "cell_type": "code",
      "execution_count": null,
      "metadata": {
        "id": "VCaSyf3aaxWZ"
      },
      "outputs": [],
      "source": [
        "lgd_inputs_stage_1_train = lgd_inputs_stage_1_train[features_all]"
      ]
    },
    {
      "cell_type": "markdown",
      "metadata": {
        "id": "vcUgotNeaxWZ"
      },
      "source": [
        "### Estimamos el Modelo"
      ]
    },
    {
      "cell_type": "code",
      "execution_count": null,
      "metadata": {
        "id": "1Eu0DGUgaxWZ"
      },
      "outputs": [],
      "source": [
        "#Estimamos el modelo logístico\n",
        "from sklearn.linear_model import LogisticRegression\n",
        "reg_lgd_st_1 = LogisticRegression()\n",
        "reg_lgd_st_1.fit(lgd_inputs_stage_1_train, lgd_targets_stage_1_train)"
      ]
    },
    {
      "cell_type": "code",
      "execution_count": null,
      "metadata": {
        "id": "aYaRoJnvaxWZ"
      },
      "outputs": [],
      "source": [
        "feature_name = lgd_inputs_stage_1_train.columns.values\n",
        "feature_name"
      ]
    },
    {
      "cell_type": "code",
      "execution_count": null,
      "metadata": {
        "id": "tu7wHHiUaxWZ"
      },
      "outputs": [],
      "source": [
        "print(reg_lgd_st_1.intercept_)\n",
        "print(reg_lgd_st_1.coef_)"
      ]
    },
    {
      "cell_type": "code",
      "execution_count": null,
      "metadata": {
        "id": "j0ci88l_axWZ"
      },
      "outputs": [],
      "source": [
        "summary_table = pd.DataFrame(columns = ['Feature name'], data = feature_name)\n",
        "summary_table['Coefficients'] = np.transpose(reg_lgd_st_1.coef_)\n",
        "summary_table.index = summary_table.index + 1\n",
        "summary_table.loc[0] = ['Intercept', reg_lgd_st_1.intercept_[0]]\n",
        "summary_table = summary_table.sort_index()\n",
        "summary_table"
      ]
    },
    {
      "cell_type": "markdown",
      "metadata": {
        "id": "nXETellgaxWa"
      },
      "source": [
        "### Revisamos el performance del modelo (TEST)"
      ]
    },
    {
      "cell_type": "code",
      "execution_count": null,
      "metadata": {
        "id": "8LtPCS2SaxWa"
      },
      "outputs": [],
      "source": [
        "lgd_inputs_stage_1_test = lgd_inputs_stage_1_test[features_all]\n",
        "lgd_inputs_stage_1_test.head()"
      ]
    },
    {
      "cell_type": "code",
      "execution_count": null,
      "metadata": {
        "id": "4nPTJjljaxWa"
      },
      "outputs": [],
      "source": [
        "lgd_inputs_stage_1_test.shape"
      ]
    },
    {
      "cell_type": "code",
      "execution_count": null,
      "metadata": {
        "id": "pfUVoBOMaxWa"
      },
      "outputs": [],
      "source": [
        "y_hat_test_lgd_stage_1 = reg_lgd_st_1.predict(lgd_inputs_stage_1_test)\n",
        "y_hat_test_lgd_stage_1"
      ]
    },
    {
      "cell_type": "code",
      "execution_count": null,
      "metadata": {
        "id": "rOvPhaJ6axWi"
      },
      "outputs": [],
      "source": [
        "y_hat_test_proba_lgd_stage_1 = reg_lgd_st_1.predict_proba(lgd_inputs_stage_1_test)\n",
        "y_hat_test_proba_lgd_stage_1"
      ]
    },
    {
      "cell_type": "code",
      "execution_count": null,
      "metadata": {
        "id": "dTpIXD_saxWi"
      },
      "outputs": [],
      "source": [
        "y_hat_test_proba_lgd_stage_1 = y_hat_test_proba_lgd_stage_1[: ][: , 1]\n",
        "y_hat_test_proba_lgd_stage_1"
      ]
    },
    {
      "cell_type": "code",
      "execution_count": null,
      "metadata": {
        "id": "f06N-U6BaxWi"
      },
      "outputs": [],
      "source": [
        "lgd_targets_stage_1_test.shape"
      ]
    },
    {
      "cell_type": "code",
      "execution_count": null,
      "metadata": {
        "id": "DHtOIX6LaxWi"
      },
      "outputs": [],
      "source": [
        "preds_lr_df = pd.DataFrame(y_hat_test_proba_lgd_stage_1, columns = ['y_hat_test_proba_lgd_stage_1'])\n",
        "preds_lr_df.head()"
      ]
    },
    {
      "cell_type": "code",
      "execution_count": null,
      "metadata": {
        "id": "waBuqaVTaxWi"
      },
      "outputs": [],
      "source": [
        "df_actual_predicted_probs = pd.concat([lgd_targets_stage_1_test.reset_index(drop = True).rename('lgd_targets_stage_1_test'), preds_lr_df], axis = 1)\n",
        "df_actual_predicted_probs.head()"
      ]
    },
    {
      "cell_type": "markdown",
      "metadata": {
        "id": "rTgRQr4baxWi"
      },
      "source": [
        "### Evaluamos la Precisión del Modelo"
      ]
    },
    {
      "cell_type": "code",
      "execution_count": null,
      "metadata": {
        "id": "8wrDVjBjaxWi"
      },
      "outputs": [],
      "source": [
        "tr = 0.5\n",
        "df_actual_predicted_probs['y_hat_test_lgd_stage_1'] = np.where(df_actual_predicted_probs['y_hat_test_proba_lgd_stage_1'] > tr, 1, 0)"
      ]
    },
    {
      "cell_type": "code",
      "execution_count": null,
      "metadata": {
        "scrolled": true,
        "id": "9J3gFUwaaxWi"
      },
      "outputs": [],
      "source": [
        "pd.crosstab(df_actual_predicted_probs['lgd_targets_stage_1_test'], df_actual_predicted_probs['y_hat_test_lgd_stage_1'], rownames = ['Actual'], colnames = ['Predicted'])"
      ]
    },
    {
      "cell_type": "code",
      "execution_count": null,
      "metadata": {
        "id": "BP7jtX4vaxWi"
      },
      "outputs": [],
      "source": [
        "pd.crosstab(df_actual_predicted_probs['lgd_targets_stage_1_test'], df_actual_predicted_probs['y_hat_test_lgd_stage_1'], rownames = ['Actual'], colnames = ['Predicted']) / df_actual_predicted_probs.shape[0]"
      ]
    },
    {
      "cell_type": "code",
      "execution_count": null,
      "metadata": {
        "id": "nguRyFzKaxWj"
      },
      "outputs": [],
      "source": [
        "(pd.crosstab(df_actual_predicted_probs['lgd_targets_stage_1_test'], df_actual_predicted_probs['y_hat_test_lgd_stage_1'], rownames = ['Actual'], colnames = ['Predicted']) / df_actual_predicted_probs.shape[0]).iloc[0, 0] + (pd.crosstab(df_actual_predicted_probs['lgd_targets_stage_1_test'], df_actual_predicted_probs['y_hat_test_lgd_stage_1'], rownames = ['Actual'], colnames = ['Predicted']) / df_actual_predicted_probs.shape[0]).iloc[1, 1]"
      ]
    },
    {
      "cell_type": "code",
      "execution_count": null,
      "metadata": {
        "id": "O7T9WEcpaxWj"
      },
      "outputs": [],
      "source": [
        "from sklearn.metrics import roc_curve, roc_auc_score\n",
        "fpr, tpr, thresholds = roc_curve(df_actual_predicted_probs['lgd_targets_stage_1_test'], df_actual_predicted_probs['y_hat_test_proba_lgd_stage_1'])"
      ]
    },
    {
      "cell_type": "code",
      "execution_count": null,
      "metadata": {
        "id": "l7zRvBObaxWj"
      },
      "outputs": [],
      "source": [
        "plt.plot(fpr, tpr)\n",
        "plt.plot(fpr, fpr, linestyle = '--', color = 'k')\n",
        "plt.xlabel('False positive rate')\n",
        "plt.ylabel('True positive rate')\n",
        "plt.title('ROC curve')\n",
        "plt.show()"
      ]
    },
    {
      "cell_type": "code",
      "execution_count": null,
      "metadata": {
        "id": "9xJmpkvAaxWj"
      },
      "outputs": [],
      "source": [
        "AUC = roc_auc_score(df_actual_predicted_probs['lgd_targets_stage_1_test'], df_actual_predicted_probs['y_hat_test_proba_lgd_stage_1'])\n",
        "AUC"
      ]
    },
    {
      "cell_type": "code",
      "execution_count": null,
      "metadata": {
        "id": "MeUakoOcaxWj"
      },
      "outputs": [],
      "source": [
        "gini=2*AUC-1\n",
        "gini"
      ]
    },
    {
      "cell_type": "markdown",
      "source": [
        "### Entrenamos un modelos alternativo: Random Forest Classifier"
      ],
      "metadata": {
        "id": "mcBP8QAFpmq7"
      }
    },
    {
      "cell_type": "code",
      "source": [
        "from sklearn.ensemble import RandomForestClassifier\n",
        "RF_clf_lgd_st_1 = RandomForestClassifier(n_estimators = 100, criterion = 'entropy', random_state = 0)\n",
        "RF_clf_lgd_st_1.fit(lgd_inputs_stage_1_train, lgd_targets_stage_1_train)"
      ],
      "metadata": {
        "id": "aWy_pfMTpwrs"
      },
      "execution_count": null,
      "outputs": []
    },
    {
      "cell_type": "code",
      "source": [
        "y_hat_test_lgd_stage_1_rf_clf = RF_clf_lgd_st_1.predict(lgd_inputs_stage_1_test)\n",
        "y_hat_test_proba_lgd_stage_1_rf_clf = RF_clf_lgd_st_1.predict_proba(lgd_inputs_stage_1_test)"
      ],
      "metadata": {
        "id": "N10tq9HZsRuM"
      },
      "execution_count": null,
      "outputs": []
    },
    {
      "cell_type": "code",
      "source": [
        "preds_rf_df = pd.DataFrame(y_hat_test_proba_lgd_stage_1_rf_clf[: ][: , 1], columns = ['y_hat_test_proba_lgd_stage_1_rf_clf'])\n",
        "preds_rf_df.head()"
      ],
      "metadata": {
        "id": "YPZhAv6wpwpL"
      },
      "execution_count": null,
      "outputs": []
    },
    {
      "cell_type": "code",
      "source": [
        "df_actual_predicted_probs_rf_clf = pd.concat([lgd_targets_stage_1_test.reset_index(drop = True).rename('lgd_targets_stage_1_test'), preds_rf_df], axis = 1)\n",
        "df_actual_predicted_probs_rf_clf.head()"
      ],
      "metadata": {
        "id": "sAEpg876vA7U"
      },
      "execution_count": null,
      "outputs": []
    },
    {
      "cell_type": "code",
      "source": [
        "fpr, tpr, thresholds = roc_curve(df_actual_predicted_probs_rf_clf['lgd_targets_stage_1_test'], df_actual_predicted_probs_rf_clf['y_hat_test_proba_lgd_stage_1_rf_clf'])"
      ],
      "metadata": {
        "id": "iCsiSrLv60Yb"
      },
      "execution_count": null,
      "outputs": []
    },
    {
      "cell_type": "code",
      "source": [
        "plt.plot(fpr, tpr)\n",
        "plt.plot(fpr, fpr, linestyle = '--', color = 'k')\n",
        "plt.xlabel('False positive rate')\n",
        "plt.ylabel('True positive rate')\n",
        "plt.title('ROC curve')\n",
        "plt.show()"
      ],
      "metadata": {
        "id": "W2FgwzNi60Vh"
      },
      "execution_count": null,
      "outputs": []
    },
    {
      "cell_type": "code",
      "source": [
        "AUC = roc_auc_score(df_actual_predicted_probs_rf_clf['lgd_targets_stage_1_test'], df_actual_predicted_probs_rf_clf['y_hat_test_proba_lgd_stage_1_rf_clf'])\n",
        "AUC"
      ],
      "metadata": {
        "id": "Tin7CJTd60S3"
      },
      "execution_count": null,
      "outputs": []
    },
    {
      "cell_type": "code",
      "source": [
        "gini=2*AUC-1\n",
        "gini"
      ],
      "metadata": {
        "id": "KzLdaW7xvA4b"
      },
      "execution_count": null,
      "outputs": []
    },
    {
      "cell_type": "markdown",
      "source": [
        "### Con este modelo alternativo estaríamos ganando mas de 10pts de GINI que con el modelo de regresión logística"
      ],
      "metadata": {
        "id": "MKAEr4dm8Qua"
      }
    },
    {
      "cell_type": "markdown",
      "metadata": {
        "id": "JX3-U6c8axWj"
      },
      "source": [
        "### Stage 2: Regresión Lineal sobre los valores >0"
      ]
    },
    {
      "cell_type": "code",
      "execution_count": null,
      "metadata": {
        "id": "Rqt32A15axWj"
      },
      "outputs": [],
      "source": [
        "lgd_stage_2_data = loan_data_defaults[loan_data_defaults['recovery_rate_0_1'] == 1]"
      ]
    },
    {
      "cell_type": "code",
      "execution_count": null,
      "metadata": {
        "id": "_JU15eXWaxWj"
      },
      "outputs": [],
      "source": [
        "#Ploteamos el recovery rate\n",
        "plt.hist(lgd_stage_2_data['recovery_rate'], bins = 50)\n",
        "plt.show()"
      ]
    },
    {
      "cell_type": "code",
      "execution_count": null,
      "metadata": {
        "scrolled": true,
        "id": "nPPkG3FuaxWk"
      },
      "outputs": [],
      "source": [
        "# Plotea variables\n",
        "plt.scatter(lgd_stage_2_data['annual_inc'], lgd_stage_2_data['recovery_rate'],c='blue', alpha=0.5)\n",
        "plt.xlabel('annual_inc')\n",
        "plt.ylabel('recovery_rate')\n",
        "plt.show()"
      ]
    },
    {
      "cell_type": "code",
      "execution_count": null,
      "metadata": {
        "id": "qk1boFZAaxWk"
      },
      "outputs": [],
      "source": [
        "# Dividimos los datos\n",
        "lgd_inputs_stage_2_train, lgd_inputs_stage_2_test, lgd_targets_stage_2_train, lgd_targets_stage_2_test = train_test_split(lgd_stage_2_data.drop(['recovery_rate','recovery_rate_0_1', 'CCF'], axis = 1), lgd_stage_2_data['recovery_rate'], test_size = 0.2, random_state = 123)"
      ]
    },
    {
      "cell_type": "code",
      "execution_count": null,
      "metadata": {
        "id": "VPs3psBMaxWk"
      },
      "outputs": [],
      "source": [
        "from sklearn.linear_model import LinearRegression\n",
        "from sklearn.metrics import mean_squared_error, r2_score"
      ]
    },
    {
      "cell_type": "code",
      "execution_count": null,
      "metadata": {
        "id": "9xlRzMIUaxWk"
      },
      "outputs": [],
      "source": [
        "lgd_inputs_stage_2_train = lgd_inputs_stage_2_train[features_all]"
      ]
    },
    {
      "cell_type": "code",
      "execution_count": null,
      "metadata": {
        "id": "-wH8Dq1zaxWk"
      },
      "outputs": [],
      "source": [
        "reg_lgd_st_2 = LinearRegression()\n",
        "reg_lgd_st_2.fit(lgd_inputs_stage_2_train, lgd_targets_stage_2_train)"
      ]
    },
    {
      "cell_type": "code",
      "execution_count": null,
      "metadata": {
        "id": "El66K4KgaxWk"
      },
      "outputs": [],
      "source": [
        "print(reg_lgd_st_2.intercept_)\n",
        "print(reg_lgd_st_2.coef_)"
      ]
    },
    {
      "cell_type": "code",
      "execution_count": null,
      "metadata": {
        "id": "NSCsUZG-axWk"
      },
      "outputs": [],
      "source": [
        "feature_name = lgd_inputs_stage_2_train.columns.values\n",
        "feature_name"
      ]
    },
    {
      "cell_type": "code",
      "execution_count": null,
      "metadata": {
        "id": "P4LenOMVaxWk"
      },
      "outputs": [],
      "source": [
        "summary_table = pd.DataFrame(columns = ['Feature name'], data = feature_name)\n",
        "summary_table['Coefficients'] = np.transpose(reg_lgd_st_2.coef_)\n",
        "summary_table.index = summary_table.index + 1\n",
        "summary_table.loc[0] = ['Intercept', reg_lgd_st_2.intercept_]\n",
        "summary_table = summary_table.sort_index()\n",
        "summary_table"
      ]
    },
    {
      "cell_type": "markdown",
      "metadata": {
        "id": "SWTfmEUqaxWl"
      },
      "source": [
        "### Stage 2 – Evaluación del Modelo"
      ]
    },
    {
      "cell_type": "code",
      "execution_count": null,
      "metadata": {
        "id": "bYdMTSB1axWl"
      },
      "outputs": [],
      "source": [
        "lgd_inputs_stage_2_test = lgd_inputs_stage_2_test[features_all]\n",
        "lgd_inputs_stage_2_test.head()"
      ]
    },
    {
      "cell_type": "code",
      "execution_count": null,
      "metadata": {
        "id": "kSyyzYkraxWl"
      },
      "outputs": [],
      "source": [
        "lgd_inputs_stage_2_test.shape"
      ]
    },
    {
      "cell_type": "code",
      "execution_count": null,
      "metadata": {
        "id": "RDc_YqFgaxWl"
      },
      "outputs": [],
      "source": [
        "y_hat_test_lgd_stage_2 = reg_lgd_st_2.predict(lgd_inputs_stage_2_test)\n",
        "y_hat_test_lgd_stage_2"
      ]
    },
    {
      "cell_type": "code",
      "execution_count": null,
      "metadata": {
        "id": "lJGkkaEYaxWl"
      },
      "outputs": [],
      "source": [
        "y_hat_test_lgd_stage_2.shape"
      ]
    },
    {
      "cell_type": "code",
      "execution_count": null,
      "metadata": {
        "id": "M8pK92GeaxWl"
      },
      "outputs": [],
      "source": [
        "pred_linreg_stg2=pd.DataFrame(y_hat_test_lgd_stage_2,columns=['recovery_rate_pred'])"
      ]
    },
    {
      "cell_type": "code",
      "execution_count": null,
      "metadata": {
        "id": "MlmJd3aXaxWl"
      },
      "outputs": [],
      "source": [
        "pred_linreg_stg2.head()"
      ]
    },
    {
      "cell_type": "code",
      "execution_count": null,
      "metadata": {
        "id": "4PykY5aHaxWm"
      },
      "outputs": [],
      "source": [
        "df_pred_stg2=pd.concat([lgd_targets_stage_2_test.reset_index(drop = True), pred_linreg_stg2], axis = 1)\n",
        "df_pred_stg2.head()"
      ]
    },
    {
      "cell_type": "code",
      "execution_count": null,
      "metadata": {
        "id": "mTeveIziaxWm"
      },
      "outputs": [],
      "source": [
        "df_pred_stg2.corr()"
      ]
    },
    {
      "cell_type": "code",
      "source": [
        "# Plotea variables\n",
        "plt.scatter(df_pred_stg2['recovery_rate_pred'], df_pred_stg2['recovery_rate'],c='blue', alpha=0.5)\n",
        "plt.xlabel('recovery_rate_pred')\n",
        "plt.ylabel('recovery_rate')\n",
        "plt.show()"
      ],
      "metadata": {
        "id": "OByPDDclK31y"
      },
      "execution_count": null,
      "outputs": []
    },
    {
      "cell_type": "code",
      "execution_count": null,
      "metadata": {
        "id": "TSwpVrrSaxWm"
      },
      "outputs": [],
      "source": [
        "r2_score(lgd_targets_stage_2_test, y_hat_test_lgd_stage_2)"
      ]
    },
    {
      "cell_type": "code",
      "execution_count": null,
      "metadata": {
        "id": "mhIKk-DuaxWm"
      },
      "outputs": [],
      "source": [
        "np.sqrt(mean_squared_error(lgd_targets_stage_2_test,y_hat_test_lgd_stage_2))"
      ]
    },
    {
      "cell_type": "code",
      "execution_count": null,
      "metadata": {
        "scrolled": true,
        "id": "oQbldQ--axWm"
      },
      "outputs": [],
      "source": [
        "sns.distplot(lgd_targets_stage_2_test - y_hat_test_lgd_stage_2)"
      ]
    },
    {
      "cell_type": "code",
      "execution_count": null,
      "metadata": {
        "id": "KnnZe7HqaxWm"
      },
      "outputs": [],
      "source": [
        "pd.DataFrame(y_hat_test_lgd_stage_2).describe()"
      ]
    },
    {
      "cell_type": "code",
      "execution_count": null,
      "metadata": {
        "id": "oTUvBIb9axWm"
      },
      "outputs": [],
      "source": [
        "y_hat_test_lgd_stage_2 = np.where(y_hat_test_lgd_stage_2 < 0, 0, y_hat_test_lgd_stage_2)\n",
        "y_hat_test_lgd_stage_2 = np.where(y_hat_test_lgd_stage_2 > 1, 1, y_hat_test_lgd_stage_2)"
      ]
    },
    {
      "cell_type": "code",
      "source": [
        "df_pred_stg2.describe()"
      ],
      "metadata": {
        "id": "0DxAZ7pxhNrE"
      },
      "execution_count": null,
      "outputs": []
    },
    {
      "cell_type": "markdown",
      "source": [
        "### Entrenamos un modelo alternativo: Random Forest Regressor"
      ],
      "metadata": {
        "id": "bk3WTWXN8uY9"
      }
    },
    {
      "cell_type": "code",
      "source": [
        "from sklearn.ensemble import RandomForestRegressor\n",
        "RF_reg_lgd_st_2 = RandomForestRegressor(n_estimators = 100, random_state = 0)\n",
        "RF_reg_lgd_st_2.fit(lgd_inputs_stage_2_train, lgd_targets_stage_2_train)"
      ],
      "metadata": {
        "id": "5jTZRvpG8ttt"
      },
      "execution_count": null,
      "outputs": []
    },
    {
      "cell_type": "code",
      "source": [
        "y_hat_test_lgd_stage_2_rf_reg= RF_reg_lgd_st_2.predict(lgd_inputs_stage_2_test)\n",
        "y_hat_test_lgd_stage_2_rf_reg"
      ],
      "metadata": {
        "id": "2CfD4fEH81WY"
      },
      "execution_count": null,
      "outputs": []
    },
    {
      "cell_type": "code",
      "source": [
        "pred_rf_reg_stg2=pd.DataFrame(y_hat_test_lgd_stage_2_rf_reg, columns=['recovery_rate_pred'])"
      ],
      "metadata": {
        "id": "ld0PzdFI81T0"
      },
      "execution_count": null,
      "outputs": []
    },
    {
      "cell_type": "code",
      "source": [
        "df_pred_stg2_rf_reg=pd.concat([lgd_targets_stage_2_test.reset_index(drop = True), pred_rf_reg_stg2], axis = 1)\n",
        "df_pred_stg2_rf_reg.head()"
      ],
      "metadata": {
        "id": "D6nxlY8q81RS"
      },
      "execution_count": null,
      "outputs": []
    },
    {
      "cell_type": "code",
      "source": [
        "df_pred_stg2_rf_reg.corr()"
      ],
      "metadata": {
        "id": "iDUZNLDHKqw0"
      },
      "execution_count": null,
      "outputs": []
    },
    {
      "cell_type": "code",
      "source": [
        "# Plotea variables\n",
        "plt.scatter(df_pred_stg2_rf_reg['recovery_rate_pred'], df_pred_stg2_rf_reg['recovery_rate'],c='blue', alpha=0.5)\n",
        "plt.xlabel('recovery_rate_pred')\n",
        "plt.ylabel('recovery_rate')\n",
        "plt.show()"
      ],
      "metadata": {
        "id": "f1SKz24yLIDf"
      },
      "execution_count": null,
      "outputs": []
    },
    {
      "cell_type": "code",
      "source": [
        "r2_score(lgd_targets_stage_2_test, y_hat_test_lgd_stage_2_rf_reg)"
      ],
      "metadata": {
        "id": "5EnHKD6h81Ou"
      },
      "execution_count": null,
      "outputs": []
    },
    {
      "cell_type": "code",
      "source": [
        "np.sqrt(mean_squared_error(lgd_targets_stage_2_test, y_hat_test_lgd_stage_2_rf_reg))"
      ],
      "metadata": {
        "id": "-xizxYiC_BcI"
      },
      "execution_count": null,
      "outputs": []
    },
    {
      "cell_type": "code",
      "source": [
        "sns.distplot(lgd_targets_stage_2_test - y_hat_test_lgd_stage_2_rf_reg)"
      ],
      "metadata": {
        "id": "Wbm8Ws2l_BRO"
      },
      "execution_count": null,
      "outputs": []
    },
    {
      "cell_type": "code",
      "source": [
        "df_pred_stg2_rf_reg.describe()"
      ],
      "metadata": {
        "id": "5PUu6B1I_nr8"
      },
      "execution_count": null,
      "outputs": []
    },
    {
      "cell_type": "markdown",
      "metadata": {
        "id": "Won0r_IdaxWn"
      },
      "source": [
        "### Combinamos el Stage 1 y 2: predecir si es =0 o mayor a 0, y para los mayores a 0 cuál es su recuperación"
      ]
    },
    {
      "cell_type": "code",
      "execution_count": null,
      "metadata": {
        "id": "9f4x3bJyaxWn"
      },
      "outputs": [],
      "source": [
        "y_hat_test_lgd_stage_2_all = reg_lgd_st_2.predict(lgd_inputs_stage_1_test)\n",
        "y_hat_test_lgd_stage_2_all"
      ]
    },
    {
      "cell_type": "code",
      "execution_count": null,
      "metadata": {
        "id": "G7hhHDfraxWn"
      },
      "outputs": [],
      "source": [
        "y_hat_test_lgd = y_hat_test_lgd_stage_1_rf_clf * y_hat_test_lgd_stage_2_all"
      ]
    },
    {
      "cell_type": "code",
      "execution_count": null,
      "metadata": {
        "id": "1lO-SL6DaxWn"
      },
      "outputs": [],
      "source": [
        "pd.DataFrame(y_hat_test_lgd).describe()"
      ]
    },
    {
      "cell_type": "code",
      "execution_count": null,
      "metadata": {
        "id": "HFYi0I-paxWn"
      },
      "outputs": [],
      "source": [
        "y_hat_test_lgd = np.where(y_hat_test_lgd < 0, 0, y_hat_test_lgd)\n",
        "y_hat_test_lgd = np.where(y_hat_test_lgd > 1, 1, y_hat_test_lgd)"
      ]
    },
    {
      "cell_type": "code",
      "execution_count": null,
      "metadata": {
        "id": "7SRgE0r8axWn"
      },
      "outputs": [],
      "source": [
        "pd.DataFrame(y_hat_test_lgd).describe()"
      ]
    },
    {
      "cell_type": "markdown",
      "metadata": {
        "id": "nblK3c8ZaxWn"
      },
      "source": [
        "# Modelo para estimar EAD"
      ]
    },
    {
      "cell_type": "code",
      "execution_count": null,
      "metadata": {
        "id": "c2c_c3PlaxWn"
      },
      "outputs": [],
      "source": [
        "loan_data_defaults['CCF'].describe()"
      ]
    },
    {
      "cell_type": "code",
      "execution_count": null,
      "metadata": {
        "id": "Nugnm-ATaxWn"
      },
      "outputs": [],
      "source": [
        "import matplotlib.pyplot as plt\n",
        "import seaborn as sns\n",
        "sns.set()\n",
        "plt.hist(loan_data_defaults['CCF'], bins = 50)\n",
        "plt.show()"
      ]
    },
    {
      "cell_type": "code",
      "execution_count": null,
      "metadata": {
        "id": "pxdnsXiJaxWo"
      },
      "outputs": [],
      "source": [
        "ead_inputs_train, ead_inputs_test, ead_targets_train, ead_targets_test = train_test_split(loan_data_defaults.drop([ 'recovery_rate','recovery_rate_0_1', 'CCF'], axis = 1), loan_data_defaults['CCF'], test_size = 0.2, random_state = 123)"
      ]
    },
    {
      "cell_type": "code",
      "execution_count": null,
      "metadata": {
        "id": "uprUnXLNaxWo"
      },
      "outputs": [],
      "source": [
        "ead_inputs_train = ead_inputs_train[features_all]\n",
        "ead_inputs_train.head()"
      ]
    },
    {
      "cell_type": "code",
      "execution_count": null,
      "metadata": {
        "id": "aA7GUz-kaxWo"
      },
      "outputs": [],
      "source": [
        "reg_ead = LinearRegression()\n",
        "reg_ead.fit(ead_inputs_train, ead_targets_train)"
      ]
    },
    {
      "cell_type": "code",
      "execution_count": null,
      "metadata": {
        "id": "c4oJutJtaxWo"
      },
      "outputs": [],
      "source": [
        "print(reg_ead.intercept_)\n",
        "print(reg_ead.coef_)"
      ]
    },
    {
      "cell_type": "code",
      "execution_count": null,
      "metadata": {
        "id": "UuNRxR3laxWo"
      },
      "outputs": [],
      "source": [
        "feature_name = ead_inputs_train.columns.values"
      ]
    },
    {
      "cell_type": "code",
      "execution_count": null,
      "metadata": {
        "id": "UDzl1IjMaxWo"
      },
      "outputs": [],
      "source": [
        "summary_table = pd.DataFrame(columns = ['Feature name'], data = feature_name)\n",
        "summary_table['Coefficients'] = np.transpose(reg_ead.coef_)\n",
        "summary_table.index = summary_table.index + 1\n",
        "summary_table.loc[0] = ['Intercept', reg_ead.intercept_]\n",
        "summary_table = summary_table.sort_index()\n",
        "summary_table"
      ]
    },
    {
      "cell_type": "markdown",
      "metadata": {
        "id": "0jBNPImNaxWo"
      },
      "source": [
        "### Evaluamos el modelo"
      ]
    },
    {
      "cell_type": "code",
      "execution_count": null,
      "metadata": {
        "id": "iqcBkTq6axWo"
      },
      "outputs": [],
      "source": [
        "ead_inputs_test = ead_inputs_test[features_all]"
      ]
    },
    {
      "cell_type": "code",
      "execution_count": null,
      "metadata": {
        "id": "PmwfEa6JaxWo"
      },
      "outputs": [],
      "source": [
        "ead_inputs_test.head()"
      ]
    },
    {
      "cell_type": "code",
      "execution_count": null,
      "metadata": {
        "id": "JcZ2GhGraxWo"
      },
      "outputs": [],
      "source": [
        "ead_inputs_test.shape"
      ]
    },
    {
      "cell_type": "code",
      "execution_count": null,
      "metadata": {
        "id": "0pBV6-JQaxWp"
      },
      "outputs": [],
      "source": [
        "y_hat_test_ead = reg_ead.predict(ead_inputs_test)\n",
        "y_hat_test_ead"
      ]
    },
    {
      "cell_type": "code",
      "execution_count": null,
      "metadata": {
        "id": "gbwpwg8XaxWp"
      },
      "outputs": [],
      "source": [
        "y_hat_test_ead.shape"
      ]
    },
    {
      "cell_type": "code",
      "execution_count": null,
      "metadata": {
        "id": "-hWn1QKNaxWp"
      },
      "outputs": [],
      "source": [
        "pred_ead=pd.DataFrame(y_hat_test_ead,columns=['y_hat_test_ead'])\n",
        "pred_ead.head()"
      ]
    },
    {
      "cell_type": "code",
      "execution_count": null,
      "metadata": {
        "id": "eOa0NhywaxWp"
      },
      "outputs": [],
      "source": [
        "df_ead=pd.concat([ead_targets_test.reset_index(drop = True), pred_ead], axis = 1)\n",
        "df_ead.head()"
      ]
    },
    {
      "cell_type": "code",
      "execution_count": null,
      "metadata": {
        "id": "oOs7K5inaxWp"
      },
      "outputs": [],
      "source": [
        "sns.distplot(ead_targets_test - y_hat_test_ead)"
      ]
    },
    {
      "cell_type": "code",
      "execution_count": null,
      "metadata": {
        "id": "9-epP3AQaxWp"
      },
      "outputs": [],
      "source": [
        "reg_ead.score(ead_inputs_test,ead_targets_test)"
      ]
    },
    {
      "cell_type": "code",
      "execution_count": null,
      "metadata": {
        "id": "x0O3uyYsaxWp"
      },
      "outputs": [],
      "source": [
        "rmse_ead = np.sqrt(mean_squared_error(ead_targets_test,y_hat_test_ead))\n",
        "rmse_ead"
      ]
    },
    {
      "cell_type": "code",
      "execution_count": null,
      "metadata": {
        "id": "e4ULIuZgaxWp"
      },
      "outputs": [],
      "source": [
        "pred_ead.describe()"
      ]
    },
    {
      "cell_type": "code",
      "execution_count": null,
      "metadata": {
        "id": "-_Zz_v3vaxWp"
      },
      "outputs": [],
      "source": [
        "pred_ead['y_hat_test_ead'] = np.where(pred_ead['y_hat_test_ead'] < 0, 0, pred_ead['y_hat_test_ead'])\n",
        "pred_ead['y_hat_test_ead'] = np.where(pred_ead['y_hat_test_ead'] > 1, 1, pred_ead['y_hat_test_ead'])"
      ]
    },
    {
      "cell_type": "code",
      "execution_count": null,
      "metadata": {
        "id": "bFQfogu-axWq"
      },
      "outputs": [],
      "source": [
        "pred_ead.describe()"
      ]
    },
    {
      "cell_type": "code",
      "execution_count": null,
      "metadata": {
        "id": "I71dLKRtaxWq"
      },
      "outputs": [],
      "source": []
    }
  ],
  "metadata": {
    "kernelspec": {
      "display_name": "Python 3",
      "language": "python",
      "name": "python3"
    },
    "language_info": {
      "codemirror_mode": {
        "name": "ipython",
        "version": 3
      },
      "file_extension": ".py",
      "mimetype": "text/x-python",
      "name": "python",
      "nbconvert_exporter": "python",
      "pygments_lexer": "ipython3",
      "version": "3.7.6"
    },
    "colab": {
      "provenance": [],
      "include_colab_link": true
    }
  },
  "nbformat": 4,
  "nbformat_minor": 0
}