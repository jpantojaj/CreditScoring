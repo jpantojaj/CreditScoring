{
  "cells": [
    {
      "cell_type": "markdown",
      "metadata": {
        "id": "view-in-github",
        "colab_type": "text"
      },
      "source": [
        "<a href=\"https://colab.research.google.com/github/jpantojaj/Credit_Scoring_Specialization/blob/main/Sesion_3_NaiveModel.ipynb\" target=\"_parent\"><img src=\"https://colab.research.google.com/assets/colab-badge.svg\" alt=\"Open In Colab\"/></a>"
      ]
    },
    {
      "cell_type": "markdown",
      "metadata": {
        "id": "Q0z4choGWegT"
      },
      "source": [
        "## Importamos Librerias y Datos"
      ]
    },
    {
      "cell_type": "code",
      "execution_count": null,
      "metadata": {
        "id": "Gps5bffaWegX"
      },
      "outputs": [],
      "source": [
        "#Importamos librerias\n",
        "import pandas as pd\n",
        "import numpy as np\n",
        "import matplotlib.pyplot as plt"
      ]
    },
    {
      "cell_type": "code",
      "execution_count": null,
      "metadata": {
        "id": "bxx-iUNFWegY"
      },
      "outputs": [],
      "source": [
        "cr_loan = pd.read_excel('cr_loan2.xlsx',sheet_name='cr_loan2')\n",
        "cr_loan"
      ]
    },
    {
      "cell_type": "markdown",
      "metadata": {
        "id": "Bmw3vEElWegZ"
      },
      "source": [
        "## Exploramos la data"
      ]
    },
    {
      "cell_type": "code",
      "execution_count": null,
      "metadata": {
        "id": "qq-dUQ_aWegZ"
      },
      "outputs": [],
      "source": [
        "cr_loan.info()"
      ]
    },
    {
      "cell_type": "code",
      "execution_count": null,
      "metadata": {
        "id": "ZOyL006RWega"
      },
      "outputs": [],
      "source": [
        "cr_loan.shape"
      ]
    },
    {
      "cell_type": "code",
      "execution_count": null,
      "metadata": {
        "id": "gCPGoWvMWega"
      },
      "outputs": [],
      "source": [
        "cr_loan.head()"
      ]
    },
    {
      "cell_type": "markdown",
      "source": [
        "##Empezemos a explorar los datos"
      ],
      "metadata": {
        "id": "KjmfQlH4f8x6"
      }
    },
    {
      "cell_type": "code",
      "execution_count": null,
      "metadata": {
        "id": "ZD-_7KFoWegb"
      },
      "outputs": [],
      "source": [
        "# Histograma de Montos\n",
        "plt.hist(x=cr_loan['loan_amnt'], bins='auto', color='blue', rwidth=0.85)\n",
        "plt.xlabel(\"Loan Amount\")\n",
        "plt.show()"
      ]
    },
    {
      "cell_type": "code",
      "execution_count": null,
      "metadata": {
        "id": "gy6LQGmfWegb"
      },
      "outputs": [],
      "source": [
        "# Histograma de Edad\n",
        "plt.hist(x=cr_loan['person_age'], bins='auto', color='blue', rwidth=0.85)\n",
        "plt.xlabel(\"Person Age\")\n",
        "plt.show()"
      ]
    },
    {
      "cell_type": "code",
      "execution_count": null,
      "metadata": {
        "id": "NBJDk1BkWegb"
      },
      "outputs": [],
      "source": [
        "# Plotear la Edad contra el Ingreso\n",
        "plt.scatter(cr_loan['person_income'], cr_loan['person_age'], c='red', alpha=0.5)\n",
        "plt.xlabel('Personal Income')\n",
        "plt.ylabel('Person Age')\n",
        "plt.show()"
      ]
    },
    {
      "cell_type": "markdown",
      "source": [
        "##Revisemos como cada variable explica el default"
      ],
      "metadata": {
        "id": "_mh60t-Kz7HZ"
      }
    },
    {
      "cell_type": "markdown",
      "source": [
        "##Categórica"
      ],
      "metadata": {
        "id": "0GwzWDLW4YsJ"
      }
    },
    {
      "cell_type": "code",
      "execution_count": null,
      "metadata": {
        "id": "TIl-zV-oWegc"
      },
      "outputs": [],
      "source": [
        "# Tabla cruzada de Destino y Situación del Préstamo\n",
        "x=pd.crosstab(cr_loan['loan_intent'], cr_loan['loan_status'])#, margins = True\n",
        "x"
      ]
    },
    {
      "cell_type": "code",
      "source": [
        "y=pd.DataFrame(cr_loan['loan_status'].groupby(cr_loan['loan_intent']).mean())\n",
        "y.rename(columns={'loan_status':'bad_rate'},inplace=True)\n",
        "y"
      ],
      "metadata": {
        "id": "6fiNEXJ7qK6-"
      },
      "execution_count": null,
      "outputs": []
    },
    {
      "cell_type": "code",
      "source": [
        "pd.merge(x, y, how='inner', on='loan_intent')"
      ],
      "metadata": {
        "id": "bsfYpJlntQig"
      },
      "execution_count": null,
      "outputs": []
    },
    {
      "cell_type": "markdown",
      "source": [
        "##Cómo se verían los bad rates para las variables person_home_ownership y loan_grade?"
      ],
      "metadata": {
        "id": "gUpBKynxzUH6"
      }
    },
    {
      "cell_type": "code",
      "source": [],
      "metadata": {
        "id": "Pw3xatWgzf_E"
      },
      "execution_count": null,
      "outputs": []
    },
    {
      "cell_type": "code",
      "source": [],
      "metadata": {
        "id": "X9ryJRimzTIA"
      },
      "execution_count": null,
      "outputs": []
    },
    {
      "cell_type": "code",
      "source": [],
      "metadata": {
        "id": "6VDhoUeX0PdX"
      },
      "execution_count": null,
      "outputs": []
    },
    {
      "cell_type": "markdown",
      "source": [
        "##Numérica"
      ],
      "metadata": {
        "id": "lMvvtG174gAM"
      }
    },
    {
      "cell_type": "code",
      "source": [
        "pd.DataFrame(cr_loan['loan_status'].groupby(pd.cut(cr_loan['loan_percent_income'], bins=[0,0.25,0.50,0.75,1])).mean())"
      ],
      "metadata": {
        "id": "66yjjs9F4fSx"
      },
      "execution_count": null,
      "outputs": []
    },
    {
      "cell_type": "code",
      "source": [
        "cr_loan.describe().transpose()"
      ],
      "metadata": {
        "id": "_z9a135e8tLu"
      },
      "execution_count": null,
      "outputs": []
    },
    {
      "cell_type": "markdown",
      "source": [
        "##Cómo se verían los bad rates para person_age, person_emp_length y person_credit_hist_length"
      ],
      "metadata": {
        "id": "d0jVB7C3-Mel"
      }
    },
    {
      "cell_type": "code",
      "source": [
        "W=pd.DataFrame(cr_loan['loan_status'].groupby(pd.cut(cr_loan['person_age'], bins=[0,25,50,75,100])).mean())\n",
        "W.rename(columns={'loan_status':'bad_rate'})\n",
        "W"
      ],
      "metadata": {
        "id": "AhsD9jlG8s5O"
      },
      "execution_count": null,
      "outputs": []
    },
    {
      "cell_type": "code",
      "source": [
        "from sklearn.preprocessing import KBinsDiscretizer\n",
        "A=KBinsDiscretizer(n_bins=5, encode='ordinal', strategy = 'quantile').fit_transform(cr_loan[['person_age']])\n",
        "B=pd.DataFrame(A).rename(columns = {0: 'person_age_disc'})\n",
        "cr_loan[['person_age_disc']]=B\n",
        "cr_loan.head()"
      ],
      "metadata": {
        "id": "Dd4V9MJFEKS_"
      },
      "execution_count": null,
      "outputs": []
    },
    {
      "cell_type": "code",
      "source": [
        "T=pd.DataFrame(cr_loan['loan_status'].groupby(cr_loan['person_age_disc']).mean())\n",
        "T.rename(columns={'loan_status':'bad_rate'},inplace=True)\n",
        "T"
      ],
      "metadata": {
        "id": "2mlNHK-o9BvO"
      },
      "execution_count": null,
      "outputs": []
    },
    {
      "cell_type": "code",
      "source": [],
      "metadata": {
        "id": "Fud-Q_qU-lD9"
      },
      "execution_count": null,
      "outputs": []
    },
    {
      "cell_type": "code",
      "source": [],
      "metadata": {
        "id": "fY3K8DmkSTTs"
      },
      "execution_count": null,
      "outputs": []
    },
    {
      "cell_type": "markdown",
      "source": [
        "##Revisemos algunas interacciones"
      ],
      "metadata": {
        "id": "Oiuwu3qD0QKQ"
      }
    },
    {
      "cell_type": "code",
      "execution_count": null,
      "metadata": {
        "id": "rUldK8yRWegc"
      },
      "outputs": [],
      "source": [
        "# Tabla cruzada de tipo de vivienda, clasificación de riesgo y situación del préstamo\n",
        "z=pd.crosstab(cr_loan['person_home_ownership'], cr_loan['loan_grade'],\n",
        "                  values=cr_loan['loan_status'], aggfunc='mean')\n",
        "z"
      ]
    },
    {
      "cell_type": "code",
      "execution_count": null,
      "metadata": {
        "id": "TyDo5B46Wegd"
      },
      "outputs": [],
      "source": [
        "# Gráfico de Cajas de porcentaje préstamo/ingreso por Situación del préstamo\n",
        "cr_loan.boxplot(column = ['loan_percent_income'], by = 'loan_status')\n",
        "plt.title('Average Percent Income by Loan Status')\n",
        "plt.suptitle('')\n",
        "plt.show()"
      ]
    },
    {
      "cell_type": "code",
      "execution_count": null,
      "metadata": {
        "id": "QYixghnxWegd"
      },
      "outputs": [],
      "source": [
        "# Tabla cruzada de años de empleo (máximo) según situación del préstamo y tipo de vivienda\n",
        "pd.crosstab(cr_loan['loan_status'],cr_loan['person_home_ownership'],values=cr_loan['person_emp_length'], aggfunc='mean')"
      ]
    },
    {
      "cell_type": "markdown",
      "metadata": {
        "id": "QoUiDNRnWegd"
      },
      "source": [
        "## Depuramos la data"
      ]
    },
    {
      "cell_type": "code",
      "execution_count": null,
      "metadata": {
        "id": "nA3LaIjRWegd"
      },
      "outputs": [],
      "source": [
        "# Crear arreglo de indices para marcar años de empleo mayores a 60\n",
        "indices = cr_loan[cr_loan['person_emp_length'] > 60].index\n",
        "indices.shape"
      ]
    },
    {
      "cell_type": "code",
      "execution_count": null,
      "metadata": {
        "id": "BUQSUY3RWegd"
      },
      "outputs": [],
      "source": [
        "# Borrar datos atípicos\n",
        "cr_loan_new = cr_loan.drop(indices)\n",
        "cr_loan_new.shape"
      ]
    },
    {
      "cell_type": "code",
      "execution_count": null,
      "metadata": {
        "id": "rtCvsQYBWege"
      },
      "outputs": [],
      "source": [
        "#Min y max de antiguedad del empleo\n",
        "print(cr_loan_new['person_emp_length'].min())\n",
        "print(cr_loan_new['person_emp_length'].max())"
      ]
    },
    {
      "cell_type": "code",
      "execution_count": null,
      "metadata": {
        "id": "lrGjYQOQWege"
      },
      "outputs": [],
      "source": [
        "# Tabla cruzada de años de empleo (máximo) según situación del préstamo y tipo de vivienda\n",
        "print(pd.crosstab(cr_loan_new['loan_status'],cr_loan_new['person_home_ownership'],\n",
        "            values=cr_loan_new['person_emp_length'], aggfunc=['min','max']))"
      ]
    },
    {
      "cell_type": "code",
      "execution_count": null,
      "metadata": {
        "id": "d_x-Lbs6Wege"
      },
      "outputs": [],
      "source": [
        "# Plotear la edad y el monto\n",
        "plt.scatter(cr_loan_new['person_age'], cr_loan_new['loan_amnt'], c='blue', alpha=0.5)\n",
        "plt.xlabel(\"Person Age\")\n",
        "plt.ylabel(\"Loan Amount\")\n",
        "plt.show()"
      ]
    },
    {
      "cell_type": "code",
      "execution_count": null,
      "metadata": {
        "id": "fgPkyLXlWege"
      },
      "outputs": [],
      "source": [
        "# Marca los registros con outliers en la variable edad\n",
        "indices2=cr_loan_new[cr_loan_new['person_age'] > 100].index\n",
        "indices2.shape"
      ]
    },
    {
      "cell_type": "code",
      "execution_count": null,
      "metadata": {
        "id": "hY9AsAsJWege"
      },
      "outputs": [],
      "source": [
        "# Borra datos atipicos en edad\n",
        "cr_loan_new2 = cr_loan_new.drop(indices2)\n",
        "cr_loan_new2.shape"
      ]
    },
    {
      "cell_type": "code",
      "execution_count": null,
      "metadata": {
        "id": "ftzolgSVWege"
      },
      "outputs": [],
      "source": [
        "# Ploteo de Edad e Interes del Préstamo\n",
        "import matplotlib\n",
        "colors = [\"blue\",\"red\"]\n",
        "plt.scatter(cr_loan_new2['person_age'], cr_loan_new2['loan_int_rate'],\n",
        "            c = cr_loan_new2['loan_status'],\n",
        "            cmap = matplotlib.colors.ListedColormap(colors),\n",
        "            alpha=0.5)\n",
        "plt.xlabel(\"Person Age\")\n",
        "plt.ylabel(\"Loan Interest Rate\")\n",
        "plt.show()"
      ]
    },
    {
      "cell_type": "code",
      "execution_count": null,
      "metadata": {
        "id": "x8Rp4bOFWege"
      },
      "outputs": [],
      "source": [
        "# Array de valores nulos\n",
        "cr_loan_new2.columns[cr_loan_new2.isnull().any()]"
      ]
    },
    {
      "cell_type": "code",
      "execution_count": null,
      "metadata": {
        "id": "Fv5T02OIWegf"
      },
      "outputs": [],
      "source": [
        "# Primeros nulos de antiguedad de empleo\n",
        "cr_loan_new2[cr_loan_new2['person_emp_length'].isnull()].head()"
      ]
    },
    {
      "cell_type": "code",
      "execution_count": null,
      "metadata": {
        "id": "Eq5QCpUpWegf"
      },
      "outputs": [],
      "source": [
        "# Imputar la mediana a los valores nulos\n",
        "cr_loan_new2['person_emp_length'].fillna((cr_loan_new2['person_emp_length'].median()), inplace=True)"
      ]
    },
    {
      "cell_type": "code",
      "execution_count": null,
      "metadata": {
        "id": "cY3fdBFQWegf"
      },
      "outputs": [],
      "source": [
        "# Histograma de antiguedad de empleo\n",
        "n, bins, patches = plt.hist(cr_loan_new2['person_emp_length'], bins='auto', color='blue')\n",
        "plt.xlabel(\"Person Employment Length\")\n",
        "plt.show()"
      ]
    },
    {
      "cell_type": "code",
      "execution_count": null,
      "metadata": {
        "id": "AzYDPJvdWegf"
      },
      "outputs": [],
      "source": [
        "# Cantidad de Nulos\n",
        "print(cr_loan_new2['loan_int_rate'].isnull().value_counts())"
      ]
    },
    {
      "cell_type": "code",
      "execution_count": null,
      "metadata": {
        "id": "K9wvjiIRWegf"
      },
      "outputs": [],
      "source": [
        "# Indice para identificar los nulos\n",
        "indices3 = cr_loan_new2[cr_loan_new2['loan_int_rate'].isnull()].index\n",
        "indices3.shape"
      ]
    },
    {
      "cell_type": "code",
      "execution_count": null,
      "metadata": {
        "id": "w48VcZUNWegf"
      },
      "outputs": [],
      "source": [
        "# Crea nueva tabla sin nulos\n",
        "cr_loan_clean = cr_loan_new2.drop(indices3)\n",
        "cr_loan_clean.shape"
      ]
    },
    {
      "cell_type": "markdown",
      "metadata": {
        "id": "FA5GbFelWegf"
      },
      "source": [
        "## Creamos un logit simple"
      ]
    },
    {
      "cell_type": "code",
      "execution_count": null,
      "metadata": {
        "id": "62fz0aH3Wegg"
      },
      "outputs": [],
      "source": [
        "# Crea los datos de X e Y (regresion logit univariada)\n",
        "X = cr_loan_clean[['loan_int_rate']]\n",
        "y = cr_loan_clean[['loan_status']]"
      ]
    },
    {
      "cell_type": "code",
      "execution_count": null,
      "metadata": {
        "id": "GI8ZuzmKWegg"
      },
      "outputs": [],
      "source": [
        "# Crea el logit univariado\n",
        "from sklearn.linear_model import LogisticRegression\n",
        "clf_logistic_single = LogisticRegression(solver='lbfgs')\n",
        "clf_logistic_single.fit(X, np.ravel(y))"
      ]
    },
    {
      "cell_type": "code",
      "execution_count": null,
      "metadata": {
        "id": "i7zQ03JRWegg"
      },
      "outputs": [],
      "source": [
        "# Betas\n",
        "print(clf_logistic_single.coef_)\n",
        "# Intercepto\n",
        "print(clf_logistic_single.intercept_)"
      ]
    },
    {
      "cell_type": "markdown",
      "metadata": {
        "id": "PsiPu6lvWegg"
      },
      "source": [
        "## Creamos un logit multivariado (variables num y cat)"
      ]
    },
    {
      "cell_type": "code",
      "execution_count": null,
      "metadata": {
        "id": "_vCTv9jHWegg"
      },
      "outputs": [],
      "source": [
        "cr_loan_clean['person_home_ownership'].unique()"
      ]
    },
    {
      "cell_type": "code",
      "execution_count": null,
      "metadata": {
        "id": "-O0QjiSrWegg"
      },
      "outputs": [],
      "source": [
        "# Tratamiento de numéricas y categóricas\n",
        "cred_num = cr_loan_clean.select_dtypes(exclude=['object'])\n",
        "cred_str = cr_loan_clean.select_dtypes(include=['object'])"
      ]
    },
    {
      "cell_type": "code",
      "execution_count": null,
      "metadata": {
        "id": "8ZWYC3BbWegg"
      },
      "outputs": [],
      "source": [
        "# Tratamiento para variables categóricas\n",
        "cred_str_onehot = pd.get_dummies(cred_str)"
      ]
    },
    {
      "cell_type": "code",
      "execution_count": null,
      "metadata": {
        "id": "UjQYkT-EWegh"
      },
      "outputs": [],
      "source": [
        "# Unimos las subtablas y creamos nueva tabla\n",
        "cr_loan_prep = pd.concat([cred_num, cred_str_onehot], axis=1)\n",
        "cr_loan_prep.head()\n",
        "cr_loan_prep.shape"
      ]
    },
    {
      "cell_type": "code",
      "execution_count": null,
      "metadata": {
        "id": "q0QrRD33Wegh"
      },
      "outputs": [],
      "source": [
        "# Columnas de la tabla\n",
        "print(cr_loan_prep.columns)"
      ]
    },
    {
      "cell_type": "code",
      "execution_count": null,
      "metadata": {
        "id": "H3h8R2zRWegh"
      },
      "outputs": [],
      "source": [
        "# Crea x e y\n",
        "X = cr_loan_prep.drop('loan_status',axis=1)\n",
        "y = cr_loan_prep[['loan_status']]\n",
        "print(X.shape)\n",
        "print(y.shape)\n",
        "print(X.columns)\n",
        "print(y.columns)"
      ]
    },
    {
      "cell_type": "code",
      "execution_count": null,
      "metadata": {
        "id": "QFPOoDA3Wegi"
      },
      "outputs": [],
      "source": [
        "# Divide la muestra en train y test\n",
        "from sklearn.model_selection import train_test_split\n",
        "X_train, X_test, y_train, y_test = train_test_split(X, y, test_size=.4, random_state=123)"
      ]
    },
    {
      "cell_type": "code",
      "execution_count": null,
      "metadata": {
        "id": "-URVvruFWegi"
      },
      "outputs": [],
      "source": [
        "# Create and fit the logistic regression model\n",
        "from sklearn.linear_model import LogisticRegression\n",
        "clf_logistic = LogisticRegression(solver='lbfgs').fit(X_train, np.ravel(y_train))"
      ]
    },
    {
      "cell_type": "code",
      "execution_count": null,
      "metadata": {
        "id": "B4MTa42uWegi"
      },
      "outputs": [],
      "source": [
        "# Betas\n",
        "print(clf_logistic.coef_)\n",
        "# Intercepto\n",
        "print(clf_logistic.intercept_)"
      ]
    },
    {
      "cell_type": "code",
      "execution_count": null,
      "metadata": {
        "id": "TkPPnfB6Wegi"
      },
      "outputs": [],
      "source": [
        "# Generamos las predicciones con la muestra test\n",
        "preds = clf_logistic.predict_proba(X_test)\n",
        "\n",
        "# Un pequeño vistazo sobre los primeros 5 valores predichos y reales\n",
        "preds_df = pd.DataFrame(preds[:,1][0:10], columns = ['prob_default'])\n",
        "true_df = y_test.head()\n",
        "\n",
        "# Concatenar ambas vistas y comparar\n",
        "print(pd.concat([true_df.reset_index(drop = True), preds_df], axis = 1))"
      ]
    },
    {
      "cell_type": "code",
      "execution_count": null,
      "metadata": {
        "id": "-z7mcOUVWegi"
      },
      "outputs": [],
      "source": [
        "# Creamos nuestro dataframe de predicciones\n",
        "preds_df = pd.DataFrame(preds[:,1], columns = ['prob_default'])\n",
        "\n",
        "# Basado en un corte predice el default o no de un préstamo\n",
        "preds_df['loan_status'] = preds_df['prob_default'].apply(lambda x: 1 if x > 0.5 else 0)\n",
        "\n",
        "# Vemos cual es la cantidad de defaults basado en el corte\n",
        "print(preds_df['loan_status'].value_counts())"
      ]
    },
    {
      "cell_type": "code",
      "execution_count": null,
      "metadata": {
        "id": "tSGjWIhZWegi"
      },
      "outputs": [],
      "source": [
        "# Veamos un reporte que compara las predicciones con los defaults reales\n",
        "from sklearn.metrics import classification_report\n",
        "target_names = ['Non-Default', 'Default']\n",
        "print(classification_report(y_test, preds_df['loan_status'], target_names=target_names))"
      ]
    },
    {
      "cell_type": "code",
      "execution_count": null,
      "metadata": {
        "id": "ZXwz-szxWegj"
      },
      "outputs": [],
      "source": [
        "# Vista de la primera seccion de valores\n",
        "from sklearn.metrics import precision_recall_fscore_support\n",
        "print(precision_recall_fscore_support(y_test,preds_df['loan_status']))"
      ]
    },
    {
      "cell_type": "code",
      "execution_count": null,
      "metadata": {
        "id": "xU29n0BzWegj"
      },
      "outputs": [],
      "source": [
        "# Vista del Recall\n",
        "print(precision_recall_fscore_support(y_test,preds_df['loan_status'])[1])"
      ]
    },
    {
      "cell_type": "code",
      "execution_count": null,
      "metadata": {
        "id": "rl1ICEiJWegj"
      },
      "outputs": [],
      "source": [
        "# Calcula la precisión del modelo\n",
        "print(clf_logistic.score(X_test, y_test))"
      ]
    },
    {
      "cell_type": "code",
      "execution_count": null,
      "metadata": {
        "id": "7Vk7J4kDWegj"
      },
      "outputs": [],
      "source": [
        "# plotea la curva ROC\n",
        "import sklearn.metrics as sm\n",
        "prob_default = preds[:, 1]\n",
        "fallout, sensitivity, thresholds = sm.roc_curve(y_test, prob_default)\n",
        "plt.plot(fallout, sensitivity, color = 'darkorange')\n",
        "plt.plot([0, 1], [0, 1], linestyle='--')\n",
        "plt.show()"
      ]
    },
    {
      "cell_type": "code",
      "execution_count": null,
      "metadata": {
        "id": "MCdwYhIEWegj"
      },
      "outputs": [],
      "source": [
        "# Calcula AUC y muestra el valor\n",
        "auc = sm.roc_auc_score(y_test, prob_default)\n",
        "auc"
      ]
    },
    {
      "cell_type": "code",
      "execution_count": null,
      "metadata": {
        "id": "44PCOvnBWegj"
      },
      "outputs": [],
      "source": [
        "# Fija el corte en 0.5 y calcula el default\n",
        "preds_df['loan_status'] = preds_df['prob_default'].apply(lambda x: 1 if x > 0.5 else 0)\n",
        "preds_df.head()"
      ]
    },
    {
      "cell_type": "code",
      "execution_count": null,
      "metadata": {
        "id": "laO-CKECWegk"
      },
      "outputs": [],
      "source": [
        "# Muestra la matriz de confusión\n",
        "print(sm.confusion_matrix(y_test,preds_df['loan_status']))"
      ]
    },
    {
      "cell_type": "code",
      "execution_count": null,
      "metadata": {
        "id": "xq4rVkp_Wegk"
      },
      "outputs": [],
      "source": [
        "# Fija el corte en 0.4 y calcula el default\n",
        "preds_df['loan_status'] = preds_df['prob_default'].apply(lambda x: 1 if x > 0.4 else 0)"
      ]
    },
    {
      "cell_type": "code",
      "execution_count": null,
      "metadata": {
        "id": "jEUVljvRWegk"
      },
      "outputs": [],
      "source": [
        "# Muestra la matriz de confusión\n",
        "print(sm.confusion_matrix(y_test,preds_df['loan_status']))"
      ]
    },
    {
      "cell_type": "code",
      "execution_count": null,
      "metadata": {
        "id": "oUST_auZWegk"
      },
      "outputs": [],
      "source": [
        "# Número de defaults\n",
        "num_defaults = preds_df['loan_status'].value_counts()[1]\n",
        "\n",
        "# Calcula los Recall\n",
        "default_recall = precision_recall_fscore_support(y_test,preds_df['loan_status'])[1][1]\n",
        "\n",
        "#Calcula el monto promedio de préstamo\n",
        "avg_loan_amnt=X['loan_amnt'].mean()\n",
        "\n",
        "# Calculo el impacto estimado del recall\n",
        "print(avg_loan_amnt * num_defaults * (1 - default_recall))"
      ]
    },
    {
      "cell_type": "markdown",
      "metadata": {
        "id": "DoTJhfiyWegk"
      },
      "source": [
        "## Generamos un modelo alternativo: XGBoost\n",
        "Importante: El modelo solo trabaja con variables numéricas"
      ]
    },
    {
      "cell_type": "code",
      "execution_count": null,
      "metadata": {
        "id": "DK6c7Ii9Wegk"
      },
      "outputs": [],
      "source": [
        "# Entrenamos el modelo con el algoritmo XGBoost\n",
        "import xgboost as xgb\n",
        "clf_gbt = xgb.XGBClassifier().fit(X_train, np.ravel(y_train))\n",
        "\n",
        "# Generamos preddiciones\n",
        "gbt_preds = clf_gbt.predict_proba(X_test)\n",
        "gbt_preds"
      ]
    },
    {
      "cell_type": "code",
      "execution_count": null,
      "metadata": {
        "id": "6OBqxtOVWegl"
      },
      "outputs": [],
      "source": [
        "# Echamos una mirada a los primeros valores reales y de la prob default predicha\n",
        "gbt_preds_df = pd.DataFrame(gbt_preds[:,1][0:5], columns = ['prob_default'])\n",
        "true_df = y_test.head()\n",
        "\n",
        "# Genera la vista\n",
        "print(pd.concat([true_df.reset_index(drop = True), gbt_preds_df], axis = 1))"
      ]
    },
    {
      "cell_type": "code",
      "execution_count": null,
      "metadata": {
        "id": "0mK0pve7Wegl"
      },
      "outputs": [],
      "source": [
        "# Predict the labels for loan status\n",
        "gbt_preds2 = clf_gbt.predict(X_test)\n",
        "print(gbt_preds2)\n",
        "print(gbt_preds2.sum())"
      ]
    },
    {
      "cell_type": "code",
      "execution_count": null,
      "metadata": {
        "id": "_p6yS6i8Wegl"
      },
      "outputs": [],
      "source": [
        "# Print the classification report of the model\n",
        "target_names = ['Non-Default', 'Default']\n",
        "print(classification_report(y_test, gbt_preds2, target_names=target_names))"
      ]
    },
    {
      "cell_type": "code",
      "execution_count": null,
      "metadata": {
        "id": "E_aFDBSDWegl"
      },
      "outputs": [],
      "source": [
        "# Creamos nuestro dataframe de predicciones\n",
        "gbt_preds_df = pd.DataFrame(gbt_preds[:,1], columns = ['prob_default'])\n",
        "\n",
        "# Basado en un corte predice el default o no de un préstamo\n",
        "gbt_preds_df['loan_status'] = gbt_preds_df['prob_default'].apply(lambda x: 1 if x > 0.4 else 0)\n",
        "\n",
        "# Vemos cual es la cantidad de defaults basado en el corte\n",
        "print(gbt_preds_df['loan_status'].value_counts())\n",
        "gbt_preds_df.head()"
      ]
    },
    {
      "cell_type": "code",
      "execution_count": null,
      "metadata": {
        "id": "4ng3Dhf8Wegl"
      },
      "outputs": [],
      "source": [
        "# Veamos un reporte que compara las predicciones con los defaults reales\n",
        "from sklearn.metrics import classification_report\n",
        "target_names = ['Non-Default', 'Default']\n",
        "print(classification_report(y_test, gbt_preds_df['loan_status'], target_names=target_names))"
      ]
    },
    {
      "cell_type": "code",
      "execution_count": null,
      "metadata": {
        "id": "9dkU9K6lWegl"
      },
      "outputs": [],
      "source": [
        "# Importancia de cada variable\n",
        "print(clf_gbt.get_booster().get_score(importance_type = 'weight'))"
      ]
    },
    {
      "cell_type": "code",
      "execution_count": null,
      "metadata": {
        "id": "InZnYcrZWegm"
      },
      "outputs": [],
      "source": [
        "# Ploteo de la importancia de cada variable\n",
        "xgb.plot_importance(clf_gbt, importance_type = 'weight')\n",
        "plt.show()"
      ]
    },
    {
      "cell_type": "code",
      "execution_count": null,
      "metadata": {
        "id": "VVpKtoFFWegm"
      },
      "outputs": [],
      "source": [
        "# Setea el número de parcelas e iteraciones\n",
        "params={'objective':'binary:logistic','seed':123,'eval_metric':'auc'}\n",
        "\n",
        "# Construye la matriz DTrain para el XGBoost\n",
        "DTrain = xgb.DMatrix(X_train, label = y_train)\n",
        "\n",
        "# Crea un dataframe para ver los resultados del CV\n",
        "cv_df = xgb.cv(params,DTrain, num_boost_round = 500, nfold=10, shuffle = True)\n",
        "\n",
        "# Imprime los resultados del CV\n",
        "print(cv_df)"
      ]
    },
    {
      "cell_type": "code",
      "execution_count": null,
      "metadata": {
        "scrolled": false,
        "id": "JI436V61Wegm"
      },
      "outputs": [],
      "source": [
        "# Calcula la media del AUC scores en la muestra test\n",
        "print(np.mean(cv_df['test-auc-mean']))"
      ]
    },
    {
      "cell_type": "code",
      "execution_count": null,
      "metadata": {
        "id": "tguBeFYDWegm"
      },
      "outputs": [],
      "source": [
        "# Calcula el valor del CV para el modelo creado en el paso anterior\n",
        "from sklearn.model_selection import cross_val_score\n",
        "cv_scores = cross_val_score(clf_gbt, X_train, np.ravel(y_train), cv = 10)\n",
        "cv_scores"
      ]
    },
    {
      "cell_type": "code",
      "execution_count": null,
      "metadata": {
        "id": "lqrmuD_7Wegm"
      },
      "outputs": [],
      "source": [
        "# Plotea las auc promedio por cada iteracion\n",
        "plt.plot(cv_df['test-auc-mean'],label='test')\n",
        "plt.plot(cv_df['train-auc-mean'],label='train')\n",
        "plt.title('AUC Score Over 500 Iterations')\n",
        "plt.xlabel('Iteration Number')\n",
        "plt.ylabel('AUC Score')\n",
        "plt.legend()\n",
        "plt.show()"
      ]
    },
    {
      "cell_type": "code",
      "execution_count": null,
      "metadata": {
        "id": "-QCA2WQoWegm"
      },
      "outputs": [],
      "source": [
        "# Probar variando los hiperparametros\n",
        "gbt = xgb.XGBClassifier(learning_rate = 0.1, max_depth = 7)\n",
        "\n",
        "# Calcula el valor del CV para el modelo creado en el paso anterior\n",
        "cv_scores = cross_val_score(gbt, X_train, np.ravel(y_train), cv = 10)\n",
        "\n",
        "# Print the cross validation scores\n",
        "print(cv_scores)\n",
        "\n",
        "# Print the average accuracy and standard deviation of the scores\n",
        "print(\"Average accuracy: %0.2f (+/- %0.2f)\" % (cv_scores.mean(),\n",
        "                                              cv_scores.std() * 2))"
      ]
    },
    {
      "cell_type": "markdown",
      "metadata": {
        "id": "x4Yo5K0GWegn"
      },
      "source": [
        "## Probamos una tecnica de Balanceo de datos"
      ]
    },
    {
      "cell_type": "code",
      "execution_count": null,
      "metadata": {
        "scrolled": false,
        "id": "UNJBF2HpWegn"
      },
      "outputs": [],
      "source": [
        "X_y_train = pd.concat([X_train.reset_index(drop = True),\n",
        "                       y_train.reset_index(drop = True)], axis = 1)\n",
        "count_nondefault, count_default = X_y_train['loan_status'].value_counts()\n",
        "print(count_nondefault,count_default)"
      ]
    },
    {
      "cell_type": "code",
      "execution_count": null,
      "metadata": {
        "id": "9d6bThMmWegn"
      },
      "outputs": [],
      "source": [
        "# Separamos la muestra en 2 partes: defaults y no defaults\n",
        "nondefaults = X_y_train[X_y_train['loan_status'] == 0]\n",
        "defaults = X_y_train[X_y_train['loan_status'] == 1]\n",
        "print(nondefaults.shape)\n",
        "print(defaults.shape)"
      ]
    },
    {
      "cell_type": "code",
      "execution_count": null,
      "metadata": {
        "id": "JG9jlzwwWegn"
      },
      "outputs": [],
      "source": [
        "# Reducimos la muestra de nondefaults\n",
        "nondefaults_under = nondefaults.sample(count_default)\n",
        "print(nondefaults_under.shape)"
      ]
    },
    {
      "cell_type": "code",
      "execution_count": null,
      "metadata": {
        "id": "u8yVY_1LWegn"
      },
      "outputs": [],
      "source": [
        "# Unimos la muestra de defaults y la de nondefaults reducida\n",
        "X_y_train_under = pd.concat([nondefaults_under.reset_index(drop = True),\n",
        "                             defaults.reset_index(drop = True)], axis = 0)\n",
        "\n",
        "# Print the value counts for loan status\n",
        "print(X_y_train_under['loan_status'].value_counts())"
      ]
    },
    {
      "cell_type": "code",
      "execution_count": null,
      "metadata": {
        "id": "8f-qcio9Wegn"
      },
      "outputs": [],
      "source": [
        "#Entrena el modelo con la data balanceada\n",
        "X_train_under = X_y_train_under.drop('loan_status',axis=1)\n",
        "y_train_under = X_y_train_under[['loan_status']]\n",
        "clf_gbt_under = xgb.XGBClassifier().fit(X_train_under, np.ravel(y_train_under))\n",
        "gbt_preds_under = clf_gbt_under.predict_proba(X_test)\n",
        "gbt_preds_under2 = clf_gbt_under.predict(X_test)"
      ]
    },
    {
      "cell_type": "code",
      "execution_count": null,
      "metadata": {
        "id": "JRVgTcNEWego"
      },
      "outputs": [],
      "source": [
        "# Compara los rendimientos de ambos modelos\n",
        "target_names = ['Non-Default', 'Default']\n",
        "print(classification_report(y_test, gbt_preds2, target_names=target_names))\n",
        "print(classification_report(y_test, gbt_preds_under2, target_names=target_names))"
      ]
    },
    {
      "cell_type": "code",
      "execution_count": null,
      "metadata": {
        "id": "xzojIB4EWego"
      },
      "outputs": [],
      "source": [
        "# Compara las dos matrices de confusion\n",
        "print(sm.confusion_matrix(y_test,gbt_preds2))\n",
        "print(sm.confusion_matrix(y_test,gbt_preds_under2))"
      ]
    },
    {
      "cell_type": "code",
      "execution_count": null,
      "metadata": {
        "id": "cOpK3ZjZWego"
      },
      "outputs": [],
      "source": [
        "# Print and compare the AUC scores of the old and new models\n",
        "print(sm.roc_auc_score(y_test, gbt_preds2))\n",
        "print(sm.roc_auc_score(y_test, gbt_preds_under2))"
      ]
    },
    {
      "cell_type": "markdown",
      "metadata": {
        "id": "L2MAuXXqWego"
      },
      "source": [
        "## Compara Logit vs XGBoost"
      ]
    },
    {
      "cell_type": "code",
      "execution_count": null,
      "metadata": {
        "id": "MmqNuBcRWego"
      },
      "outputs": [],
      "source": [
        "# Reporte de Logit\n",
        "target_names = ['Non-Default', 'Default']\n",
        "print(classification_report(y_test, preds_df['loan_status'], target_names=target_names))\n",
        "\n",
        "# Reporte de XGBoost\n",
        "print(classification_report(y_test, gbt_preds_df['loan_status'], target_names=target_names))"
      ]
    },
    {
      "cell_type": "code",
      "execution_count": null,
      "metadata": {
        "id": "znnMrliiWegp"
      },
      "outputs": [],
      "source": [
        "# F-1 score del Logit\n",
        "print(precision_recall_fscore_support(y_test,preds_df['loan_status'], average = 'macro')[2])\n",
        "\n",
        "# F-1 score del XGBoost\n",
        "print(precision_recall_fscore_support(y_test,gbt_preds_df['loan_status'], average = 'macro')[2])"
      ]
    },
    {
      "cell_type": "markdown",
      "metadata": {
        "id": "MLElii5AWegp"
      },
      "source": [
        "## Comparativo ROC"
      ]
    },
    {
      "cell_type": "code",
      "execution_count": null,
      "metadata": {
        "id": "FdA0-7qrWegp"
      },
      "outputs": [],
      "source": [
        "# Componentes del ROC\n",
        "log_default = preds[:, 1]\n",
        "gbt_default = gbt_preds[:, 1]\n",
        "fallout_lr, sensitivity_lr, thresholds_lr = sm.roc_curve(y_test, log_default)\n",
        "fallout_gbt, sensitivity_gbt, thresholds_gbt = sm.roc_curve(y_test, gbt_default)"
      ]
    },
    {
      "cell_type": "code",
      "execution_count": null,
      "metadata": {
        "id": "QfBVeqR-Wegp"
      },
      "outputs": [],
      "source": [
        "# Graficar el ROC\n",
        "plt.plot(fallout_lr, sensitivity_lr, color = 'blue', label='%s' % 'Logistic Regression')\n",
        "plt.plot(fallout_gbt, sensitivity_gbt, color = 'green', label='%s' % 'XGBoost')\n",
        "plt.plot([0, 1], [0, 1], linestyle='--', label='%s' % 'Random Prediction')\n",
        "plt.title(\"ROC Chart for LR and GBT on the Probability of Default\")\n",
        "plt.xlabel('Fall-out')\n",
        "plt.ylabel('Sensitivity')\n",
        "plt.legend()\n",
        "plt.show()"
      ]
    },
    {
      "cell_type": "code",
      "execution_count": null,
      "metadata": {
        "id": "K_2sFqcjWegp"
      },
      "outputs": [],
      "source": [
        "# Print the logistic regression AUC with formatting\n",
        "print(\"Logistic Regression AUC Score: %0.2f\" % sm.roc_auc_score(y_test, log_default))\n",
        "\n",
        "# Print the gradient boosted tree AUC with formatting\n",
        "print(\"Gradient Boosted Tree AUC Score: %0.2f\" % sm.roc_auc_score(y_test, gbt_default))"
      ]
    },
    {
      "cell_type": "markdown",
      "metadata": {
        "id": "XPRVCDpgWegq"
      },
      "source": [
        "## Calibración"
      ]
    },
    {
      "cell_type": "code",
      "execution_count": null,
      "metadata": {
        "id": "plRjMT5cWegq"
      },
      "outputs": [],
      "source": [
        "#Crea valores para generar el gráfico\n",
        "import sklearn.calibration as smc\n",
        "frac_of_pos_lr, mean_pred_val_lr = smc.calibration_curve(y_test, log_default, n_bins=10)\n",
        "frac_of_pos_gbt, mean_pred_val_gbt = smc.calibration_curve(y_test, gbt_default, n_bins=10)"
      ]
    },
    {
      "cell_type": "code",
      "execution_count": null,
      "metadata": {
        "id": "2dpgldVIWegq"
      },
      "outputs": [],
      "source": [
        "# Genera un gráfico que compara la calibración de ambos modelos\n",
        "plt.plot([0, 1], [0, 1], 'k:', label='Perfectly calibrated')\n",
        "plt.plot(mean_pred_val_lr, frac_of_pos_lr,\n",
        "         's-', label='%s' % 'Logistic Regression')\n",
        "plt.plot(mean_pred_val_gbt, frac_of_pos_gbt,\n",
        "         's-', label='%s' % 'Gradient Boosted tree')\n",
        "plt.ylabel('Fraction of positives')\n",
        "plt.xlabel('Average Predicted Probability')\n",
        "plt.legend()\n",
        "plt.title('Calibration Curve')\n",
        "plt.show()"
      ]
    },
    {
      "cell_type": "markdown",
      "metadata": {
        "id": "7H93o8FFWegq"
      },
      "source": [
        "## Exporta datos para visualizarlos en Excel"
      ]
    },
    {
      "cell_type": "code",
      "execution_count": null,
      "metadata": {
        "id": "SmEcNJfEWegq"
      },
      "outputs": [],
      "source": [
        "# Genera Tabla final (Test)\n",
        "print(y_test.shape)\n",
        "print(preds_df.head())\n",
        "print(gbt_preds_df.head())\n",
        "df_test=pd.concat([y_test['loan_status'].reset_index(drop=True),\n",
        "                   preds_df['prob_default'].rename('lr_pd'),\n",
        "                   gbt_preds_df['prob_default'].rename('gbt_pd')],axis=1)\n",
        "df_test"
      ]
    },
    {
      "cell_type": "code",
      "execution_count": null,
      "metadata": {
        "id": "QeWP8dbYWegq"
      },
      "outputs": [],
      "source": [
        "# Genera Tabla final (Train), solo con el propósito de comparar estabilidad\n",
        "print(y_train.shape)\n",
        "print(X_train.shape)\n",
        "train_preds= clf_logistic.predict_proba(X_train)\n",
        "train_gbt_preds= clf_gbt.predict_proba(X_train)\n",
        "train_preds_df= pd.DataFrame(train_preds[:,1], columns = ['lr_pd'])\n",
        "train_gbt_preds_df= pd.DataFrame(train_gbt_preds[:,1], columns = ['gbt_pd'])"
      ]
    },
    {
      "cell_type": "code",
      "execution_count": null,
      "metadata": {
        "id": "rjwutVbxWegr"
      },
      "outputs": [],
      "source": [
        "print(train_preds_df.head())\n",
        "print(train_gbt_preds_df.head())\n",
        "df_train=pd.concat([y_train['loan_status'].reset_index(drop=True),\n",
        "                   train_preds_df['lr_pd'],\n",
        "                   train_gbt_preds_df['gbt_pd']],axis=1)\n",
        "df_train"
      ]
    },
    {
      "cell_type": "code",
      "execution_count": null,
      "metadata": {
        "id": "OXvvokivWegr"
      },
      "outputs": [],
      "source": [
        "#Exporta la tabla a Excel\n",
        "df_train.to_excel(r'C:\\Users\\johnn\\cr_loan_trainpreds.xlsx', sheet_name='train', index = False)\n",
        "df_test.to_excel (r'C:\\Users\\johnn\\cr_loan_testpreds.xlsx', sheet_name='test', index = False)"
      ]
    }
  ],
  "metadata": {
    "kernelspec": {
      "display_name": "Python 3",
      "language": "python",
      "name": "python3"
    },
    "language_info": {
      "codemirror_mode": {
        "name": "ipython",
        "version": 3
      },
      "file_extension": ".py",
      "mimetype": "text/x-python",
      "name": "python",
      "nbconvert_exporter": "python",
      "pygments_lexer": "ipython3",
      "version": "3.7.6"
    },
    "colab": {
      "provenance": [],
      "include_colab_link": true
    }
  },
  "nbformat": 4,
  "nbformat_minor": 0
}