{
  "cells": [
    {
      "cell_type": "markdown",
      "metadata": {
        "id": "view-in-github",
        "colab_type": "text"
      },
      "source": [
        "<a href=\"https://colab.research.google.com/github/jpantojaj/Credit_Scoring_Specialization/blob/main/Sesion_3_NaiveModel.ipynb\" target=\"_parent\"><img src=\"https://colab.research.google.com/assets/colab-badge.svg\" alt=\"Open In Colab\"/></a>"
      ]
    },
    {
      "cell_type": "markdown",
      "metadata": {
        "id": "Q0z4choGWegT"
      },
      "source": [
        "## Importamos Librerias y Datos"
      ]
    },
    {
      "cell_type": "code",
      "execution_count": null,
      "metadata": {
        "id": "Gps5bffaWegX"
      },
      "outputs": [],
      "source": [
        "#Importamos librerias\n",
        "import pandas as pd\n",
        "import numpy as np\n",
        "import matplotlib.pyplot as plt"
      ]
    },
    {
      "cell_type": "code",
      "execution_count": null,
      "metadata": {
        "id": "bxx-iUNFWegY",
        "outputId": "c8d59335-232f-4c58-9f43-0803d6f5dd08"
      },
      "outputs": [
        {
          "data": {
            "text/html": [
              "<div>\n",
              "<style scoped>\n",
              "    .dataframe tbody tr th:only-of-type {\n",
              "        vertical-align: middle;\n",
              "    }\n",
              "\n",
              "    .dataframe tbody tr th {\n",
              "        vertical-align: top;\n",
              "    }\n",
              "\n",
              "    .dataframe thead th {\n",
              "        text-align: right;\n",
              "    }\n",
              "</style>\n",
              "<table border=\"1\" class=\"dataframe\">\n",
              "  <thead>\n",
              "    <tr style=\"text-align: right;\">\n",
              "      <th></th>\n",
              "      <th>person_age</th>\n",
              "      <th>person_income</th>\n",
              "      <th>person_home_ownership</th>\n",
              "      <th>person_emp_length</th>\n",
              "      <th>loan_intent</th>\n",
              "      <th>loan_grade</th>\n",
              "      <th>loan_amnt</th>\n",
              "      <th>loan_int_rate</th>\n",
              "      <th>loan_status</th>\n",
              "      <th>loan_percent_income</th>\n",
              "      <th>cb_person_default_on_file</th>\n",
              "      <th>cb_person_cred_hist_length</th>\n",
              "    </tr>\n",
              "  </thead>\n",
              "  <tbody>\n",
              "    <tr>\n",
              "      <th>0</th>\n",
              "      <td>22</td>\n",
              "      <td>59000</td>\n",
              "      <td>RENT</td>\n",
              "      <td>123.0</td>\n",
              "      <td>PERSONAL</td>\n",
              "      <td>D</td>\n",
              "      <td>35000</td>\n",
              "      <td>16.02</td>\n",
              "      <td>1</td>\n",
              "      <td>0.59</td>\n",
              "      <td>Y</td>\n",
              "      <td>3</td>\n",
              "    </tr>\n",
              "    <tr>\n",
              "      <th>1</th>\n",
              "      <td>21</td>\n",
              "      <td>9600</td>\n",
              "      <td>OWN</td>\n",
              "      <td>5.0</td>\n",
              "      <td>EDUCATION</td>\n",
              "      <td>B</td>\n",
              "      <td>1000</td>\n",
              "      <td>11.14</td>\n",
              "      <td>0</td>\n",
              "      <td>0.10</td>\n",
              "      <td>N</td>\n",
              "      <td>2</td>\n",
              "    </tr>\n",
              "    <tr>\n",
              "      <th>2</th>\n",
              "      <td>25</td>\n",
              "      <td>9600</td>\n",
              "      <td>MORTGAGE</td>\n",
              "      <td>1.0</td>\n",
              "      <td>MEDICAL</td>\n",
              "      <td>C</td>\n",
              "      <td>5500</td>\n",
              "      <td>12.87</td>\n",
              "      <td>1</td>\n",
              "      <td>0.57</td>\n",
              "      <td>N</td>\n",
              "      <td>3</td>\n",
              "    </tr>\n",
              "    <tr>\n",
              "      <th>3</th>\n",
              "      <td>23</td>\n",
              "      <td>65500</td>\n",
              "      <td>RENT</td>\n",
              "      <td>4.0</td>\n",
              "      <td>MEDICAL</td>\n",
              "      <td>C</td>\n",
              "      <td>35000</td>\n",
              "      <td>15.23</td>\n",
              "      <td>1</td>\n",
              "      <td>0.53</td>\n",
              "      <td>N</td>\n",
              "      <td>2</td>\n",
              "    </tr>\n",
              "    <tr>\n",
              "      <th>4</th>\n",
              "      <td>24</td>\n",
              "      <td>54400</td>\n",
              "      <td>RENT</td>\n",
              "      <td>8.0</td>\n",
              "      <td>MEDICAL</td>\n",
              "      <td>C</td>\n",
              "      <td>35000</td>\n",
              "      <td>14.27</td>\n",
              "      <td>1</td>\n",
              "      <td>0.55</td>\n",
              "      <td>Y</td>\n",
              "      <td>4</td>\n",
              "    </tr>\n",
              "    <tr>\n",
              "      <th>...</th>\n",
              "      <td>...</td>\n",
              "      <td>...</td>\n",
              "      <td>...</td>\n",
              "      <td>...</td>\n",
              "      <td>...</td>\n",
              "      <td>...</td>\n",
              "      <td>...</td>\n",
              "      <td>...</td>\n",
              "      <td>...</td>\n",
              "      <td>...</td>\n",
              "      <td>...</td>\n",
              "      <td>...</td>\n",
              "    </tr>\n",
              "    <tr>\n",
              "      <th>32576</th>\n",
              "      <td>57</td>\n",
              "      <td>53000</td>\n",
              "      <td>MORTGAGE</td>\n",
              "      <td>1.0</td>\n",
              "      <td>PERSONAL</td>\n",
              "      <td>C</td>\n",
              "      <td>5800</td>\n",
              "      <td>13.16</td>\n",
              "      <td>0</td>\n",
              "      <td>0.11</td>\n",
              "      <td>N</td>\n",
              "      <td>30</td>\n",
              "    </tr>\n",
              "    <tr>\n",
              "      <th>32577</th>\n",
              "      <td>54</td>\n",
              "      <td>120000</td>\n",
              "      <td>MORTGAGE</td>\n",
              "      <td>4.0</td>\n",
              "      <td>PERSONAL</td>\n",
              "      <td>A</td>\n",
              "      <td>17625</td>\n",
              "      <td>7.49</td>\n",
              "      <td>0</td>\n",
              "      <td>0.15</td>\n",
              "      <td>N</td>\n",
              "      <td>19</td>\n",
              "    </tr>\n",
              "    <tr>\n",
              "      <th>32578</th>\n",
              "      <td>65</td>\n",
              "      <td>76000</td>\n",
              "      <td>RENT</td>\n",
              "      <td>3.0</td>\n",
              "      <td>HOMEIMPROVEMENT</td>\n",
              "      <td>B</td>\n",
              "      <td>35000</td>\n",
              "      <td>10.99</td>\n",
              "      <td>1</td>\n",
              "      <td>0.46</td>\n",
              "      <td>N</td>\n",
              "      <td>28</td>\n",
              "    </tr>\n",
              "    <tr>\n",
              "      <th>32579</th>\n",
              "      <td>56</td>\n",
              "      <td>150000</td>\n",
              "      <td>MORTGAGE</td>\n",
              "      <td>5.0</td>\n",
              "      <td>PERSONAL</td>\n",
              "      <td>B</td>\n",
              "      <td>15000</td>\n",
              "      <td>11.48</td>\n",
              "      <td>0</td>\n",
              "      <td>0.10</td>\n",
              "      <td>N</td>\n",
              "      <td>26</td>\n",
              "    </tr>\n",
              "    <tr>\n",
              "      <th>32580</th>\n",
              "      <td>66</td>\n",
              "      <td>42000</td>\n",
              "      <td>RENT</td>\n",
              "      <td>2.0</td>\n",
              "      <td>MEDICAL</td>\n",
              "      <td>B</td>\n",
              "      <td>6475</td>\n",
              "      <td>9.99</td>\n",
              "      <td>0</td>\n",
              "      <td>0.15</td>\n",
              "      <td>N</td>\n",
              "      <td>30</td>\n",
              "    </tr>\n",
              "  </tbody>\n",
              "</table>\n",
              "<p>32581 rows × 12 columns</p>\n",
              "</div>"
            ],
            "text/plain": [
              "       person_age  person_income person_home_ownership  person_emp_length  \\\n",
              "0              22          59000                  RENT              123.0   \n",
              "1              21           9600                   OWN                5.0   \n",
              "2              25           9600              MORTGAGE                1.0   \n",
              "3              23          65500                  RENT                4.0   \n",
              "4              24          54400                  RENT                8.0   \n",
              "...           ...            ...                   ...                ...   \n",
              "32576          57          53000              MORTGAGE                1.0   \n",
              "32577          54         120000              MORTGAGE                4.0   \n",
              "32578          65          76000                  RENT                3.0   \n",
              "32579          56         150000              MORTGAGE                5.0   \n",
              "32580          66          42000                  RENT                2.0   \n",
              "\n",
              "           loan_intent loan_grade  loan_amnt  loan_int_rate  loan_status  \\\n",
              "0             PERSONAL          D      35000          16.02            1   \n",
              "1            EDUCATION          B       1000          11.14            0   \n",
              "2              MEDICAL          C       5500          12.87            1   \n",
              "3              MEDICAL          C      35000          15.23            1   \n",
              "4              MEDICAL          C      35000          14.27            1   \n",
              "...                ...        ...        ...            ...          ...   \n",
              "32576         PERSONAL          C       5800          13.16            0   \n",
              "32577         PERSONAL          A      17625           7.49            0   \n",
              "32578  HOMEIMPROVEMENT          B      35000          10.99            1   \n",
              "32579         PERSONAL          B      15000          11.48            0   \n",
              "32580          MEDICAL          B       6475           9.99            0   \n",
              "\n",
              "       loan_percent_income cb_person_default_on_file  \\\n",
              "0                     0.59                         Y   \n",
              "1                     0.10                         N   \n",
              "2                     0.57                         N   \n",
              "3                     0.53                         N   \n",
              "4                     0.55                         Y   \n",
              "...                    ...                       ...   \n",
              "32576                 0.11                         N   \n",
              "32577                 0.15                         N   \n",
              "32578                 0.46                         N   \n",
              "32579                 0.10                         N   \n",
              "32580                 0.15                         N   \n",
              "\n",
              "       cb_person_cred_hist_length  \n",
              "0                               3  \n",
              "1                               2  \n",
              "2                               3  \n",
              "3                               2  \n",
              "4                               4  \n",
              "...                           ...  \n",
              "32576                          30  \n",
              "32577                          19  \n",
              "32578                          28  \n",
              "32579                          26  \n",
              "32580                          30  \n",
              "\n",
              "[32581 rows x 12 columns]"
            ]
          },
          "execution_count": 58,
          "metadata": {},
          "output_type": "execute_result"
        }
      ],
      "source": [
        "cr_loan = pd.read_excel('cr_loan2.xlsx',sheet_name='cr_loan2')\n",
        "cr_loan"
      ]
    },
    {
      "cell_type": "markdown",
      "metadata": {
        "id": "Bmw3vEElWegZ"
      },
      "source": [
        "## Exploramos la data"
      ]
    },
    {
      "cell_type": "code",
      "execution_count": null,
      "metadata": {
        "id": "qq-dUQ_aWegZ",
        "outputId": "22649598-8a65-4cb1-9b1e-950125b7be02"
      },
      "outputs": [
        {
          "name": "stdout",
          "output_type": "stream",
          "text": [
            "<class 'pandas.core.frame.DataFrame'>\n",
            "RangeIndex: 32581 entries, 0 to 32580\n",
            "Data columns (total 12 columns):\n",
            " #   Column                      Non-Null Count  Dtype  \n",
            "---  ------                      --------------  -----  \n",
            " 0   person_age                  32581 non-null  int64  \n",
            " 1   person_income               32581 non-null  int64  \n",
            " 2   person_home_ownership       32581 non-null  object \n",
            " 3   person_emp_length           31686 non-null  float64\n",
            " 4   loan_intent                 32581 non-null  object \n",
            " 5   loan_grade                  32581 non-null  object \n",
            " 6   loan_amnt                   32581 non-null  int64  \n",
            " 7   loan_int_rate               29465 non-null  float64\n",
            " 8   loan_status                 32581 non-null  int64  \n",
            " 9   loan_percent_income         32581 non-null  float64\n",
            " 10  cb_person_default_on_file   32581 non-null  object \n",
            " 11  cb_person_cred_hist_length  32581 non-null  int64  \n",
            "dtypes: float64(3), int64(5), object(4)\n",
            "memory usage: 3.0+ MB\n"
          ]
        }
      ],
      "source": [
        "cr_loan.info()"
      ]
    },
    {
      "cell_type": "code",
      "execution_count": null,
      "metadata": {
        "id": "ZOyL006RWega",
        "outputId": "7a06680f-c47d-4a50-f4dc-43455b5303f2"
      },
      "outputs": [
        {
          "data": {
            "text/plain": [
              "(32581, 12)"
            ]
          },
          "execution_count": 60,
          "metadata": {},
          "output_type": "execute_result"
        }
      ],
      "source": [
        "cr_loan.shape"
      ]
    },
    {
      "cell_type": "code",
      "execution_count": null,
      "metadata": {
        "id": "gCPGoWvMWega",
        "outputId": "0a43a59d-909c-4598-831e-9600a4771868"
      },
      "outputs": [
        {
          "data": {
            "text/html": [
              "<div>\n",
              "<style scoped>\n",
              "    .dataframe tbody tr th:only-of-type {\n",
              "        vertical-align: middle;\n",
              "    }\n",
              "\n",
              "    .dataframe tbody tr th {\n",
              "        vertical-align: top;\n",
              "    }\n",
              "\n",
              "    .dataframe thead th {\n",
              "        text-align: right;\n",
              "    }\n",
              "</style>\n",
              "<table border=\"1\" class=\"dataframe\">\n",
              "  <thead>\n",
              "    <tr style=\"text-align: right;\">\n",
              "      <th></th>\n",
              "      <th>person_age</th>\n",
              "      <th>person_income</th>\n",
              "      <th>person_home_ownership</th>\n",
              "      <th>person_emp_length</th>\n",
              "      <th>loan_intent</th>\n",
              "      <th>loan_grade</th>\n",
              "      <th>loan_amnt</th>\n",
              "      <th>loan_int_rate</th>\n",
              "      <th>loan_status</th>\n",
              "      <th>loan_percent_income</th>\n",
              "      <th>cb_person_default_on_file</th>\n",
              "      <th>cb_person_cred_hist_length</th>\n",
              "    </tr>\n",
              "  </thead>\n",
              "  <tbody>\n",
              "    <tr>\n",
              "      <th>0</th>\n",
              "      <td>22</td>\n",
              "      <td>59000</td>\n",
              "      <td>RENT</td>\n",
              "      <td>123.0</td>\n",
              "      <td>PERSONAL</td>\n",
              "      <td>D</td>\n",
              "      <td>35000</td>\n",
              "      <td>16.02</td>\n",
              "      <td>1</td>\n",
              "      <td>0.59</td>\n",
              "      <td>Y</td>\n",
              "      <td>3</td>\n",
              "    </tr>\n",
              "    <tr>\n",
              "      <th>1</th>\n",
              "      <td>21</td>\n",
              "      <td>9600</td>\n",
              "      <td>OWN</td>\n",
              "      <td>5.0</td>\n",
              "      <td>EDUCATION</td>\n",
              "      <td>B</td>\n",
              "      <td>1000</td>\n",
              "      <td>11.14</td>\n",
              "      <td>0</td>\n",
              "      <td>0.10</td>\n",
              "      <td>N</td>\n",
              "      <td>2</td>\n",
              "    </tr>\n",
              "    <tr>\n",
              "      <th>2</th>\n",
              "      <td>25</td>\n",
              "      <td>9600</td>\n",
              "      <td>MORTGAGE</td>\n",
              "      <td>1.0</td>\n",
              "      <td>MEDICAL</td>\n",
              "      <td>C</td>\n",
              "      <td>5500</td>\n",
              "      <td>12.87</td>\n",
              "      <td>1</td>\n",
              "      <td>0.57</td>\n",
              "      <td>N</td>\n",
              "      <td>3</td>\n",
              "    </tr>\n",
              "    <tr>\n",
              "      <th>3</th>\n",
              "      <td>23</td>\n",
              "      <td>65500</td>\n",
              "      <td>RENT</td>\n",
              "      <td>4.0</td>\n",
              "      <td>MEDICAL</td>\n",
              "      <td>C</td>\n",
              "      <td>35000</td>\n",
              "      <td>15.23</td>\n",
              "      <td>1</td>\n",
              "      <td>0.53</td>\n",
              "      <td>N</td>\n",
              "      <td>2</td>\n",
              "    </tr>\n",
              "    <tr>\n",
              "      <th>4</th>\n",
              "      <td>24</td>\n",
              "      <td>54400</td>\n",
              "      <td>RENT</td>\n",
              "      <td>8.0</td>\n",
              "      <td>MEDICAL</td>\n",
              "      <td>C</td>\n",
              "      <td>35000</td>\n",
              "      <td>14.27</td>\n",
              "      <td>1</td>\n",
              "      <td>0.55</td>\n",
              "      <td>Y</td>\n",
              "      <td>4</td>\n",
              "    </tr>\n",
              "    <tr>\n",
              "      <th>5</th>\n",
              "      <td>21</td>\n",
              "      <td>9900</td>\n",
              "      <td>OWN</td>\n",
              "      <td>2.0</td>\n",
              "      <td>VENTURE</td>\n",
              "      <td>A</td>\n",
              "      <td>2500</td>\n",
              "      <td>7.14</td>\n",
              "      <td>1</td>\n",
              "      <td>0.25</td>\n",
              "      <td>N</td>\n",
              "      <td>2</td>\n",
              "    </tr>\n",
              "    <tr>\n",
              "      <th>6</th>\n",
              "      <td>26</td>\n",
              "      <td>77100</td>\n",
              "      <td>RENT</td>\n",
              "      <td>8.0</td>\n",
              "      <td>EDUCATION</td>\n",
              "      <td>B</td>\n",
              "      <td>35000</td>\n",
              "      <td>12.42</td>\n",
              "      <td>1</td>\n",
              "      <td>0.45</td>\n",
              "      <td>N</td>\n",
              "      <td>3</td>\n",
              "    </tr>\n",
              "    <tr>\n",
              "      <th>7</th>\n",
              "      <td>24</td>\n",
              "      <td>78956</td>\n",
              "      <td>RENT</td>\n",
              "      <td>5.0</td>\n",
              "      <td>MEDICAL</td>\n",
              "      <td>B</td>\n",
              "      <td>35000</td>\n",
              "      <td>11.11</td>\n",
              "      <td>1</td>\n",
              "      <td>0.44</td>\n",
              "      <td>N</td>\n",
              "      <td>4</td>\n",
              "    </tr>\n",
              "    <tr>\n",
              "      <th>8</th>\n",
              "      <td>24</td>\n",
              "      <td>83000</td>\n",
              "      <td>RENT</td>\n",
              "      <td>8.0</td>\n",
              "      <td>PERSONAL</td>\n",
              "      <td>A</td>\n",
              "      <td>35000</td>\n",
              "      <td>8.90</td>\n",
              "      <td>1</td>\n",
              "      <td>0.42</td>\n",
              "      <td>N</td>\n",
              "      <td>2</td>\n",
              "    </tr>\n",
              "    <tr>\n",
              "      <th>9</th>\n",
              "      <td>21</td>\n",
              "      <td>10000</td>\n",
              "      <td>OWN</td>\n",
              "      <td>6.0</td>\n",
              "      <td>VENTURE</td>\n",
              "      <td>D</td>\n",
              "      <td>1600</td>\n",
              "      <td>14.74</td>\n",
              "      <td>1</td>\n",
              "      <td>0.16</td>\n",
              "      <td>N</td>\n",
              "      <td>3</td>\n",
              "    </tr>\n",
              "  </tbody>\n",
              "</table>\n",
              "</div>"
            ],
            "text/plain": [
              "   person_age  person_income person_home_ownership  person_emp_length  \\\n",
              "0          22          59000                  RENT              123.0   \n",
              "1          21           9600                   OWN                5.0   \n",
              "2          25           9600              MORTGAGE                1.0   \n",
              "3          23          65500                  RENT                4.0   \n",
              "4          24          54400                  RENT                8.0   \n",
              "5          21           9900                   OWN                2.0   \n",
              "6          26          77100                  RENT                8.0   \n",
              "7          24          78956                  RENT                5.0   \n",
              "8          24          83000                  RENT                8.0   \n",
              "9          21          10000                   OWN                6.0   \n",
              "\n",
              "  loan_intent loan_grade  loan_amnt  loan_int_rate  loan_status  \\\n",
              "0    PERSONAL          D      35000          16.02            1   \n",
              "1   EDUCATION          B       1000          11.14            0   \n",
              "2     MEDICAL          C       5500          12.87            1   \n",
              "3     MEDICAL          C      35000          15.23            1   \n",
              "4     MEDICAL          C      35000          14.27            1   \n",
              "5     VENTURE          A       2500           7.14            1   \n",
              "6   EDUCATION          B      35000          12.42            1   \n",
              "7     MEDICAL          B      35000          11.11            1   \n",
              "8    PERSONAL          A      35000           8.90            1   \n",
              "9     VENTURE          D       1600          14.74            1   \n",
              "\n",
              "   loan_percent_income cb_person_default_on_file  cb_person_cred_hist_length  \n",
              "0                 0.59                         Y                           3  \n",
              "1                 0.10                         N                           2  \n",
              "2                 0.57                         N                           3  \n",
              "3                 0.53                         N                           2  \n",
              "4                 0.55                         Y                           4  \n",
              "5                 0.25                         N                           2  \n",
              "6                 0.45                         N                           3  \n",
              "7                 0.44                         N                           4  \n",
              "8                 0.42                         N                           2  \n",
              "9                 0.16                         N                           3  "
            ]
          },
          "execution_count": 61,
          "metadata": {},
          "output_type": "execute_result"
        }
      ],
      "source": [
        "cr_loan.head(10)"
      ]
    },
    {
      "cell_type": "code",
      "execution_count": null,
      "metadata": {
        "id": "ZD-_7KFoWegb",
        "outputId": "018d9fa6-55ac-4bf6-a232-8cac4f0651af"
      },
      "outputs": [
        {
          "data": {
            "image/png": "[encoded data removed]",
            "text/plain": [
              "<Figure size 432x288 with 1 Axes>"
            ]
          },
          "metadata": {
            "needs_background": "light"
          },
          "output_type": "display_data"
        }
      ],
      "source": [
        "# Histograma de Montos\n",
        "n, bins, patches = plt.hist(x=cr_loan['loan_amnt'], bins='auto', color='blue',alpha=0.7, rwidth=0.85)\n",
        "plt.xlabel(\"Loan Amount\")\n",
        "plt.show()"
      ]
    },
    {
      "cell_type": "code",
      "execution_count": null,
      "metadata": {
        "id": "gy6LQGmfWegb",
        "outputId": "985fa355-435b-4359-eabe-04bf98d9056d"
      },
      "outputs": [
        {
          "data": {
            "image/png": "[encoded data removed]",
            "text/plain": [
              "<Figure size 432x288 with 1 Axes>"
            ]
          },
          "metadata": {
            "needs_background": "light"
          },
          "output_type": "display_data"
        }
      ],
      "source": [
        "# Histograma de Edad\n",
        "n, bins, patches = plt.hist(x=cr_loan['person_age'], bins='auto', color='blue',alpha=0.7, rwidth=0.85)\n",
        "plt.xlabel(\"Person Age\")\n",
        "plt.show()"
      ]
    },
    {
      "cell_type": "code",
      "execution_count": null,
      "metadata": {
        "id": "NBJDk1BkWegb",
        "outputId": "bd95e516-5bd2-4894-ca26-acc7b134632a"
      },
      "outputs": [
        {
          "data": {
            "image/png": "[encoded data removed]",
            "text/plain": [
              "<Figure size 432x288 with 1 Axes>"
            ]
          },
          "metadata": {
            "needs_background": "light"
          },
          "output_type": "display_data"
        }
      ],
      "source": [
        "# Plotear la Edad contra el Ingreso\n",
        "plt.scatter(cr_loan['person_income'], cr_loan['person_age'],c='blue', alpha=0.5)\n",
        "plt.xlabel('Personal Income')\n",
        "plt.ylabel('Persone Age')\n",
        "plt.show()"
      ]
    },
    {
      "cell_type": "code",
      "execution_count": null,
      "metadata": {
        "id": "TIl-zV-oWegc",
        "outputId": "9e6dac8f-3345-4340-81e4-669e7d4db318"
      },
      "outputs": [
        {
          "name": "stdout",
          "output_type": "stream",
          "text": [
            "loan_status            0     1    All\n",
            "loan_intent                          \n",
            "DEBTCONSOLIDATION   3722  1490   5212\n",
            "EDUCATION           5342  1111   6453\n",
            "HOMEIMPROVEMENT     2664   941   3605\n",
            "MEDICAL             4450  1621   6071\n",
            "PERSONAL            4423  1098   5521\n",
            "VENTURE             4872   847   5719\n",
            "All                25473  7108  32581\n"
          ]
        }
      ],
      "source": [
        "# Tabla cruzada de Destino y Situación del Préstamo\n",
        "print(pd.crosstab(cr_loan['loan_intent'], cr_loan['loan_status'], margins = True))"
      ]
    },
    {
      "cell_type": "code",
      "execution_count": null,
      "metadata": {
        "id": "OhBWHpN0Wegc",
        "outputId": "5d0a5387-b92b-4417-f563-da8f235da0bb"
      },
      "outputs": [
        {
          "name": "stdout",
          "output_type": "stream",
          "text": [
            "loan_status               0                                 1             \\\n",
            "loan_grade                A     B     C    D    E   F  G    A     B    C   \n",
            "person_home_ownership                                                      \n",
            "MORTGAGE               5219  3729  1934  658  178  36  0  239   324  321   \n",
            "OTHER                    23    29    11    9    2   0  0    3     5    6   \n",
            "OWN                     860   770   464  264   26   7  0   66    34   31   \n",
            "RENT                   3602  4222  2710  554  137  28  1  765  1338  981   \n",
            "\n",
            "loan_status                               \n",
            "loan_grade                D    E   F   G  \n",
            "person_home_ownership                     \n",
            "MORTGAGE                553  161  61  31  \n",
            "OTHER                    11    6   2   0  \n",
            "OWN                      18   31   8   5  \n",
            "RENT                   1559  423  99  27  \n"
          ]
        }
      ],
      "source": [
        "# Tabla cruzada de tipo de Tipo de Vivienda, Situación y Calificación del Préstamo\n",
        "print(pd.crosstab(cr_loan['person_home_ownership'],[cr_loan['loan_status'],cr_loan['loan_grade']]))"
      ]
    },
    {
      "cell_type": "code",
      "execution_count": null,
      "metadata": {
        "id": "rUldK8yRWegc",
        "outputId": "9dceddd8-2dd1-4f5c-d948-aaa0a12c2ca8"
      },
      "outputs": [
        {
          "name": "stdout",
          "output_type": "stream",
          "text": [
            "loan_status                   0         1\n",
            "person_home_ownership                    \n",
            "MORTGAGE               0.146504  0.184882\n",
            "OTHER                  0.143784  0.300000\n",
            "OWN                    0.180013  0.297358\n",
            "RENT                   0.144611  0.264859\n"
          ]
        }
      ],
      "source": [
        "# Tabla cruzada de tipo de vivienda, situación del préstamo y porcentaje de préstamo/ingreso\n",
        "print(pd.crosstab(cr_loan['person_home_ownership'], cr_loan['loan_status'],\n",
        "              values=cr_loan['loan_percent_income'], aggfunc='mean'))"
      ]
    },
    {
      "cell_type": "code",
      "execution_count": null,
      "metadata": {
        "id": "TyDo5B46Wegd",
        "outputId": "93d332b5-c681-4231-eb5d-907229a1f505"
      },
      "outputs": [
        {
          "data": {
            "image/png": "[encoded data removed]",
            "text/plain": [
              "<Figure size 432x288 with 1 Axes>"
            ]
          },
          "metadata": {
            "needs_background": "light"
          },
          "output_type": "display_data"
        }
      ],
      "source": [
        "# Gráfico de Cajas de porcentaje préstamo/ingreso por Situación del préstamo\n",
        "cr_loan.boxplot(column = ['loan_percent_income'], by = 'loan_status')\n",
        "plt.title('Average Percent Income by Loan Status')\n",
        "plt.suptitle('')\n",
        "plt.show()"
      ]
    },
    {
      "cell_type": "code",
      "execution_count": null,
      "metadata": {
        "id": "QYixghnxWegd",
        "outputId": "7964d2c3-9842-4abe-9496-45062a975b99"
      },
      "outputs": [
        {
          "name": "stdout",
          "output_type": "stream",
          "text": [
            "person_home_ownership  MORTGAGE  OTHER   OWN   RENT\n",
            "loan_status                                        \n",
            "0                         123.0   24.0  31.0   41.0\n",
            "1                          34.0   11.0  17.0  123.0\n"
          ]
        }
      ],
      "source": [
        "# Tabla cruzada de años de empleo (máximo) según situación del préstamo y tipo de vivienda\n",
        "print(pd.crosstab(cr_loan['loan_status'],cr_loan['person_home_ownership'],\n",
        "        values=cr_loan['person_emp_length'], aggfunc='max'))"
      ]
    },
    {
      "cell_type": "markdown",
      "metadata": {
        "id": "QoUiDNRnWegd"
      },
      "source": [
        "## Depuramos la data"
      ]
    },
    {
      "cell_type": "code",
      "execution_count": null,
      "metadata": {
        "id": "nA3LaIjRWegd",
        "outputId": "add37f0c-9d83-4587-f54f-a93e974ac188"
      },
      "outputs": [
        {
          "data": {
            "text/plain": [
              "(2,)"
            ]
          },
          "execution_count": 70,
          "metadata": {},
          "output_type": "execute_result"
        }
      ],
      "source": [
        "# Crear arreglo de indices para marcar años de empleo mayores a 60\n",
        "indices = cr_loan[cr_loan['person_emp_length'] > 60].index\n",
        "indices.shape"
      ]
    },
    {
      "cell_type": "code",
      "execution_count": null,
      "metadata": {
        "id": "BUQSUY3RWegd",
        "outputId": "4a1986d8-b527-447b-b4f5-0df7d1840d83"
      },
      "outputs": [
        {
          "data": {
            "text/plain": [
              "(32579, 12)"
            ]
          },
          "execution_count": 71,
          "metadata": {},
          "output_type": "execute_result"
        }
      ],
      "source": [
        "# Borrar datos atípicos\n",
        "cr_loan_new = cr_loan.drop(indices)\n",
        "cr_loan_new.shape"
      ]
    },
    {
      "cell_type": "code",
      "execution_count": null,
      "metadata": {
        "id": "rtCvsQYBWege",
        "outputId": "de7aaf5e-ffa0-4020-f6b9-f514f9440557"
      },
      "outputs": [
        {
          "name": "stdout",
          "output_type": "stream",
          "text": [
            "0.0\n",
            "41.0\n"
          ]
        }
      ],
      "source": [
        "#Min y max de antiguedad del empleo\n",
        "print(cr_loan_new['person_emp_length'].min())\n",
        "print(cr_loan_new['person_emp_length'].max())"
      ]
    },
    {
      "cell_type": "code",
      "execution_count": null,
      "metadata": {
        "id": "lrGjYQOQWege",
        "outputId": "3ce78c11-b013-43f8-a57f-c8e4c9e30619"
      },
      "outputs": [
        {
          "name": "stdout",
          "output_type": "stream",
          "text": [
            "                           min                      max                  \n",
            "person_home_ownership MORTGAGE OTHER  OWN RENT MORTGAGE OTHER   OWN  RENT\n",
            "loan_status                                                              \n",
            "0                          0.0   0.0  0.0  0.0     38.0  24.0  31.0  41.0\n",
            "1                          0.0   0.0  0.0  0.0     34.0  11.0  17.0  27.0\n"
          ]
        }
      ],
      "source": [
        "# Tabla cruzada de años de empleo (máximo) según situación del préstamo y tipo de vivienda\n",
        "print(pd.crosstab(cr_loan_new['loan_status'],cr_loan_new['person_home_ownership'],\n",
        "            values=cr_loan_new['person_emp_length'], aggfunc=['min','max']))"
      ]
    },
    {
      "cell_type": "code",
      "execution_count": null,
      "metadata": {
        "id": "d_x-Lbs6Wege",
        "outputId": "c6e9c619-e4c3-4633-88d5-2b5e64af55fc"
      },
      "outputs": [
        {
          "data": {
            "image/png": "[encoded data removed]",
            "text/plain": [
              "<Figure size 432x288 with 1 Axes>"
            ]
          },
          "metadata": {
            "needs_background": "light"
          },
          "output_type": "display_data"
        }
      ],
      "source": [
        "# Plotear la edad y el monto\n",
        "plt.scatter(cr_loan_new['person_age'], cr_loan_new['loan_amnt'], c='blue', alpha=0.5)\n",
        "plt.xlabel(\"Person Age\")\n",
        "plt.ylabel(\"Loan Amount\")\n",
        "plt.show()"
      ]
    },
    {
      "cell_type": "code",
      "execution_count": null,
      "metadata": {
        "id": "fgPkyLXlWege",
        "outputId": "13e3de29-a139-47dc-e4e0-3897c9190a07"
      },
      "outputs": [
        {
          "data": {
            "text/plain": [
              "(5,)"
            ]
          },
          "execution_count": 75,
          "metadata": {},
          "output_type": "execute_result"
        }
      ],
      "source": [
        "# Marca los registros con outliers en la variable edad\n",
        "indices2=cr_loan_new[cr_loan_new['person_age'] > 100].index\n",
        "indices2.shape"
      ]
    },
    {
      "cell_type": "code",
      "execution_count": null,
      "metadata": {
        "id": "hY9AsAsJWege",
        "outputId": "441fbf15-e767-42d4-a832-22d6ca13c6ef"
      },
      "outputs": [
        {
          "data": {
            "text/plain": [
              "(32574, 12)"
            ]
          },
          "execution_count": 76,
          "metadata": {},
          "output_type": "execute_result"
        }
      ],
      "source": [
        "# Borra datos atipicos en edad\n",
        "cr_loan_new2 = cr_loan_new.drop(indices2)\n",
        "cr_loan_new2.shape"
      ]
    },
    {
      "cell_type": "code",
      "execution_count": null,
      "metadata": {
        "id": "ftzolgSVWege",
        "outputId": "1f4023da-e059-42cc-990a-83032dd64d88"
      },
      "outputs": [
        {
          "data": {
            "image/png": "[encoded data removed]",
            "text/plain": [
              "<Figure size 432x288 with 1 Axes>"
            ]
          },
          "metadata": {
            "needs_background": "light"
          },
          "output_type": "display_data"
        }
      ],
      "source": [
        "# Ploteo de Edad e Interes del Préstamo\n",
        "import matplotlib\n",
        "colors = [\"blue\",\"red\"]\n",
        "plt.scatter(cr_loan_new2['person_age'], cr_loan_new2['loan_int_rate'],\n",
        "            c = cr_loan_new2['loan_status'],\n",
        "            cmap = matplotlib.colors.ListedColormap(colors),\n",
        "            alpha=0.5)\n",
        "plt.xlabel(\"Person Age\")\n",
        "plt.ylabel(\"Loan Interest Rate\")\n",
        "plt.show()"
      ]
    },
    {
      "cell_type": "code",
      "execution_count": null,
      "metadata": {
        "id": "x8Rp4bOFWege",
        "outputId": "60d28394-b841-49ce-c6a6-99015a7c387b"
      },
      "outputs": [
        {
          "data": {
            "text/plain": [
              "Index(['person_emp_length', 'loan_int_rate'], dtype='object')"
            ]
          },
          "execution_count": 78,
          "metadata": {},
          "output_type": "execute_result"
        }
      ],
      "source": [
        "# Array de valores nulos\n",
        "cr_loan_new2.columns[cr_loan_new2.isnull().any()]"
      ]
    },
    {
      "cell_type": "code",
      "execution_count": null,
      "metadata": {
        "id": "Fv5T02OIWegf",
        "outputId": "0cca711a-28a7-4c24-f3c7-d152c3ec0e58"
      },
      "outputs": [
        {
          "data": {
            "text/html": [
              "<div>\n",
              "<style scoped>\n",
              "    .dataframe tbody tr th:only-of-type {\n",
              "        vertical-align: middle;\n",
              "    }\n",
              "\n",
              "    .dataframe tbody tr th {\n",
              "        vertical-align: top;\n",
              "    }\n",
              "\n",
              "    .dataframe thead th {\n",
              "        text-align: right;\n",
              "    }\n",
              "</style>\n",
              "<table border=\"1\" class=\"dataframe\">\n",
              "  <thead>\n",
              "    <tr style=\"text-align: right;\">\n",
              "      <th></th>\n",
              "      <th>person_age</th>\n",
              "      <th>person_income</th>\n",
              "      <th>person_home_ownership</th>\n",
              "      <th>person_emp_length</th>\n",
              "      <th>loan_intent</th>\n",
              "      <th>loan_grade</th>\n",
              "      <th>loan_amnt</th>\n",
              "      <th>loan_int_rate</th>\n",
              "      <th>loan_status</th>\n",
              "      <th>loan_percent_income</th>\n",
              "      <th>cb_person_default_on_file</th>\n",
              "      <th>cb_person_cred_hist_length</th>\n",
              "    </tr>\n",
              "  </thead>\n",
              "  <tbody>\n",
              "    <tr>\n",
              "      <th>105</th>\n",
              "      <td>22</td>\n",
              "      <td>12600</td>\n",
              "      <td>MORTGAGE</td>\n",
              "      <td>NaN</td>\n",
              "      <td>PERSONAL</td>\n",
              "      <td>A</td>\n",
              "      <td>2000</td>\n",
              "      <td>5.42</td>\n",
              "      <td>1</td>\n",
              "      <td>0.16</td>\n",
              "      <td>N</td>\n",
              "      <td>4</td>\n",
              "    </tr>\n",
              "    <tr>\n",
              "      <th>222</th>\n",
              "      <td>24</td>\n",
              "      <td>185000</td>\n",
              "      <td>MORTGAGE</td>\n",
              "      <td>NaN</td>\n",
              "      <td>EDUCATION</td>\n",
              "      <td>B</td>\n",
              "      <td>35000</td>\n",
              "      <td>12.42</td>\n",
              "      <td>0</td>\n",
              "      <td>0.19</td>\n",
              "      <td>N</td>\n",
              "      <td>2</td>\n",
              "    </tr>\n",
              "    <tr>\n",
              "      <th>379</th>\n",
              "      <td>24</td>\n",
              "      <td>16800</td>\n",
              "      <td>MORTGAGE</td>\n",
              "      <td>NaN</td>\n",
              "      <td>DEBTCONSOLIDATION</td>\n",
              "      <td>A</td>\n",
              "      <td>3900</td>\n",
              "      <td>NaN</td>\n",
              "      <td>1</td>\n",
              "      <td>0.23</td>\n",
              "      <td>N</td>\n",
              "      <td>3</td>\n",
              "    </tr>\n",
              "    <tr>\n",
              "      <th>407</th>\n",
              "      <td>25</td>\n",
              "      <td>52000</td>\n",
              "      <td>RENT</td>\n",
              "      <td>NaN</td>\n",
              "      <td>PERSONAL</td>\n",
              "      <td>B</td>\n",
              "      <td>24000</td>\n",
              "      <td>10.74</td>\n",
              "      <td>1</td>\n",
              "      <td>0.46</td>\n",
              "      <td>N</td>\n",
              "      <td>2</td>\n",
              "    </tr>\n",
              "    <tr>\n",
              "      <th>408</th>\n",
              "      <td>22</td>\n",
              "      <td>17352</td>\n",
              "      <td>MORTGAGE</td>\n",
              "      <td>NaN</td>\n",
              "      <td>EDUCATION</td>\n",
              "      <td>C</td>\n",
              "      <td>2250</td>\n",
              "      <td>15.27</td>\n",
              "      <td>0</td>\n",
              "      <td>0.13</td>\n",
              "      <td>Y</td>\n",
              "      <td>3</td>\n",
              "    </tr>\n",
              "  </tbody>\n",
              "</table>\n",
              "</div>"
            ],
            "text/plain": [
              "     person_age  person_income person_home_ownership  person_emp_length  \\\n",
              "105          22          12600              MORTGAGE                NaN   \n",
              "222          24         185000              MORTGAGE                NaN   \n",
              "379          24          16800              MORTGAGE                NaN   \n",
              "407          25          52000                  RENT                NaN   \n",
              "408          22          17352              MORTGAGE                NaN   \n",
              "\n",
              "           loan_intent loan_grade  loan_amnt  loan_int_rate  loan_status  \\\n",
              "105           PERSONAL          A       2000           5.42            1   \n",
              "222          EDUCATION          B      35000          12.42            0   \n",
              "379  DEBTCONSOLIDATION          A       3900            NaN            1   \n",
              "407           PERSONAL          B      24000          10.74            1   \n",
              "408          EDUCATION          C       2250          15.27            0   \n",
              "\n",
              "     loan_percent_income cb_person_default_on_file  cb_person_cred_hist_length  \n",
              "105                 0.16                         N                           4  \n",
              "222                 0.19                         N                           2  \n",
              "379                 0.23                         N                           3  \n",
              "407                 0.46                         N                           2  \n",
              "408                 0.13                         Y                           3  "
            ]
          },
          "execution_count": 79,
          "metadata": {},
          "output_type": "execute_result"
        }
      ],
      "source": [
        "# Primeros nulos de antiguedad de empleo\n",
        "cr_loan_new2[cr_loan_new2['person_emp_length'].isnull()].head()"
      ]
    },
    {
      "cell_type": "code",
      "execution_count": null,
      "metadata": {
        "id": "Eq5QCpUpWegf"
      },
      "outputs": [],
      "source": [
        "# Imputar la mediana a los valores nulos\n",
        "cr_loan_new2['person_emp_length'].fillna((cr_loan_new2['person_emp_length'].median()), inplace=True)"
      ]
    },
    {
      "cell_type": "code",
      "execution_count": null,
      "metadata": {
        "id": "cY3fdBFQWegf",
        "outputId": "ddbffd01-58a6-474a-ad8c-e3e28dfee26b"
      },
      "outputs": [
        {
          "data": {
            "image/png": "[encoded data removed]",
            "text/plain": [
              "<Figure size 432x288 with 1 Axes>"
            ]
          },
          "metadata": {
            "needs_background": "light"
          },
          "output_type": "display_data"
        }
      ],
      "source": [
        "# Histograma de antiguedad de empleo\n",
        "n, bins, patches = plt.hist(cr_loan_new2['person_emp_length'], bins='auto', color='blue')\n",
        "plt.xlabel(\"Person Employment Length\")\n",
        "plt.show()"
      ]
    },
    {
      "cell_type": "code",
      "execution_count": null,
      "metadata": {
        "id": "AzYDPJvdWegf",
        "outputId": "21d36b8a-6fa5-4a94-d8c1-0e310abb9cc0"
      },
      "outputs": [
        {
          "name": "stdout",
          "output_type": "stream",
          "text": [
            "False    29459\n",
            "True      3115\n",
            "Name: loan_int_rate, dtype: int64\n"
          ]
        }
      ],
      "source": [
        "# Cantidad de Nulos\n",
        "print(cr_loan_new2['loan_int_rate'].isnull().value_counts())"
      ]
    },
    {
      "cell_type": "code",
      "execution_count": null,
      "metadata": {
        "id": "K9wvjiIRWegf",
        "outputId": "b3515a8e-17fe-42b5-cfe7-c31868b1bc7b"
      },
      "outputs": [
        {
          "data": {
            "text/plain": [
              "(3115,)"
            ]
          },
          "execution_count": 84,
          "metadata": {},
          "output_type": "execute_result"
        }
      ],
      "source": [
        "# Indice para identificar los nulos\n",
        "indices3 = cr_loan_new2[cr_loan_new2['loan_int_rate'].isnull()].index\n",
        "indices3.shape"
      ]
    },
    {
      "cell_type": "code",
      "execution_count": null,
      "metadata": {
        "id": "w48VcZUNWegf",
        "outputId": "ceecab0a-03e8-41cb-9390-a4281cbdf04c"
      },
      "outputs": [
        {
          "data": {
            "text/plain": [
              "(29459, 12)"
            ]
          },
          "execution_count": 85,
          "metadata": {},
          "output_type": "execute_result"
        }
      ],
      "source": [
        "# Crea nueva tabla sin nulos\n",
        "cr_loan_clean = cr_loan_new2.drop(indices3)\n",
        "cr_loan_clean.shape"
      ]
    },
    {
      "cell_type": "markdown",
      "metadata": {
        "id": "FA5GbFelWegf"
      },
      "source": [
        "## Creamos un logit simple"
      ]
    },
    {
      "cell_type": "code",
      "execution_count": null,
      "metadata": {
        "id": "62fz0aH3Wegg"
      },
      "outputs": [],
      "source": [
        "# Crea los datos de X e Y (regresion logit univariada)\n",
        "X = cr_loan_clean[['loan_int_rate']]\n",
        "y = cr_loan_clean[['loan_status']]"
      ]
    },
    {
      "cell_type": "code",
      "execution_count": null,
      "metadata": {
        "id": "GI8ZuzmKWegg",
        "outputId": "0aac4814-126b-4668-e581-53ede1a7c5c7"
      },
      "outputs": [
        {
          "data": {
            "text/plain": [
              "LogisticRegression(C=1.0, class_weight=None, dual=False, fit_intercept=True,\n",
              "                   intercept_scaling=1, l1_ratio=None, max_iter=100,\n",
              "                   multi_class='auto', n_jobs=None, penalty='l2',\n",
              "                   random_state=None, solver='lbfgs', tol=0.0001, verbose=0,\n",
              "                   warm_start=False)"
            ]
          },
          "execution_count": 87,
          "metadata": {},
          "output_type": "execute_result"
        }
      ],
      "source": [
        "# Crea el logit univariado\n",
        "from sklearn.linear_model import LogisticRegression\n",
        "clf_logistic_single = LogisticRegression(solver='lbfgs')\n",
        "clf_logistic_single.fit(X, np.ravel(y))"
      ]
    },
    {
      "cell_type": "code",
      "execution_count": null,
      "metadata": {
        "id": "i7zQ03JRWegg",
        "outputId": "6cde029e-81fc-4380-fa8b-d8215c361efd"
      },
      "outputs": [
        {
          "name": "stdout",
          "output_type": "stream",
          "text": [
            "[[0.27144214]]\n",
            "[-4.45785901]\n"
          ]
        }
      ],
      "source": [
        "# Betas\n",
        "print(clf_logistic_single.coef_)\n",
        "# Intercepto\n",
        "print(clf_logistic_single.intercept_)"
      ]
    },
    {
      "cell_type": "markdown",
      "metadata": {
        "id": "PsiPu6lvWegg"
      },
      "source": [
        "## Creamos un logit multivariado (variables num y cat)"
      ]
    },
    {
      "cell_type": "code",
      "execution_count": null,
      "metadata": {
        "id": "_vCTv9jHWegg",
        "outputId": "0d952cf1-7002-49ad-e2ae-65cce6e945c2"
      },
      "outputs": [
        {
          "data": {
            "text/plain": [
              "array(['OWN', 'MORTGAGE', 'RENT', 'OTHER'], dtype=object)"
            ]
          },
          "execution_count": 89,
          "metadata": {},
          "output_type": "execute_result"
        }
      ],
      "source": [
        "cr_loan_clean['person_home_ownership'].unique()"
      ]
    },
    {
      "cell_type": "code",
      "execution_count": null,
      "metadata": {
        "id": "-O0QjiSrWegg"
      },
      "outputs": [],
      "source": [
        "# Tratamiento de numéricas y categóricas\n",
        "cred_num = cr_loan_clean.select_dtypes(exclude=['object'])\n",
        "cred_str = cr_loan_clean.select_dtypes(include=['object'])"
      ]
    },
    {
      "cell_type": "code",
      "execution_count": null,
      "metadata": {
        "id": "8ZWYC3BbWegg"
      },
      "outputs": [],
      "source": [
        "# Tratamiento para variables categóricas\n",
        "cred_str_onehot = pd.get_dummies(cred_str)"
      ]
    },
    {
      "cell_type": "code",
      "execution_count": null,
      "metadata": {
        "id": "UjQYkT-EWegh",
        "outputId": "2930bcea-032c-4d46-a895-dc9cdbd85772"
      },
      "outputs": [
        {
          "data": {
            "text/plain": [
              "(29459, 27)"
            ]
          },
          "execution_count": 93,
          "metadata": {},
          "output_type": "execute_result"
        }
      ],
      "source": [
        "# Unimos las subtablas y creamos nueva tabla\n",
        "cr_loan_prep = pd.concat([cred_num, cred_str_onehot], axis=1)\n",
        "cr_loan_prep.head()\n",
        "cr_loan_prep.shape"
      ]
    },
    {
      "cell_type": "code",
      "execution_count": null,
      "metadata": {
        "id": "q0QrRD33Wegh",
        "outputId": "af5d9f2a-6d90-40f6-f716-f571260996b8"
      },
      "outputs": [
        {
          "name": "stdout",
          "output_type": "stream",
          "text": [
            "Index(['person_age', 'person_income', 'person_emp_length', 'loan_amnt',\n",
            "       'loan_int_rate', 'loan_status', 'loan_percent_income',\n",
            "       'cb_person_cred_hist_length', 'person_home_ownership_MORTGAGE',\n",
            "       'person_home_ownership_OTHER', 'person_home_ownership_OWN',\n",
            "       'person_home_ownership_RENT', 'loan_intent_DEBTCONSOLIDATION',\n",
            "       'loan_intent_EDUCATION', 'loan_intent_HOMEIMPROVEMENT',\n",
            "       'loan_intent_MEDICAL', 'loan_intent_PERSONAL', 'loan_intent_VENTURE',\n",
            "       'loan_grade_A', 'loan_grade_B', 'loan_grade_C', 'loan_grade_D',\n",
            "       'loan_grade_E', 'loan_grade_F', 'loan_grade_G',\n",
            "       'cb_person_default_on_file_N', 'cb_person_default_on_file_Y'],\n",
            "      dtype='object')\n"
          ]
        }
      ],
      "source": [
        "# Columnas de la tabla\n",
        "print(cr_loan_prep.columns)"
      ]
    },
    {
      "cell_type": "code",
      "execution_count": null,
      "metadata": {
        "id": "H3h8R2zRWegh",
        "outputId": "11abba5d-0531-4359-e13f-8a25d5041bfc"
      },
      "outputs": [
        {
          "name": "stdout",
          "output_type": "stream",
          "text": [
            "(29459, 26)\n",
            "(29459, 1)\n",
            "Index(['person_age', 'person_income', 'person_emp_length', 'loan_amnt',\n",
            "       'loan_int_rate', 'loan_percent_income', 'cb_person_cred_hist_length',\n",
            "       'person_home_ownership_MORTGAGE', 'person_home_ownership_OTHER',\n",
            "       'person_home_ownership_OWN', 'person_home_ownership_RENT',\n",
            "       'loan_intent_DEBTCONSOLIDATION', 'loan_intent_EDUCATION',\n",
            "       'loan_intent_HOMEIMPROVEMENT', 'loan_intent_MEDICAL',\n",
            "       'loan_intent_PERSONAL', 'loan_intent_VENTURE', 'loan_grade_A',\n",
            "       'loan_grade_B', 'loan_grade_C', 'loan_grade_D', 'loan_grade_E',\n",
            "       'loan_grade_F', 'loan_grade_G', 'cb_person_default_on_file_N',\n",
            "       'cb_person_default_on_file_Y'],\n",
            "      dtype='object')\n",
            "Index(['loan_status'], dtype='object')\n"
          ]
        }
      ],
      "source": [
        "# Crea x e y\n",
        "X = cr_loan_prep.drop('loan_status',axis=1)\n",
        "y = cr_loan_prep[['loan_status']]\n",
        "print(X.shape)\n",
        "print(y.shape)\n",
        "print(X.columns)\n",
        "print(y.columns)"
      ]
    },
    {
      "cell_type": "code",
      "execution_count": null,
      "metadata": {
        "id": "QFPOoDA3Wegi"
      },
      "outputs": [],
      "source": [
        "# Divide la muestra en train y test\n",
        "from sklearn.model_selection import train_test_split\n",
        "X_train, X_test, y_train, y_test = train_test_split(X, y, test_size=.4, random_state=123)"
      ]
    },
    {
      "cell_type": "code",
      "execution_count": null,
      "metadata": {
        "id": "-URVvruFWegi"
      },
      "outputs": [],
      "source": [
        "# Create and fit the logistic regression model\n",
        "from sklearn.linear_model import LogisticRegression\n",
        "clf_logistic = LogisticRegression(solver='lbfgs').fit(X_train, np.ravel(y_train))"
      ]
    },
    {
      "cell_type": "code",
      "execution_count": null,
      "metadata": {
        "id": "B4MTa42uWegi",
        "outputId": "804869ee-4eaf-413c-86eb-b25f54b67cfe"
      },
      "outputs": [
        {
          "name": "stdout",
          "output_type": "stream",
          "text": [
            "[[-8.03399249e-08 -4.02644411e-05 -3.06686941e-08  1.06277398e-04\n",
            "   9.26524268e-08  2.51365066e-09 -1.52689687e-08 -7.00873377e-09\n",
            "   3.30764038e-11 -4.45910979e-09  8.36412419e-09  3.09761861e-09\n",
            "  -3.24364448e-09  1.71018374e-09  9.22636726e-10 -1.23097177e-09\n",
            "  -4.32646578e-09 -1.17213420e-08 -6.49818525e-09 -1.54629589e-09\n",
            "   1.15270553e-08  3.68430630e-09  1.03724268e-09  4.46575918e-10\n",
            "  -1.06744089e-08  7.60376589e-09]]\n",
            "[-3.07064296e-09]\n"
          ]
        }
      ],
      "source": [
        "# Betas\n",
        "print(clf_logistic.coef_)\n",
        "# Intercepto\n",
        "print(clf_logistic.intercept_)"
      ]
    },
    {
      "cell_type": "code",
      "execution_count": null,
      "metadata": {
        "id": "TkPPnfB6Wegi",
        "outputId": "94754682-e1f9-463f-98b4-1aba05a13f28"
      },
      "outputs": [
        {
          "name": "stdout",
          "output_type": "stream",
          "text": [
            "   loan_status  prob_default\n",
            "0          1.0      0.445779\n",
            "1          1.0      0.223447\n",
            "2          0.0      0.288558\n",
            "3          0.0      0.169358\n",
            "4          1.0      0.114182\n",
            "5          NaN      0.490257\n",
            "6          NaN      0.162057\n",
            "7          NaN      0.396211\n",
            "8          NaN      0.217428\n",
            "9          NaN      0.481440\n"
          ]
        }
      ],
      "source": [
        "# Generamos las predicciones con la muestra test\n",
        "preds = clf_logistic.predict_proba(X_test)\n",
        "\n",
        "# Un pequeño vistazo sobre los primeros 5 valores predichos y reales\n",
        "preds_df = pd.DataFrame(preds[:,1][0:10], columns = ['prob_default'])\n",
        "true_df = y_test.head()\n",
        "\n",
        "# Concatenar ambas vistas y comparar\n",
        "print(pd.concat([true_df.reset_index(drop = True), preds_df], axis = 1))"
      ]
    },
    {
      "cell_type": "code",
      "execution_count": null,
      "metadata": {
        "id": "-z7mcOUVWegi",
        "outputId": "b430d8fc-5f11-4872-f78b-283c25d4c8cc"
      },
      "outputs": [
        {
          "name": "stdout",
          "output_type": "stream",
          "text": [
            "0    11175\n",
            "1      609\n",
            "Name: loan_status, dtype: int64\n"
          ]
        }
      ],
      "source": [
        "# Creamos nuestro dataframe de predicciones\n",
        "preds_df = pd.DataFrame(preds[:,1], columns = ['prob_default'])\n",
        "\n",
        "# Basado en un corte predice el default o no de un préstamo\n",
        "preds_df['loan_status'] = preds_df['prob_default'].apply(lambda x: 1 if x > 0.5 else 0)\n",
        "\n",
        "# Vemos cual es la cantidad de defaults basado en el corte\n",
        "print(preds_df['loan_status'].value_counts())"
      ]
    },
    {
      "cell_type": "code",
      "execution_count": null,
      "metadata": {
        "id": "tSGjWIhZWegi",
        "outputId": "f5a58c6b-6733-4eca-8d3d-733fba29df2e"
      },
      "outputs": [
        {
          "name": "stdout",
          "output_type": "stream",
          "text": [
            "              precision    recall  f1-score   support\n",
            "\n",
            " Non-Default       0.81      0.98      0.89      9198\n",
            "     Default       0.71      0.17      0.27      2586\n",
            "\n",
            "    accuracy                           0.80     11784\n",
            "   macro avg       0.76      0.57      0.58     11784\n",
            "weighted avg       0.79      0.80      0.75     11784\n",
            "\n"
          ]
        }
      ],
      "source": [
        "# Veamos un reporte que compara las predicciones con los defaults reales\n",
        "from sklearn.metrics import classification_report\n",
        "target_names = ['Non-Default', 'Default']\n",
        "print(classification_report(y_test, preds_df['loan_status'], target_names=target_names))"
      ]
    },
    {
      "cell_type": "code",
      "execution_count": null,
      "metadata": {
        "id": "ZXwz-szxWegj",
        "outputId": "e33a389d-864a-454e-9e78-0b5151c6df26"
      },
      "outputs": [
        {
          "name": "stdout",
          "output_type": "stream",
          "text": [
            "(array([0.80742729, 0.71264368]), array([0.98097412, 0.16782676]), array([0.8857802 , 0.27167449]), array([9198, 2586], dtype=int64))\n"
          ]
        }
      ],
      "source": [
        "# Vista de la primera seccion de valores\n",
        "from sklearn.metrics import precision_recall_fscore_support\n",
        "print(precision_recall_fscore_support(y_test,preds_df['loan_status']))"
      ]
    },
    {
      "cell_type": "code",
      "execution_count": null,
      "metadata": {
        "id": "xU29n0BzWegj",
        "outputId": "e787194d-f503-49a5-e393-baae30412000"
      },
      "outputs": [
        {
          "name": "stdout",
          "output_type": "stream",
          "text": [
            "[0.98097412 0.16782676]\n"
          ]
        }
      ],
      "source": [
        "# Vista del Recall\n",
        "print(precision_recall_fscore_support(y_test,preds_df['loan_status'])[1])"
      ]
    },
    {
      "cell_type": "code",
      "execution_count": null,
      "metadata": {
        "id": "rl1ICEiJWegj",
        "outputId": "fa276c51-4731-4b5e-a5ca-1cbfb7e0808c"
      },
      "outputs": [
        {
          "name": "stdout",
          "output_type": "stream",
          "text": [
            "0.8025288526816021\n"
          ]
        }
      ],
      "source": [
        "# Calcula la precisión del modelo\n",
        "print(clf_logistic.score(X_test, y_test))"
      ]
    },
    {
      "cell_type": "code",
      "execution_count": null,
      "metadata": {
        "id": "7Vk7J4kDWegj",
        "outputId": "d4f2b195-425a-4276-8d81-b05e92dfd577"
      },
      "outputs": [
        {
          "data": {
            "image/png": "[encoded data removed]",
            "text/plain": [
              "<Figure size 432x288 with 1 Axes>"
            ]
          },
          "metadata": {
            "needs_background": "light"
          },
          "output_type": "display_data"
        }
      ],
      "source": [
        "# plotea la curva ROC\n",
        "import sklearn.metrics as sm\n",
        "prob_default = preds[:, 1]\n",
        "fallout, sensitivity, thresholds = sm.roc_curve(y_test, prob_default)\n",
        "plt.plot(fallout, sensitivity, color = 'darkorange')\n",
        "plt.plot([0, 1], [0, 1], linestyle='--')\n",
        "plt.show()"
      ]
    },
    {
      "cell_type": "code",
      "execution_count": null,
      "metadata": {
        "id": "MCdwYhIEWegj",
        "outputId": "62cabc05-039c-45dc-f5d5-cfe809e7677f"
      },
      "outputs": [
        {
          "data": {
            "text/plain": [
              "0.7643248801355148"
            ]
          },
          "execution_count": 108,
          "metadata": {},
          "output_type": "execute_result"
        }
      ],
      "source": [
        "# Calcula AUC y muestra el valor\n",
        "auc = sm.roc_auc_score(y_test, prob_default)\n",
        "auc"
      ]
    },
    {
      "cell_type": "code",
      "execution_count": null,
      "metadata": {
        "id": "44PCOvnBWegj",
        "outputId": "3f94a7a0-d1b7-45eb-ade1-74495bf302e9"
      },
      "outputs": [
        {
          "data": {
            "text/html": [
              "<div>\n",
              "<style scoped>\n",
              "    .dataframe tbody tr th:only-of-type {\n",
              "        vertical-align: middle;\n",
              "    }\n",
              "\n",
              "    .dataframe tbody tr th {\n",
              "        vertical-align: top;\n",
              "    }\n",
              "\n",
              "    .dataframe thead th {\n",
              "        text-align: right;\n",
              "    }\n",
              "</style>\n",
              "<table border=\"1\" class=\"dataframe\">\n",
              "  <thead>\n",
              "    <tr style=\"text-align: right;\">\n",
              "      <th></th>\n",
              "      <th>prob_default</th>\n",
              "      <th>loan_status</th>\n",
              "    </tr>\n",
              "  </thead>\n",
              "  <tbody>\n",
              "    <tr>\n",
              "      <th>0</th>\n",
              "      <td>0.445779</td>\n",
              "      <td>0</td>\n",
              "    </tr>\n",
              "    <tr>\n",
              "      <th>1</th>\n",
              "      <td>0.223447</td>\n",
              "      <td>0</td>\n",
              "    </tr>\n",
              "    <tr>\n",
              "      <th>2</th>\n",
              "      <td>0.288558</td>\n",
              "      <td>0</td>\n",
              "    </tr>\n",
              "    <tr>\n",
              "      <th>3</th>\n",
              "      <td>0.169358</td>\n",
              "      <td>0</td>\n",
              "    </tr>\n",
              "    <tr>\n",
              "      <th>4</th>\n",
              "      <td>0.114182</td>\n",
              "      <td>0</td>\n",
              "    </tr>\n",
              "  </tbody>\n",
              "</table>\n",
              "</div>"
            ],
            "text/plain": [
              "   prob_default  loan_status\n",
              "0      0.445779            0\n",
              "1      0.223447            0\n",
              "2      0.288558            0\n",
              "3      0.169358            0\n",
              "4      0.114182            0"
            ]
          },
          "execution_count": 109,
          "metadata": {},
          "output_type": "execute_result"
        }
      ],
      "source": [
        "# Fija el corte en 0.5 y calcula el default\n",
        "preds_df['loan_status'] = preds_df['prob_default'].apply(lambda x: 1 if x > 0.5 else 0)\n",
        "preds_df.head()"
      ]
    },
    {
      "cell_type": "code",
      "execution_count": null,
      "metadata": {
        "id": "laO-CKECWegk",
        "outputId": "b03eb25d-ae42-4537-f2c4-8ee821ceb759"
      },
      "outputs": [
        {
          "name": "stdout",
          "output_type": "stream",
          "text": [
            "[[9023  175]\n",
            " [2152  434]]\n"
          ]
        }
      ],
      "source": [
        "# Muestra la matriz de confusión\n",
        "print(sm.confusion_matrix(y_test,preds_df['loan_status']))"
      ]
    },
    {
      "cell_type": "code",
      "execution_count": null,
      "metadata": {
        "id": "xq4rVkp_Wegk"
      },
      "outputs": [],
      "source": [
        "# Fija el corte en 0.4 y calcula el default\n",
        "preds_df['loan_status'] = preds_df['prob_default'].apply(lambda x: 1 if x > 0.4 else 0)"
      ]
    },
    {
      "cell_type": "code",
      "execution_count": null,
      "metadata": {
        "id": "jEUVljvRWegk",
        "outputId": "9c82f0ad-4bc3-46d1-b4b5-cedc4e72939f"
      },
      "outputs": [
        {
          "name": "stdout",
          "output_type": "stream",
          "text": [
            "[[8476  722]\n",
            " [1386 1200]]\n"
          ]
        }
      ],
      "source": [
        "# Muestra la matriz de confusión\n",
        "print(sm.confusion_matrix(y_test,preds_df['loan_status']))"
      ]
    },
    {
      "cell_type": "code",
      "execution_count": null,
      "metadata": {
        "id": "oUST_auZWegk",
        "outputId": "729cdad0-6609-44d9-8246-e37ab213dd04"
      },
      "outputs": [
        {
          "name": "stdout",
          "output_type": "stream",
          "text": [
            "9872265.223119883\n"
          ]
        }
      ],
      "source": [
        "# Número de defaults\n",
        "num_defaults = preds_df['loan_status'].value_counts()[1]\n",
        "\n",
        "# Calcula los Recall\n",
        "default_recall = precision_recall_fscore_support(y_test,preds_df['loan_status'])[1][1]\n",
        "\n",
        "#Calcula el monto promedio de préstamo\n",
        "avg_loan_amnt=X['loan_amnt'].mean()\n",
        "\n",
        "# Calculo el impacto estimado del recall\n",
        "print(avg_loan_amnt * num_defaults * (1 - default_recall))"
      ]
    },
    {
      "cell_type": "markdown",
      "metadata": {
        "id": "DoTJhfiyWegk"
      },
      "source": [
        "## Generamos un modelo alternativo: XGBoost\n",
        "Importante: El modelo solo trabaja con variables numéricas"
      ]
    },
    {
      "cell_type": "code",
      "execution_count": null,
      "metadata": {
        "id": "DK6c7Ii9Wegk",
        "outputId": "fdeeb06e-9c57-47b3-d6cb-b7df75604b4a"
      },
      "outputs": [
        {
          "data": {
            "text/plain": [
              "array([[9.0582967e-03, 9.9094170e-01],\n",
              "       [1.6012788e-02, 9.8398721e-01],\n",
              "       [9.9919266e-01, 8.0736284e-04],\n",
              "       ...,\n",
              "       [9.5428050e-01, 4.5719486e-02],\n",
              "       [6.5126348e-01, 3.4873655e-01],\n",
              "       [9.4514960e-01, 5.4850418e-02]], dtype=float32)"
            ]
          },
          "execution_count": 114,
          "metadata": {},
          "output_type": "execute_result"
        }
      ],
      "source": [
        "# Entrenamos el modelo con el algoritmo XGBoost\n",
        "import xgboost as xgb\n",
        "clf_gbt = xgb.XGBClassifier().fit(X_train, np.ravel(y_train))\n",
        "\n",
        "# Generamos preddiciones\n",
        "gbt_preds = clf_gbt.predict_proba(X_test)\n",
        "gbt_preds"
      ]
    },
    {
      "cell_type": "code",
      "execution_count": null,
      "metadata": {
        "id": "6OBqxtOVWegl",
        "outputId": "9155aba1-1ffd-437a-a5fe-0dddd01d5cd6"
      },
      "outputs": [
        {
          "name": "stdout",
          "output_type": "stream",
          "text": [
            "   loan_status  prob_default\n",
            "0            1      0.990942\n",
            "1            1      0.983987\n",
            "2            0      0.000807\n",
            "3            0      0.001239\n",
            "4            1      0.084892\n"
          ]
        }
      ],
      "source": [
        "# Echamos una mirada a los primeros valores reales y de la prob default predicha\n",
        "gbt_preds_df = pd.DataFrame(gbt_preds[:,1][0:5], columns = ['prob_default'])\n",
        "true_df = y_test.head()\n",
        "\n",
        "# Genera la vista\n",
        "print(pd.concat([true_df.reset_index(drop = True), gbt_preds_df], axis = 1))"
      ]
    },
    {
      "cell_type": "code",
      "execution_count": null,
      "metadata": {
        "id": "0mK0pve7Wegl",
        "outputId": "baabca17-828a-4999-9181-97ee5529adf3"
      },
      "outputs": [
        {
          "name": "stdout",
          "output_type": "stream",
          "text": [
            "[1 1 0 ... 0 0 0]\n",
            "2022\n"
          ]
        }
      ],
      "source": [
        "# Predict the labels for loan status\n",
        "gbt_preds2 = clf_gbt.predict(X_test)\n",
        "print(gbt_preds2)\n",
        "print(gbt_preds2.sum())"
      ]
    },
    {
      "cell_type": "code",
      "execution_count": null,
      "metadata": {
        "id": "_p6yS6i8Wegl",
        "outputId": "2141bca1-2af8-400d-a600-394889bbe07a"
      },
      "outputs": [
        {
          "name": "stdout",
          "output_type": "stream",
          "text": [
            "              precision    recall  f1-score   support\n",
            "\n",
            " Non-Default       0.93      0.99      0.96      9198\n",
            "     Default       0.94      0.74      0.83      2586\n",
            "\n",
            "    accuracy                           0.93     11784\n",
            "   macro avg       0.94      0.86      0.89     11784\n",
            "weighted avg       0.93      0.93      0.93     11784\n",
            "\n"
          ]
        }
      ],
      "source": [
        "# Print the classification report of the model\n",
        "target_names = ['Non-Default', 'Default']\n",
        "print(classification_report(y_test, gbt_preds2, target_names=target_names))"
      ]
    },
    {
      "cell_type": "code",
      "execution_count": null,
      "metadata": {
        "id": "E_aFDBSDWegl",
        "outputId": "e1a9160f-e45f-493e-ab3a-b54d9c5af1f8"
      },
      "outputs": [
        {
          "name": "stdout",
          "output_type": "stream",
          "text": [
            "0    9635\n",
            "1    2149\n",
            "Name: loan_status, dtype: int64\n"
          ]
        },
        {
          "data": {
            "text/html": [
              "<div>\n",
              "<style scoped>\n",
              "    .dataframe tbody tr th:only-of-type {\n",
              "        vertical-align: middle;\n",
              "    }\n",
              "\n",
              "    .dataframe tbody tr th {\n",
              "        vertical-align: top;\n",
              "    }\n",
              "\n",
              "    .dataframe thead th {\n",
              "        text-align: right;\n",
              "    }\n",
              "</style>\n",
              "<table border=\"1\" class=\"dataframe\">\n",
              "  <thead>\n",
              "    <tr style=\"text-align: right;\">\n",
              "      <th></th>\n",
              "      <th>prob_default</th>\n",
              "      <th>loan_status</th>\n",
              "    </tr>\n",
              "  </thead>\n",
              "  <tbody>\n",
              "    <tr>\n",
              "      <th>0</th>\n",
              "      <td>0.990942</td>\n",
              "      <td>1</td>\n",
              "    </tr>\n",
              "    <tr>\n",
              "      <th>1</th>\n",
              "      <td>0.983987</td>\n",
              "      <td>1</td>\n",
              "    </tr>\n",
              "    <tr>\n",
              "      <th>2</th>\n",
              "      <td>0.000807</td>\n",
              "      <td>0</td>\n",
              "    </tr>\n",
              "    <tr>\n",
              "      <th>3</th>\n",
              "      <td>0.001239</td>\n",
              "      <td>0</td>\n",
              "    </tr>\n",
              "    <tr>\n",
              "      <th>4</th>\n",
              "      <td>0.084892</td>\n",
              "      <td>0</td>\n",
              "    </tr>\n",
              "  </tbody>\n",
              "</table>\n",
              "</div>"
            ],
            "text/plain": [
              "   prob_default  loan_status\n",
              "0      0.990942            1\n",
              "1      0.983987            1\n",
              "2      0.000807            0\n",
              "3      0.001239            0\n",
              "4      0.084892            0"
            ]
          },
          "execution_count": 118,
          "metadata": {},
          "output_type": "execute_result"
        }
      ],
      "source": [
        "# Creamos nuestro dataframe de predicciones\n",
        "gbt_preds_df = pd.DataFrame(gbt_preds[:,1], columns = ['prob_default'])\n",
        "\n",
        "# Basado en un corte predice el default o no de un préstamo\n",
        "gbt_preds_df['loan_status'] = gbt_preds_df['prob_default'].apply(lambda x: 1 if x > 0.4 else 0)\n",
        "\n",
        "# Vemos cual es la cantidad de defaults basado en el corte\n",
        "print(gbt_preds_df['loan_status'].value_counts())\n",
        "gbt_preds_df.head()"
      ]
    },
    {
      "cell_type": "code",
      "execution_count": null,
      "metadata": {
        "id": "4ng3Dhf8Wegl",
        "outputId": "f67b5cf3-9d32-4a8e-c01d-8240ba1e0adf"
      },
      "outputs": [
        {
          "name": "stdout",
          "output_type": "stream",
          "text": [
            "              precision    recall  f1-score   support\n",
            "\n",
            " Non-Default       0.94      0.98      0.96      9198\n",
            "     Default       0.91      0.76      0.83      2586\n",
            "\n",
            "    accuracy                           0.93     11784\n",
            "   macro avg       0.92      0.87      0.89     11784\n",
            "weighted avg       0.93      0.93      0.93     11784\n",
            "\n"
          ]
        }
      ],
      "source": [
        "# Veamos un reporte que compara las predicciones con los defaults reales\n",
        "from sklearn.metrics import classification_report\n",
        "target_names = ['Non-Default', 'Default']\n",
        "print(classification_report(y_test, gbt_preds_df['loan_status'], target_names=target_names))"
      ]
    },
    {
      "cell_type": "code",
      "execution_count": null,
      "metadata": {
        "id": "9dkU9K6lWegl",
        "outputId": "07bb6e4c-b054-4a13-f490-e87979c7996a"
      },
      "outputs": [
        {
          "name": "stdout",
          "output_type": "stream",
          "text": [
            "{'loan_percent_income': 262, 'loan_int_rate': 503, 'person_income': 722, 'loan_grade_D': 40, 'loan_intent_HOMEIMPROVEMENT': 36, 'loan_intent_DEBTCONSOLIDATION': 53, 'loan_intent_MEDICAL': 63, 'loan_grade_C': 41, 'person_emp_length': 286, 'person_home_ownership_OWN': 48, 'person_age': 287, 'person_home_ownership_RENT': 57, 'person_home_ownership_OTHER': 2, 'cb_person_default_on_file_N': 29, 'loan_grade_G': 12, 'person_home_ownership_MORTGAGE': 40, 'cb_person_cred_hist_length': 168, 'loan_intent_VENTURE': 34, 'loan_amnt': 349, 'loan_intent_EDUCATION': 40, 'loan_intent_PERSONAL': 30, 'loan_grade_E': 26, 'loan_grade_B': 33, 'loan_grade_F': 9, 'loan_grade_A': 1}\n"
          ]
        }
      ],
      "source": [
        "# Importancia de cada variable\n",
        "print(clf_gbt.get_booster().get_score(importance_type = 'weight'))"
      ]
    },
    {
      "cell_type": "code",
      "execution_count": null,
      "metadata": {
        "id": "InZnYcrZWegm",
        "outputId": "de5f2aa6-0b90-4275-a3a7-aaaa0f6e02d2"
      },
      "outputs": [
        {
          "data": {
            "image/png": "[encoded data removed]",
            "text/plain": [
              "<Figure size 432x288 with 1 Axes>"
            ]
          },
          "metadata": {
            "needs_background": "light"
          },
          "output_type": "display_data"
        }
      ],
      "source": [
        "# Ploteo de la importancia de cada variable\n",
        "xgb.plot_importance(clf_gbt, importance_type = 'weight')\n",
        "plt.show()"
      ]
    },
    {
      "cell_type": "code",
      "execution_count": null,
      "metadata": {
        "id": "VVpKtoFFWegm",
        "outputId": "0357717a-3956-4b22-8c30-3512ee727e35"
      },
      "outputs": [
        {
          "name": "stdout",
          "output_type": "stream",
          "text": [
            "     train-auc-mean  train-auc-std  test-auc-mean  test-auc-std\n",
            "0          0.897568       0.000909       0.892900      0.008258\n",
            "1          0.906985       0.002611       0.901162      0.007519\n",
            "2          0.913678       0.001403       0.907910      0.007753\n",
            "3          0.919123       0.000921       0.912130      0.007145\n",
            "4          0.922864       0.001097       0.914962      0.006706\n",
            "..              ...            ...            ...           ...\n",
            "495        1.000000       0.000000       0.942796      0.004638\n",
            "496        1.000000       0.000000       0.942774      0.004648\n",
            "497        1.000000       0.000000       0.942808      0.004688\n",
            "498        1.000000       0.000000       0.942805      0.004689\n",
            "499        1.000000       0.000000       0.942794      0.004695\n",
            "\n",
            "[500 rows x 4 columns]\n"
          ]
        }
      ],
      "source": [
        "# Setea el número de parcelas e iteraciones\n",
        "params={'objective':'binary:logistic','seed':123,'eval_metric':'auc'}\n",
        "\n",
        "# Construye la matriz DTrain para el XGBoost\n",
        "DTrain = xgb.DMatrix(X_train, label = y_train)\n",
        "\n",
        "# Crea un dataframe para ver los resultados del CV\n",
        "cv_df = xgb.cv(params,DTrain, num_boost_round = 500, nfold=10, shuffle = True)\n",
        "\n",
        "# Imprime los resultados del CV\n",
        "print(cv_df)"
      ]
    },
    {
      "cell_type": "code",
      "execution_count": null,
      "metadata": {
        "scrolled": false,
        "id": "JI436V61Wegm",
        "outputId": "0b24d1a3-9cc5-46af-b8f0-9c56e86b8c20"
      },
      "outputs": [
        {
          "name": "stdout",
          "output_type": "stream",
          "text": [
            "0.9427849239999995\n"
          ]
        }
      ],
      "source": [
        "# Calcula la media del AUC scores en la muestra test\n",
        "print(np.mean(cv_df['test-auc-mean']))"
      ]
    },
    {
      "cell_type": "code",
      "execution_count": null,
      "metadata": {
        "id": "tguBeFYDWegm",
        "outputId": "083d0ec3-ebcd-447f-af39-55b8b97051f0"
      },
      "outputs": [
        {
          "data": {
            "text/plain": [
              "array([0.94230769, 0.93269231, 0.93891403, 0.9321267 , 0.93778281,\n",
              "       0.93095642, 0.9360498 , 0.9360498 , 0.92982456, 0.92642898])"
            ]
          },
          "execution_count": 124,
          "metadata": {},
          "output_type": "execute_result"
        }
      ],
      "source": [
        "# Calcula el valor del CV para el modelo creado en el paso anterior\n",
        "from sklearn.model_selection import cross_val_score\n",
        "cv_scores = cross_val_score(clf_gbt, X_train, np.ravel(y_train), cv = 10)\n",
        "cv_scores"
      ]
    },
    {
      "cell_type": "code",
      "execution_count": null,
      "metadata": {
        "id": "lqrmuD_7Wegm",
        "outputId": "a00d8da5-3b4d-427b-d14d-eef675d478ea"
      },
      "outputs": [
        {
          "data": {
            "image/png": "[encoded data removed]",
            "text/plain": [
              "<Figure size 432x288 with 1 Axes>"
            ]
          },
          "metadata": {
            "needs_background": "light"
          },
          "output_type": "display_data"
        }
      ],
      "source": [
        "# Plotea las auc promedio por cada iteracion\n",
        "plt.plot(cv_df['test-auc-mean'],label='test')\n",
        "plt.plot(cv_df['train-auc-mean'],label='train')\n",
        "plt.title('AUC Score Over 500 Iterations')\n",
        "plt.xlabel('Iteration Number')\n",
        "plt.ylabel('AUC Score')\n",
        "plt.legend()\n",
        "plt.show()"
      ]
    },
    {
      "cell_type": "code",
      "execution_count": null,
      "metadata": {
        "id": "-QCA2WQoWegm",
        "outputId": "e0742d09-3355-4031-f9a0-ca898b67e8dd"
      },
      "outputs": [
        {
          "name": "stdout",
          "output_type": "stream",
          "text": [
            "[0.94400452 0.93665158 0.94004525 0.93382353 0.9321267  0.93152235\n",
            " 0.92982456 0.93831353 0.93208829 0.92473118]\n",
            "Average accuracy: 0.93 (+/- 0.01)\n"
          ]
        }
      ],
      "source": [
        "# Probar variando los hiperparametros\n",
        "gbt = xgb.XGBClassifier(learning_rate = 0.1, max_depth = 7)\n",
        "\n",
        "# Calcula el valor del CV para el modelo creado en el paso anterior\n",
        "cv_scores = cross_val_score(gbt, X_train, np.ravel(y_train), cv = 10)\n",
        "\n",
        "# Print the cross validation scores\n",
        "print(cv_scores)\n",
        "\n",
        "# Print the average accuracy and standard deviation of the scores\n",
        "print(\"Average accuracy: %0.2f (+/- %0.2f)\" % (cv_scores.mean(),\n",
        "                                              cv_scores.std() * 2))"
      ]
    },
    {
      "cell_type": "markdown",
      "metadata": {
        "id": "x4Yo5K0GWegn"
      },
      "source": [
        "## Probamos una tecnica de Balanceo de datos"
      ]
    },
    {
      "cell_type": "code",
      "execution_count": null,
      "metadata": {
        "scrolled": false,
        "id": "UNJBF2HpWegn",
        "outputId": "6f9b92ba-6e18-49db-da1c-2461f5e5403e"
      },
      "outputs": [
        {
          "name": "stdout",
          "output_type": "stream",
          "text": [
            "13798 3877\n"
          ]
        }
      ],
      "source": [
        "X_y_train = pd.concat([X_train.reset_index(drop = True),\n",
        "                       y_train.reset_index(drop = True)], axis = 1)\n",
        "count_nondefault, count_default = X_y_train['loan_status'].value_counts()\n",
        "print(count_nondefault,count_default)"
      ]
    },
    {
      "cell_type": "code",
      "execution_count": null,
      "metadata": {
        "id": "9d6bThMmWegn",
        "outputId": "962fed27-86fe-404a-c2e5-472c833941d8"
      },
      "outputs": [
        {
          "name": "stdout",
          "output_type": "stream",
          "text": [
            "(13798, 27)\n",
            "(3877, 27)\n"
          ]
        }
      ],
      "source": [
        "# Separamos la muestra en 2 partes: defaults y no defaults\n",
        "nondefaults = X_y_train[X_y_train['loan_status'] == 0]\n",
        "defaults = X_y_train[X_y_train['loan_status'] == 1]\n",
        "print(nondefaults.shape)\n",
        "print(defaults.shape)"
      ]
    },
    {
      "cell_type": "code",
      "execution_count": null,
      "metadata": {
        "id": "JG9jlzwwWegn",
        "outputId": "87c35670-6197-42ae-f520-6b691fc548b2"
      },
      "outputs": [
        {
          "name": "stdout",
          "output_type": "stream",
          "text": [
            "(3877, 27)\n"
          ]
        }
      ],
      "source": [
        "# Reducimos la muestra de nondefaults\n",
        "nondefaults_under = nondefaults.sample(count_default)\n",
        "print(nondefaults_under.shape)"
      ]
    },
    {
      "cell_type": "code",
      "execution_count": null,
      "metadata": {
        "id": "u8yVY_1LWegn",
        "outputId": "b3568f9e-8df9-4129-8cee-9354bab6476e"
      },
      "outputs": [
        {
          "name": "stdout",
          "output_type": "stream",
          "text": [
            "1    3877\n",
            "0    3877\n",
            "Name: loan_status, dtype: int64\n"
          ]
        }
      ],
      "source": [
        "# Unimos la muestra de defaults y la de nondefaults reducida\n",
        "X_y_train_under = pd.concat([nondefaults_under.reset_index(drop = True),\n",
        "                             defaults.reset_index(drop = True)], axis = 0)\n",
        "\n",
        "# Print the value counts for loan status\n",
        "print(X_y_train_under['loan_status'].value_counts())"
      ]
    },
    {
      "cell_type": "code",
      "execution_count": null,
      "metadata": {
        "id": "8f-qcio9Wegn"
      },
      "outputs": [],
      "source": [
        "#Entrena el modelo con la data balanceada\n",
        "X_train_under = X_y_train_under.drop('loan_status',axis=1)\n",
        "y_train_under = X_y_train_under[['loan_status']]\n",
        "clf_gbt_under = xgb.XGBClassifier().fit(X_train_under, np.ravel(y_train_under))\n",
        "gbt_preds_under = clf_gbt_under.predict_proba(X_test)\n",
        "gbt_preds_under2 = clf_gbt_under.predict(X_test)"
      ]
    },
    {
      "cell_type": "code",
      "execution_count": null,
      "metadata": {
        "id": "JRVgTcNEWego",
        "outputId": "cb2d53aa-11c5-44ca-e2e0-ac767976ab7d"
      },
      "outputs": [
        {
          "name": "stdout",
          "output_type": "stream",
          "text": [
            "              precision    recall  f1-score   support\n",
            "\n",
            " Non-Default       0.93      0.99      0.96      9198\n",
            "     Default       0.94      0.74      0.83      2586\n",
            "\n",
            "    accuracy                           0.93     11784\n",
            "   macro avg       0.94      0.86      0.89     11784\n",
            "weighted avg       0.93      0.93      0.93     11784\n",
            "\n",
            "              precision    recall  f1-score   support\n",
            "\n",
            " Non-Default       0.95      0.91      0.93      9198\n",
            "     Default       0.73      0.82      0.77      2586\n",
            "\n",
            "    accuracy                           0.89     11784\n",
            "   macro avg       0.84      0.87      0.85     11784\n",
            "weighted avg       0.90      0.89      0.90     11784\n",
            "\n"
          ]
        }
      ],
      "source": [
        "# Compara los rendimientos de ambos modelos\n",
        "target_names = ['Non-Default', 'Default']\n",
        "print(classification_report(y_test, gbt_preds2, target_names=target_names))\n",
        "print(classification_report(y_test, gbt_preds_under2, target_names=target_names))"
      ]
    },
    {
      "cell_type": "code",
      "execution_count": null,
      "metadata": {
        "id": "xzojIB4EWego",
        "outputId": "1babbc2e-5548-40b5-90fb-7c67841daf6a"
      },
      "outputs": [
        {
          "name": "stdout",
          "output_type": "stream",
          "text": [
            "[[9085  113]\n",
            " [ 677 1909]]\n",
            "[[8416  782]\n",
            " [ 469 2117]]\n"
          ]
        }
      ],
      "source": [
        "# Compara las dos matrices de confusion\n",
        "print(sm.confusion_matrix(y_test,gbt_preds2))\n",
        "print(sm.confusion_matrix(y_test,gbt_preds_under2))"
      ]
    },
    {
      "cell_type": "code",
      "execution_count": null,
      "metadata": {
        "id": "cOpK3ZjZWego",
        "outputId": "aa8f2f8c-5066-4947-8338-07c0af8c0e7a"
      },
      "outputs": [
        {
          "name": "stdout",
          "output_type": "stream",
          "text": [
            "0.8629602218579747\n",
            "0.8668101710802659\n"
          ]
        }
      ],
      "source": [
        "# Print and compare the AUC scores of the old and new models\n",
        "print(sm.roc_auc_score(y_test, gbt_preds2))\n",
        "print(sm.roc_auc_score(y_test, gbt_preds_under2))"
      ]
    },
    {
      "cell_type": "markdown",
      "metadata": {
        "id": "L2MAuXXqWego"
      },
      "source": [
        "## Compara Logit vs XGBoost"
      ]
    },
    {
      "cell_type": "code",
      "execution_count": null,
      "metadata": {
        "id": "MmqNuBcRWego",
        "outputId": "653b9464-02cf-4559-e6c2-4d0f53f0d9e7"
      },
      "outputs": [
        {
          "name": "stdout",
          "output_type": "stream",
          "text": [
            "              precision    recall  f1-score   support\n",
            "\n",
            " Non-Default       0.86      0.92      0.89      9198\n",
            "     Default       0.62      0.46      0.53      2586\n",
            "\n",
            "    accuracy                           0.82     11784\n",
            "   macro avg       0.74      0.69      0.71     11784\n",
            "weighted avg       0.81      0.82      0.81     11784\n",
            "\n",
            "              precision    recall  f1-score   support\n",
            "\n",
            " Non-Default       0.94      0.98      0.96      9198\n",
            "     Default       0.91      0.76      0.83      2586\n",
            "\n",
            "    accuracy                           0.93     11784\n",
            "   macro avg       0.92      0.87      0.89     11784\n",
            "weighted avg       0.93      0.93      0.93     11784\n",
            "\n"
          ]
        }
      ],
      "source": [
        "# Reporte de Logit\n",
        "target_names = ['Non-Default', 'Default']\n",
        "print(classification_report(y_test, preds_df['loan_status'], target_names=target_names))\n",
        "\n",
        "# Reporte de XGBoost\n",
        "print(classification_report(y_test, gbt_preds_df['loan_status'], target_names=target_names))"
      ]
    },
    {
      "cell_type": "code",
      "execution_count": null,
      "metadata": {
        "id": "znnMrliiWegp",
        "outputId": "b75441fd-8275-485d-a7f4-e19fd836c526"
      },
      "outputs": [
        {
          "name": "stdout",
          "output_type": "stream",
          "text": [
            "0.7108943782814463\n",
            "0.8936226604864824\n"
          ]
        }
      ],
      "source": [
        "# F-1 score del Logit\n",
        "print(precision_recall_fscore_support(y_test,preds_df['loan_status'], average = 'macro')[2])\n",
        "\n",
        "# F-1 score del XGBoost\n",
        "print(precision_recall_fscore_support(y_test,gbt_preds_df['loan_status'], average = 'macro')[2])"
      ]
    },
    {
      "cell_type": "markdown",
      "metadata": {
        "id": "MLElii5AWegp"
      },
      "source": [
        "## Comparativo ROC"
      ]
    },
    {
      "cell_type": "code",
      "execution_count": null,
      "metadata": {
        "id": "FdA0-7qrWegp"
      },
      "outputs": [],
      "source": [
        "# Componentes del ROC\n",
        "log_default = preds[:, 1]\n",
        "gbt_default = gbt_preds[:, 1]\n",
        "fallout_lr, sensitivity_lr, thresholds_lr = sm.roc_curve(y_test, log_default)\n",
        "fallout_gbt, sensitivity_gbt, thresholds_gbt = sm.roc_curve(y_test, gbt_default)"
      ]
    },
    {
      "cell_type": "code",
      "execution_count": null,
      "metadata": {
        "id": "QfBVeqR-Wegp",
        "outputId": "88279876-213c-4c9e-8eb6-cfd8ebcd123d"
      },
      "outputs": [
        {
          "data": {
            "image/png": "[encoded data removed]",
            "text/plain": [
              "<Figure size 432x288 with 1 Axes>"
            ]
          },
          "metadata": {
            "needs_background": "light"
          },
          "output_type": "display_data"
        }
      ],
      "source": [
        "# Graficar el ROC\n",
        "plt.plot(fallout_lr, sensitivity_lr, color = 'blue', label='%s' % 'Logistic Regression')\n",
        "plt.plot(fallout_gbt, sensitivity_gbt, color = 'green', label='%s' % 'XGBoost')\n",
        "plt.plot([0, 1], [0, 1], linestyle='--', label='%s' % 'Random Prediction')\n",
        "plt.title(\"ROC Chart for LR and GBT on the Probability of Default\")\n",
        "plt.xlabel('Fall-out')\n",
        "plt.ylabel('Sensitivity')\n",
        "plt.legend()\n",
        "plt.show()"
      ]
    },
    {
      "cell_type": "code",
      "execution_count": null,
      "metadata": {
        "id": "K_2sFqcjWegp",
        "outputId": "f9c95915-3e9b-443a-bf12-0f9bf03d0e4a"
      },
      "outputs": [
        {
          "name": "stdout",
          "output_type": "stream",
          "text": [
            "Logistic Regression AUC Score: 0.76\n",
            "Gradient Boosted Tree AUC Score: 0.95\n"
          ]
        }
      ],
      "source": [
        "# Print the logistic regression AUC with formatting\n",
        "print(\"Logistic Regression AUC Score: %0.2f\" % sm.roc_auc_score(y_test, log_default))\n",
        "\n",
        "# Print the gradient boosted tree AUC with formatting\n",
        "print(\"Gradient Boosted Tree AUC Score: %0.2f\" % sm.roc_auc_score(y_test, gbt_default))"
      ]
    },
    {
      "cell_type": "markdown",
      "metadata": {
        "id": "XPRVCDpgWegq"
      },
      "source": [
        "## Calibración"
      ]
    },
    {
      "cell_type": "code",
      "execution_count": null,
      "metadata": {
        "id": "plRjMT5cWegq"
      },
      "outputs": [],
      "source": [
        "#Crea valores para generar el gráfico\n",
        "import sklearn.calibration as smc\n",
        "frac_of_pos_lr, mean_pred_val_lr = smc.calibration_curve(y_test, log_default, n_bins=10)\n",
        "frac_of_pos_gbt, mean_pred_val_gbt = smc.calibration_curve(y_test, gbt_default, n_bins=10)"
      ]
    },
    {
      "cell_type": "code",
      "execution_count": null,
      "metadata": {
        "id": "2dpgldVIWegq"
      },
      "outputs": [],
      "source": [
        "# Genera un gráfico que compara la calibración de ambos modelos\n",
        "plt.plot([0, 1], [0, 1], 'k:', label='Perfectly calibrated')\n",
        "plt.plot(mean_pred_val_lr, frac_of_pos_lr,\n",
        "         's-', label='%s' % 'Logistic Regression')\n",
        "plt.plot(mean_pred_val_gbt, frac_of_pos_gbt,\n",
        "         's-', label='%s' % 'Gradient Boosted tree')\n",
        "plt.ylabel('Fraction of positives')\n",
        "plt.xlabel('Average Predicted Probability')\n",
        "plt.legend()\n",
        "plt.title('Calibration Curve')\n",
        "plt.show()"
      ]
    },
    {
      "cell_type": "markdown",
      "metadata": {
        "id": "7H93o8FFWegq"
      },
      "source": [
        "## Exporta datos para visualizarlos en Excel"
      ]
    },
    {
      "cell_type": "code",
      "execution_count": null,
      "metadata": {
        "id": "SmEcNJfEWegq"
      },
      "outputs": [],
      "source": [
        "# Genera Tabla final (Test)\n",
        "print(y_test.shape)\n",
        "print(preds_df.head())\n",
        "print(gbt_preds_df.head())\n",
        "df_test=pd.concat([y_test['loan_status'].reset_index(drop=True),\n",
        "                   preds_df['prob_default'].rename('lr_pd'),\n",
        "                   gbt_preds_df['prob_default'].rename('gbt_pd')],axis=1)\n",
        "df_test"
      ]
    },
    {
      "cell_type": "code",
      "execution_count": null,
      "metadata": {
        "id": "QeWP8dbYWegq"
      },
      "outputs": [],
      "source": [
        "# Genera Tabla final (Train), solo con el propósito de comparar estabilidad\n",
        "print(y_train.shape)\n",
        "print(X_train.shape)\n",
        "train_preds= clf_logistic.predict_proba(X_train)\n",
        "train_gbt_preds= clf_gbt.predict_proba(X_train)\n",
        "train_preds_df= pd.DataFrame(train_preds[:,1], columns = ['lr_pd'])\n",
        "train_gbt_preds_df= pd.DataFrame(train_gbt_preds[:,1], columns = ['gbt_pd'])"
      ]
    },
    {
      "cell_type": "code",
      "execution_count": null,
      "metadata": {
        "id": "rjwutVbxWegr"
      },
      "outputs": [],
      "source": [
        "print(train_preds_df.head())\n",
        "print(train_gbt_preds_df.head())\n",
        "df_train=pd.concat([y_train['loan_status'].reset_index(drop=True),\n",
        "                   train_preds_df['lr_pd'],\n",
        "                   train_gbt_preds_df['gbt_pd']],axis=1)\n",
        "df_train"
      ]
    },
    {
      "cell_type": "code",
      "execution_count": null,
      "metadata": {
        "id": "OXvvokivWegr"
      },
      "outputs": [],
      "source": [
        "#Exporta la tabla a Excel\n",
        "df_train.to_excel(r'C:\\Users\\johnn\\cr_loan_trainpreds.xlsx', sheet_name='train', index = False)\n",
        "df_test.to_excel (r'C:\\Users\\johnn\\cr_loan_testpreds.xlsx', sheet_name='test', index = False)"
      ]
    }
  ],
  "metadata": {
    "kernelspec": {
      "display_name": "Python 3",
      "language": "python",
      "name": "python3"
    },
    "language_info": {
      "codemirror_mode": {
        "name": "ipython",
        "version": 3
      },
      "file_extension": ".py",
      "mimetype": "text/x-python",
      "name": "python",
      "nbconvert_exporter": "python",
      "pygments_lexer": "ipython3",
      "version": "3.7.6"
    },
    "colab": {
      "provenance": [],
      "include_colab_link": true
    }
  },
  "nbformat": 4,
  "nbformat_minor": 0
}