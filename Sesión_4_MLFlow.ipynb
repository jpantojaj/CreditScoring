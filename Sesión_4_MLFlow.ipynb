{
  "nbformat": 4,
  "nbformat_minor": 0,
  "metadata": {
    "colab": {
      "provenance": [],
      "include_colab_link": true
    },
    "kernelspec": {
      "name": "python3",
      "display_name": "Python 3"
    },
    "language_info": {
      "name": "python"
    }
  },
  "cells": [
    {
      "cell_type": "markdown",
      "metadata": {
        "id": "view-in-github",
        "colab_type": "text"
      },
      "source": [
        "<a href=\"https://colab.research.google.com/github/jpantojaj/Credit_Scoring_Specialization/blob/main/Sesi%C3%B3n_4_MLFlow.ipynb\" target=\"_parent\"><img src=\"https://colab.research.google.com/assets/colab-badge.svg\" alt=\"Open In Colab\"/></a>"
      ]
    },
    {
      "cell_type": "markdown",
      "source": [
        "## **1. Registro de modelos con MlFlow**"
      ],
      "metadata": {
        "id": "Ov5W9GD_aK_c"
      }
    },
    {
      "cell_type": "code",
      "execution_count": 1,
      "metadata": {
        "id": "DA28Yvj45fMh",
        "colab": {
          "base_uri": "https://localhost:8080/"
        },
        "outputId": "e7735335-f0dc-41a3-ca6f-2159be0f098f"
      },
      "outputs": [
        {
          "output_type": "stream",
          "name": "stdout",
          "text": [
            "\u001b[2K     \u001b[90m━━━━━━━━━━━━━━━━━━━━━━━━━━━━━━━━━━━━━━━━\u001b[0m \u001b[32m25.0/25.0 MB\u001b[0m \u001b[31m17.0 MB/s\u001b[0m eta \u001b[36m0:00:00\u001b[0m\n",
            "\u001b[2K     \u001b[90m━━━━━━━━━━━━━━━━━━━━━━━━━━━━━━━━━━━━━━━━\u001b[0m \u001b[32m233.4/233.4 kB\u001b[0m \u001b[31m8.8 MB/s\u001b[0m eta \u001b[36m0:00:00\u001b[0m\n",
            "\u001b[2K     \u001b[90m━━━━━━━━━━━━━━━━━━━━━━━━━━━━━━━━━━━━━━━━\u001b[0m \u001b[32m147.8/147.8 kB\u001b[0m \u001b[31m8.5 MB/s\u001b[0m eta \u001b[36m0:00:00\u001b[0m\n",
            "\u001b[2K     \u001b[90m━━━━━━━━━━━━━━━━━━━━━━━━━━━━━━━━━━━━━━━━\u001b[0m \u001b[32m207.3/207.3 kB\u001b[0m \u001b[31m9.9 MB/s\u001b[0m eta \u001b[36m0:00:00\u001b[0m\n",
            "\u001b[2K     \u001b[90m━━━━━━━━━━━━━━━━━━━━━━━━━━━━━━━━━━━━━━━━\u001b[0m \u001b[32m128.2/128.2 kB\u001b[0m \u001b[31m5.8 MB/s\u001b[0m eta \u001b[36m0:00:00\u001b[0m\n",
            "\u001b[2K     \u001b[90m━━━━━━━━━━━━━━━━━━━━━━━━━━━━━━━━━━━━━━━━\u001b[0m \u001b[32m60.1/60.1 kB\u001b[0m \u001b[31m1.9 MB/s\u001b[0m eta \u001b[36m0:00:00\u001b[0m\n",
            "\u001b[2K     \u001b[90m━━━━━━━━━━━━━━━━━━━━━━━━━━━━━━━━━━━━━━━━\u001b[0m \u001b[32m106.1/106.1 kB\u001b[0m \u001b[31m6.4 MB/s\u001b[0m eta \u001b[36m0:00:00\u001b[0m\n",
            "\u001b[2K     \u001b[90m━━━━━━━━━━━━━━━━━━━━━━━━━━━━━━━━━━━━━━━━\u001b[0m \u001b[32m84.4/84.4 kB\u001b[0m \u001b[31m4.2 MB/s\u001b[0m eta \u001b[36m0:00:00\u001b[0m\n",
            "\u001b[2K     \u001b[90m━━━━━━━━━━━━━━━━━━━━━━━━━━━━━━━━━━━━━━━━\u001b[0m \u001b[32m78.6/78.6 kB\u001b[0m \u001b[31m4.4 MB/s\u001b[0m eta \u001b[36m0:00:00\u001b[0m\n",
            "\u001b[2K     \u001b[90m━━━━━━━━━━━━━━━━━━━━━━━━━━━━━━━━━━━━━━━━\u001b[0m \u001b[32m62.7/62.7 kB\u001b[0m \u001b[31m3.4 MB/s\u001b[0m eta \u001b[36m0:00:00\u001b[0m\n",
            "\u001b[2K     \u001b[90m━━━━━━━━━━━━━━━━━━━━━━━━━━━━━━━━━━━━━━━━\u001b[0m \u001b[32m202.9/202.9 kB\u001b[0m \u001b[31m9.0 MB/s\u001b[0m eta \u001b[36m0:00:00\u001b[0m\n",
            "\u001b[2K     \u001b[90m━━━━━━━━━━━━━━━━━━━━━━━━━━━━━━━━━━━━━━━━\u001b[0m \u001b[32m52.8/52.8 kB\u001b[0m \u001b[31m3.5 MB/s\u001b[0m eta \u001b[36m0:00:00\u001b[0m\n",
            "\u001b[?25h"
          ]
        }
      ],
      "source": [
        "!pip install mlflow --quiet"
      ]
    },
    {
      "cell_type": "code",
      "source": [
        "import mlflow\n",
        "from mlflow.models import infer_signature\n",
        "from mlflow.tracking import MlflowClient\n",
        "from sklearn import datasets\n",
        "from sklearn.model_selection import train_test_split\n",
        "from sklearn.ensemble import RandomForestClassifier\n",
        "from sklearn.metrics import accuracy_score, f1_score\n",
        "import warnings"
      ],
      "metadata": {
        "id": "pnpbEGMDMao_"
      },
      "execution_count": 2,
      "outputs": []
    },
    {
      "cell_type": "code",
      "source": [
        "# informacion del modelo\n",
        "model_name = \"modelo_clase\""
      ],
      "metadata": {
        "id": "dZVzuAMULxyG"
      },
      "execution_count": 3,
      "outputs": []
    },
    {
      "cell_type": "code",
      "source": [
        "# preprocesamiento de datos\n",
        "X, y = datasets.load_iris(return_X_y=True)\n",
        "X_train, X_test, y_train, y_test = train_test_split(X, y, test_size=0.2, random_state=42)"
      ],
      "metadata": {
        "id": "KO9LwMsBYSqO"
      },
      "execution_count": 4,
      "outputs": []
    },
    {
      "cell_type": "code",
      "source": [
        "# registrar experimento\n",
        "experiment_info = mlflow.set_experiment(model_name)\n",
        "experiment_id = int(dict(experiment_info)[\"experiment_id\"])"
      ],
      "metadata": {
        "id": "MVt3nYUeY0AH",
        "colab": {
          "base_uri": "https://localhost:8080/"
        },
        "outputId": "1a9759ca-b241-4857-f764-9a910af4b6ad"
      },
      "execution_count": 5,
      "outputs": [
        {
          "output_type": "stream",
          "name": "stderr",
          "text": [
            "2024/05/29 00:20:08 INFO mlflow.tracking.fluent: Experiment with name 'modelo_clase' does not exist. Creating a new experiment.\n"
          ]
        }
      ]
    },
    {
      "cell_type": "code",
      "source": [
        "# registro del modelo con mlflow\n",
        "with mlflow.start_run(experiment_id=experiment_id):\n",
        "    # estimacion del modelo\n",
        "    model_rf = RandomForestClassifier(n_estimators=100, max_depth=3, random_state=42)\n",
        "    model_rf.fit(X_train, y_train)\n",
        "\n",
        "    # parametros del modelo\n",
        "    params = model_rf.get_params()\n",
        "\n",
        "    # metricas del modelo\n",
        "    y_pred_train = model_rf.predict(X_train)\n",
        "    y_pred_test = model_rf.predict(X_test)\n",
        "    metricas = {\"accuracy_train\": accuracy_score(y_train, y_pred_train),\n",
        "                \"accuracy_test\": accuracy_score(y_test, y_pred_test)}\n",
        "\n",
        "    # log parametros del modelo\n",
        "    mlflow.log_params(params)\n",
        "\n",
        "    # log metricas\n",
        "    mlflow.log_metrics(metricas)\n",
        "\n",
        "    # log firma de input y outpur\n",
        "    signature = infer_signature(X_train, model_rf.predict(X_train))\n",
        "\n",
        "    # registro del modelo\n",
        "    model_info = mlflow.sklearn.log_model(model_rf,\n",
        "                                          artifact_path=model_name,\n",
        "                                          registered_model_name=model_name,\n",
        "                                          signature=signature)\n",
        "\n",
        "    # informacion del modelo\n",
        "    print(model_info.model_uri)"
      ],
      "metadata": {
        "id": "68mTWq6X9DhX",
        "colab": {
          "base_uri": "https://localhost:8080/"
        },
        "outputId": "eb7191a7-1930-4f15-cb21-c84921d432ca"
      },
      "execution_count": 6,
      "outputs": [
        {
          "output_type": "stream",
          "name": "stdout",
          "text": [
            "runs:/b20534cc399249adbadf5aeb02f92680/modelo_clase\n"
          ]
        },
        {
          "output_type": "stream",
          "name": "stderr",
          "text": [
            "/usr/local/lib/python3.10/dist-packages/_distutils_hack/__init__.py:33: UserWarning: Setuptools is replacing distutils.\n",
            "  warnings.warn(\"Setuptools is replacing distutils.\")\n",
            "Successfully registered model 'modelo_clase'.\n",
            "Created version '1' of model 'modelo_clase'.\n"
          ]
        }
      ]
    },
    {
      "cell_type": "code",
      "source": [
        "# ver modelos registrados y versiones\n",
        "client = MlflowClient()\n",
        "\n",
        "# lista de modelos registrados\n",
        "print(\"Lista de todos los modelo registrados:\")\n",
        "print(\"=\" * 80)\n",
        "for model in client.search_registered_models():\n",
        "  print(model)\n",
        "print()\n",
        "\n",
        "# lista de modelos y versiones\n",
        "print(f\"Lista de versiones del modelo {model_name}:\")\n",
        "print(\"=\" * 80)\n",
        "for version in client.search_model_versions(f\"name='{model_name}'\"):\n",
        "  print(version)"
      ],
      "metadata": {
        "id": "dGolfW4PQjJc",
        "colab": {
          "base_uri": "https://localhost:8080/"
        },
        "outputId": "30338c3c-6769-40a1-99db-5489943a9fc2"
      },
      "execution_count": 7,
      "outputs": [
        {
          "output_type": "stream",
          "name": "stdout",
          "text": [
            "Lista de todos los modelo registrados:\n",
            "================================================================================\n",
            "<RegisteredModel: aliases={}, creation_timestamp=1716942135265, description=None, last_updated_timestamp=1716942135269, latest_versions=[<ModelVersion: aliases=[], creation_timestamp=1716942135269, current_stage='None', description=None, last_updated_timestamp=1716942135269, name='modelo_clase', run_id='b20534cc399249adbadf5aeb02f92680', run_link=None, source='file:///content/mlruns/198174227049351734/b20534cc399249adbadf5aeb02f92680/artifacts/modelo_clase', status='READY', status_message=None, tags={}, user_id=None, version=1>], name='modelo_clase', tags={}>\n",
            "\n",
            "Lista de versiones del modelo modelo_clase:\n",
            "================================================================================\n",
            "<ModelVersion: aliases=[], creation_timestamp=1716942135269, current_stage='None', description=None, last_updated_timestamp=1716942135269, name='modelo_clase', run_id='b20534cc399249adbadf5aeb02f92680', run_link=None, source='file:///content/mlruns/198174227049351734/b20534cc399249adbadf5aeb02f92680/artifacts/modelo_clase', status='READY', status_message=None, tags={}, user_id=None, version=1>\n"
          ]
        }
      ]
    },
    {
      "cell_type": "markdown",
      "source": [
        "## **2. Mostrar información registrada del modelo**"
      ],
      "metadata": {
        "id": "Sf46KRsEaFdv"
      }
    },
    {
      "cell_type": "code",
      "source": [
        "# obtener informacion del modelo registrado\n",
        "mlflow.search_runs(experiment_ids=[str(experiment_id)])"
      ],
      "metadata": {
        "id": "dsDY9hZoy9-F",
        "colab": {
          "base_uri": "https://localhost:8080/",
          "height": 147
        },
        "outputId": "77373416-b3cc-4a07-d13f-9dbc01b52c1a"
      },
      "execution_count": 8,
      "outputs": [
        {
          "output_type": "execute_result",
          "data": {
            "text/plain": [
              "                             run_id       experiment_id    status  \\\n",
              "0  b20534cc399249adbadf5aeb02f92680  198174227049351734  FINISHED   \n",
              "\n",
              "                                        artifact_uri  \\\n",
              "0  file:///content/mlruns/198174227049351734/b205...   \n",
              "\n",
              "                        start_time                         end_time  \\\n",
              "0 2024-05-29 00:22:09.646000+00:00 2024-05-29 00:22:15.274000+00:00   \n",
              "\n",
              "   metrics.accuracy_test  metrics.accuracy_train params.max_features  \\\n",
              "0                    1.0                0.958333                sqrt   \n",
              "\n",
              "  params.min_impurity_decrease  ... params.min_samples_leaf params.warm_start  \\\n",
              "0                          0.0  ...                       1             False   \n",
              "\n",
              "  params.ccp_alpha params.criterion params.min_weight_fraction_leaf  \\\n",
              "0              0.0             gini                             0.0   \n",
              "\n",
              "                       tags.mlflow.log-model.history tags.mlflow.source.type  \\\n",
              "0  [{\"run_id\": \"b20534cc399249adbadf5aeb02f92680\"...                   LOCAL   \n",
              "\n",
              "                             tags.mlflow.source.name tags.mlflow.user  \\\n",
              "0  /usr/local/lib/python3.10/dist-packages/colab_...             root   \n",
              "\n",
              "  tags.mlflow.runName  \n",
              "0   beautiful-roo-247  \n",
              "\n",
              "[1 rows x 31 columns]"
            ],
            "text/html": [
              "\n",
              "  <div id=\"df-df032bc7-29e4-4aba-b421-107dc4351b91\" class=\"colab-df-container\">\n",
              "    <div>\n",
              "<style scoped>\n",
              "    .dataframe tbody tr th:only-of-type {\n",
              "        vertical-align: middle;\n",
              "    }\n",
              "\n",
              "    .dataframe tbody tr th {\n",
              "        vertical-align: top;\n",
              "    }\n",
              "\n",
              "    .dataframe thead th {\n",
              "        text-align: right;\n",
              "    }\n",
              "</style>\n",
              "<table border=\"1\" class=\"dataframe\">\n",
              "  <thead>\n",
              "    <tr style=\"text-align: right;\">\n",
              "      <th></th>\n",
              "      <th>run_id</th>\n",
              "      <th>experiment_id</th>\n",
              "      <th>status</th>\n",
              "      <th>artifact_uri</th>\n",
              "      <th>start_time</th>\n",
              "      <th>end_time</th>\n",
              "      <th>metrics.accuracy_test</th>\n",
              "      <th>metrics.accuracy_train</th>\n",
              "      <th>params.max_features</th>\n",
              "      <th>params.min_impurity_decrease</th>\n",
              "      <th>...</th>\n",
              "      <th>params.min_samples_leaf</th>\n",
              "      <th>params.warm_start</th>\n",
              "      <th>params.ccp_alpha</th>\n",
              "      <th>params.criterion</th>\n",
              "      <th>params.min_weight_fraction_leaf</th>\n",
              "      <th>tags.mlflow.log-model.history</th>\n",
              "      <th>tags.mlflow.source.type</th>\n",
              "      <th>tags.mlflow.source.name</th>\n",
              "      <th>tags.mlflow.user</th>\n",
              "      <th>tags.mlflow.runName</th>\n",
              "    </tr>\n",
              "  </thead>\n",
              "  <tbody>\n",
              "    <tr>\n",
              "      <th>0</th>\n",
              "      <td>b20534cc399249adbadf5aeb02f92680</td>\n",
              "      <td>198174227049351734</td>\n",
              "      <td>FINISHED</td>\n",
              "      <td>file:///content/mlruns/198174227049351734/b205...</td>\n",
              "      <td>2024-05-29 00:22:09.646000+00:00</td>\n",
              "      <td>2024-05-29 00:22:15.274000+00:00</td>\n",
              "      <td>1.0</td>\n",
              "      <td>0.958333</td>\n",
              "      <td>sqrt</td>\n",
              "      <td>0.0</td>\n",
              "      <td>...</td>\n",
              "      <td>1</td>\n",
              "      <td>False</td>\n",
              "      <td>0.0</td>\n",
              "      <td>gini</td>\n",
              "      <td>0.0</td>\n",
              "      <td>[{\"run_id\": \"b20534cc399249adbadf5aeb02f92680\"...</td>\n",
              "      <td>LOCAL</td>\n",
              "      <td>/usr/local/lib/python3.10/dist-packages/colab_...</td>\n",
              "      <td>root</td>\n",
              "      <td>beautiful-roo-247</td>\n",
              "    </tr>\n",
              "  </tbody>\n",
              "</table>\n",
              "<p>1 rows × 31 columns</p>\n",
              "</div>\n",
              "    <div class=\"colab-df-buttons\">\n",
              "\n",
              "  <div class=\"colab-df-container\">\n",
              "    <button class=\"colab-df-convert\" onclick=\"convertToInteractive('df-df032bc7-29e4-4aba-b421-107dc4351b91')\"\n",
              "            title=\"Convert this dataframe to an interactive table.\"\n",
              "            style=\"display:none;\">\n",
              "\n",
              "  <svg xmlns=\"http://www.w3.org/2000/svg\" height=\"24px\" viewBox=\"0 -960 960 960\">\n",
              "    <path d=\"M120-120v-720h720v720H120Zm60-500h600v-160H180v160Zm220 220h160v-160H400v160Zm0 220h160v-160H400v160ZM180-400h160v-160H180v160Zm440 0h160v-160H620v160ZM180-180h160v-160H180v160Zm440 0h160v-160H620v160Z\"/>\n",
              "  </svg>\n",
              "    </button>\n",
              "\n",
              "  <style>\n",
              "    .colab-df-container {\n",
              "      display:flex;\n",
              "      gap: 12px;\n",
              "    }\n",
              "\n",
              "    .colab-df-convert {\n",
              "      background-color: #E8F0FE;\n",
              "      border: none;\n",
              "      border-radius: 50%;\n",
              "      cursor: pointer;\n",
              "      display: none;\n",
              "      fill: #1967D2;\n",
              "      height: 32px;\n",
              "      padding: 0 0 0 0;\n",
              "      width: 32px;\n",
              "    }\n",
              "\n",
              "    .colab-df-convert:hover {\n",
              "      background-color: #E2EBFA;\n",
              "      box-shadow: 0px 1px 2px rgba(60, 64, 67, 0.3), 0px 1px 3px 1px rgba(60, 64, 67, 0.15);\n",
              "      fill: #174EA6;\n",
              "    }\n",
              "\n",
              "    .colab-df-buttons div {\n",
              "      margin-bottom: 4px;\n",
              "    }\n",
              "\n",
              "    [theme=dark] .colab-df-convert {\n",
              "      background-color: #3B4455;\n",
              "      fill: #D2E3FC;\n",
              "    }\n",
              "\n",
              "    [theme=dark] .colab-df-convert:hover {\n",
              "      background-color: #434B5C;\n",
              "      box-shadow: 0px 1px 3px 1px rgba(0, 0, 0, 0.15);\n",
              "      filter: drop-shadow(0px 1px 2px rgba(0, 0, 0, 0.3));\n",
              "      fill: #FFFFFF;\n",
              "    }\n",
              "  </style>\n",
              "\n",
              "    <script>\n",
              "      const buttonEl =\n",
              "        document.querySelector('#df-df032bc7-29e4-4aba-b421-107dc4351b91 button.colab-df-convert');\n",
              "      buttonEl.style.display =\n",
              "        google.colab.kernel.accessAllowed ? 'block' : 'none';\n",
              "\n",
              "      async function convertToInteractive(key) {\n",
              "        const element = document.querySelector('#df-df032bc7-29e4-4aba-b421-107dc4351b91');\n",
              "        const dataTable =\n",
              "          await google.colab.kernel.invokeFunction('convertToInteractive',\n",
              "                                                    [key], {});\n",
              "        if (!dataTable) return;\n",
              "\n",
              "        const docLinkHtml = 'Like what you see? Visit the ' +\n",
              "          '<a target=\"_blank\" href=https://colab.research.google.com/notebooks/data_table.ipynb>data table notebook</a>'\n",
              "          + ' to learn more about interactive tables.';\n",
              "        element.innerHTML = '';\n",
              "        dataTable['output_type'] = 'display_data';\n",
              "        await google.colab.output.renderOutput(dataTable, element);\n",
              "        const docLink = document.createElement('div');\n",
              "        docLink.innerHTML = docLinkHtml;\n",
              "        element.appendChild(docLink);\n",
              "      }\n",
              "    </script>\n",
              "  </div>\n",
              "\n",
              "\n",
              "    </div>\n",
              "  </div>\n"
            ],
            "application/vnd.google.colaboratory.intrinsic+json": {
              "type": "dataframe"
            }
          },
          "metadata": {},
          "execution_count": 8
        }
      ]
    },
    {
      "cell_type": "markdown",
      "source": [
        "## **3. Carga de modelo registrado para predicciones**"
      ],
      "metadata": {
        "id": "b3iUMHgG0SF-"
      }
    },
    {
      "cell_type": "code",
      "source": [
        "# obtener ultima version del modelo\n",
        "model_version = client.get_latest_versions(name=model_name)[0].version\n",
        "\n",
        "# cargar el modelo registrado\n",
        "loaded_model = mlflow.sklearn.load_model(model_uri=f\"models:/{model_name}/{model_version}\")"
      ],
      "metadata": {
        "id": "3NKXg3ebWkZb",
        "colab": {
          "base_uri": "https://localhost:8080/"
        },
        "outputId": "83551f51-538a-4352-c6c6-50ed16237476"
      },
      "execution_count": 9,
      "outputs": [
        {
          "output_type": "stream",
          "name": "stderr",
          "text": [
            "<ipython-input-9-07e578625dc6>:2: FutureWarning: ``mlflow.tracking.client.MlflowClient.get_latest_versions`` is deprecated since 2.9.0. Model registry stages will be removed in a future major release. To learn more about the deprecation of model registry stages, see our migration guide here: https://mlflow.org/docs/2.13.0/model-registry.html#migrating-from-stages\n",
            "  model_version = client.get_latest_versions(name=model_name)[0].version\n"
          ]
        }
      ]
    },
    {
      "cell_type": "code",
      "source": [
        "# hacer predicciones con modelo registrado\n",
        "X, y = datasets.load_iris(return_X_y=True)\n",
        "y_pred = loaded_model.predict(X)\n",
        "print(y_pred)"
      ],
      "metadata": {
        "id": "hyoBIDMRaWNc",
        "colab": {
          "base_uri": "https://localhost:8080/"
        },
        "outputId": "1bc9f4b6-1a0f-401b-f289-91fec52297f2"
      },
      "execution_count": 10,
      "outputs": [
        {
          "output_type": "stream",
          "name": "stdout",
          "text": [
            "[0 0 0 0 0 0 0 0 0 0 0 0 0 0 0 0 0 0 0 0 0 0 0 0 0 0 0 0 0 0 0 0 0 0 0 0 0\n",
            " 0 0 0 0 0 0 0 0 0 0 0 0 0 1 1 1 1 1 1 1 1 1 1 1 1 1 1 1 1 1 1 1 1 2 1 1 1\n",
            " 1 1 1 2 1 1 1 1 1 2 1 1 1 1 1 1 1 1 1 1 1 1 1 1 1 1 2 2 2 2 2 2 1 2 2 2 2\n",
            " 2 2 2 2 2 2 2 2 1 2 2 2 2 2 2 2 2 2 2 2 2 2 2 2 2 2 2 2 2 2 2 2 2 2 2 2 2\n",
            " 2 2]\n"
          ]
        }
      ]
    }
  ]
}