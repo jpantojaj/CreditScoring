{
  "cells": [
    {
      "cell_type": "markdown",
      "metadata": {
        "id": "view-in-github",
        "colab_type": "text"
      },
      "source": [
        "<a href=\"https://colab.research.google.com/github/jpantojaj/Credit_Scoring_Specialization/blob/main/Sesi%C3%B3n_6_11_Desarrollo_Calibracion_Validaci%C3%B3n_Modelo.ipynb\" target=\"_parent\"><img src=\"https://colab.research.google.com/assets/colab-badge.svg\" alt=\"Open In Colab\"/></a>"
      ]
    },
    {
      "cell_type": "markdown",
      "metadata": {
        "id": "kb9GMvxs8XyX"
      },
      "source": [
        "#**Desarrollo de un Modelo de Credit Scoring**"
      ]
    },
    {
      "cell_type": "markdown",
      "metadata": {
        "id": "qaTDbaE0EB0t"
      },
      "source": [
        "### **1. Carga Inicial de Librerías**"
      ]
    },
    {
      "cell_type": "code",
      "execution_count": 1,
      "metadata": {
        "id": "KU-3utxt_UlG"
      },
      "outputs": [],
      "source": [
        "import pandas as pd\n",
        "import numpy as np\n",
        "import sklearn\n",
        "import seaborn as sns\n",
        "import matplotlib.pyplot as plt\n",
        "\n",
        "from scipy import stats\n",
        "import warnings\n",
        "warnings.filterwarnings('ignore')"
      ]
    },
    {
      "cell_type": "markdown",
      "metadata": {
        "id": "BW354ETwEH4t"
      },
      "source": [
        "### **2. Entendimiento y Analisis Exploratorio de datos**"
      ]
    },
    {
      "cell_type": "code",
      "execution_count": 2,
      "metadata": {
        "id": "BPdgJZ0B_vwO",
        "colab": {
          "base_uri": "https://localhost:8080/",
          "height": 307
        },
        "outputId": "c9b07fc9-3286-4318-eb21-526c1075542d"
      },
      "outputs": [
        {
          "output_type": "execute_result",
          "data": {
            "text/plain": [
              "   CODMES  CODSOLICITUD         DEUDA  PLAZO_CREDITO  FLG_GARANTIA  \\\n",
              "0  201402             1   7116.681318             48             0   \n",
              "1  201404             2   1616.555000             60             0   \n",
              "2  201403             3   8082.775000             48             0   \n",
              "3  201307             4  10186.990760             48             0   \n",
              "4  201401             5  10777.033330             48             0   \n",
              "\n",
              "   MIN_MES_DE_DEFAULT  FLG_DEFAULT_12M           SEGMENTOCLIENTE  \\\n",
              "0                 NaN                0              CLIENTES ORO   \n",
              "1                 NaN                0              CLIENTES ORO   \n",
              "2                 NaN                0              CLIENTES ORO   \n",
              "3            201403.0                1              CLIENTES ORO   \n",
              "4                 NaN                0  CLIENTES PLATINUM SEGM 2   \n",
              "\n",
              "   TARJETA_RELACIONADA  VEHICULAR_RELACIONADA  ...  INGRESO_CLIENTE  \\\n",
              "0                    1                      0  ...      2526.246600   \n",
              "1                    1                      0  ...      2895.761372   \n",
              "2                    1                      0  ...      1474.419056   \n",
              "3                    0                      0  ...      1992.756892   \n",
              "4                    1                      0  ...      1680.938223   \n",
              "\n",
              "                 PROFESION  ZONA_DEL_DESEMBOLSO  ESTADO_CIVIL  EDAD_T  \\\n",
              "0                INGENIERO              UCAYALI           SOL    26.0   \n",
              "1                  TECNICO             AREQUIPA           CAS    49.0   \n",
              "2       INGENIERO DE MINAS                 PUNO           SOL    33.0   \n",
              "3                  TECNICO                CUZCO           SOL    25.0   \n",
              "4  TEC MECANICO AUTOMOTRIZ            LIMA_ESTE           CAS    57.0   \n",
              "\n",
              "        CUOTA  LINEA_DE_TC  MONTO_TC_MEMBRESIA  FLG_TC_VISA  FLG_TC_MC  \n",
              "0  236.983971       5600.0               170.0          0.0        0.0  \n",
              "1   62.089650      19250.0               170.0          0.0        0.0  \n",
              "2   22.894893      10900.0                80.0          0.0        0.0  \n",
              "3  244.267800      10900.0                80.0          0.0        0.0  \n",
              "4   17.430000      16300.0               170.0          0.0        0.0  \n",
              "\n",
              "[5 rows x 31 columns]"
            ],
            "text/html": [
              "\n",
              "  <div id=\"df-2a24162c-d74c-4648-90bf-7efd4d2c8300\" class=\"colab-df-container\">\n",
              "    <div>\n",
              "<style scoped>\n",
              "    .dataframe tbody tr th:only-of-type {\n",
              "        vertical-align: middle;\n",
              "    }\n",
              "\n",
              "    .dataframe tbody tr th {\n",
              "        vertical-align: top;\n",
              "    }\n",
              "\n",
              "    .dataframe thead th {\n",
              "        text-align: right;\n",
              "    }\n",
              "</style>\n",
              "<table border=\"1\" class=\"dataframe\">\n",
              "  <thead>\n",
              "    <tr style=\"text-align: right;\">\n",
              "      <th></th>\n",
              "      <th>CODMES</th>\n",
              "      <th>CODSOLICITUD</th>\n",
              "      <th>DEUDA</th>\n",
              "      <th>PLAZO_CREDITO</th>\n",
              "      <th>FLG_GARANTIA</th>\n",
              "      <th>MIN_MES_DE_DEFAULT</th>\n",
              "      <th>FLG_DEFAULT_12M</th>\n",
              "      <th>SEGMENTOCLIENTE</th>\n",
              "      <th>TARJETA_RELACIONADA</th>\n",
              "      <th>VEHICULAR_RELACIONADA</th>\n",
              "      <th>...</th>\n",
              "      <th>INGRESO_CLIENTE</th>\n",
              "      <th>PROFESION</th>\n",
              "      <th>ZONA_DEL_DESEMBOLSO</th>\n",
              "      <th>ESTADO_CIVIL</th>\n",
              "      <th>EDAD_T</th>\n",
              "      <th>CUOTA</th>\n",
              "      <th>LINEA_DE_TC</th>\n",
              "      <th>MONTO_TC_MEMBRESIA</th>\n",
              "      <th>FLG_TC_VISA</th>\n",
              "      <th>FLG_TC_MC</th>\n",
              "    </tr>\n",
              "  </thead>\n",
              "  <tbody>\n",
              "    <tr>\n",
              "      <th>0</th>\n",
              "      <td>201402</td>\n",
              "      <td>1</td>\n",
              "      <td>7116.681318</td>\n",
              "      <td>48</td>\n",
              "      <td>0</td>\n",
              "      <td>NaN</td>\n",
              "      <td>0</td>\n",
              "      <td>CLIENTES ORO</td>\n",
              "      <td>1</td>\n",
              "      <td>0</td>\n",
              "      <td>...</td>\n",
              "      <td>2526.246600</td>\n",
              "      <td>INGENIERO</td>\n",
              "      <td>UCAYALI</td>\n",
              "      <td>SOL</td>\n",
              "      <td>26.0</td>\n",
              "      <td>236.983971</td>\n",
              "      <td>5600.0</td>\n",
              "      <td>170.0</td>\n",
              "      <td>0.0</td>\n",
              "      <td>0.0</td>\n",
              "    </tr>\n",
              "    <tr>\n",
              "      <th>1</th>\n",
              "      <td>201404</td>\n",
              "      <td>2</td>\n",
              "      <td>1616.555000</td>\n",
              "      <td>60</td>\n",
              "      <td>0</td>\n",
              "      <td>NaN</td>\n",
              "      <td>0</td>\n",
              "      <td>CLIENTES ORO</td>\n",
              "      <td>1</td>\n",
              "      <td>0</td>\n",
              "      <td>...</td>\n",
              "      <td>2895.761372</td>\n",
              "      <td>TECNICO</td>\n",
              "      <td>AREQUIPA</td>\n",
              "      <td>CAS</td>\n",
              "      <td>49.0</td>\n",
              "      <td>62.089650</td>\n",
              "      <td>19250.0</td>\n",
              "      <td>170.0</td>\n",
              "      <td>0.0</td>\n",
              "      <td>0.0</td>\n",
              "    </tr>\n",
              "    <tr>\n",
              "      <th>2</th>\n",
              "      <td>201403</td>\n",
              "      <td>3</td>\n",
              "      <td>8082.775000</td>\n",
              "      <td>48</td>\n",
              "      <td>0</td>\n",
              "      <td>NaN</td>\n",
              "      <td>0</td>\n",
              "      <td>CLIENTES ORO</td>\n",
              "      <td>1</td>\n",
              "      <td>0</td>\n",
              "      <td>...</td>\n",
              "      <td>1474.419056</td>\n",
              "      <td>INGENIERO DE MINAS</td>\n",
              "      <td>PUNO</td>\n",
              "      <td>SOL</td>\n",
              "      <td>33.0</td>\n",
              "      <td>22.894893</td>\n",
              "      <td>10900.0</td>\n",
              "      <td>80.0</td>\n",
              "      <td>0.0</td>\n",
              "      <td>0.0</td>\n",
              "    </tr>\n",
              "    <tr>\n",
              "      <th>3</th>\n",
              "      <td>201307</td>\n",
              "      <td>4</td>\n",
              "      <td>10186.990760</td>\n",
              "      <td>48</td>\n",
              "      <td>0</td>\n",
              "      <td>201403.0</td>\n",
              "      <td>1</td>\n",
              "      <td>CLIENTES ORO</td>\n",
              "      <td>0</td>\n",
              "      <td>0</td>\n",
              "      <td>...</td>\n",
              "      <td>1992.756892</td>\n",
              "      <td>TECNICO</td>\n",
              "      <td>CUZCO</td>\n",
              "      <td>SOL</td>\n",
              "      <td>25.0</td>\n",
              "      <td>244.267800</td>\n",
              "      <td>10900.0</td>\n",
              "      <td>80.0</td>\n",
              "      <td>0.0</td>\n",
              "      <td>0.0</td>\n",
              "    </tr>\n",
              "    <tr>\n",
              "      <th>4</th>\n",
              "      <td>201401</td>\n",
              "      <td>5</td>\n",
              "      <td>10777.033330</td>\n",
              "      <td>48</td>\n",
              "      <td>0</td>\n",
              "      <td>NaN</td>\n",
              "      <td>0</td>\n",
              "      <td>CLIENTES PLATINUM SEGM 2</td>\n",
              "      <td>1</td>\n",
              "      <td>0</td>\n",
              "      <td>...</td>\n",
              "      <td>1680.938223</td>\n",
              "      <td>TEC MECANICO AUTOMOTRIZ</td>\n",
              "      <td>LIMA_ESTE</td>\n",
              "      <td>CAS</td>\n",
              "      <td>57.0</td>\n",
              "      <td>17.430000</td>\n",
              "      <td>16300.0</td>\n",
              "      <td>170.0</td>\n",
              "      <td>0.0</td>\n",
              "      <td>0.0</td>\n",
              "    </tr>\n",
              "  </tbody>\n",
              "</table>\n",
              "<p>5 rows × 31 columns</p>\n",
              "</div>\n",
              "    <div class=\"colab-df-buttons\">\n",
              "\n",
              "  <div class=\"colab-df-container\">\n",
              "    <button class=\"colab-df-convert\" onclick=\"convertToInteractive('df-2a24162c-d74c-4648-90bf-7efd4d2c8300')\"\n",
              "            title=\"Convert this dataframe to an interactive table.\"\n",
              "            style=\"display:none;\">\n",
              "\n",
              "  <svg xmlns=\"http://www.w3.org/2000/svg\" height=\"24px\" viewBox=\"0 -960 960 960\">\n",
              "    <path d=\"M120-120v-720h720v720H120Zm60-500h600v-160H180v160Zm220 220h160v-160H400v160Zm0 220h160v-160H400v160ZM180-400h160v-160H180v160Zm440 0h160v-160H620v160ZM180-180h160v-160H180v160Zm440 0h160v-160H620v160Z\"/>\n",
              "  </svg>\n",
              "    </button>\n",
              "\n",
              "  <style>\n",
              "    .colab-df-container {\n",
              "      display:flex;\n",
              "      gap: 12px;\n",
              "    }\n",
              "\n",
              "    .colab-df-convert {\n",
              "      background-color: #E8F0FE;\n",
              "      border: none;\n",
              "      border-radius: 50%;\n",
              "      cursor: pointer;\n",
              "      display: none;\n",
              "      fill: #1967D2;\n",
              "      height: 32px;\n",
              "      padding: 0 0 0 0;\n",
              "      width: 32px;\n",
              "    }\n",
              "\n",
              "    .colab-df-convert:hover {\n",
              "      background-color: #E2EBFA;\n",
              "      box-shadow: 0px 1px 2px rgba(60, 64, 67, 0.3), 0px 1px 3px 1px rgba(60, 64, 67, 0.15);\n",
              "      fill: #174EA6;\n",
              "    }\n",
              "\n",
              "    .colab-df-buttons div {\n",
              "      margin-bottom: 4px;\n",
              "    }\n",
              "\n",
              "    [theme=dark] .colab-df-convert {\n",
              "      background-color: #3B4455;\n",
              "      fill: #D2E3FC;\n",
              "    }\n",
              "\n",
              "    [theme=dark] .colab-df-convert:hover {\n",
              "      background-color: #434B5C;\n",
              "      box-shadow: 0px 1px 3px 1px rgba(0, 0, 0, 0.15);\n",
              "      filter: drop-shadow(0px 1px 2px rgba(0, 0, 0, 0.3));\n",
              "      fill: #FFFFFF;\n",
              "    }\n",
              "  </style>\n",
              "\n",
              "    <script>\n",
              "      const buttonEl =\n",
              "        document.querySelector('#df-2a24162c-d74c-4648-90bf-7efd4d2c8300 button.colab-df-convert');\n",
              "      buttonEl.style.display =\n",
              "        google.colab.kernel.accessAllowed ? 'block' : 'none';\n",
              "\n",
              "      async function convertToInteractive(key) {\n",
              "        const element = document.querySelector('#df-2a24162c-d74c-4648-90bf-7efd4d2c8300');\n",
              "        const dataTable =\n",
              "          await google.colab.kernel.invokeFunction('convertToInteractive',\n",
              "                                                    [key], {});\n",
              "        if (!dataTable) return;\n",
              "\n",
              "        const docLinkHtml = 'Like what you see? Visit the ' +\n",
              "          '<a target=\"_blank\" href=https://colab.research.google.com/notebooks/data_table.ipynb>data table notebook</a>'\n",
              "          + ' to learn more about interactive tables.';\n",
              "        element.innerHTML = '';\n",
              "        dataTable['output_type'] = 'display_data';\n",
              "        await google.colab.output.renderOutput(dataTable, element);\n",
              "        const docLink = document.createElement('div');\n",
              "        docLink.innerHTML = docLinkHtml;\n",
              "        element.appendChild(docLink);\n",
              "      }\n",
              "    </script>\n",
              "  </div>\n",
              "\n",
              "\n",
              "<div id=\"df-a512b811-f767-4884-a631-43883ba2905f\">\n",
              "  <button class=\"colab-df-quickchart\" onclick=\"quickchart('df-a512b811-f767-4884-a631-43883ba2905f')\"\n",
              "            title=\"Suggest charts\"\n",
              "            style=\"display:none;\">\n",
              "\n",
              "<svg xmlns=\"http://www.w3.org/2000/svg\" height=\"24px\"viewBox=\"0 0 24 24\"\n",
              "     width=\"24px\">\n",
              "    <g>\n",
              "        <path d=\"M19 3H5c-1.1 0-2 .9-2 2v14c0 1.1.9 2 2 2h14c1.1 0 2-.9 2-2V5c0-1.1-.9-2-2-2zM9 17H7v-7h2v7zm4 0h-2V7h2v10zm4 0h-2v-4h2v4z\"/>\n",
              "    </g>\n",
              "</svg>\n",
              "  </button>\n",
              "\n",
              "<style>\n",
              "  .colab-df-quickchart {\n",
              "      --bg-color: #E8F0FE;\n",
              "      --fill-color: #1967D2;\n",
              "      --hover-bg-color: #E2EBFA;\n",
              "      --hover-fill-color: #174EA6;\n",
              "      --disabled-fill-color: #AAA;\n",
              "      --disabled-bg-color: #DDD;\n",
              "  }\n",
              "\n",
              "  [theme=dark] .colab-df-quickchart {\n",
              "      --bg-color: #3B4455;\n",
              "      --fill-color: #D2E3FC;\n",
              "      --hover-bg-color: #434B5C;\n",
              "      --hover-fill-color: #FFFFFF;\n",
              "      --disabled-bg-color: #3B4455;\n",
              "      --disabled-fill-color: #666;\n",
              "  }\n",
              "\n",
              "  .colab-df-quickchart {\n",
              "    background-color: var(--bg-color);\n",
              "    border: none;\n",
              "    border-radius: 50%;\n",
              "    cursor: pointer;\n",
              "    display: none;\n",
              "    fill: var(--fill-color);\n",
              "    height: 32px;\n",
              "    padding: 0;\n",
              "    width: 32px;\n",
              "  }\n",
              "\n",
              "  .colab-df-quickchart:hover {\n",
              "    background-color: var(--hover-bg-color);\n",
              "    box-shadow: 0 1px 2px rgba(60, 64, 67, 0.3), 0 1px 3px 1px rgba(60, 64, 67, 0.15);\n",
              "    fill: var(--button-hover-fill-color);\n",
              "  }\n",
              "\n",
              "  .colab-df-quickchart-complete:disabled,\n",
              "  .colab-df-quickchart-complete:disabled:hover {\n",
              "    background-color: var(--disabled-bg-color);\n",
              "    fill: var(--disabled-fill-color);\n",
              "    box-shadow: none;\n",
              "  }\n",
              "\n",
              "  .colab-df-spinner {\n",
              "    border: 2px solid var(--fill-color);\n",
              "    border-color: transparent;\n",
              "    border-bottom-color: var(--fill-color);\n",
              "    animation:\n",
              "      spin 1s steps(1) infinite;\n",
              "  }\n",
              "\n",
              "  @keyframes spin {\n",
              "    0% {\n",
              "      border-color: transparent;\n",
              "      border-bottom-color: var(--fill-color);\n",
              "      border-left-color: var(--fill-color);\n",
              "    }\n",
              "    20% {\n",
              "      border-color: transparent;\n",
              "      border-left-color: var(--fill-color);\n",
              "      border-top-color: var(--fill-color);\n",
              "    }\n",
              "    30% {\n",
              "      border-color: transparent;\n",
              "      border-left-color: var(--fill-color);\n",
              "      border-top-color: var(--fill-color);\n",
              "      border-right-color: var(--fill-color);\n",
              "    }\n",
              "    40% {\n",
              "      border-color: transparent;\n",
              "      border-right-color: var(--fill-color);\n",
              "      border-top-color: var(--fill-color);\n",
              "    }\n",
              "    60% {\n",
              "      border-color: transparent;\n",
              "      border-right-color: var(--fill-color);\n",
              "    }\n",
              "    80% {\n",
              "      border-color: transparent;\n",
              "      border-right-color: var(--fill-color);\n",
              "      border-bottom-color: var(--fill-color);\n",
              "    }\n",
              "    90% {\n",
              "      border-color: transparent;\n",
              "      border-bottom-color: var(--fill-color);\n",
              "    }\n",
              "  }\n",
              "</style>\n",
              "\n",
              "  <script>\n",
              "    async function quickchart(key) {\n",
              "      const quickchartButtonEl =\n",
              "        document.querySelector('#' + key + ' button');\n",
              "      quickchartButtonEl.disabled = true;  // To prevent multiple clicks.\n",
              "      quickchartButtonEl.classList.add('colab-df-spinner');\n",
              "      try {\n",
              "        const charts = await google.colab.kernel.invokeFunction(\n",
              "            'suggestCharts', [key], {});\n",
              "      } catch (error) {\n",
              "        console.error('Error during call to suggestCharts:', error);\n",
              "      }\n",
              "      quickchartButtonEl.classList.remove('colab-df-spinner');\n",
              "      quickchartButtonEl.classList.add('colab-df-quickchart-complete');\n",
              "    }\n",
              "    (() => {\n",
              "      let quickchartButtonEl =\n",
              "        document.querySelector('#df-a512b811-f767-4884-a631-43883ba2905f button');\n",
              "      quickchartButtonEl.style.display =\n",
              "        google.colab.kernel.accessAllowed ? 'block' : 'none';\n",
              "    })();\n",
              "  </script>\n",
              "</div>\n",
              "\n",
              "    </div>\n",
              "  </div>\n"
            ],
            "application/vnd.google.colaboratory.intrinsic+json": {
              "type": "dataframe",
              "variable_name": "df_clase"
            }
          },
          "metadata": {},
          "execution_count": 2
        }
      ],
      "source": [
        "df_clase = pd.read_csv('Base_SolicitudesCreditoEfectivo_201307_201505.csv', sep = \";\")\n",
        "df_clase.head()"
      ]
    },
    {
      "cell_type": "code",
      "execution_count": 3,
      "metadata": {
        "id": "2bY_v-0h847P",
        "colab": {
          "base_uri": "https://localhost:8080/"
        },
        "outputId": "041c7d70-c80b-415e-db6b-92000659f655"
      },
      "outputs": [
        {
          "output_type": "execute_result",
          "data": {
            "text/plain": [
              "(31944, 31)"
            ]
          },
          "metadata": {},
          "execution_count": 3
        }
      ],
      "source": [
        "df_clase.shape"
      ]
    },
    {
      "cell_type": "code",
      "execution_count": 4,
      "metadata": {
        "id": "fKZi7pT49RkE",
        "colab": {
          "base_uri": "https://localhost:8080/"
        },
        "outputId": "f72b3c98-dcc8-4ce6-9dc2-828b42e8924c"
      },
      "outputs": [
        {
          "output_type": "execute_result",
          "data": {
            "text/plain": [
              "Index(['CODMES', 'CODSOLICITUD', 'DEUDA', 'PLAZO_CREDITO', 'FLG_GARANTIA',\n",
              "       'MIN_MES_DE_DEFAULT', 'FLG_DEFAULT_12M', 'SEGMENTOCLIENTE',\n",
              "       'TARJETA_RELACIONADA', 'VEHICULAR_RELACIONADA',\n",
              "       'HIPOTECARIO_RELACIONADA', 'ATRASO_MAXIMO_ULT_6M',\n",
              "       'ATRASO_MAXIMO_ULT_12M', 'ATRASO_MAXIMO_ULT_24M',\n",
              "       'MESES_AHORROS_ULT_6M', 'MEDIANA_AHORROS_ULT_6M', 'DEUDA_TOTAL_SISTEMA',\n",
              "       'CLASIF_SISTEMA_ULT_12M', 'FLG_PDH', 'NUMERO_DE_PAGOS_PDH',\n",
              "       'MONTO_TC_SISTEMA', 'INGRESO_CLIENTE', 'PROFESION',\n",
              "       'ZONA_DEL_DESEMBOLSO', 'ESTADO_CIVIL', 'EDAD_T', 'CUOTA', 'LINEA_DE_TC',\n",
              "       'MONTO_TC_MEMBRESIA', 'FLG_TC_VISA', 'FLG_TC_MC'],\n",
              "      dtype='object')"
            ]
          },
          "metadata": {},
          "execution_count": 4
        }
      ],
      "source": [
        "df_clase.columns"
      ]
    },
    {
      "cell_type": "code",
      "execution_count": 5,
      "metadata": {
        "id": "mPK10PlJ_0JE",
        "colab": {
          "base_uri": "https://localhost:8080/"
        },
        "outputId": "4a95ec39-7205-4577-ebbb-1569e8c3b415"
      },
      "outputs": [
        {
          "output_type": "stream",
          "name": "stdout",
          "text": [
            "<class 'pandas.core.frame.DataFrame'>\n",
            "RangeIndex: 31944 entries, 0 to 31943\n",
            "Data columns (total 31 columns):\n",
            " #   Column                   Non-Null Count  Dtype  \n",
            "---  ------                   --------------  -----  \n",
            " 0   CODMES                   31944 non-null  int64  \n",
            " 1   CODSOLICITUD             31944 non-null  int64  \n",
            " 2   DEUDA                    31944 non-null  float64\n",
            " 3   PLAZO_CREDITO            31944 non-null  int64  \n",
            " 4   FLG_GARANTIA             31944 non-null  int64  \n",
            " 5   MIN_MES_DE_DEFAULT       3449 non-null   float64\n",
            " 6   FLG_DEFAULT_12M          31944 non-null  int64  \n",
            " 7   SEGMENTOCLIENTE          31944 non-null  object \n",
            " 8   TARJETA_RELACIONADA      31944 non-null  int64  \n",
            " 9   VEHICULAR_RELACIONADA    31944 non-null  int64  \n",
            " 10  HIPOTECARIO_RELACIONADA  31944 non-null  int64  \n",
            " 11  ATRASO_MAXIMO_ULT_6M     31944 non-null  int64  \n",
            " 12  ATRASO_MAXIMO_ULT_12M    31941 non-null  float64\n",
            " 13  ATRASO_MAXIMO_ULT_24M    31937 non-null  float64\n",
            " 14  MESES_AHORROS_ULT_6M     31266 non-null  float64\n",
            " 15  MEDIANA_AHORROS_ULT_6M   31942 non-null  float64\n",
            " 16  DEUDA_TOTAL_SISTEMA      28763 non-null  float64\n",
            " 17  CLASIF_SISTEMA_ULT_12M   30277 non-null  float64\n",
            " 18  FLG_PDH                  31944 non-null  int64  \n",
            " 19  NUMERO_DE_PAGOS_PDH      31944 non-null  int64  \n",
            " 20  MONTO_TC_SISTEMA         31944 non-null  float64\n",
            " 21  INGRESO_CLIENTE          31166 non-null  float64\n",
            " 22  PROFESION                31604 non-null  object \n",
            " 23  ZONA_DEL_DESEMBOLSO      30954 non-null  object \n",
            " 24  ESTADO_CIVIL             30954 non-null  object \n",
            " 25  EDAD_T                   30954 non-null  float64\n",
            " 26  CUOTA                    31294 non-null  float64\n",
            " 27  LINEA_DE_TC              31294 non-null  float64\n",
            " 28  MONTO_TC_MEMBRESIA       31294 non-null  float64\n",
            " 29  FLG_TC_VISA              31294 non-null  float64\n",
            " 30  FLG_TC_MC                31294 non-null  float64\n",
            "dtypes: float64(16), int64(11), object(4)\n",
            "memory usage: 7.6+ MB\n"
          ]
        }
      ],
      "source": [
        "df_clase.info()"
      ]
    },
    {
      "cell_type": "code",
      "execution_count": 6,
      "metadata": {
        "id": "xFtncrtxNle6"
      },
      "outputs": [],
      "source": [
        "df_clase['CODMES']=df_clase['CODMES'].astype(str)\n",
        "df_clase['CODSOLICITUD']=df_clase['CODSOLICITUD'].astype(str)\n",
        "df_clase['MIN_MES_DE_DEFAULT']=df_clase['MIN_MES_DE_DEFAULT'].astype(str)\n",
        "df_clase['FLG_GARANTIA']=df_clase['FLG_GARANTIA'].astype(str)\n",
        "df_clase['TARJETA_RELACIONADA']=df_clase['TARJETA_RELACIONADA'].astype(str)\n",
        "df_clase['VEHICULAR_RELACIONADA']=df_clase['VEHICULAR_RELACIONADA'].astype(str)\n",
        "df_clase['HIPOTECARIO_RELACIONADA']=df_clase['HIPOTECARIO_RELACIONADA'].astype(str)\n",
        "df_clase['CLASIF_SISTEMA_ULT_12M']=df_clase['CLASIF_SISTEMA_ULT_12M'].astype(str)\n",
        "df_clase['FLG_PDH']=df_clase['FLG_PDH'].astype(str)\n",
        "df_clase['FLG_TC_VISA']=df_clase['FLG_TC_VISA'].astype(str)\n",
        "df_clase['FLG_TC_MC']=df_clase['FLG_TC_MC'].astype(str)"
      ]
    },
    {
      "cell_type": "code",
      "execution_count": 7,
      "metadata": {
        "id": "wMaddPEpWYJn",
        "colab": {
          "base_uri": "https://localhost:8080/",
          "height": 307
        },
        "outputId": "73b00077-285f-49a4-8a84-5bae47023983"
      },
      "outputs": [
        {
          "output_type": "execute_result",
          "data": {
            "text/plain": [
              "   CODMES CODSOLICITUD         DEUDA  PLAZO_CREDITO FLG_GARANTIA  \\\n",
              "0  201402            1   7116.681318             48            0   \n",
              "1  201404            2   1616.555000             60            0   \n",
              "2  201403            3   8082.775000             48            0   \n",
              "3  201307            4  10186.990760             48            0   \n",
              "4  201401            5  10777.033330             48            0   \n",
              "\n",
              "  MIN_MES_DE_DEFAULT  FLG_DEFAULT_12M           SEGMENTOCLIENTE  \\\n",
              "0                nan                0              CLIENTES ORO   \n",
              "1                nan                0              CLIENTES ORO   \n",
              "2                nan                0              CLIENTES ORO   \n",
              "3           201403.0                1              CLIENTES ORO   \n",
              "4                nan                0  CLIENTES PLATINUM SEGM 2   \n",
              "\n",
              "  TARJETA_RELACIONADA VEHICULAR_RELACIONADA  ... INGRESO_CLIENTE  \\\n",
              "0                   1                     0  ...     2526.246600   \n",
              "1                   1                     0  ...     2895.761372   \n",
              "2                   1                     0  ...     1474.419056   \n",
              "3                   0                     0  ...     1992.756892   \n",
              "4                   1                     0  ...     1680.938223   \n",
              "\n",
              "                 PROFESION  ZONA_DEL_DESEMBOLSO  ESTADO_CIVIL  EDAD_T  \\\n",
              "0                INGENIERO              UCAYALI           SOL    26.0   \n",
              "1                  TECNICO             AREQUIPA           CAS    49.0   \n",
              "2       INGENIERO DE MINAS                 PUNO           SOL    33.0   \n",
              "3                  TECNICO                CUZCO           SOL    25.0   \n",
              "4  TEC MECANICO AUTOMOTRIZ            LIMA_ESTE           CAS    57.0   \n",
              "\n",
              "        CUOTA  LINEA_DE_TC MONTO_TC_MEMBRESIA FLG_TC_VISA  FLG_TC_MC  \n",
              "0  236.983971       5600.0              170.0         0.0        0.0  \n",
              "1   62.089650      19250.0              170.0         0.0        0.0  \n",
              "2   22.894893      10900.0               80.0         0.0        0.0  \n",
              "3  244.267800      10900.0               80.0         0.0        0.0  \n",
              "4   17.430000      16300.0              170.0         0.0        0.0  \n",
              "\n",
              "[5 rows x 31 columns]"
            ],
            "text/html": [
              "\n",
              "  <div id=\"df-9cbe4c73-0f01-467f-abfb-8500473861fa\" class=\"colab-df-container\">\n",
              "    <div>\n",
              "<style scoped>\n",
              "    .dataframe tbody tr th:only-of-type {\n",
              "        vertical-align: middle;\n",
              "    }\n",
              "\n",
              "    .dataframe tbody tr th {\n",
              "        vertical-align: top;\n",
              "    }\n",
              "\n",
              "    .dataframe thead th {\n",
              "        text-align: right;\n",
              "    }\n",
              "</style>\n",
              "<table border=\"1\" class=\"dataframe\">\n",
              "  <thead>\n",
              "    <tr style=\"text-align: right;\">\n",
              "      <th></th>\n",
              "      <th>CODMES</th>\n",
              "      <th>CODSOLICITUD</th>\n",
              "      <th>DEUDA</th>\n",
              "      <th>PLAZO_CREDITO</th>\n",
              "      <th>FLG_GARANTIA</th>\n",
              "      <th>MIN_MES_DE_DEFAULT</th>\n",
              "      <th>FLG_DEFAULT_12M</th>\n",
              "      <th>SEGMENTOCLIENTE</th>\n",
              "      <th>TARJETA_RELACIONADA</th>\n",
              "      <th>VEHICULAR_RELACIONADA</th>\n",
              "      <th>...</th>\n",
              "      <th>INGRESO_CLIENTE</th>\n",
              "      <th>PROFESION</th>\n",
              "      <th>ZONA_DEL_DESEMBOLSO</th>\n",
              "      <th>ESTADO_CIVIL</th>\n",
              "      <th>EDAD_T</th>\n",
              "      <th>CUOTA</th>\n",
              "      <th>LINEA_DE_TC</th>\n",
              "      <th>MONTO_TC_MEMBRESIA</th>\n",
              "      <th>FLG_TC_VISA</th>\n",
              "      <th>FLG_TC_MC</th>\n",
              "    </tr>\n",
              "  </thead>\n",
              "  <tbody>\n",
              "    <tr>\n",
              "      <th>0</th>\n",
              "      <td>201402</td>\n",
              "      <td>1</td>\n",
              "      <td>7116.681318</td>\n",
              "      <td>48</td>\n",
              "      <td>0</td>\n",
              "      <td>nan</td>\n",
              "      <td>0</td>\n",
              "      <td>CLIENTES ORO</td>\n",
              "      <td>1</td>\n",
              "      <td>0</td>\n",
              "      <td>...</td>\n",
              "      <td>2526.246600</td>\n",
              "      <td>INGENIERO</td>\n",
              "      <td>UCAYALI</td>\n",
              "      <td>SOL</td>\n",
              "      <td>26.0</td>\n",
              "      <td>236.983971</td>\n",
              "      <td>5600.0</td>\n",
              "      <td>170.0</td>\n",
              "      <td>0.0</td>\n",
              "      <td>0.0</td>\n",
              "    </tr>\n",
              "    <tr>\n",
              "      <th>1</th>\n",
              "      <td>201404</td>\n",
              "      <td>2</td>\n",
              "      <td>1616.555000</td>\n",
              "      <td>60</td>\n",
              "      <td>0</td>\n",
              "      <td>nan</td>\n",
              "      <td>0</td>\n",
              "      <td>CLIENTES ORO</td>\n",
              "      <td>1</td>\n",
              "      <td>0</td>\n",
              "      <td>...</td>\n",
              "      <td>2895.761372</td>\n",
              "      <td>TECNICO</td>\n",
              "      <td>AREQUIPA</td>\n",
              "      <td>CAS</td>\n",
              "      <td>49.0</td>\n",
              "      <td>62.089650</td>\n",
              "      <td>19250.0</td>\n",
              "      <td>170.0</td>\n",
              "      <td>0.0</td>\n",
              "      <td>0.0</td>\n",
              "    </tr>\n",
              "    <tr>\n",
              "      <th>2</th>\n",
              "      <td>201403</td>\n",
              "      <td>3</td>\n",
              "      <td>8082.775000</td>\n",
              "      <td>48</td>\n",
              "      <td>0</td>\n",
              "      <td>nan</td>\n",
              "      <td>0</td>\n",
              "      <td>CLIENTES ORO</td>\n",
              "      <td>1</td>\n",
              "      <td>0</td>\n",
              "      <td>...</td>\n",
              "      <td>1474.419056</td>\n",
              "      <td>INGENIERO DE MINAS</td>\n",
              "      <td>PUNO</td>\n",
              "      <td>SOL</td>\n",
              "      <td>33.0</td>\n",
              "      <td>22.894893</td>\n",
              "      <td>10900.0</td>\n",
              "      <td>80.0</td>\n",
              "      <td>0.0</td>\n",
              "      <td>0.0</td>\n",
              "    </tr>\n",
              "    <tr>\n",
              "      <th>3</th>\n",
              "      <td>201307</td>\n",
              "      <td>4</td>\n",
              "      <td>10186.990760</td>\n",
              "      <td>48</td>\n",
              "      <td>0</td>\n",
              "      <td>201403.0</td>\n",
              "      <td>1</td>\n",
              "      <td>CLIENTES ORO</td>\n",
              "      <td>0</td>\n",
              "      <td>0</td>\n",
              "      <td>...</td>\n",
              "      <td>1992.756892</td>\n",
              "      <td>TECNICO</td>\n",
              "      <td>CUZCO</td>\n",
              "      <td>SOL</td>\n",
              "      <td>25.0</td>\n",
              "      <td>244.267800</td>\n",
              "      <td>10900.0</td>\n",
              "      <td>80.0</td>\n",
              "      <td>0.0</td>\n",
              "      <td>0.0</td>\n",
              "    </tr>\n",
              "    <tr>\n",
              "      <th>4</th>\n",
              "      <td>201401</td>\n",
              "      <td>5</td>\n",
              "      <td>10777.033330</td>\n",
              "      <td>48</td>\n",
              "      <td>0</td>\n",
              "      <td>nan</td>\n",
              "      <td>0</td>\n",
              "      <td>CLIENTES PLATINUM SEGM 2</td>\n",
              "      <td>1</td>\n",
              "      <td>0</td>\n",
              "      <td>...</td>\n",
              "      <td>1680.938223</td>\n",
              "      <td>TEC MECANICO AUTOMOTRIZ</td>\n",
              "      <td>LIMA_ESTE</td>\n",
              "      <td>CAS</td>\n",
              "      <td>57.0</td>\n",
              "      <td>17.430000</td>\n",
              "      <td>16300.0</td>\n",
              "      <td>170.0</td>\n",
              "      <td>0.0</td>\n",
              "      <td>0.0</td>\n",
              "    </tr>\n",
              "  </tbody>\n",
              "</table>\n",
              "<p>5 rows × 31 columns</p>\n",
              "</div>\n",
              "    <div class=\"colab-df-buttons\">\n",
              "\n",
              "  <div class=\"colab-df-container\">\n",
              "    <button class=\"colab-df-convert\" onclick=\"convertToInteractive('df-9cbe4c73-0f01-467f-abfb-8500473861fa')\"\n",
              "            title=\"Convert this dataframe to an interactive table.\"\n",
              "            style=\"display:none;\">\n",
              "\n",
              "  <svg xmlns=\"http://www.w3.org/2000/svg\" height=\"24px\" viewBox=\"0 -960 960 960\">\n",
              "    <path d=\"M120-120v-720h720v720H120Zm60-500h600v-160H180v160Zm220 220h160v-160H400v160Zm0 220h160v-160H400v160ZM180-400h160v-160H180v160Zm440 0h160v-160H620v160ZM180-180h160v-160H180v160Zm440 0h160v-160H620v160Z\"/>\n",
              "  </svg>\n",
              "    </button>\n",
              "\n",
              "  <style>\n",
              "    .colab-df-container {\n",
              "      display:flex;\n",
              "      gap: 12px;\n",
              "    }\n",
              "\n",
              "    .colab-df-convert {\n",
              "      background-color: #E8F0FE;\n",
              "      border: none;\n",
              "      border-radius: 50%;\n",
              "      cursor: pointer;\n",
              "      display: none;\n",
              "      fill: #1967D2;\n",
              "      height: 32px;\n",
              "      padding: 0 0 0 0;\n",
              "      width: 32px;\n",
              "    }\n",
              "\n",
              "    .colab-df-convert:hover {\n",
              "      background-color: #E2EBFA;\n",
              "      box-shadow: 0px 1px 2px rgba(60, 64, 67, 0.3), 0px 1px 3px 1px rgba(60, 64, 67, 0.15);\n",
              "      fill: #174EA6;\n",
              "    }\n",
              "\n",
              "    .colab-df-buttons div {\n",
              "      margin-bottom: 4px;\n",
              "    }\n",
              "\n",
              "    [theme=dark] .colab-df-convert {\n",
              "      background-color: #3B4455;\n",
              "      fill: #D2E3FC;\n",
              "    }\n",
              "\n",
              "    [theme=dark] .colab-df-convert:hover {\n",
              "      background-color: #434B5C;\n",
              "      box-shadow: 0px 1px 3px 1px rgba(0, 0, 0, 0.15);\n",
              "      filter: drop-shadow(0px 1px 2px rgba(0, 0, 0, 0.3));\n",
              "      fill: #FFFFFF;\n",
              "    }\n",
              "  </style>\n",
              "\n",
              "    <script>\n",
              "      const buttonEl =\n",
              "        document.querySelector('#df-9cbe4c73-0f01-467f-abfb-8500473861fa button.colab-df-convert');\n",
              "      buttonEl.style.display =\n",
              "        google.colab.kernel.accessAllowed ? 'block' : 'none';\n",
              "\n",
              "      async function convertToInteractive(key) {\n",
              "        const element = document.querySelector('#df-9cbe4c73-0f01-467f-abfb-8500473861fa');\n",
              "        const dataTable =\n",
              "          await google.colab.kernel.invokeFunction('convertToInteractive',\n",
              "                                                    [key], {});\n",
              "        if (!dataTable) return;\n",
              "\n",
              "        const docLinkHtml = 'Like what you see? Visit the ' +\n",
              "          '<a target=\"_blank\" href=https://colab.research.google.com/notebooks/data_table.ipynb>data table notebook</a>'\n",
              "          + ' to learn more about interactive tables.';\n",
              "        element.innerHTML = '';\n",
              "        dataTable['output_type'] = 'display_data';\n",
              "        await google.colab.output.renderOutput(dataTable, element);\n",
              "        const docLink = document.createElement('div');\n",
              "        docLink.innerHTML = docLinkHtml;\n",
              "        element.appendChild(docLink);\n",
              "      }\n",
              "    </script>\n",
              "  </div>\n",
              "\n",
              "\n",
              "<div id=\"df-b947edc1-1ede-4522-90e6-1370b3cea9b6\">\n",
              "  <button class=\"colab-df-quickchart\" onclick=\"quickchart('df-b947edc1-1ede-4522-90e6-1370b3cea9b6')\"\n",
              "            title=\"Suggest charts\"\n",
              "            style=\"display:none;\">\n",
              "\n",
              "<svg xmlns=\"http://www.w3.org/2000/svg\" height=\"24px\"viewBox=\"0 0 24 24\"\n",
              "     width=\"24px\">\n",
              "    <g>\n",
              "        <path d=\"M19 3H5c-1.1 0-2 .9-2 2v14c0 1.1.9 2 2 2h14c1.1 0 2-.9 2-2V5c0-1.1-.9-2-2-2zM9 17H7v-7h2v7zm4 0h-2V7h2v10zm4 0h-2v-4h2v4z\"/>\n",
              "    </g>\n",
              "</svg>\n",
              "  </button>\n",
              "\n",
              "<style>\n",
              "  .colab-df-quickchart {\n",
              "      --bg-color: #E8F0FE;\n",
              "      --fill-color: #1967D2;\n",
              "      --hover-bg-color: #E2EBFA;\n",
              "      --hover-fill-color: #174EA6;\n",
              "      --disabled-fill-color: #AAA;\n",
              "      --disabled-bg-color: #DDD;\n",
              "  }\n",
              "\n",
              "  [theme=dark] .colab-df-quickchart {\n",
              "      --bg-color: #3B4455;\n",
              "      --fill-color: #D2E3FC;\n",
              "      --hover-bg-color: #434B5C;\n",
              "      --hover-fill-color: #FFFFFF;\n",
              "      --disabled-bg-color: #3B4455;\n",
              "      --disabled-fill-color: #666;\n",
              "  }\n",
              "\n",
              "  .colab-df-quickchart {\n",
              "    background-color: var(--bg-color);\n",
              "    border: none;\n",
              "    border-radius: 50%;\n",
              "    cursor: pointer;\n",
              "    display: none;\n",
              "    fill: var(--fill-color);\n",
              "    height: 32px;\n",
              "    padding: 0;\n",
              "    width: 32px;\n",
              "  }\n",
              "\n",
              "  .colab-df-quickchart:hover {\n",
              "    background-color: var(--hover-bg-color);\n",
              "    box-shadow: 0 1px 2px rgba(60, 64, 67, 0.3), 0 1px 3px 1px rgba(60, 64, 67, 0.15);\n",
              "    fill: var(--button-hover-fill-color);\n",
              "  }\n",
              "\n",
              "  .colab-df-quickchart-complete:disabled,\n",
              "  .colab-df-quickchart-complete:disabled:hover {\n",
              "    background-color: var(--disabled-bg-color);\n",
              "    fill: var(--disabled-fill-color);\n",
              "    box-shadow: none;\n",
              "  }\n",
              "\n",
              "  .colab-df-spinner {\n",
              "    border: 2px solid var(--fill-color);\n",
              "    border-color: transparent;\n",
              "    border-bottom-color: var(--fill-color);\n",
              "    animation:\n",
              "      spin 1s steps(1) infinite;\n",
              "  }\n",
              "\n",
              "  @keyframes spin {\n",
              "    0% {\n",
              "      border-color: transparent;\n",
              "      border-bottom-color: var(--fill-color);\n",
              "      border-left-color: var(--fill-color);\n",
              "    }\n",
              "    20% {\n",
              "      border-color: transparent;\n",
              "      border-left-color: var(--fill-color);\n",
              "      border-top-color: var(--fill-color);\n",
              "    }\n",
              "    30% {\n",
              "      border-color: transparent;\n",
              "      border-left-color: var(--fill-color);\n",
              "      border-top-color: var(--fill-color);\n",
              "      border-right-color: var(--fill-color);\n",
              "    }\n",
              "    40% {\n",
              "      border-color: transparent;\n",
              "      border-right-color: var(--fill-color);\n",
              "      border-top-color: var(--fill-color);\n",
              "    }\n",
              "    60% {\n",
              "      border-color: transparent;\n",
              "      border-right-color: var(--fill-color);\n",
              "    }\n",
              "    80% {\n",
              "      border-color: transparent;\n",
              "      border-right-color: var(--fill-color);\n",
              "      border-bottom-color: var(--fill-color);\n",
              "    }\n",
              "    90% {\n",
              "      border-color: transparent;\n",
              "      border-bottom-color: var(--fill-color);\n",
              "    }\n",
              "  }\n",
              "</style>\n",
              "\n",
              "  <script>\n",
              "    async function quickchart(key) {\n",
              "      const quickchartButtonEl =\n",
              "        document.querySelector('#' + key + ' button');\n",
              "      quickchartButtonEl.disabled = true;  // To prevent multiple clicks.\n",
              "      quickchartButtonEl.classList.add('colab-df-spinner');\n",
              "      try {\n",
              "        const charts = await google.colab.kernel.invokeFunction(\n",
              "            'suggestCharts', [key], {});\n",
              "      } catch (error) {\n",
              "        console.error('Error during call to suggestCharts:', error);\n",
              "      }\n",
              "      quickchartButtonEl.classList.remove('colab-df-spinner');\n",
              "      quickchartButtonEl.classList.add('colab-df-quickchart-complete');\n",
              "    }\n",
              "    (() => {\n",
              "      let quickchartButtonEl =\n",
              "        document.querySelector('#df-b947edc1-1ede-4522-90e6-1370b3cea9b6 button');\n",
              "      quickchartButtonEl.style.display =\n",
              "        google.colab.kernel.accessAllowed ? 'block' : 'none';\n",
              "    })();\n",
              "  </script>\n",
              "</div>\n",
              "\n",
              "    </div>\n",
              "  </div>\n"
            ],
            "application/vnd.google.colaboratory.intrinsic+json": {
              "type": "dataframe",
              "variable_name": "df_clase"
            }
          },
          "metadata": {},
          "execution_count": 7
        }
      ],
      "source": [
        "df_clase.head()"
      ]
    },
    {
      "cell_type": "code",
      "execution_count": 8,
      "metadata": {
        "id": "H2sAYMEkO8Zg",
        "colab": {
          "base_uri": "https://localhost:8080/"
        },
        "outputId": "649bae02-7752-4052-94e8-4884dd0e0768"
      },
      "outputs": [
        {
          "output_type": "stream",
          "name": "stdout",
          "text": [
            "<class 'pandas.core.frame.DataFrame'>\n",
            "RangeIndex: 31944 entries, 0 to 31943\n",
            "Data columns (total 31 columns):\n",
            " #   Column                   Non-Null Count  Dtype  \n",
            "---  ------                   --------------  -----  \n",
            " 0   CODMES                   31944 non-null  object \n",
            " 1   CODSOLICITUD             31944 non-null  object \n",
            " 2   DEUDA                    31944 non-null  float64\n",
            " 3   PLAZO_CREDITO            31944 non-null  int64  \n",
            " 4   FLG_GARANTIA             31944 non-null  object \n",
            " 5   MIN_MES_DE_DEFAULT       31944 non-null  object \n",
            " 6   FLG_DEFAULT_12M          31944 non-null  int64  \n",
            " 7   SEGMENTOCLIENTE          31944 non-null  object \n",
            " 8   TARJETA_RELACIONADA      31944 non-null  object \n",
            " 9   VEHICULAR_RELACIONADA    31944 non-null  object \n",
            " 10  HIPOTECARIO_RELACIONADA  31944 non-null  object \n",
            " 11  ATRASO_MAXIMO_ULT_6M     31944 non-null  int64  \n",
            " 12  ATRASO_MAXIMO_ULT_12M    31941 non-null  float64\n",
            " 13  ATRASO_MAXIMO_ULT_24M    31937 non-null  float64\n",
            " 14  MESES_AHORROS_ULT_6M     31266 non-null  float64\n",
            " 15  MEDIANA_AHORROS_ULT_6M   31942 non-null  float64\n",
            " 16  DEUDA_TOTAL_SISTEMA      28763 non-null  float64\n",
            " 17  CLASIF_SISTEMA_ULT_12M   31944 non-null  object \n",
            " 18  FLG_PDH                  31944 non-null  object \n",
            " 19  NUMERO_DE_PAGOS_PDH      31944 non-null  int64  \n",
            " 20  MONTO_TC_SISTEMA         31944 non-null  float64\n",
            " 21  INGRESO_CLIENTE          31166 non-null  float64\n",
            " 22  PROFESION                31604 non-null  object \n",
            " 23  ZONA_DEL_DESEMBOLSO      30954 non-null  object \n",
            " 24  ESTADO_CIVIL             30954 non-null  object \n",
            " 25  EDAD_T                   30954 non-null  float64\n",
            " 26  CUOTA                    31294 non-null  float64\n",
            " 27  LINEA_DE_TC              31294 non-null  float64\n",
            " 28  MONTO_TC_MEMBRESIA       31294 non-null  float64\n",
            " 29  FLG_TC_VISA              31944 non-null  object \n",
            " 30  FLG_TC_MC                31944 non-null  object \n",
            "dtypes: float64(12), int64(4), object(15)\n",
            "memory usage: 7.6+ MB\n"
          ]
        }
      ],
      "source": [
        "df_clase.info()"
      ]
    },
    {
      "cell_type": "code",
      "source": [
        "target_count = df_clase['FLG_DEFAULT_12M'].value_counts()\n",
        "target_count"
      ],
      "metadata": {
        "colab": {
          "base_uri": "https://localhost:8080/"
        },
        "id": "d8eG5RmGwhhl",
        "outputId": "631afa14-e994-40f9-f770-c2347f064e54"
      },
      "execution_count": 9,
      "outputs": [
        {
          "output_type": "execute_result",
          "data": {
            "text/plain": [
              "FLG_DEFAULT_12M\n",
              "0    29920\n",
              "1     2024\n",
              "Name: count, dtype: int64"
            ]
          },
          "metadata": {},
          "execution_count": 9
        }
      ]
    },
    {
      "cell_type": "code",
      "source": [
        "sns.countplot(data = df_clase, x = \"FLG_DEFAULT_12M\", hue=\"FLG_DEFAULT_12M\")\n",
        "target_count = df_clase.FLG_DEFAULT_12M.value_counts()\n",
        "print('# Buen_Pagador:', target_count[0])\n",
        "print('# 1 Mora_12M:', target_count[1])\n",
        "print('Bad rate:', target_count[1]/(target_count[0]+target_count[1]))"
      ],
      "metadata": {
        "colab": {
          "base_uri": "https://localhost:8080/",
          "height": 501
        },
        "id": "Rb4v4GdHwhdh",
        "outputId": "8a56fab7-19e0-450f-b6e0-4c393e1fa710"
      },
      "execution_count": 10,
      "outputs": [
        {
          "output_type": "stream",
          "name": "stdout",
          "text": [
            "# Buen_Pagador: 29920\n",
            "# 1 Mora_12M: 2024\n",
            "Bad rate: 0.06336088154269973\n"
          ]
        },
        {
          "output_type": "display_data",
          "data": {
            "text/plain": [
              "<Figure size 640x480 with 1 Axes>"
            ],
            "image/png": "[encoded data removed]"
          },
          "metadata": {}
        }
      ]
    },
    {
      "cell_type": "code",
      "source": [
        "a1=df_clase.pivot_table(values=\"CODSOLICITUD\", index=\"CODMES\", aggfunc=\"count\", sort=True)\n",
        "a1.plot(kind = 'bar',\n",
        "       #stacked = 'True',          # Muestra las barras apiladas\n",
        "       alpha = 0.4,               # nivel de transparencia\n",
        "       width = 0.9,               # Grosor de las barras para dejar espacio entre ellas\n",
        "       figsize=(9,4));            # Cambiamos el tamaño de la figura"
      ],
      "metadata": {
        "colab": {
          "base_uri": "https://localhost:8080/",
          "height": 427
        },
        "id": "n2p6yAYGwhbD",
        "outputId": "8273affe-ca5c-4dbe-80e8-6f71cb8f2b6c"
      },
      "execution_count": 11,
      "outputs": [
        {
          "output_type": "display_data",
          "data": {
            "text/plain": [
              "<Figure size 900x400 with 1 Axes>"
            ],
            "image/png": "[encoded data removed]"
          },
          "metadata": {}
        }
      ]
    },
    {
      "cell_type": "code",
      "source": [
        "a2=df_clase.pivot_table(values=\"FLG_DEFAULT_12M\", index=\"CODMES\", aggfunc=\"mean\", sort=True)\n",
        "a2.plot(alpha = 0.4, figsize=(9,4), ylim=(0.05,0.08))"
      ],
      "metadata": {
        "colab": {
          "base_uri": "https://localhost:8080/",
          "height": 410
        },
        "id": "qCDvsCkBwhYl",
        "outputId": "11e9cfed-e5b5-4973-facb-ff1eb80d8cbf"
      },
      "execution_count": 12,
      "outputs": [
        {
          "output_type": "execute_result",
          "data": {
            "text/plain": [
              "<Axes: xlabel='CODMES'>"
            ]
          },
          "metadata": {},
          "execution_count": 12
        },
        {
          "output_type": "display_data",
          "data": {
            "text/plain": [
              "<Figure size 900x400 with 1 Axes>"
            ],
            "image/png": "[encoded data removed]"
          },
          "metadata": {}
        }
      ]
    },
    {
      "cell_type": "markdown",
      "source": [
        "### ***Hagamos el Análisis Univariado***"
      ],
      "metadata": {
        "id": "Ti-RjNs-w3qg"
      }
    },
    {
      "cell_type": "markdown",
      "source": [
        "Revisemos la cantidad de nulos y sus proporciones por variable"
      ],
      "metadata": {
        "id": "-k4mmU2vw63t"
      }
    },
    {
      "cell_type": "code",
      "source": [
        "null_values = pd.concat([df_clase.isnull().sum(), df_clase.isnull().sum() / len(df_clase)], axis = 1)\n",
        "null_values.rename(columns = {0: 'number_null_values',1: 'ratio_null_values'}, inplace = True)\n",
        "null_values"
      ],
      "metadata": {
        "colab": {
          "base_uri": "https://localhost:8080/",
          "height": 1000
        },
        "id": "jf411OG0w0qW",
        "outputId": "8ccd6bc7-5c15-41f5-ac84-dbf1bce60adb"
      },
      "execution_count": 13,
      "outputs": [
        {
          "output_type": "execute_result",
          "data": {
            "text/plain": [
              "                         number_null_values  ratio_null_values\n",
              "CODMES                                    0           0.000000\n",
              "CODSOLICITUD                              0           0.000000\n",
              "DEUDA                                     0           0.000000\n",
              "PLAZO_CREDITO                             0           0.000000\n",
              "FLG_GARANTIA                              0           0.000000\n",
              "MIN_MES_DE_DEFAULT                        0           0.000000\n",
              "FLG_DEFAULT_12M                           0           0.000000\n",
              "SEGMENTOCLIENTE                           0           0.000000\n",
              "TARJETA_RELACIONADA                       0           0.000000\n",
              "VEHICULAR_RELACIONADA                     0           0.000000\n",
              "HIPOTECARIO_RELACIONADA                   0           0.000000\n",
              "ATRASO_MAXIMO_ULT_6M                      0           0.000000\n",
              "ATRASO_MAXIMO_ULT_12M                     3           0.000094\n",
              "ATRASO_MAXIMO_ULT_24M                     7           0.000219\n",
              "MESES_AHORROS_ULT_6M                    678           0.021225\n",
              "MEDIANA_AHORROS_ULT_6M                    2           0.000063\n",
              "DEUDA_TOTAL_SISTEMA                    3181           0.099581\n",
              "CLASIF_SISTEMA_ULT_12M                    0           0.000000\n",
              "FLG_PDH                                   0           0.000000\n",
              "NUMERO_DE_PAGOS_PDH                       0           0.000000\n",
              "MONTO_TC_SISTEMA                          0           0.000000\n",
              "INGRESO_CLIENTE                         778           0.024355\n",
              "PROFESION                               340           0.010644\n",
              "ZONA_DEL_DESEMBOLSO                     990           0.030992\n",
              "ESTADO_CIVIL                            990           0.030992\n",
              "EDAD_T                                  990           0.030992\n",
              "CUOTA                                   650           0.020348\n",
              "LINEA_DE_TC                             650           0.020348\n",
              "MONTO_TC_MEMBRESIA                      650           0.020348\n",
              "FLG_TC_VISA                               0           0.000000\n",
              "FLG_TC_MC                                 0           0.000000"
            ],
            "text/html": [
              "\n",
              "  <div id=\"df-cb6c7f62-2a7d-4fdc-a365-bc985ce394c1\" class=\"colab-df-container\">\n",
              "    <div>\n",
              "<style scoped>\n",
              "    .dataframe tbody tr th:only-of-type {\n",
              "        vertical-align: middle;\n",
              "    }\n",
              "\n",
              "    .dataframe tbody tr th {\n",
              "        vertical-align: top;\n",
              "    }\n",
              "\n",
              "    .dataframe thead th {\n",
              "        text-align: right;\n",
              "    }\n",
              "</style>\n",
              "<table border=\"1\" class=\"dataframe\">\n",
              "  <thead>\n",
              "    <tr style=\"text-align: right;\">\n",
              "      <th></th>\n",
              "      <th>number_null_values</th>\n",
              "      <th>ratio_null_values</th>\n",
              "    </tr>\n",
              "  </thead>\n",
              "  <tbody>\n",
              "    <tr>\n",
              "      <th>CODMES</th>\n",
              "      <td>0</td>\n",
              "      <td>0.000000</td>\n",
              "    </tr>\n",
              "    <tr>\n",
              "      <th>CODSOLICITUD</th>\n",
              "      <td>0</td>\n",
              "      <td>0.000000</td>\n",
              "    </tr>\n",
              "    <tr>\n",
              "      <th>DEUDA</th>\n",
              "      <td>0</td>\n",
              "      <td>0.000000</td>\n",
              "    </tr>\n",
              "    <tr>\n",
              "      <th>PLAZO_CREDITO</th>\n",
              "      <td>0</td>\n",
              "      <td>0.000000</td>\n",
              "    </tr>\n",
              "    <tr>\n",
              "      <th>FLG_GARANTIA</th>\n",
              "      <td>0</td>\n",
              "      <td>0.000000</td>\n",
              "    </tr>\n",
              "    <tr>\n",
              "      <th>MIN_MES_DE_DEFAULT</th>\n",
              "      <td>0</td>\n",
              "      <td>0.000000</td>\n",
              "    </tr>\n",
              "    <tr>\n",
              "      <th>FLG_DEFAULT_12M</th>\n",
              "      <td>0</td>\n",
              "      <td>0.000000</td>\n",
              "    </tr>\n",
              "    <tr>\n",
              "      <th>SEGMENTOCLIENTE</th>\n",
              "      <td>0</td>\n",
              "      <td>0.000000</td>\n",
              "    </tr>\n",
              "    <tr>\n",
              "      <th>TARJETA_RELACIONADA</th>\n",
              "      <td>0</td>\n",
              "      <td>0.000000</td>\n",
              "    </tr>\n",
              "    <tr>\n",
              "      <th>VEHICULAR_RELACIONADA</th>\n",
              "      <td>0</td>\n",
              "      <td>0.000000</td>\n",
              "    </tr>\n",
              "    <tr>\n",
              "      <th>HIPOTECARIO_RELACIONADA</th>\n",
              "      <td>0</td>\n",
              "      <td>0.000000</td>\n",
              "    </tr>\n",
              "    <tr>\n",
              "      <th>ATRASO_MAXIMO_ULT_6M</th>\n",
              "      <td>0</td>\n",
              "      <td>0.000000</td>\n",
              "    </tr>\n",
              "    <tr>\n",
              "      <th>ATRASO_MAXIMO_ULT_12M</th>\n",
              "      <td>3</td>\n",
              "      <td>0.000094</td>\n",
              "    </tr>\n",
              "    <tr>\n",
              "      <th>ATRASO_MAXIMO_ULT_24M</th>\n",
              "      <td>7</td>\n",
              "      <td>0.000219</td>\n",
              "    </tr>\n",
              "    <tr>\n",
              "      <th>MESES_AHORROS_ULT_6M</th>\n",
              "      <td>678</td>\n",
              "      <td>0.021225</td>\n",
              "    </tr>\n",
              "    <tr>\n",
              "      <th>MEDIANA_AHORROS_ULT_6M</th>\n",
              "      <td>2</td>\n",
              "      <td>0.000063</td>\n",
              "    </tr>\n",
              "    <tr>\n",
              "      <th>DEUDA_TOTAL_SISTEMA</th>\n",
              "      <td>3181</td>\n",
              "      <td>0.099581</td>\n",
              "    </tr>\n",
              "    <tr>\n",
              "      <th>CLASIF_SISTEMA_ULT_12M</th>\n",
              "      <td>0</td>\n",
              "      <td>0.000000</td>\n",
              "    </tr>\n",
              "    <tr>\n",
              "      <th>FLG_PDH</th>\n",
              "      <td>0</td>\n",
              "      <td>0.000000</td>\n",
              "    </tr>\n",
              "    <tr>\n",
              "      <th>NUMERO_DE_PAGOS_PDH</th>\n",
              "      <td>0</td>\n",
              "      <td>0.000000</td>\n",
              "    </tr>\n",
              "    <tr>\n",
              "      <th>MONTO_TC_SISTEMA</th>\n",
              "      <td>0</td>\n",
              "      <td>0.000000</td>\n",
              "    </tr>\n",
              "    <tr>\n",
              "      <th>INGRESO_CLIENTE</th>\n",
              "      <td>778</td>\n",
              "      <td>0.024355</td>\n",
              "    </tr>\n",
              "    <tr>\n",
              "      <th>PROFESION</th>\n",
              "      <td>340</td>\n",
              "      <td>0.010644</td>\n",
              "    </tr>\n",
              "    <tr>\n",
              "      <th>ZONA_DEL_DESEMBOLSO</th>\n",
              "      <td>990</td>\n",
              "      <td>0.030992</td>\n",
              "    </tr>\n",
              "    <tr>\n",
              "      <th>ESTADO_CIVIL</th>\n",
              "      <td>990</td>\n",
              "      <td>0.030992</td>\n",
              "    </tr>\n",
              "    <tr>\n",
              "      <th>EDAD_T</th>\n",
              "      <td>990</td>\n",
              "      <td>0.030992</td>\n",
              "    </tr>\n",
              "    <tr>\n",
              "      <th>CUOTA</th>\n",
              "      <td>650</td>\n",
              "      <td>0.020348</td>\n",
              "    </tr>\n",
              "    <tr>\n",
              "      <th>LINEA_DE_TC</th>\n",
              "      <td>650</td>\n",
              "      <td>0.020348</td>\n",
              "    </tr>\n",
              "    <tr>\n",
              "      <th>MONTO_TC_MEMBRESIA</th>\n",
              "      <td>650</td>\n",
              "      <td>0.020348</td>\n",
              "    </tr>\n",
              "    <tr>\n",
              "      <th>FLG_TC_VISA</th>\n",
              "      <td>0</td>\n",
              "      <td>0.000000</td>\n",
              "    </tr>\n",
              "    <tr>\n",
              "      <th>FLG_TC_MC</th>\n",
              "      <td>0</td>\n",
              "      <td>0.000000</td>\n",
              "    </tr>\n",
              "  </tbody>\n",
              "</table>\n",
              "</div>\n",
              "    <div class=\"colab-df-buttons\">\n",
              "\n",
              "  <div class=\"colab-df-container\">\n",
              "    <button class=\"colab-df-convert\" onclick=\"convertToInteractive('df-cb6c7f62-2a7d-4fdc-a365-bc985ce394c1')\"\n",
              "            title=\"Convert this dataframe to an interactive table.\"\n",
              "            style=\"display:none;\">\n",
              "\n",
              "  <svg xmlns=\"http://www.w3.org/2000/svg\" height=\"24px\" viewBox=\"0 -960 960 960\">\n",
              "    <path d=\"M120-120v-720h720v720H120Zm60-500h600v-160H180v160Zm220 220h160v-160H400v160Zm0 220h160v-160H400v160ZM180-400h160v-160H180v160Zm440 0h160v-160H620v160ZM180-180h160v-160H180v160Zm440 0h160v-160H620v160Z\"/>\n",
              "  </svg>\n",
              "    </button>\n",
              "\n",
              "  <style>\n",
              "    .colab-df-container {\n",
              "      display:flex;\n",
              "      gap: 12px;\n",
              "    }\n",
              "\n",
              "    .colab-df-convert {\n",
              "      background-color: #E8F0FE;\n",
              "      border: none;\n",
              "      border-radius: 50%;\n",
              "      cursor: pointer;\n",
              "      display: none;\n",
              "      fill: #1967D2;\n",
              "      height: 32px;\n",
              "      padding: 0 0 0 0;\n",
              "      width: 32px;\n",
              "    }\n",
              "\n",
              "    .colab-df-convert:hover {\n",
              "      background-color: #E2EBFA;\n",
              "      box-shadow: 0px 1px 2px rgba(60, 64, 67, 0.3), 0px 1px 3px 1px rgba(60, 64, 67, 0.15);\n",
              "      fill: #174EA6;\n",
              "    }\n",
              "\n",
              "    .colab-df-buttons div {\n",
              "      margin-bottom: 4px;\n",
              "    }\n",
              "\n",
              "    [theme=dark] .colab-df-convert {\n",
              "      background-color: #3B4455;\n",
              "      fill: #D2E3FC;\n",
              "    }\n",
              "\n",
              "    [theme=dark] .colab-df-convert:hover {\n",
              "      background-color: #434B5C;\n",
              "      box-shadow: 0px 1px 3px 1px rgba(0, 0, 0, 0.15);\n",
              "      filter: drop-shadow(0px 1px 2px rgba(0, 0, 0, 0.3));\n",
              "      fill: #FFFFFF;\n",
              "    }\n",
              "  </style>\n",
              "\n",
              "    <script>\n",
              "      const buttonEl =\n",
              "        document.querySelector('#df-cb6c7f62-2a7d-4fdc-a365-bc985ce394c1 button.colab-df-convert');\n",
              "      buttonEl.style.display =\n",
              "        google.colab.kernel.accessAllowed ? 'block' : 'none';\n",
              "\n",
              "      async function convertToInteractive(key) {\n",
              "        const element = document.querySelector('#df-cb6c7f62-2a7d-4fdc-a365-bc985ce394c1');\n",
              "        const dataTable =\n",
              "          await google.colab.kernel.invokeFunction('convertToInteractive',\n",
              "                                                    [key], {});\n",
              "        if (!dataTable) return;\n",
              "\n",
              "        const docLinkHtml = 'Like what you see? Visit the ' +\n",
              "          '<a target=\"_blank\" href=https://colab.research.google.com/notebooks/data_table.ipynb>data table notebook</a>'\n",
              "          + ' to learn more about interactive tables.';\n",
              "        element.innerHTML = '';\n",
              "        dataTable['output_type'] = 'display_data';\n",
              "        await google.colab.output.renderOutput(dataTable, element);\n",
              "        const docLink = document.createElement('div');\n",
              "        docLink.innerHTML = docLinkHtml;\n",
              "        element.appendChild(docLink);\n",
              "      }\n",
              "    </script>\n",
              "  </div>\n",
              "\n",
              "\n",
              "<div id=\"df-219d9fd3-575b-409b-aa2f-a01e08e72c87\">\n",
              "  <button class=\"colab-df-quickchart\" onclick=\"quickchart('df-219d9fd3-575b-409b-aa2f-a01e08e72c87')\"\n",
              "            title=\"Suggest charts\"\n",
              "            style=\"display:none;\">\n",
              "\n",
              "<svg xmlns=\"http://www.w3.org/2000/svg\" height=\"24px\"viewBox=\"0 0 24 24\"\n",
              "     width=\"24px\">\n",
              "    <g>\n",
              "        <path d=\"M19 3H5c-1.1 0-2 .9-2 2v14c0 1.1.9 2 2 2h14c1.1 0 2-.9 2-2V5c0-1.1-.9-2-2-2zM9 17H7v-7h2v7zm4 0h-2V7h2v10zm4 0h-2v-4h2v4z\"/>\n",
              "    </g>\n",
              "</svg>\n",
              "  </button>\n",
              "\n",
              "<style>\n",
              "  .colab-df-quickchart {\n",
              "      --bg-color: #E8F0FE;\n",
              "      --fill-color: #1967D2;\n",
              "      --hover-bg-color: #E2EBFA;\n",
              "      --hover-fill-color: #174EA6;\n",
              "      --disabled-fill-color: #AAA;\n",
              "      --disabled-bg-color: #DDD;\n",
              "  }\n",
              "\n",
              "  [theme=dark] .colab-df-quickchart {\n",
              "      --bg-color: #3B4455;\n",
              "      --fill-color: #D2E3FC;\n",
              "      --hover-bg-color: #434B5C;\n",
              "      --hover-fill-color: #FFFFFF;\n",
              "      --disabled-bg-color: #3B4455;\n",
              "      --disabled-fill-color: #666;\n",
              "  }\n",
              "\n",
              "  .colab-df-quickchart {\n",
              "    background-color: var(--bg-color);\n",
              "    border: none;\n",
              "    border-radius: 50%;\n",
              "    cursor: pointer;\n",
              "    display: none;\n",
              "    fill: var(--fill-color);\n",
              "    height: 32px;\n",
              "    padding: 0;\n",
              "    width: 32px;\n",
              "  }\n",
              "\n",
              "  .colab-df-quickchart:hover {\n",
              "    background-color: var(--hover-bg-color);\n",
              "    box-shadow: 0 1px 2px rgba(60, 64, 67, 0.3), 0 1px 3px 1px rgba(60, 64, 67, 0.15);\n",
              "    fill: var(--button-hover-fill-color);\n",
              "  }\n",
              "\n",
              "  .colab-df-quickchart-complete:disabled,\n",
              "  .colab-df-quickchart-complete:disabled:hover {\n",
              "    background-color: var(--disabled-bg-color);\n",
              "    fill: var(--disabled-fill-color);\n",
              "    box-shadow: none;\n",
              "  }\n",
              "\n",
              "  .colab-df-spinner {\n",
              "    border: 2px solid var(--fill-color);\n",
              "    border-color: transparent;\n",
              "    border-bottom-color: var(--fill-color);\n",
              "    animation:\n",
              "      spin 1s steps(1) infinite;\n",
              "  }\n",
              "\n",
              "  @keyframes spin {\n",
              "    0% {\n",
              "      border-color: transparent;\n",
              "      border-bottom-color: var(--fill-color);\n",
              "      border-left-color: var(--fill-color);\n",
              "    }\n",
              "    20% {\n",
              "      border-color: transparent;\n",
              "      border-left-color: var(--fill-color);\n",
              "      border-top-color: var(--fill-color);\n",
              "    }\n",
              "    30% {\n",
              "      border-color: transparent;\n",
              "      border-left-color: var(--fill-color);\n",
              "      border-top-color: var(--fill-color);\n",
              "      border-right-color: var(--fill-color);\n",
              "    }\n",
              "    40% {\n",
              "      border-color: transparent;\n",
              "      border-right-color: var(--fill-color);\n",
              "      border-top-color: var(--fill-color);\n",
              "    }\n",
              "    60% {\n",
              "      border-color: transparent;\n",
              "      border-right-color: var(--fill-color);\n",
              "    }\n",
              "    80% {\n",
              "      border-color: transparent;\n",
              "      border-right-color: var(--fill-color);\n",
              "      border-bottom-color: var(--fill-color);\n",
              "    }\n",
              "    90% {\n",
              "      border-color: transparent;\n",
              "      border-bottom-color: var(--fill-color);\n",
              "    }\n",
              "  }\n",
              "</style>\n",
              "\n",
              "  <script>\n",
              "    async function quickchart(key) {\n",
              "      const quickchartButtonEl =\n",
              "        document.querySelector('#' + key + ' button');\n",
              "      quickchartButtonEl.disabled = true;  // To prevent multiple clicks.\n",
              "      quickchartButtonEl.classList.add('colab-df-spinner');\n",
              "      try {\n",
              "        const charts = await google.colab.kernel.invokeFunction(\n",
              "            'suggestCharts', [key], {});\n",
              "      } catch (error) {\n",
              "        console.error('Error during call to suggestCharts:', error);\n",
              "      }\n",
              "      quickchartButtonEl.classList.remove('colab-df-spinner');\n",
              "      quickchartButtonEl.classList.add('colab-df-quickchart-complete');\n",
              "    }\n",
              "    (() => {\n",
              "      let quickchartButtonEl =\n",
              "        document.querySelector('#df-219d9fd3-575b-409b-aa2f-a01e08e72c87 button');\n",
              "      quickchartButtonEl.style.display =\n",
              "        google.colab.kernel.accessAllowed ? 'block' : 'none';\n",
              "    })();\n",
              "  </script>\n",
              "</div>\n",
              "\n",
              "  <div id=\"id_b4c1ca9b-3934-4fea-be5e-c9e847487854\">\n",
              "    <style>\n",
              "      .colab-df-generate {\n",
              "        background-color: #E8F0FE;\n",
              "        border: none;\n",
              "        border-radius: 50%;\n",
              "        cursor: pointer;\n",
              "        display: none;\n",
              "        fill: #1967D2;\n",
              "        height: 32px;\n",
              "        padding: 0 0 0 0;\n",
              "        width: 32px;\n",
              "      }\n",
              "\n",
              "      .colab-df-generate:hover {\n",
              "        background-color: #E2EBFA;\n",
              "        box-shadow: 0px 1px 2px rgba(60, 64, 67, 0.3), 0px 1px 3px 1px rgba(60, 64, 67, 0.15);\n",
              "        fill: #174EA6;\n",
              "      }\n",
              "\n",
              "      [theme=dark] .colab-df-generate {\n",
              "        background-color: #3B4455;\n",
              "        fill: #D2E3FC;\n",
              "      }\n",
              "\n",
              "      [theme=dark] .colab-df-generate:hover {\n",
              "        background-color: #434B5C;\n",
              "        box-shadow: 0px 1px 3px 1px rgba(0, 0, 0, 0.15);\n",
              "        filter: drop-shadow(0px 1px 2px rgba(0, 0, 0, 0.3));\n",
              "        fill: #FFFFFF;\n",
              "      }\n",
              "    </style>\n",
              "    <button class=\"colab-df-generate\" onclick=\"generateWithVariable('null_values')\"\n",
              "            title=\"Generate code using this dataframe.\"\n",
              "            style=\"display:none;\">\n",
              "\n",
              "  <svg xmlns=\"http://www.w3.org/2000/svg\" height=\"24px\"viewBox=\"0 0 24 24\"\n",
              "       width=\"24px\">\n",
              "    <path d=\"M7,19H8.4L18.45,9,17,7.55,7,17.6ZM5,21V16.75L18.45,3.32a2,2,0,0,1,2.83,0l1.4,1.43a1.91,1.91,0,0,1,.58,1.4,1.91,1.91,0,0,1-.58,1.4L9.25,21ZM18.45,9,17,7.55Zm-12,3A5.31,5.31,0,0,0,4.9,8.1,5.31,5.31,0,0,0,1,6.5,5.31,5.31,0,0,0,4.9,4.9,5.31,5.31,0,0,0,6.5,1,5.31,5.31,0,0,0,8.1,4.9,5.31,5.31,0,0,0,12,6.5,5.46,5.46,0,0,0,6.5,12Z\"/>\n",
              "  </svg>\n",
              "    </button>\n",
              "    <script>\n",
              "      (() => {\n",
              "      const buttonEl =\n",
              "        document.querySelector('#id_b4c1ca9b-3934-4fea-be5e-c9e847487854 button.colab-df-generate');\n",
              "      buttonEl.style.display =\n",
              "        google.colab.kernel.accessAllowed ? 'block' : 'none';\n",
              "\n",
              "      buttonEl.onclick = () => {\n",
              "        google.colab.notebook.generateWithVariable('null_values');\n",
              "      }\n",
              "      })();\n",
              "    </script>\n",
              "  </div>\n",
              "\n",
              "    </div>\n",
              "  </div>\n"
            ],
            "application/vnd.google.colaboratory.intrinsic+json": {
              "type": "dataframe",
              "variable_name": "null_values",
              "summary": "{\n  \"name\": \"null_values\",\n  \"rows\": 31,\n  \"fields\": [\n    {\n      \"column\": \"number_null_values\",\n      \"properties\": {\n        \"dtype\": \"number\",\n        \"std\": 641,\n        \"min\": 0,\n        \"max\": 3181,\n        \"num_unique_values\": 10,\n        \"samples\": [\n          990,\n          3,\n          3181\n        ],\n        \"semantic_type\": \"\",\n        \"description\": \"\"\n      }\n    },\n    {\n      \"column\": \"ratio_null_values\",\n      \"properties\": {\n        \"dtype\": \"number\",\n        \"std\": 0.020077267839103876,\n        \"min\": 0.0,\n        \"max\": 0.09958051590282996,\n        \"num_unique_values\": 10,\n        \"samples\": [\n          0.030991735537190084,\n          9.391435011269723e-05,\n          0.09958051590282996\n        ],\n        \"semantic_type\": \"\",\n        \"description\": \"\"\n      }\n    }\n  ]\n}"
            }
          },
          "metadata": {},
          "execution_count": 13
        }
      ]
    },
    {
      "cell_type": "markdown",
      "source": [
        "Revisemos sus estadísticos básicos"
      ],
      "metadata": {
        "id": "Gw-yh2S5xICW"
      }
    },
    {
      "cell_type": "code",
      "source": [
        "df_clase.select_dtypes(include=['number']).describe().transpose()"
      ],
      "metadata": {
        "colab": {
          "base_uri": "https://localhost:8080/",
          "height": 551
        },
        "id": "0Gc35Fsew0n4",
        "outputId": "6016ed1d-2079-437d-ac9f-113af552c8e2"
      },
      "execution_count": 14,
      "outputs": [
        {
          "output_type": "execute_result",
          "data": {
            "text/plain": [
              "                          count          mean           std         min  \\\n",
              "DEUDA                   31944.0   5769.284906   5848.504517    8.791365   \n",
              "PLAZO_CREDITO           31944.0     39.996588     15.623734    6.000000   \n",
              "FLG_DEFAULT_12M         31944.0      0.063361      0.243615    0.000000   \n",
              "ATRASO_MAXIMO_ULT_6M    31944.0      0.254070      3.028339    0.000000   \n",
              "ATRASO_MAXIMO_ULT_12M   31941.0      1.074168     38.857057    0.000000   \n",
              "ATRASO_MAXIMO_ULT_24M   31937.0      2.107931     47.275929    0.000000   \n",
              "MESES_AHORROS_ULT_6M    31266.0      5.157935      1.449751    1.000000   \n",
              "MEDIANA_AHORROS_ULT_6M  31942.0   7161.642671   8621.384272    0.000000   \n",
              "DEUDA_TOTAL_SISTEMA     28763.0  24409.216018  58799.081039    0.000000   \n",
              "NUMERO_DE_PAGOS_PDH     31944.0     16.291948      9.419303    0.000000   \n",
              "MONTO_TC_SISTEMA        31944.0   5577.705221  14303.455224    0.000000   \n",
              "INGRESO_CLIENTE         31166.0   3247.384821   2584.502250  465.839706   \n",
              "EDAD_T                  30954.0     36.855689      9.915298   20.000000   \n",
              "CUOTA                   31294.0    687.000303   1223.568638    0.000000   \n",
              "LINEA_DE_TC             31294.0  12531.112226  12179.848525    4.000000   \n",
              "MONTO_TC_MEMBRESIA      31294.0    124.256758     75.954899   60.000000   \n",
              "\n",
              "                                25%          50%           75%           max  \n",
              "DEUDA                   1602.717111  3768.298333   7786.406583  2.054835e+05  \n",
              "PLAZO_CREDITO             24.000000    48.000000     48.000000  6.000000e+01  \n",
              "FLG_DEFAULT_12M            0.000000     0.000000      0.000000  1.000000e+00  \n",
              "ATRASO_MAXIMO_ULT_6M       0.000000     0.000000      0.000000  2.310000e+02  \n",
              "ATRASO_MAXIMO_ULT_12M      0.000000     0.000000      0.000000  5.647000e+03  \n",
              "ATRASO_MAXIMO_ULT_24M      0.000000     0.000000      0.000000  5.647000e+03  \n",
              "MESES_AHORROS_ULT_6M       5.000000     6.000000      6.000000  6.000000e+00  \n",
              "MEDIANA_AHORROS_ULT_6M  1703.222083  4325.187267   9396.200433  8.185772e+05  \n",
              "DEUDA_TOTAL_SISTEMA     1505.645000  6745.890000  20973.860000  1.458561e+06  \n",
              "NUMERO_DE_PAGOS_PDH        7.000000    24.000000     24.000000  2.400000e+01  \n",
              "MONTO_TC_SISTEMA           0.000000   470.910000   4093.860000  2.393316e+05  \n",
              "INGRESO_CLIENTE         1671.818517  2260.061985   3715.128475  2.550329e+04  \n",
              "EDAD_T                    29.000000    35.000000     42.000000  7.200000e+01  \n",
              "CUOTA                     41.640160   233.620086    769.646152  2.184978e+04  \n",
              "LINEA_DE_TC             4200.000000  9560.500000  17267.000000  1.544000e+05  \n",
              "MONTO_TC_MEMBRESIA        64.000000   100.000000    170.000000  5.000000e+02  "
            ],
            "text/html": [
              "\n",
              "  <div id=\"df-7b482b0e-d677-42d7-a03d-ecede2943871\" class=\"colab-df-container\">\n",
              "    <div>\n",
              "<style scoped>\n",
              "    .dataframe tbody tr th:only-of-type {\n",
              "        vertical-align: middle;\n",
              "    }\n",
              "\n",
              "    .dataframe tbody tr th {\n",
              "        vertical-align: top;\n",
              "    }\n",
              "\n",
              "    .dataframe thead th {\n",
              "        text-align: right;\n",
              "    }\n",
              "</style>\n",
              "<table border=\"1\" class=\"dataframe\">\n",
              "  <thead>\n",
              "    <tr style=\"text-align: right;\">\n",
              "      <th></th>\n",
              "      <th>count</th>\n",
              "      <th>mean</th>\n",
              "      <th>std</th>\n",
              "      <th>min</th>\n",
              "      <th>25%</th>\n",
              "      <th>50%</th>\n",
              "      <th>75%</th>\n",
              "      <th>max</th>\n",
              "    </tr>\n",
              "  </thead>\n",
              "  <tbody>\n",
              "    <tr>\n",
              "      <th>DEUDA</th>\n",
              "      <td>31944.0</td>\n",
              "      <td>5769.284906</td>\n",
              "      <td>5848.504517</td>\n",
              "      <td>8.791365</td>\n",
              "      <td>1602.717111</td>\n",
              "      <td>3768.298333</td>\n",
              "      <td>7786.406583</td>\n",
              "      <td>2.054835e+05</td>\n",
              "    </tr>\n",
              "    <tr>\n",
              "      <th>PLAZO_CREDITO</th>\n",
              "      <td>31944.0</td>\n",
              "      <td>39.996588</td>\n",
              "      <td>15.623734</td>\n",
              "      <td>6.000000</td>\n",
              "      <td>24.000000</td>\n",
              "      <td>48.000000</td>\n",
              "      <td>48.000000</td>\n",
              "      <td>6.000000e+01</td>\n",
              "    </tr>\n",
              "    <tr>\n",
              "      <th>FLG_DEFAULT_12M</th>\n",
              "      <td>31944.0</td>\n",
              "      <td>0.063361</td>\n",
              "      <td>0.243615</td>\n",
              "      <td>0.000000</td>\n",
              "      <td>0.000000</td>\n",
              "      <td>0.000000</td>\n",
              "      <td>0.000000</td>\n",
              "      <td>1.000000e+00</td>\n",
              "    </tr>\n",
              "    <tr>\n",
              "      <th>ATRASO_MAXIMO_ULT_6M</th>\n",
              "      <td>31944.0</td>\n",
              "      <td>0.254070</td>\n",
              "      <td>3.028339</td>\n",
              "      <td>0.000000</td>\n",
              "      <td>0.000000</td>\n",
              "      <td>0.000000</td>\n",
              "      <td>0.000000</td>\n",
              "      <td>2.310000e+02</td>\n",
              "    </tr>\n",
              "    <tr>\n",
              "      <th>ATRASO_MAXIMO_ULT_12M</th>\n",
              "      <td>31941.0</td>\n",
              "      <td>1.074168</td>\n",
              "      <td>38.857057</td>\n",
              "      <td>0.000000</td>\n",
              "      <td>0.000000</td>\n",
              "      <td>0.000000</td>\n",
              "      <td>0.000000</td>\n",
              "      <td>5.647000e+03</td>\n",
              "    </tr>\n",
              "    <tr>\n",
              "      <th>ATRASO_MAXIMO_ULT_24M</th>\n",
              "      <td>31937.0</td>\n",
              "      <td>2.107931</td>\n",
              "      <td>47.275929</td>\n",
              "      <td>0.000000</td>\n",
              "      <td>0.000000</td>\n",
              "      <td>0.000000</td>\n",
              "      <td>0.000000</td>\n",
              "      <td>5.647000e+03</td>\n",
              "    </tr>\n",
              "    <tr>\n",
              "      <th>MESES_AHORROS_ULT_6M</th>\n",
              "      <td>31266.0</td>\n",
              "      <td>5.157935</td>\n",
              "      <td>1.449751</td>\n",
              "      <td>1.000000</td>\n",
              "      <td>5.000000</td>\n",
              "      <td>6.000000</td>\n",
              "      <td>6.000000</td>\n",
              "      <td>6.000000e+00</td>\n",
              "    </tr>\n",
              "    <tr>\n",
              "      <th>MEDIANA_AHORROS_ULT_6M</th>\n",
              "      <td>31942.0</td>\n",
              "      <td>7161.642671</td>\n",
              "      <td>8621.384272</td>\n",
              "      <td>0.000000</td>\n",
              "      <td>1703.222083</td>\n",
              "      <td>4325.187267</td>\n",
              "      <td>9396.200433</td>\n",
              "      <td>8.185772e+05</td>\n",
              "    </tr>\n",
              "    <tr>\n",
              "      <th>DEUDA_TOTAL_SISTEMA</th>\n",
              "      <td>28763.0</td>\n",
              "      <td>24409.216018</td>\n",
              "      <td>58799.081039</td>\n",
              "      <td>0.000000</td>\n",
              "      <td>1505.645000</td>\n",
              "      <td>6745.890000</td>\n",
              "      <td>20973.860000</td>\n",
              "      <td>1.458561e+06</td>\n",
              "    </tr>\n",
              "    <tr>\n",
              "      <th>NUMERO_DE_PAGOS_PDH</th>\n",
              "      <td>31944.0</td>\n",
              "      <td>16.291948</td>\n",
              "      <td>9.419303</td>\n",
              "      <td>0.000000</td>\n",
              "      <td>7.000000</td>\n",
              "      <td>24.000000</td>\n",
              "      <td>24.000000</td>\n",
              "      <td>2.400000e+01</td>\n",
              "    </tr>\n",
              "    <tr>\n",
              "      <th>MONTO_TC_SISTEMA</th>\n",
              "      <td>31944.0</td>\n",
              "      <td>5577.705221</td>\n",
              "      <td>14303.455224</td>\n",
              "      <td>0.000000</td>\n",
              "      <td>0.000000</td>\n",
              "      <td>470.910000</td>\n",
              "      <td>4093.860000</td>\n",
              "      <td>2.393316e+05</td>\n",
              "    </tr>\n",
              "    <tr>\n",
              "      <th>INGRESO_CLIENTE</th>\n",
              "      <td>31166.0</td>\n",
              "      <td>3247.384821</td>\n",
              "      <td>2584.502250</td>\n",
              "      <td>465.839706</td>\n",
              "      <td>1671.818517</td>\n",
              "      <td>2260.061985</td>\n",
              "      <td>3715.128475</td>\n",
              "      <td>2.550329e+04</td>\n",
              "    </tr>\n",
              "    <tr>\n",
              "      <th>EDAD_T</th>\n",
              "      <td>30954.0</td>\n",
              "      <td>36.855689</td>\n",
              "      <td>9.915298</td>\n",
              "      <td>20.000000</td>\n",
              "      <td>29.000000</td>\n",
              "      <td>35.000000</td>\n",
              "      <td>42.000000</td>\n",
              "      <td>7.200000e+01</td>\n",
              "    </tr>\n",
              "    <tr>\n",
              "      <th>CUOTA</th>\n",
              "      <td>31294.0</td>\n",
              "      <td>687.000303</td>\n",
              "      <td>1223.568638</td>\n",
              "      <td>0.000000</td>\n",
              "      <td>41.640160</td>\n",
              "      <td>233.620086</td>\n",
              "      <td>769.646152</td>\n",
              "      <td>2.184978e+04</td>\n",
              "    </tr>\n",
              "    <tr>\n",
              "      <th>LINEA_DE_TC</th>\n",
              "      <td>31294.0</td>\n",
              "      <td>12531.112226</td>\n",
              "      <td>12179.848525</td>\n",
              "      <td>4.000000</td>\n",
              "      <td>4200.000000</td>\n",
              "      <td>9560.500000</td>\n",
              "      <td>17267.000000</td>\n",
              "      <td>1.544000e+05</td>\n",
              "    </tr>\n",
              "    <tr>\n",
              "      <th>MONTO_TC_MEMBRESIA</th>\n",
              "      <td>31294.0</td>\n",
              "      <td>124.256758</td>\n",
              "      <td>75.954899</td>\n",
              "      <td>60.000000</td>\n",
              "      <td>64.000000</td>\n",
              "      <td>100.000000</td>\n",
              "      <td>170.000000</td>\n",
              "      <td>5.000000e+02</td>\n",
              "    </tr>\n",
              "  </tbody>\n",
              "</table>\n",
              "</div>\n",
              "    <div class=\"colab-df-buttons\">\n",
              "\n",
              "  <div class=\"colab-df-container\">\n",
              "    <button class=\"colab-df-convert\" onclick=\"convertToInteractive('df-7b482b0e-d677-42d7-a03d-ecede2943871')\"\n",
              "            title=\"Convert this dataframe to an interactive table.\"\n",
              "            style=\"display:none;\">\n",
              "\n",
              "  <svg xmlns=\"http://www.w3.org/2000/svg\" height=\"24px\" viewBox=\"0 -960 960 960\">\n",
              "    <path d=\"M120-120v-720h720v720H120Zm60-500h600v-160H180v160Zm220 220h160v-160H400v160Zm0 220h160v-160H400v160ZM180-400h160v-160H180v160Zm440 0h160v-160H620v160ZM180-180h160v-160H180v160Zm440 0h160v-160H620v160Z\"/>\n",
              "  </svg>\n",
              "    </button>\n",
              "\n",
              "  <style>\n",
              "    .colab-df-container {\n",
              "      display:flex;\n",
              "      gap: 12px;\n",
              "    }\n",
              "\n",
              "    .colab-df-convert {\n",
              "      background-color: #E8F0FE;\n",
              "      border: none;\n",
              "      border-radius: 50%;\n",
              "      cursor: pointer;\n",
              "      display: none;\n",
              "      fill: #1967D2;\n",
              "      height: 32px;\n",
              "      padding: 0 0 0 0;\n",
              "      width: 32px;\n",
              "    }\n",
              "\n",
              "    .colab-df-convert:hover {\n",
              "      background-color: #E2EBFA;\n",
              "      box-shadow: 0px 1px 2px rgba(60, 64, 67, 0.3), 0px 1px 3px 1px rgba(60, 64, 67, 0.15);\n",
              "      fill: #174EA6;\n",
              "    }\n",
              "\n",
              "    .colab-df-buttons div {\n",
              "      margin-bottom: 4px;\n",
              "    }\n",
              "\n",
              "    [theme=dark] .colab-df-convert {\n",
              "      background-color: #3B4455;\n",
              "      fill: #D2E3FC;\n",
              "    }\n",
              "\n",
              "    [theme=dark] .colab-df-convert:hover {\n",
              "      background-color: #434B5C;\n",
              "      box-shadow: 0px 1px 3px 1px rgba(0, 0, 0, 0.15);\n",
              "      filter: drop-shadow(0px 1px 2px rgba(0, 0, 0, 0.3));\n",
              "      fill: #FFFFFF;\n",
              "    }\n",
              "  </style>\n",
              "\n",
              "    <script>\n",
              "      const buttonEl =\n",
              "        document.querySelector('#df-7b482b0e-d677-42d7-a03d-ecede2943871 button.colab-df-convert');\n",
              "      buttonEl.style.display =\n",
              "        google.colab.kernel.accessAllowed ? 'block' : 'none';\n",
              "\n",
              "      async function convertToInteractive(key) {\n",
              "        const element = document.querySelector('#df-7b482b0e-d677-42d7-a03d-ecede2943871');\n",
              "        const dataTable =\n",
              "          await google.colab.kernel.invokeFunction('convertToInteractive',\n",
              "                                                    [key], {});\n",
              "        if (!dataTable) return;\n",
              "\n",
              "        const docLinkHtml = 'Like what you see? Visit the ' +\n",
              "          '<a target=\"_blank\" href=https://colab.research.google.com/notebooks/data_table.ipynb>data table notebook</a>'\n",
              "          + ' to learn more about interactive tables.';\n",
              "        element.innerHTML = '';\n",
              "        dataTable['output_type'] = 'display_data';\n",
              "        await google.colab.output.renderOutput(dataTable, element);\n",
              "        const docLink = document.createElement('div');\n",
              "        docLink.innerHTML = docLinkHtml;\n",
              "        element.appendChild(docLink);\n",
              "      }\n",
              "    </script>\n",
              "  </div>\n",
              "\n",
              "\n",
              "<div id=\"df-793a0f90-ba94-4eec-a294-022ff6a4d693\">\n",
              "  <button class=\"colab-df-quickchart\" onclick=\"quickchart('df-793a0f90-ba94-4eec-a294-022ff6a4d693')\"\n",
              "            title=\"Suggest charts\"\n",
              "            style=\"display:none;\">\n",
              "\n",
              "<svg xmlns=\"http://www.w3.org/2000/svg\" height=\"24px\"viewBox=\"0 0 24 24\"\n",
              "     width=\"24px\">\n",
              "    <g>\n",
              "        <path d=\"M19 3H5c-1.1 0-2 .9-2 2v14c0 1.1.9 2 2 2h14c1.1 0 2-.9 2-2V5c0-1.1-.9-2-2-2zM9 17H7v-7h2v7zm4 0h-2V7h2v10zm4 0h-2v-4h2v4z\"/>\n",
              "    </g>\n",
              "</svg>\n",
              "  </button>\n",
              "\n",
              "<style>\n",
              "  .colab-df-quickchart {\n",
              "      --bg-color: #E8F0FE;\n",
              "      --fill-color: #1967D2;\n",
              "      --hover-bg-color: #E2EBFA;\n",
              "      --hover-fill-color: #174EA6;\n",
              "      --disabled-fill-color: #AAA;\n",
              "      --disabled-bg-color: #DDD;\n",
              "  }\n",
              "\n",
              "  [theme=dark] .colab-df-quickchart {\n",
              "      --bg-color: #3B4455;\n",
              "      --fill-color: #D2E3FC;\n",
              "      --hover-bg-color: #434B5C;\n",
              "      --hover-fill-color: #FFFFFF;\n",
              "      --disabled-bg-color: #3B4455;\n",
              "      --disabled-fill-color: #666;\n",
              "  }\n",
              "\n",
              "  .colab-df-quickchart {\n",
              "    background-color: var(--bg-color);\n",
              "    border: none;\n",
              "    border-radius: 50%;\n",
              "    cursor: pointer;\n",
              "    display: none;\n",
              "    fill: var(--fill-color);\n",
              "    height: 32px;\n",
              "    padding: 0;\n",
              "    width: 32px;\n",
              "  }\n",
              "\n",
              "  .colab-df-quickchart:hover {\n",
              "    background-color: var(--hover-bg-color);\n",
              "    box-shadow: 0 1px 2px rgba(60, 64, 67, 0.3), 0 1px 3px 1px rgba(60, 64, 67, 0.15);\n",
              "    fill: var(--button-hover-fill-color);\n",
              "  }\n",
              "\n",
              "  .colab-df-quickchart-complete:disabled,\n",
              "  .colab-df-quickchart-complete:disabled:hover {\n",
              "    background-color: var(--disabled-bg-color);\n",
              "    fill: var(--disabled-fill-color);\n",
              "    box-shadow: none;\n",
              "  }\n",
              "\n",
              "  .colab-df-spinner {\n",
              "    border: 2px solid var(--fill-color);\n",
              "    border-color: transparent;\n",
              "    border-bottom-color: var(--fill-color);\n",
              "    animation:\n",
              "      spin 1s steps(1) infinite;\n",
              "  }\n",
              "\n",
              "  @keyframes spin {\n",
              "    0% {\n",
              "      border-color: transparent;\n",
              "      border-bottom-color: var(--fill-color);\n",
              "      border-left-color: var(--fill-color);\n",
              "    }\n",
              "    20% {\n",
              "      border-color: transparent;\n",
              "      border-left-color: var(--fill-color);\n",
              "      border-top-color: var(--fill-color);\n",
              "    }\n",
              "    30% {\n",
              "      border-color: transparent;\n",
              "      border-left-color: var(--fill-color);\n",
              "      border-top-color: var(--fill-color);\n",
              "      border-right-color: var(--fill-color);\n",
              "    }\n",
              "    40% {\n",
              "      border-color: transparent;\n",
              "      border-right-color: var(--fill-color);\n",
              "      border-top-color: var(--fill-color);\n",
              "    }\n",
              "    60% {\n",
              "      border-color: transparent;\n",
              "      border-right-color: var(--fill-color);\n",
              "    }\n",
              "    80% {\n",
              "      border-color: transparent;\n",
              "      border-right-color: var(--fill-color);\n",
              "      border-bottom-color: var(--fill-color);\n",
              "    }\n",
              "    90% {\n",
              "      border-color: transparent;\n",
              "      border-bottom-color: var(--fill-color);\n",
              "    }\n",
              "  }\n",
              "</style>\n",
              "\n",
              "  <script>\n",
              "    async function quickchart(key) {\n",
              "      const quickchartButtonEl =\n",
              "        document.querySelector('#' + key + ' button');\n",
              "      quickchartButtonEl.disabled = true;  // To prevent multiple clicks.\n",
              "      quickchartButtonEl.classList.add('colab-df-spinner');\n",
              "      try {\n",
              "        const charts = await google.colab.kernel.invokeFunction(\n",
              "            'suggestCharts', [key], {});\n",
              "      } catch (error) {\n",
              "        console.error('Error during call to suggestCharts:', error);\n",
              "      }\n",
              "      quickchartButtonEl.classList.remove('colab-df-spinner');\n",
              "      quickchartButtonEl.classList.add('colab-df-quickchart-complete');\n",
              "    }\n",
              "    (() => {\n",
              "      let quickchartButtonEl =\n",
              "        document.querySelector('#df-793a0f90-ba94-4eec-a294-022ff6a4d693 button');\n",
              "      quickchartButtonEl.style.display =\n",
              "        google.colab.kernel.accessAllowed ? 'block' : 'none';\n",
              "    })();\n",
              "  </script>\n",
              "</div>\n",
              "\n",
              "    </div>\n",
              "  </div>\n"
            ],
            "application/vnd.google.colaboratory.intrinsic+json": {
              "type": "dataframe",
              "summary": "{\n  \"name\": \"df_clase\",\n  \"rows\": 16,\n  \"fields\": [\n    {\n      \"column\": \"count\",\n      \"properties\": {\n        \"dtype\": \"number\",\n        \"std\": 809.6021013436168,\n        \"min\": 28763.0,\n        \"max\": 31944.0,\n        \"num_unique_values\": 9,\n        \"samples\": [\n          30954.0,\n          31941.0,\n          28763.0\n        ],\n        \"semantic_type\": \"\",\n        \"description\": \"\"\n      }\n    },\n    {\n      \"column\": \"mean\",\n      \"properties\": {\n        \"dtype\": \"number\",\n        \"std\": 6620.570333205839,\n        \"min\": 0.06336088154269973,\n        \"max\": 24409.216018495983,\n        \"num_unique_values\": 16,\n        \"samples\": [\n          5769.284906064626,\n          39.99658777861257,\n          2.1079312396280177\n        ],\n        \"semantic_type\": \"\",\n        \"description\": \"\"\n      }\n    },\n    {\n      \"column\": \"std\",\n      \"properties\": {\n        \"dtype\": \"number\",\n        \"std\": 14728.834475028838,\n        \"min\": 0.24361473295644256,\n        \"max\": 58799.08103859131,\n        \"num_unique_values\": 16,\n        \"samples\": [\n          5848.504517206767,\n          15.623734338063048,\n          47.27592933534805\n        ],\n        \"semantic_type\": \"\",\n        \"description\": \"\"\n      }\n    },\n    {\n      \"column\": \"min\",\n      \"properties\": {\n        \"dtype\": \"number\",\n        \"std\": 115.79889550646925,\n        \"min\": 0.0,\n        \"max\": 465.839706,\n        \"num_unique_values\": 8,\n        \"samples\": [\n          6.0,\n          20.0,\n          8.791364942\n        ],\n        \"semantic_type\": \"\",\n        \"description\": \"\"\n      }\n    },\n    {\n      \"column\": \"25%\",\n      \"properties\": {\n        \"dtype\": \"number\",\n        \"std\": 1178.0150568097156,\n        \"min\": 0.0,\n        \"max\": 4200.0,\n        \"num_unique_values\": 12,\n        \"samples\": [\n          4200.0,\n          41.64015975,\n          1602.7171114999999\n        ],\n        \"semantic_type\": \"\",\n        \"description\": \"\"\n      }\n    },\n    {\n      \"column\": \"50%\",\n      \"properties\": {\n        \"dtype\": \"number\",\n        \"std\": 2917.5739912160298,\n        \"min\": 0.0,\n        \"max\": 9560.5,\n        \"num_unique_values\": 13,\n        \"samples\": [\n          9560.5,\n          35.0,\n          3768.298333\n        ],\n        \"semantic_type\": \"\",\n        \"description\": \"\"\n      }\n    },\n    {\n      \"column\": \"75%\",\n      \"properties\": {\n        \"dtype\": \"number\",\n        \"std\": 6632.317146553378,\n        \"min\": 0.0,\n        \"max\": 20973.86,\n        \"num_unique_values\": 13,\n        \"samples\": [\n          17267.0,\n          42.0,\n          7786.406583\n        ],\n        \"semantic_type\": \"\",\n        \"description\": \"\"\n      }\n    },\n    {\n      \"column\": \"max\",\n      \"properties\": {\n        \"dtype\": \"number\",\n        \"std\": 398604.8181236206,\n        \"min\": 1.0,\n        \"max\": 1458561.41,\n        \"num_unique_values\": 15,\n        \"samples\": [\n          239331.6,\n          72.0,\n          205483.523\n        ],\n        \"semantic_type\": \"\",\n        \"description\": \"\"\n      }\n    }\n  ]\n}"
            }
          },
          "metadata": {},
          "execution_count": 14
        }
      ]
    },
    {
      "cell_type": "code",
      "source": [
        "df_clase.select_dtypes(include=['object']).describe().transpose()"
      ],
      "metadata": {
        "colab": {
          "base_uri": "https://localhost:8080/",
          "height": 519
        },
        "id": "MpDKeRF7w0lb",
        "outputId": "b18c98bf-7b96-4bab-d817-b1051c55213c"
      },
      "execution_count": 15,
      "outputs": [
        {
          "output_type": "execute_result",
          "data": {
            "text/plain": [
              "                         count unique           top   freq\n",
              "CODMES                   31944     23        201505   2084\n",
              "CODSOLICITUD             31944  31944             1      1\n",
              "FLG_GARANTIA             31944      2             0  30605\n",
              "MIN_MES_DE_DEFAULT       31944     37           nan  28495\n",
              "SEGMENTOCLIENTE          31944      7  CLIENTES ORO  22101\n",
              "TARJETA_RELACIONADA      31944      2             1  19914\n",
              "VEHICULAR_RELACIONADA    31944      2             0  31612\n",
              "HIPOTECARIO_RELACIONADA  31944      2             0  31212\n",
              "CLASIF_SISTEMA_ULT_12M   31944      6           0.0  23640\n",
              "FLG_PDH                  31944      2             1  26825\n",
              "PROFESION                31604    175       TECNICO  10980\n",
              "ZONA_DEL_DESEMBOLSO      30954     30      AREQUIPA   3664\n",
              "ESTADO_CIVIL             30954      6           SOL  21258\n",
              "FLG_TC_VISA              31944      3           0.0  19462\n",
              "FLG_TC_MC                31944      3           0.0  19235"
            ],
            "text/html": [
              "\n",
              "  <div id=\"df-368f9dcc-6901-4c20-90a6-a94b215d55a6\" class=\"colab-df-container\">\n",
              "    <div>\n",
              "<style scoped>\n",
              "    .dataframe tbody tr th:only-of-type {\n",
              "        vertical-align: middle;\n",
              "    }\n",
              "\n",
              "    .dataframe tbody tr th {\n",
              "        vertical-align: top;\n",
              "    }\n",
              "\n",
              "    .dataframe thead th {\n",
              "        text-align: right;\n",
              "    }\n",
              "</style>\n",
              "<table border=\"1\" class=\"dataframe\">\n",
              "  <thead>\n",
              "    <tr style=\"text-align: right;\">\n",
              "      <th></th>\n",
              "      <th>count</th>\n",
              "      <th>unique</th>\n",
              "      <th>top</th>\n",
              "      <th>freq</th>\n",
              "    </tr>\n",
              "  </thead>\n",
              "  <tbody>\n",
              "    <tr>\n",
              "      <th>CODMES</th>\n",
              "      <td>31944</td>\n",
              "      <td>23</td>\n",
              "      <td>201505</td>\n",
              "      <td>2084</td>\n",
              "    </tr>\n",
              "    <tr>\n",
              "      <th>CODSOLICITUD</th>\n",
              "      <td>31944</td>\n",
              "      <td>31944</td>\n",
              "      <td>1</td>\n",
              "      <td>1</td>\n",
              "    </tr>\n",
              "    <tr>\n",
              "      <th>FLG_GARANTIA</th>\n",
              "      <td>31944</td>\n",
              "      <td>2</td>\n",
              "      <td>0</td>\n",
              "      <td>30605</td>\n",
              "    </tr>\n",
              "    <tr>\n",
              "      <th>MIN_MES_DE_DEFAULT</th>\n",
              "      <td>31944</td>\n",
              "      <td>37</td>\n",
              "      <td>nan</td>\n",
              "      <td>28495</td>\n",
              "    </tr>\n",
              "    <tr>\n",
              "      <th>SEGMENTOCLIENTE</th>\n",
              "      <td>31944</td>\n",
              "      <td>7</td>\n",
              "      <td>CLIENTES ORO</td>\n",
              "      <td>22101</td>\n",
              "    </tr>\n",
              "    <tr>\n",
              "      <th>TARJETA_RELACIONADA</th>\n",
              "      <td>31944</td>\n",
              "      <td>2</td>\n",
              "      <td>1</td>\n",
              "      <td>19914</td>\n",
              "    </tr>\n",
              "    <tr>\n",
              "      <th>VEHICULAR_RELACIONADA</th>\n",
              "      <td>31944</td>\n",
              "      <td>2</td>\n",
              "      <td>0</td>\n",
              "      <td>31612</td>\n",
              "    </tr>\n",
              "    <tr>\n",
              "      <th>HIPOTECARIO_RELACIONADA</th>\n",
              "      <td>31944</td>\n",
              "      <td>2</td>\n",
              "      <td>0</td>\n",
              "      <td>31212</td>\n",
              "    </tr>\n",
              "    <tr>\n",
              "      <th>CLASIF_SISTEMA_ULT_12M</th>\n",
              "      <td>31944</td>\n",
              "      <td>6</td>\n",
              "      <td>0.0</td>\n",
              "      <td>23640</td>\n",
              "    </tr>\n",
              "    <tr>\n",
              "      <th>FLG_PDH</th>\n",
              "      <td>31944</td>\n",
              "      <td>2</td>\n",
              "      <td>1</td>\n",
              "      <td>26825</td>\n",
              "    </tr>\n",
              "    <tr>\n",
              "      <th>PROFESION</th>\n",
              "      <td>31604</td>\n",
              "      <td>175</td>\n",
              "      <td>TECNICO</td>\n",
              "      <td>10980</td>\n",
              "    </tr>\n",
              "    <tr>\n",
              "      <th>ZONA_DEL_DESEMBOLSO</th>\n",
              "      <td>30954</td>\n",
              "      <td>30</td>\n",
              "      <td>AREQUIPA</td>\n",
              "      <td>3664</td>\n",
              "    </tr>\n",
              "    <tr>\n",
              "      <th>ESTADO_CIVIL</th>\n",
              "      <td>30954</td>\n",
              "      <td>6</td>\n",
              "      <td>SOL</td>\n",
              "      <td>21258</td>\n",
              "    </tr>\n",
              "    <tr>\n",
              "      <th>FLG_TC_VISA</th>\n",
              "      <td>31944</td>\n",
              "      <td>3</td>\n",
              "      <td>0.0</td>\n",
              "      <td>19462</td>\n",
              "    </tr>\n",
              "    <tr>\n",
              "      <th>FLG_TC_MC</th>\n",
              "      <td>31944</td>\n",
              "      <td>3</td>\n",
              "      <td>0.0</td>\n",
              "      <td>19235</td>\n",
              "    </tr>\n",
              "  </tbody>\n",
              "</table>\n",
              "</div>\n",
              "    <div class=\"colab-df-buttons\">\n",
              "\n",
              "  <div class=\"colab-df-container\">\n",
              "    <button class=\"colab-df-convert\" onclick=\"convertToInteractive('df-368f9dcc-6901-4c20-90a6-a94b215d55a6')\"\n",
              "            title=\"Convert this dataframe to an interactive table.\"\n",
              "            style=\"display:none;\">\n",
              "\n",
              "  <svg xmlns=\"http://www.w3.org/2000/svg\" height=\"24px\" viewBox=\"0 -960 960 960\">\n",
              "    <path d=\"M120-120v-720h720v720H120Zm60-500h600v-160H180v160Zm220 220h160v-160H400v160Zm0 220h160v-160H400v160ZM180-400h160v-160H180v160Zm440 0h160v-160H620v160ZM180-180h160v-160H180v160Zm440 0h160v-160H620v160Z\"/>\n",
              "  </svg>\n",
              "    </button>\n",
              "\n",
              "  <style>\n",
              "    .colab-df-container {\n",
              "      display:flex;\n",
              "      gap: 12px;\n",
              "    }\n",
              "\n",
              "    .colab-df-convert {\n",
              "      background-color: #E8F0FE;\n",
              "      border: none;\n",
              "      border-radius: 50%;\n",
              "      cursor: pointer;\n",
              "      display: none;\n",
              "      fill: #1967D2;\n",
              "      height: 32px;\n",
              "      padding: 0 0 0 0;\n",
              "      width: 32px;\n",
              "    }\n",
              "\n",
              "    .colab-df-convert:hover {\n",
              "      background-color: #E2EBFA;\n",
              "      box-shadow: 0px 1px 2px rgba(60, 64, 67, 0.3), 0px 1px 3px 1px rgba(60, 64, 67, 0.15);\n",
              "      fill: #174EA6;\n",
              "    }\n",
              "\n",
              "    .colab-df-buttons div {\n",
              "      margin-bottom: 4px;\n",
              "    }\n",
              "\n",
              "    [theme=dark] .colab-df-convert {\n",
              "      background-color: #3B4455;\n",
              "      fill: #D2E3FC;\n",
              "    }\n",
              "\n",
              "    [theme=dark] .colab-df-convert:hover {\n",
              "      background-color: #434B5C;\n",
              "      box-shadow: 0px 1px 3px 1px rgba(0, 0, 0, 0.15);\n",
              "      filter: drop-shadow(0px 1px 2px rgba(0, 0, 0, 0.3));\n",
              "      fill: #FFFFFF;\n",
              "    }\n",
              "  </style>\n",
              "\n",
              "    <script>\n",
              "      const buttonEl =\n",
              "        document.querySelector('#df-368f9dcc-6901-4c20-90a6-a94b215d55a6 button.colab-df-convert');\n",
              "      buttonEl.style.display =\n",
              "        google.colab.kernel.accessAllowed ? 'block' : 'none';\n",
              "\n",
              "      async function convertToInteractive(key) {\n",
              "        const element = document.querySelector('#df-368f9dcc-6901-4c20-90a6-a94b215d55a6');\n",
              "        const dataTable =\n",
              "          await google.colab.kernel.invokeFunction('convertToInteractive',\n",
              "                                                    [key], {});\n",
              "        if (!dataTable) return;\n",
              "\n",
              "        const docLinkHtml = 'Like what you see? Visit the ' +\n",
              "          '<a target=\"_blank\" href=https://colab.research.google.com/notebooks/data_table.ipynb>data table notebook</a>'\n",
              "          + ' to learn more about interactive tables.';\n",
              "        element.innerHTML = '';\n",
              "        dataTable['output_type'] = 'display_data';\n",
              "        await google.colab.output.renderOutput(dataTable, element);\n",
              "        const docLink = document.createElement('div');\n",
              "        docLink.innerHTML = docLinkHtml;\n",
              "        element.appendChild(docLink);\n",
              "      }\n",
              "    </script>\n",
              "  </div>\n",
              "\n",
              "\n",
              "<div id=\"df-6e817eed-7e30-4378-a11f-30255d21122a\">\n",
              "  <button class=\"colab-df-quickchart\" onclick=\"quickchart('df-6e817eed-7e30-4378-a11f-30255d21122a')\"\n",
              "            title=\"Suggest charts\"\n",
              "            style=\"display:none;\">\n",
              "\n",
              "<svg xmlns=\"http://www.w3.org/2000/svg\" height=\"24px\"viewBox=\"0 0 24 24\"\n",
              "     width=\"24px\">\n",
              "    <g>\n",
              "        <path d=\"M19 3H5c-1.1 0-2 .9-2 2v14c0 1.1.9 2 2 2h14c1.1 0 2-.9 2-2V5c0-1.1-.9-2-2-2zM9 17H7v-7h2v7zm4 0h-2V7h2v10zm4 0h-2v-4h2v4z\"/>\n",
              "    </g>\n",
              "</svg>\n",
              "  </button>\n",
              "\n",
              "<style>\n",
              "  .colab-df-quickchart {\n",
              "      --bg-color: #E8F0FE;\n",
              "      --fill-color: #1967D2;\n",
              "      --hover-bg-color: #E2EBFA;\n",
              "      --hover-fill-color: #174EA6;\n",
              "      --disabled-fill-color: #AAA;\n",
              "      --disabled-bg-color: #DDD;\n",
              "  }\n",
              "\n",
              "  [theme=dark] .colab-df-quickchart {\n",
              "      --bg-color: #3B4455;\n",
              "      --fill-color: #D2E3FC;\n",
              "      --hover-bg-color: #434B5C;\n",
              "      --hover-fill-color: #FFFFFF;\n",
              "      --disabled-bg-color: #3B4455;\n",
              "      --disabled-fill-color: #666;\n",
              "  }\n",
              "\n",
              "  .colab-df-quickchart {\n",
              "    background-color: var(--bg-color);\n",
              "    border: none;\n",
              "    border-radius: 50%;\n",
              "    cursor: pointer;\n",
              "    display: none;\n",
              "    fill: var(--fill-color);\n",
              "    height: 32px;\n",
              "    padding: 0;\n",
              "    width: 32px;\n",
              "  }\n",
              "\n",
              "  .colab-df-quickchart:hover {\n",
              "    background-color: var(--hover-bg-color);\n",
              "    box-shadow: 0 1px 2px rgba(60, 64, 67, 0.3), 0 1px 3px 1px rgba(60, 64, 67, 0.15);\n",
              "    fill: var(--button-hover-fill-color);\n",
              "  }\n",
              "\n",
              "  .colab-df-quickchart-complete:disabled,\n",
              "  .colab-df-quickchart-complete:disabled:hover {\n",
              "    background-color: var(--disabled-bg-color);\n",
              "    fill: var(--disabled-fill-color);\n",
              "    box-shadow: none;\n",
              "  }\n",
              "\n",
              "  .colab-df-spinner {\n",
              "    border: 2px solid var(--fill-color);\n",
              "    border-color: transparent;\n",
              "    border-bottom-color: var(--fill-color);\n",
              "    animation:\n",
              "      spin 1s steps(1) infinite;\n",
              "  }\n",
              "\n",
              "  @keyframes spin {\n",
              "    0% {\n",
              "      border-color: transparent;\n",
              "      border-bottom-color: var(--fill-color);\n",
              "      border-left-color: var(--fill-color);\n",
              "    }\n",
              "    20% {\n",
              "      border-color: transparent;\n",
              "      border-left-color: var(--fill-color);\n",
              "      border-top-color: var(--fill-color);\n",
              "    }\n",
              "    30% {\n",
              "      border-color: transparent;\n",
              "      border-left-color: var(--fill-color);\n",
              "      border-top-color: var(--fill-color);\n",
              "      border-right-color: var(--fill-color);\n",
              "    }\n",
              "    40% {\n",
              "      border-color: transparent;\n",
              "      border-right-color: var(--fill-color);\n",
              "      border-top-color: var(--fill-color);\n",
              "    }\n",
              "    60% {\n",
              "      border-color: transparent;\n",
              "      border-right-color: var(--fill-color);\n",
              "    }\n",
              "    80% {\n",
              "      border-color: transparent;\n",
              "      border-right-color: var(--fill-color);\n",
              "      border-bottom-color: var(--fill-color);\n",
              "    }\n",
              "    90% {\n",
              "      border-color: transparent;\n",
              "      border-bottom-color: var(--fill-color);\n",
              "    }\n",
              "  }\n",
              "</style>\n",
              "\n",
              "  <script>\n",
              "    async function quickchart(key) {\n",
              "      const quickchartButtonEl =\n",
              "        document.querySelector('#' + key + ' button');\n",
              "      quickchartButtonEl.disabled = true;  // To prevent multiple clicks.\n",
              "      quickchartButtonEl.classList.add('colab-df-spinner');\n",
              "      try {\n",
              "        const charts = await google.colab.kernel.invokeFunction(\n",
              "            'suggestCharts', [key], {});\n",
              "      } catch (error) {\n",
              "        console.error('Error during call to suggestCharts:', error);\n",
              "      }\n",
              "      quickchartButtonEl.classList.remove('colab-df-spinner');\n",
              "      quickchartButtonEl.classList.add('colab-df-quickchart-complete');\n",
              "    }\n",
              "    (() => {\n",
              "      let quickchartButtonEl =\n",
              "        document.querySelector('#df-6e817eed-7e30-4378-a11f-30255d21122a button');\n",
              "      quickchartButtonEl.style.display =\n",
              "        google.colab.kernel.accessAllowed ? 'block' : 'none';\n",
              "    })();\n",
              "  </script>\n",
              "</div>\n",
              "\n",
              "    </div>\n",
              "  </div>\n"
            ],
            "application/vnd.google.colaboratory.intrinsic+json": {
              "type": "dataframe",
              "summary": "{\n  \"name\": \"df_clase\",\n  \"rows\": 15,\n  \"fields\": [\n    {\n      \"column\": \"count\",\n      \"properties\": {\n        \"dtype\": \"date\",\n        \"min\": \"30954\",\n        \"max\": \"31944\",\n        \"num_unique_values\": 3,\n        \"samples\": [\n          \"31944\",\n          \"31604\",\n          \"30954\"\n        ],\n        \"semantic_type\": \"\",\n        \"description\": \"\"\n      }\n    },\n    {\n      \"column\": \"unique\",\n      \"properties\": {\n        \"dtype\": \"date\",\n        \"min\": 2,\n        \"max\": 31944,\n        \"num_unique_values\": 9,\n        \"samples\": [\n          30,\n          31944,\n          6\n        ],\n        \"semantic_type\": \"\",\n        \"description\": \"\"\n      }\n    },\n    {\n      \"column\": \"top\",\n      \"properties\": {\n        \"dtype\": \"string\",\n        \"num_unique_values\": 9,\n        \"samples\": [\n          \"AREQUIPA\",\n          \"1\",\n          \"0.0\"\n        ],\n        \"semantic_type\": \"\",\n        \"description\": \"\"\n      }\n    },\n    {\n      \"column\": \"freq\",\n      \"properties\": {\n        \"dtype\": \"date\",\n        \"min\": \"1\",\n        \"max\": \"31612\",\n        \"num_unique_values\": 15,\n        \"samples\": [\n          \"26825\",\n          \"3664\",\n          \"2084\"\n        ],\n        \"semantic_type\": \"\",\n        \"description\": \"\"\n      }\n    }\n  ]\n}"
            }
          },
          "metadata": {},
          "execution_count": 15
        }
      ]
    },
    {
      "cell_type": "markdown",
      "source": [
        "Revisemos como se distribuye cada variable"
      ],
      "metadata": {
        "id": "fYwMIwo-xReu"
      }
    },
    {
      "cell_type": "code",
      "source": [
        "df_clase.drop(columns = ['FLG_DEFAULT_12M']).hist(figsize = (12, 12))\n",
        "plt.show()"
      ],
      "metadata": {
        "colab": {
          "base_uri": "https://localhost:8080/",
          "height": 1000
        },
        "id": "JfafMA8yw0i3",
        "outputId": "287505e8-1c14-47c3-dfe8-c8eafbb33853"
      },
      "execution_count": 16,
      "outputs": [
        {
          "output_type": "display_data",
          "data": {
            "text/plain": [
              "<Figure size 1200x1200 with 16 Axes>"
            ],
            "image/png": "[encoded data removed]"
          },
          "metadata": {}
        }
      ]
    },
    {
      "cell_type": "code",
      "source": [
        "df_clase.drop(columns = ['FLG_DEFAULT_12M']).boxplot(figsize = (20, 12))\n",
        "plt.yscale('log')\n",
        "plt.xticks(rotation = 45)\n",
        "plt.show()"
      ],
      "metadata": {
        "colab": {
          "base_uri": "https://localhost:8080/",
          "height": 777
        },
        "id": "HToDWfQBw0gi",
        "outputId": "1656b2e4-bac1-4b89-85db-96fdbd68ea43"
      },
      "execution_count": 17,
      "outputs": [
        {
          "output_type": "display_data",
          "data": {
            "text/plain": [
              "<Figure size 2000x1200 with 1 Axes>"
            ],
            "image/png": "[encoded data removed]"
          },
          "metadata": {}
        }
      ]
    },
    {
      "cell_type": "code",
      "source": [
        "def outliers_col(df):\n",
        "  for columna in df:\n",
        "    if df[columna].dtype != object:\n",
        "      q1 = stats.scoreatpercentile(df[columna], 25)\n",
        "      q3 = stats.scoreatpercentile(df[columna], 75)\n",
        "      iqr = q3-q1\n",
        "      lim_inf = q1-1.5*iqr\n",
        "      lim_sup = q3+1.5*iqr\n",
        "      n_outliers_inf = len(df[(df[columna]<lim_inf)])\n",
        "      n_outliers_sup = len(df[(df[columna]>lim_sup)])\n",
        "      print(\"{} | {} | {}\".format(\n",
        "          df[columna].name,\n",
        "          n_outliers_inf,\n",
        "          n_outliers_sup\n",
        "          ))"
      ],
      "metadata": {
        "id": "MRtvgj1Fw0du"
      },
      "execution_count": 18,
      "outputs": []
    },
    {
      "cell_type": "code",
      "source": [
        "outliers_col(df_clase)"
      ],
      "metadata": {
        "colab": {
          "base_uri": "https://localhost:8080/"
        },
        "id": "vAL9M0txxfV1",
        "outputId": "fea721b6-610a-4f0d-d72d-936c4f7f2228"
      },
      "execution_count": 19,
      "outputs": [
        {
          "output_type": "stream",
          "name": "stdout",
          "text": [
            "DEUDA | 0 | 2126\n",
            "PLAZO_CREDITO | 0 | 0\n",
            "FLG_DEFAULT_12M | 0 | 2024\n",
            "ATRASO_MAXIMO_ULT_6M | 0 | 2005\n",
            "ATRASO_MAXIMO_ULT_12M | 0 | 4154\n",
            "ATRASO_MAXIMO_ULT_24M | 0 | 6634\n",
            "MESES_AHORROS_ULT_6M | 4635 | 0\n",
            "MEDIANA_AHORROS_ULT_6M | 0 | 3318\n",
            "DEUDA_TOTAL_SISTEMA | 0 | 1880\n",
            "NUMERO_DE_PAGOS_PDH | 0 | 0\n",
            "MONTO_TC_SISTEMA | 0 | 4470\n",
            "INGRESO_CLIENTE | 0 | 2512\n",
            "EDAD_T | 0 | 350\n",
            "CUOTA | 0 | 2867\n",
            "LINEA_DE_TC | 0 | 1200\n",
            "MONTO_TC_MEMBRESIA | 0 | 2015\n"
          ]
        }
      ]
    },
    {
      "cell_type": "markdown",
      "metadata": {
        "id": "Ljoht83fc2s3"
      },
      "source": [
        "# **3. Feature Engineering**"
      ]
    },
    {
      "cell_type": "markdown",
      "metadata": {
        "id": "WNRxdUhPc_eZ"
      },
      "source": [
        "#### 3.1 Tratamiento de Missing:\n",
        "####Según el caso elegiremos rellenar estos casos con un valor usualmente conocido (dado el tipo de variable que estemos analizando), o imputar con la mediana o el valor más frecuente, según sea numérica o categórica respectivamente"
      ]
    },
    {
      "cell_type": "code",
      "execution_count": 20,
      "metadata": {
        "id": "w0pfVxKJc1wZ"
      },
      "outputs": [],
      "source": [
        "# Para partir las bases\n",
        "from sklearn.model_selection import train_test_split\n",
        "from sklearn.pipeline import Pipeline"
      ]
    },
    {
      "cell_type": "code",
      "execution_count": 21,
      "metadata": {
        "id": "bf-bceoDepVC",
        "colab": {
          "base_uri": "https://localhost:8080/"
        },
        "outputId": "a72d2ba1-aeba-4f61-a9f6-9f4e9d66d089"
      },
      "outputs": [
        {
          "output_type": "stream",
          "name": "stdout",
          "text": [
            "Collecting feature_engine\n",
            "  Downloading feature_engine-1.8.0-py2.py3-none-any.whl (357 kB)\n",
            "\u001b[2K     \u001b[90m━━━━━━━━━━━━━━━━━━━━━━━━━━━━━━━━━━━━━━━━\u001b[0m \u001b[32m357.1/357.1 kB\u001b[0m \u001b[31m6.7 MB/s\u001b[0m eta \u001b[36m0:00:00\u001b[0m\n",
            "\u001b[?25hRequirement already satisfied: numpy>=1.18.2 in /usr/local/lib/python3.10/dist-packages (from feature_engine) (1.25.2)\n",
            "Collecting pandas>=2.2.0 (from feature_engine)\n",
            "  Downloading pandas-2.2.2-cp310-cp310-manylinux_2_17_x86_64.manylinux2014_x86_64.whl (13.0 MB)\n",
            "\u001b[2K     \u001b[90m━━━━━━━━━━━━━━━━━━━━━━━━━━━━━━━━━━━━━━━━\u001b[0m \u001b[32m13.0/13.0 MB\u001b[0m \u001b[31m53.3 MB/s\u001b[0m eta \u001b[36m0:00:00\u001b[0m\n",
            "\u001b[?25hCollecting scikit-learn>=1.4.0 (from feature_engine)\n",
            "  Downloading scikit_learn-1.5.0-cp310-cp310-manylinux_2_17_x86_64.manylinux2014_x86_64.whl (13.3 MB)\n",
            "\u001b[2K     \u001b[90m━━━━━━━━━━━━━━━━━━━━━━━━━━━━━━━━━━━━━━━━\u001b[0m \u001b[32m13.3/13.3 MB\u001b[0m \u001b[31m52.9 MB/s\u001b[0m eta \u001b[36m0:00:00\u001b[0m\n",
            "\u001b[?25hRequirement already satisfied: scipy>=1.4.1 in /usr/local/lib/python3.10/dist-packages (from feature_engine) (1.11.4)\n",
            "Requirement already satisfied: statsmodels>=0.11.1 in /usr/local/lib/python3.10/dist-packages (from feature_engine) (0.14.2)\n",
            "Requirement already satisfied: python-dateutil>=2.8.2 in /usr/local/lib/python3.10/dist-packages (from pandas>=2.2.0->feature_engine) (2.8.2)\n",
            "Requirement already satisfied: pytz>=2020.1 in /usr/local/lib/python3.10/dist-packages (from pandas>=2.2.0->feature_engine) (2023.4)\n",
            "Requirement already satisfied: tzdata>=2022.7 in /usr/local/lib/python3.10/dist-packages (from pandas>=2.2.0->feature_engine) (2024.1)\n",
            "Requirement already satisfied: joblib>=1.2.0 in /usr/local/lib/python3.10/dist-packages (from scikit-learn>=1.4.0->feature_engine) (1.4.2)\n",
            "Requirement already satisfied: threadpoolctl>=3.1.0 in /usr/local/lib/python3.10/dist-packages (from scikit-learn>=1.4.0->feature_engine) (3.5.0)\n",
            "Requirement already satisfied: patsy>=0.5.6 in /usr/local/lib/python3.10/dist-packages (from statsmodels>=0.11.1->feature_engine) (0.5.6)\n",
            "Requirement already satisfied: packaging>=21.3 in /usr/local/lib/python3.10/dist-packages (from statsmodels>=0.11.1->feature_engine) (24.0)\n",
            "Requirement already satisfied: six in /usr/local/lib/python3.10/dist-packages (from patsy>=0.5.6->statsmodels>=0.11.1->feature_engine) (1.16.0)\n",
            "Installing collected packages: scikit-learn, pandas, feature_engine\n",
            "  Attempting uninstall: scikit-learn\n",
            "    Found existing installation: scikit-learn 1.2.2\n",
            "    Uninstalling scikit-learn-1.2.2:\n",
            "      Successfully uninstalled scikit-learn-1.2.2\n",
            "  Attempting uninstall: pandas\n",
            "    Found existing installation: pandas 2.0.3\n",
            "    Uninstalling pandas-2.0.3:\n",
            "      Successfully uninstalled pandas-2.0.3\n",
            "\u001b[31mERROR: pip's dependency resolver does not currently take into account all the packages that are installed. This behaviour is the source of the following dependency conflicts.\n",
            "cudf-cu12 24.4.1 requires pandas<2.2.2dev0,>=2.0, but you have pandas 2.2.2 which is incompatible.\n",
            "google-colab 1.0.0 requires pandas==2.0.3, but you have pandas 2.2.2 which is incompatible.\u001b[0m\u001b[31m\n",
            "\u001b[0mSuccessfully installed feature_engine-1.8.0 pandas-2.2.2 scikit-learn-1.5.0\n"
          ]
        }
      ],
      "source": [
        "pip install feature_engine"
      ]
    },
    {
      "cell_type": "code",
      "execution_count": 22,
      "metadata": {
        "id": "NGO1U4bne9mO"
      },
      "outputs": [],
      "source": [
        "# Llamemos a la librería feature engine\n",
        "from feature_engine.imputation import MeanMedianImputer"
      ]
    },
    {
      "cell_type": "code",
      "execution_count": 23,
      "metadata": {
        "id": "W-8Le4wrfZZV",
        "colab": {
          "base_uri": "https://localhost:8080/"
        },
        "outputId": "91cc18df-a7de-4b68-e39e-2a037ed1dce8"
      },
      "outputs": [
        {
          "output_type": "execute_result",
          "data": {
            "text/plain": [
              "((22360, 30), (9584, 30))"
            ]
          },
          "metadata": {},
          "execution_count": 23
        }
      ],
      "source": [
        "X_train, X_test, y_train, y_test = train_test_split(\n",
        "    df_clase.drop(\"FLG_DEFAULT_12M\", axis=1),\n",
        "    df_clase[\"FLG_DEFAULT_12M\"],\n",
        "    test_size=0.3,\n",
        "    random_state=0,\n",
        "    stratify=df_clase[\"FLG_DEFAULT_12M\"] #este punto es importante para asegurar un adecuado muestreo de la variable objetivo\n",
        ")\n",
        "\n",
        "X_train.shape, X_test.shape"
      ]
    },
    {
      "cell_type": "code",
      "execution_count": 24,
      "metadata": {
        "id": "AQWpXwZigB8P",
        "colab": {
          "base_uri": "https://localhost:8080/"
        },
        "outputId": "b4966b6f-a6a0-433e-cdb1-8f9d445a54b8"
      },
      "outputs": [
        {
          "output_type": "execute_result",
          "data": {
            "text/plain": [
              "0.06337209302325582"
            ]
          },
          "metadata": {},
          "execution_count": 24
        }
      ],
      "source": [
        "y_train.value_counts()[1]/(y_train.value_counts()[0]+y_train.value_counts()[1])"
      ]
    },
    {
      "cell_type": "code",
      "execution_count": 25,
      "metadata": {
        "id": "MwXhSV03gq-p",
        "colab": {
          "base_uri": "https://localhost:8080/"
        },
        "outputId": "d76dc947-e47f-4e56-93a8-518f50a08492"
      },
      "outputs": [
        {
          "output_type": "execute_result",
          "data": {
            "text/plain": [
              "0.0633347245409015"
            ]
          },
          "metadata": {},
          "execution_count": 25
        }
      ],
      "source": [
        "y_test.value_counts()[1]/(y_test.value_counts()[0]+y_test.value_counts()[1])"
      ]
    },
    {
      "cell_type": "code",
      "execution_count": 26,
      "metadata": {
        "id": "BoGTfy-shKhY",
        "colab": {
          "base_uri": "https://localhost:8080/"
        },
        "outputId": "57f43d9f-e689-434f-c069-c47f522ab2bc"
      },
      "outputs": [
        {
          "output_type": "execute_result",
          "data": {
            "text/plain": [
              "CODMES                          NaN\n",
              "CODSOLICITUD                    NaN\n",
              "DEUDA                           NaN\n",
              "PLAZO_CREDITO                   NaN\n",
              "FLG_GARANTIA                    NaN\n",
              "MIN_MES_DE_DEFAULT              NaN\n",
              "SEGMENTOCLIENTE                 NaN\n",
              "TARJETA_RELACIONADA             NaN\n",
              "VEHICULAR_RELACIONADA           NaN\n",
              "HIPOTECARIO_RELACIONADA         NaN\n",
              "ATRASO_MAXIMO_ULT_6M            NaN\n",
              "ATRASO_MAXIMO_ULT_12M      0.000045\n",
              "ATRASO_MAXIMO_ULT_24M      0.000179\n",
              "MESES_AHORROS_ULT_6M       0.020081\n",
              "MEDIANA_AHORROS_ULT_6M     0.000089\n",
              "DEUDA_TOTAL_SISTEMA        0.100134\n",
              "CLASIF_SISTEMA_ULT_12M          NaN\n",
              "FLG_PDH                         NaN\n",
              "NUMERO_DE_PAGOS_PDH             NaN\n",
              "MONTO_TC_SISTEMA                NaN\n",
              "INGRESO_CLIENTE            0.024240\n",
              "PROFESION                  0.010286\n",
              "ZONA_DEL_DESEMBOLSO        0.030367\n",
              "ESTADO_CIVIL               0.030367\n",
              "EDAD_T                     0.030367\n",
              "CUOTA                      0.020081\n",
              "LINEA_DE_TC                0.020081\n",
              "MONTO_TC_MEMBRESIA         0.020081\n",
              "FLG_TC_VISA                     NaN\n",
              "FLG_TC_MC                       NaN\n",
              "dtype: float64"
            ]
          },
          "metadata": {},
          "execution_count": 26
        }
      ],
      "source": [
        "X_train.isnull().mean().where(X_train.isnull().mean()>0)"
      ]
    },
    {
      "cell_type": "markdown",
      "metadata": {
        "id": "99aXZoodKQp-"
      },
      "source": [
        "### Empecemos con las variable numéricas"
      ]
    },
    {
      "cell_type": "code",
      "execution_count": 27,
      "metadata": {
        "id": "mdQFzpchotjo",
        "colab": {
          "base_uri": "https://localhost:8080/"
        },
        "outputId": "b5ecc922-9ab8-43ad-bc26-be25c537c4da"
      },
      "outputs": [
        {
          "output_type": "execute_result",
          "data": {
            "text/plain": [
              "DEUDA                          NaN\n",
              "PLAZO_CREDITO                  NaN\n",
              "ATRASO_MAXIMO_ULT_6M           NaN\n",
              "ATRASO_MAXIMO_ULT_12M     0.000045\n",
              "ATRASO_MAXIMO_ULT_24M     0.000179\n",
              "MESES_AHORROS_ULT_6M      0.020081\n",
              "MEDIANA_AHORROS_ULT_6M    0.000089\n",
              "DEUDA_TOTAL_SISTEMA       0.100134\n",
              "NUMERO_DE_PAGOS_PDH            NaN\n",
              "MONTO_TC_SISTEMA               NaN\n",
              "INGRESO_CLIENTE           0.024240\n",
              "EDAD_T                    0.030367\n",
              "CUOTA                     0.020081\n",
              "LINEA_DE_TC               0.020081\n",
              "MONTO_TC_MEMBRESIA        0.020081\n",
              "dtype: float64"
            ]
          },
          "metadata": {},
          "execution_count": 27
        }
      ],
      "source": [
        "var_num = X_train.select_dtypes(include = [\"number\"])\n",
        "var_num.isnull().mean().where(var_num.isnull().mean()>0)"
      ]
    },
    {
      "cell_type": "code",
      "execution_count": 28,
      "metadata": {
        "id": "B7yR1IEmhUrw",
        "colab": {
          "base_uri": "https://localhost:8080/",
          "height": 74
        },
        "outputId": "0a6379ec-320c-4636-a7dc-68ed1152a156"
      },
      "outputs": [
        {
          "output_type": "execute_result",
          "data": {
            "text/plain": [
              "MeanMedianImputer(variables=['LINEA_DE_TC', 'EDAD_T', 'INGRESO_CLIENTE'])"
            ],
            "text/html": [
              "<style>#sk-container-id-1 {color: black;background-color: white;}#sk-container-id-1 pre{padding: 0;}#sk-container-id-1 div.sk-toggleable {background-color: white;}#sk-container-id-1 label.sk-toggleable__label {cursor: pointer;display: block;width: 100%;margin-bottom: 0;padding: 0.3em;box-sizing: border-box;text-align: center;}#sk-container-id-1 label.sk-toggleable__label-arrow:before {content: \"▸\";float: left;margin-right: 0.25em;color: #696969;}#sk-container-id-1 label.sk-toggleable__label-arrow:hover:before {color: black;}#sk-container-id-1 div.sk-estimator:hover label.sk-toggleable__label-arrow:before {color: black;}#sk-container-id-1 div.sk-toggleable__content {max-height: 0;max-width: 0;overflow: hidden;text-align: left;background-color: #f0f8ff;}#sk-container-id-1 div.sk-toggleable__content pre {margin: 0.2em;color: black;border-radius: 0.25em;background-color: #f0f8ff;}#sk-container-id-1 input.sk-toggleable__control:checked~div.sk-toggleable__content {max-height: 200px;max-width: 100%;overflow: auto;}#sk-container-id-1 input.sk-toggleable__control:checked~label.sk-toggleable__label-arrow:before {content: \"▾\";}#sk-container-id-1 div.sk-estimator input.sk-toggleable__control:checked~label.sk-toggleable__label {background-color: #d4ebff;}#sk-container-id-1 div.sk-label input.sk-toggleable__control:checked~label.sk-toggleable__label {background-color: #d4ebff;}#sk-container-id-1 input.sk-hidden--visually {border: 0;clip: rect(1px 1px 1px 1px);clip: rect(1px, 1px, 1px, 1px);height: 1px;margin: -1px;overflow: hidden;padding: 0;position: absolute;width: 1px;}#sk-container-id-1 div.sk-estimator {font-family: monospace;background-color: #f0f8ff;border: 1px dotted black;border-radius: 0.25em;box-sizing: border-box;margin-bottom: 0.5em;}#sk-container-id-1 div.sk-estimator:hover {background-color: #d4ebff;}#sk-container-id-1 div.sk-parallel-item::after {content: \"\";width: 100%;border-bottom: 1px solid gray;flex-grow: 1;}#sk-container-id-1 div.sk-label:hover label.sk-toggleable__label {background-color: #d4ebff;}#sk-container-id-1 div.sk-serial::before {content: \"\";position: absolute;border-left: 1px solid gray;box-sizing: border-box;top: 0;bottom: 0;left: 50%;z-index: 0;}#sk-container-id-1 div.sk-serial {display: flex;flex-direction: column;align-items: center;background-color: white;padding-right: 0.2em;padding-left: 0.2em;position: relative;}#sk-container-id-1 div.sk-item {position: relative;z-index: 1;}#sk-container-id-1 div.sk-parallel {display: flex;align-items: stretch;justify-content: center;background-color: white;position: relative;}#sk-container-id-1 div.sk-item::before, #sk-container-id-1 div.sk-parallel-item::before {content: \"\";position: absolute;border-left: 1px solid gray;box-sizing: border-box;top: 0;bottom: 0;left: 50%;z-index: -1;}#sk-container-id-1 div.sk-parallel-item {display: flex;flex-direction: column;z-index: 1;position: relative;background-color: white;}#sk-container-id-1 div.sk-parallel-item:first-child::after {align-self: flex-end;width: 50%;}#sk-container-id-1 div.sk-parallel-item:last-child::after {align-self: flex-start;width: 50%;}#sk-container-id-1 div.sk-parallel-item:only-child::after {width: 0;}#sk-container-id-1 div.sk-dashed-wrapped {border: 1px dashed gray;margin: 0 0.4em 0.5em 0.4em;box-sizing: border-box;padding-bottom: 0.4em;background-color: white;}#sk-container-id-1 div.sk-label label {font-family: monospace;font-weight: bold;display: inline-block;line-height: 1.2em;}#sk-container-id-1 div.sk-label-container {text-align: center;}#sk-container-id-1 div.sk-container {/* jupyter's `normalize.less` sets `[hidden] { display: none; }` but bootstrap.min.css set `[hidden] { display: none !important; }` so we also need the `!important` here to be able to override the default hidden behavior on the sphinx rendered scikit-learn.org. See: https://github.com/scikit-learn/scikit-learn/issues/21755 */display: inline-block !important;position: relative;}#sk-container-id-1 div.sk-text-repr-fallback {display: none;}</style><div id=\"sk-container-id-1\" class=\"sk-top-container\"><div class=\"sk-text-repr-fallback\"><pre>MeanMedianImputer(variables=[&#x27;LINEA_DE_TC&#x27;, &#x27;EDAD_T&#x27;, &#x27;INGRESO_CLIENTE&#x27;])</pre><b>In a Jupyter environment, please rerun this cell to show the HTML representation or trust the notebook. <br />On GitHub, the HTML representation is unable to render, please try loading this page with nbviewer.org.</b></div><div class=\"sk-container\" hidden><div class=\"sk-item\"><div class=\"sk-estimator sk-toggleable\"><input class=\"sk-toggleable__control sk-hidden--visually\" id=\"sk-estimator-id-1\" type=\"checkbox\" checked><label for=\"sk-estimator-id-1\" class=\"sk-toggleable__label sk-toggleable__label-arrow\">MeanMedianImputer</label><div class=\"sk-toggleable__content\"><pre>MeanMedianImputer(variables=[&#x27;LINEA_DE_TC&#x27;, &#x27;EDAD_T&#x27;, &#x27;INGRESO_CLIENTE&#x27;])</pre></div></div></div></div></div>"
            ]
          },
          "metadata": {},
          "execution_count": 28
        }
      ],
      "source": [
        "# Aplicaremos el imputador de missing\n",
        "imputer_1 = MeanMedianImputer(\n",
        "    imputation_method='median',\n",
        "    variables=['LINEA_DE_TC','EDAD_T','INGRESO_CLIENTE'],\n",
        ")\n",
        "\n",
        "imputer_1.fit(X_train)"
      ]
    },
    {
      "cell_type": "code",
      "execution_count": null,
      "metadata": {
        "id": "himS-WhJpj0p"
      },
      "outputs": [],
      "source": [
        "# dejamos 'CUOTA', 'DEUDA_TOTAL_SISTEMA', 'MEDIANA_AHORROS_ULT_6M', 'MESES_AHORROS_ULT_6M', 'ATRASO_MAXIMO_ULT_24M',\n",
        "#         'ATRASO_MAXIMO_ULT_12M','MONTO_TC_MEMBRESIA'"
      ]
    },
    {
      "cell_type": "code",
      "execution_count": 29,
      "metadata": {
        "id": "IZLauOsbqmJ5",
        "colab": {
          "base_uri": "https://localhost:8080/"
        },
        "outputId": "87caaf1e-a91a-45b9-f110-99cd16ed20f1"
      },
      "outputs": [
        {
          "output_type": "execute_result",
          "data": {
            "text/plain": [
              "['LINEA_DE_TC', 'EDAD_T', 'INGRESO_CLIENTE']"
            ]
          },
          "metadata": {},
          "execution_count": 29
        }
      ],
      "source": [
        "imputer_1.variables_"
      ]
    },
    {
      "cell_type": "code",
      "execution_count": 30,
      "metadata": {
        "id": "mCQOt9RJqpI3",
        "colab": {
          "base_uri": "https://localhost:8080/"
        },
        "outputId": "0e062f20-b215-4c9c-d0ad-92bafdfda275"
      },
      "outputs": [
        {
          "output_type": "execute_result",
          "data": {
            "text/plain": [
              "{'LINEA_DE_TC': 9609.0, 'EDAD_T': 35.0, 'INGRESO_CLIENTE': 2271.1773555}"
            ]
          },
          "metadata": {},
          "execution_count": 30
        }
      ],
      "source": [
        "imputer_1.imputer_dict_"
      ]
    },
    {
      "cell_type": "code",
      "execution_count": 31,
      "metadata": {
        "id": "DCPdWzGeqwb9",
        "colab": {
          "base_uri": "https://localhost:8080/"
        },
        "outputId": "41cd9a8f-b969-417c-888f-4bef05efd276"
      },
      "outputs": [
        {
          "output_type": "execute_result",
          "data": {
            "text/plain": [
              "LINEA_DE_TC        9609.000000\n",
              "EDAD_T               35.000000\n",
              "INGRESO_CLIENTE    2271.177355\n",
              "dtype: float64"
            ]
          },
          "metadata": {},
          "execution_count": 31
        }
      ],
      "source": [
        "X_train[imputer_1.variables_].median()"
      ]
    },
    {
      "cell_type": "code",
      "execution_count": 32,
      "metadata": {
        "id": "j_n4B9VVqwTi"
      },
      "outputs": [],
      "source": [
        "X_train_t = imputer_1.transform(X_train)\n",
        "X_test_t = imputer_1.transform(X_test)"
      ]
    },
    {
      "cell_type": "code",
      "execution_count": 33,
      "metadata": {
        "id": "vBvycUFQuZ3L",
        "colab": {
          "base_uri": "https://localhost:8080/"
        },
        "outputId": "2dd02b6f-abfb-4db8-875a-cbd5043aab2c"
      },
      "outputs": [
        {
          "output_type": "execute_result",
          "data": {
            "text/plain": [
              "LINEA_DE_TC        0.0\n",
              "EDAD_T             0.0\n",
              "INGRESO_CLIENTE    0.0\n",
              "dtype: float64"
            ]
          },
          "metadata": {},
          "execution_count": 33
        }
      ],
      "source": [
        "X_train_t[imputer_1.variables_].isnull().mean()"
      ]
    },
    {
      "cell_type": "code",
      "execution_count": 34,
      "metadata": {
        "id": "v4nklnh5uQnA",
        "colab": {
          "base_uri": "https://localhost:8080/"
        },
        "outputId": "408507ab-d324-40d3-856f-73974dbaa13b"
      },
      "outputs": [
        {
          "output_type": "execute_result",
          "data": {
            "text/plain": [
              "LINEA_DE_TC        0.0\n",
              "EDAD_T             0.0\n",
              "INGRESO_CLIENTE    0.0\n",
              "dtype: float64"
            ]
          },
          "metadata": {},
          "execution_count": 34
        }
      ],
      "source": [
        "X_test_t[imputer_1.variables_].isnull().mean()"
      ]
    },
    {
      "cell_type": "code",
      "execution_count": 35,
      "metadata": {
        "id": "7btKf_m3qwAm"
      },
      "outputs": [],
      "source": [
        "from feature_engine.imputation import ArbitraryNumberImputer"
      ]
    },
    {
      "cell_type": "code",
      "execution_count": 36,
      "metadata": {
        "id": "5VrjtYMMtKr8",
        "colab": {
          "base_uri": "https://localhost:8080/",
          "height": 178
        },
        "outputId": "9600ed62-74f8-4499-e448-068dde3a5986"
      },
      "outputs": [
        {
          "output_type": "execute_result",
          "data": {
            "text/plain": [
              "ArbitraryNumberImputer(arbitrary_number=0,\n",
              "                       variables=['CUOTA', 'DEUDA_TOTAL_SISTEMA',\n",
              "                                  'MEDIANA_AHORROS_ULT_6M',\n",
              "                                  'MESES_AHORROS_ULT_6M',\n",
              "                                  'ATRASO_MAXIMO_ULT_24M',\n",
              "                                  'ATRASO_MAXIMO_ULT_12M',\n",
              "                                  'MONTO_TC_MEMBRESIA'])"
            ],
            "text/html": [
              "<style>#sk-container-id-2 {color: black;background-color: white;}#sk-container-id-2 pre{padding: 0;}#sk-container-id-2 div.sk-toggleable {background-color: white;}#sk-container-id-2 label.sk-toggleable__label {cursor: pointer;display: block;width: 100%;margin-bottom: 0;padding: 0.3em;box-sizing: border-box;text-align: center;}#sk-container-id-2 label.sk-toggleable__label-arrow:before {content: \"▸\";float: left;margin-right: 0.25em;color: #696969;}#sk-container-id-2 label.sk-toggleable__label-arrow:hover:before {color: black;}#sk-container-id-2 div.sk-estimator:hover label.sk-toggleable__label-arrow:before {color: black;}#sk-container-id-2 div.sk-toggleable__content {max-height: 0;max-width: 0;overflow: hidden;text-align: left;background-color: #f0f8ff;}#sk-container-id-2 div.sk-toggleable__content pre {margin: 0.2em;color: black;border-radius: 0.25em;background-color: #f0f8ff;}#sk-container-id-2 input.sk-toggleable__control:checked~div.sk-toggleable__content {max-height: 200px;max-width: 100%;overflow: auto;}#sk-container-id-2 input.sk-toggleable__control:checked~label.sk-toggleable__label-arrow:before {content: \"▾\";}#sk-container-id-2 div.sk-estimator input.sk-toggleable__control:checked~label.sk-toggleable__label {background-color: #d4ebff;}#sk-container-id-2 div.sk-label input.sk-toggleable__control:checked~label.sk-toggleable__label {background-color: #d4ebff;}#sk-container-id-2 input.sk-hidden--visually {border: 0;clip: rect(1px 1px 1px 1px);clip: rect(1px, 1px, 1px, 1px);height: 1px;margin: -1px;overflow: hidden;padding: 0;position: absolute;width: 1px;}#sk-container-id-2 div.sk-estimator {font-family: monospace;background-color: #f0f8ff;border: 1px dotted black;border-radius: 0.25em;box-sizing: border-box;margin-bottom: 0.5em;}#sk-container-id-2 div.sk-estimator:hover {background-color: #d4ebff;}#sk-container-id-2 div.sk-parallel-item::after {content: \"\";width: 100%;border-bottom: 1px solid gray;flex-grow: 1;}#sk-container-id-2 div.sk-label:hover label.sk-toggleable__label {background-color: #d4ebff;}#sk-container-id-2 div.sk-serial::before {content: \"\";position: absolute;border-left: 1px solid gray;box-sizing: border-box;top: 0;bottom: 0;left: 50%;z-index: 0;}#sk-container-id-2 div.sk-serial {display: flex;flex-direction: column;align-items: center;background-color: white;padding-right: 0.2em;padding-left: 0.2em;position: relative;}#sk-container-id-2 div.sk-item {position: relative;z-index: 1;}#sk-container-id-2 div.sk-parallel {display: flex;align-items: stretch;justify-content: center;background-color: white;position: relative;}#sk-container-id-2 div.sk-item::before, #sk-container-id-2 div.sk-parallel-item::before {content: \"\";position: absolute;border-left: 1px solid gray;box-sizing: border-box;top: 0;bottom: 0;left: 50%;z-index: -1;}#sk-container-id-2 div.sk-parallel-item {display: flex;flex-direction: column;z-index: 1;position: relative;background-color: white;}#sk-container-id-2 div.sk-parallel-item:first-child::after {align-self: flex-end;width: 50%;}#sk-container-id-2 div.sk-parallel-item:last-child::after {align-self: flex-start;width: 50%;}#sk-container-id-2 div.sk-parallel-item:only-child::after {width: 0;}#sk-container-id-2 div.sk-dashed-wrapped {border: 1px dashed gray;margin: 0 0.4em 0.5em 0.4em;box-sizing: border-box;padding-bottom: 0.4em;background-color: white;}#sk-container-id-2 div.sk-label label {font-family: monospace;font-weight: bold;display: inline-block;line-height: 1.2em;}#sk-container-id-2 div.sk-label-container {text-align: center;}#sk-container-id-2 div.sk-container {/* jupyter's `normalize.less` sets `[hidden] { display: none; }` but bootstrap.min.css set `[hidden] { display: none !important; }` so we also need the `!important` here to be able to override the default hidden behavior on the sphinx rendered scikit-learn.org. See: https://github.com/scikit-learn/scikit-learn/issues/21755 */display: inline-block !important;position: relative;}#sk-container-id-2 div.sk-text-repr-fallback {display: none;}</style><div id=\"sk-container-id-2\" class=\"sk-top-container\"><div class=\"sk-text-repr-fallback\"><pre>ArbitraryNumberImputer(arbitrary_number=0,\n",
              "                       variables=[&#x27;CUOTA&#x27;, &#x27;DEUDA_TOTAL_SISTEMA&#x27;,\n",
              "                                  &#x27;MEDIANA_AHORROS_ULT_6M&#x27;,\n",
              "                                  &#x27;MESES_AHORROS_ULT_6M&#x27;,\n",
              "                                  &#x27;ATRASO_MAXIMO_ULT_24M&#x27;,\n",
              "                                  &#x27;ATRASO_MAXIMO_ULT_12M&#x27;,\n",
              "                                  &#x27;MONTO_TC_MEMBRESIA&#x27;])</pre><b>In a Jupyter environment, please rerun this cell to show the HTML representation or trust the notebook. <br />On GitHub, the HTML representation is unable to render, please try loading this page with nbviewer.org.</b></div><div class=\"sk-container\" hidden><div class=\"sk-item\"><div class=\"sk-estimator sk-toggleable\"><input class=\"sk-toggleable__control sk-hidden--visually\" id=\"sk-estimator-id-2\" type=\"checkbox\" checked><label for=\"sk-estimator-id-2\" class=\"sk-toggleable__label sk-toggleable__label-arrow\">ArbitraryNumberImputer</label><div class=\"sk-toggleable__content\"><pre>ArbitraryNumberImputer(arbitrary_number=0,\n",
              "                       variables=[&#x27;CUOTA&#x27;, &#x27;DEUDA_TOTAL_SISTEMA&#x27;,\n",
              "                                  &#x27;MEDIANA_AHORROS_ULT_6M&#x27;,\n",
              "                                  &#x27;MESES_AHORROS_ULT_6M&#x27;,\n",
              "                                  &#x27;ATRASO_MAXIMO_ULT_24M&#x27;,\n",
              "                                  &#x27;ATRASO_MAXIMO_ULT_12M&#x27;,\n",
              "                                  &#x27;MONTO_TC_MEMBRESIA&#x27;])</pre></div></div></div></div></div>"
            ]
          },
          "metadata": {},
          "execution_count": 36
        }
      ],
      "source": [
        "imputer_2 = ArbitraryNumberImputer(\n",
        "    arbitrary_number=0, variables=['CUOTA', 'DEUDA_TOTAL_SISTEMA', 'MEDIANA_AHORROS_ULT_6M', 'MESES_AHORROS_ULT_6M', 'ATRASO_MAXIMO_ULT_24M','ATRASO_MAXIMO_ULT_12M','MONTO_TC_MEMBRESIA']\n",
        ")\n",
        "\n",
        "imputer_2.fit(X_train)\n",
        "\n",
        "#imputer_2 = ArbitraryNumberImputer(\n",
        "#    imputer_dict={\n",
        "#        'CUOTA': -999,\n",
        "#        'DEUDA_TOTAL_SISTEMA': -999,\n",
        "#        'MEDIANA_AHORROS_ULT_6M': -1,\n",
        "#        'MESES_AHORROS_ULT_6M': -1,\n",
        "#        'ATRASO_MAXIMO_ULT_24M': 0,\n",
        "#        'ATRASO_MAXIMO_ULT_12M': 0,\n",
        "#        'MONTO_TC_MEMBRESIA': 0\n",
        "#    }\n",
        "#)\n",
        "#\n",
        "#imputer_2.fit(X_train)\n"
      ]
    },
    {
      "cell_type": "code",
      "execution_count": 37,
      "metadata": {
        "id": "t8fLgzeuvTh1",
        "colab": {
          "base_uri": "https://localhost:8080/"
        },
        "outputId": "711bc573-f12f-4043-c45d-79dbe295e255"
      },
      "outputs": [
        {
          "output_type": "execute_result",
          "data": {
            "text/plain": [
              "['CUOTA',\n",
              " 'DEUDA_TOTAL_SISTEMA',\n",
              " 'MEDIANA_AHORROS_ULT_6M',\n",
              " 'MESES_AHORROS_ULT_6M',\n",
              " 'ATRASO_MAXIMO_ULT_24M',\n",
              " 'ATRASO_MAXIMO_ULT_12M',\n",
              " 'MONTO_TC_MEMBRESIA']"
            ]
          },
          "metadata": {},
          "execution_count": 37
        }
      ],
      "source": [
        "imputer_2.variables_"
      ]
    },
    {
      "cell_type": "code",
      "execution_count": 38,
      "metadata": {
        "id": "evBAA_lWvTVz",
        "colab": {
          "base_uri": "https://localhost:8080/"
        },
        "outputId": "d52ca4de-c042-47b9-b376-29b9eb7035cf"
      },
      "outputs": [
        {
          "output_type": "execute_result",
          "data": {
            "text/plain": [
              "0"
            ]
          },
          "metadata": {},
          "execution_count": 38
        }
      ],
      "source": [
        "imputer_2.arbitrary_number"
      ]
    },
    {
      "cell_type": "code",
      "execution_count": 39,
      "metadata": {
        "id": "60GlvGBsvTST"
      },
      "outputs": [],
      "source": [
        "X_train_t = imputer_2.transform(X_train_t)\n",
        "X_test_t = imputer_2.transform(X_test_t)"
      ]
    },
    {
      "cell_type": "code",
      "execution_count": 40,
      "metadata": {
        "id": "wC4K5YmSv6-2",
        "colab": {
          "base_uri": "https://localhost:8080/"
        },
        "outputId": "1d8ceb5f-515e-4d26-c04b-fa244019af18"
      },
      "outputs": [
        {
          "output_type": "execute_result",
          "data": {
            "text/plain": [
              "CUOTA                     0.0\n",
              "DEUDA_TOTAL_SISTEMA       0.0\n",
              "MEDIANA_AHORROS_ULT_6M    0.0\n",
              "MESES_AHORROS_ULT_6M      0.0\n",
              "ATRASO_MAXIMO_ULT_24M     0.0\n",
              "ATRASO_MAXIMO_ULT_12M     0.0\n",
              "MONTO_TC_MEMBRESIA        0.0\n",
              "dtype: float64"
            ]
          },
          "metadata": {},
          "execution_count": 40
        }
      ],
      "source": [
        "X_train_t[imputer_2.variables_].isnull().mean()"
      ]
    },
    {
      "cell_type": "code",
      "execution_count": 41,
      "metadata": {
        "id": "K0LjUQmTvTPc",
        "colab": {
          "base_uri": "https://localhost:8080/"
        },
        "outputId": "4a078fed-3c37-4dda-fd5f-9b264d3b9d42"
      },
      "outputs": [
        {
          "output_type": "execute_result",
          "data": {
            "text/plain": [
              "CUOTA                     0.0\n",
              "DEUDA_TOTAL_SISTEMA       0.0\n",
              "MEDIANA_AHORROS_ULT_6M    0.0\n",
              "MESES_AHORROS_ULT_6M      0.0\n",
              "ATRASO_MAXIMO_ULT_24M     0.0\n",
              "ATRASO_MAXIMO_ULT_12M     0.0\n",
              "MONTO_TC_MEMBRESIA        0.0\n",
              "dtype: float64"
            ]
          },
          "metadata": {},
          "execution_count": 41
        }
      ],
      "source": [
        "X_test_t[imputer_2.variables_].isnull().mean()"
      ]
    },
    {
      "cell_type": "code",
      "execution_count": null,
      "metadata": {
        "id": "3snQ0QJ9tKoi"
      },
      "outputs": [],
      "source": [
        "#X_train.hist(bins = 50, figsize=(20,15))\n",
        "#plt.show()"
      ]
    },
    {
      "cell_type": "code",
      "execution_count": 42,
      "metadata": {
        "id": "7145d6ONuqqQ",
        "colab": {
          "base_uri": "https://localhost:8080/"
        },
        "outputId": "73f96dc3-4ae4-4d71-a0f0-c7813ab7c1b2"
      },
      "outputs": [
        {
          "output_type": "execute_result",
          "data": {
            "text/plain": [
              "DEUDA                    NaN\n",
              "PLAZO_CREDITO            NaN\n",
              "ATRASO_MAXIMO_ULT_6M     NaN\n",
              "ATRASO_MAXIMO_ULT_12M    NaN\n",
              "ATRASO_MAXIMO_ULT_24M    NaN\n",
              "MESES_AHORROS_ULT_6M     NaN\n",
              "MEDIANA_AHORROS_ULT_6M   NaN\n",
              "DEUDA_TOTAL_SISTEMA      NaN\n",
              "NUMERO_DE_PAGOS_PDH      NaN\n",
              "MONTO_TC_SISTEMA         NaN\n",
              "INGRESO_CLIENTE          NaN\n",
              "EDAD_T                   NaN\n",
              "CUOTA                    NaN\n",
              "LINEA_DE_TC              NaN\n",
              "MONTO_TC_MEMBRESIA       NaN\n",
              "dtype: float64"
            ]
          },
          "metadata": {},
          "execution_count": 42
        }
      ],
      "source": [
        "var_num = X_train_t.select_dtypes(include = [\"number\"])\n",
        "var_num.isnull().mean().where(var_num.isnull().mean()>0)"
      ]
    },
    {
      "cell_type": "code",
      "execution_count": 43,
      "metadata": {
        "id": "ZhDsqsQRznw4"
      },
      "outputs": [],
      "source": [
        "# Usemos Pipelines para concatenar diferentes métodos de imputación\n",
        "pipe_1 = Pipeline(\n",
        "    [\n",
        "        (\n",
        "            \"median_imputer\",\n",
        "            MeanMedianImputer(\n",
        "                imputation_method=\"median\", variables=['LINEA_DE_TC','EDAD_T','INGRESO_CLIENTE']\n",
        "            ),\n",
        "        ),\n",
        "        (\n",
        "            \"arbitrary_imputer\",\n",
        "            ArbitraryNumberImputer(\n",
        "                arbitrary_number=0, variables=['CUOTA', 'DEUDA_TOTAL_SISTEMA', 'MEDIANA_AHORROS_ULT_6M', 'MESES_AHORROS_ULT_6M', 'ATRASO_MAXIMO_ULT_24M','ATRASO_MAXIMO_ULT_12M','MONTO_TC_MEMBRESIA']\n",
        "        ),\n",
        "        ),\n",
        "    ]\n",
        ")"
      ]
    },
    {
      "cell_type": "code",
      "execution_count": 44,
      "metadata": {
        "id": "aTnLIeE4znck",
        "colab": {
          "base_uri": "https://localhost:8080/",
          "height": 125
        },
        "outputId": "d7661f18-d28f-4b89-f594-7011c77236e7"
      },
      "outputs": [
        {
          "output_type": "execute_result",
          "data": {
            "text/plain": [
              "Pipeline(steps=[('median_imputer',\n",
              "                 MeanMedianImputer(variables=['LINEA_DE_TC', 'EDAD_T',\n",
              "                                              'INGRESO_CLIENTE'])),\n",
              "                ('arbitrary_imputer',\n",
              "                 ArbitraryNumberImputer(arbitrary_number=0,\n",
              "                                        variables=['CUOTA',\n",
              "                                                   'DEUDA_TOTAL_SISTEMA',\n",
              "                                                   'MEDIANA_AHORROS_ULT_6M',\n",
              "                                                   'MESES_AHORROS_ULT_6M',\n",
              "                                                   'ATRASO_MAXIMO_ULT_24M',\n",
              "                                                   'ATRASO_MAXIMO_ULT_12M',\n",
              "                                                   'MONTO_TC_MEMBRESIA']))])"
            ],
            "text/html": [
              "<style>#sk-container-id-3 {color: black;background-color: white;}#sk-container-id-3 pre{padding: 0;}#sk-container-id-3 div.sk-toggleable {background-color: white;}#sk-container-id-3 label.sk-toggleable__label {cursor: pointer;display: block;width: 100%;margin-bottom: 0;padding: 0.3em;box-sizing: border-box;text-align: center;}#sk-container-id-3 label.sk-toggleable__label-arrow:before {content: \"▸\";float: left;margin-right: 0.25em;color: #696969;}#sk-container-id-3 label.sk-toggleable__label-arrow:hover:before {color: black;}#sk-container-id-3 div.sk-estimator:hover label.sk-toggleable__label-arrow:before {color: black;}#sk-container-id-3 div.sk-toggleable__content {max-height: 0;max-width: 0;overflow: hidden;text-align: left;background-color: #f0f8ff;}#sk-container-id-3 div.sk-toggleable__content pre {margin: 0.2em;color: black;border-radius: 0.25em;background-color: #f0f8ff;}#sk-container-id-3 input.sk-toggleable__control:checked~div.sk-toggleable__content {max-height: 200px;max-width: 100%;overflow: auto;}#sk-container-id-3 input.sk-toggleable__control:checked~label.sk-toggleable__label-arrow:before {content: \"▾\";}#sk-container-id-3 div.sk-estimator input.sk-toggleable__control:checked~label.sk-toggleable__label {background-color: #d4ebff;}#sk-container-id-3 div.sk-label input.sk-toggleable__control:checked~label.sk-toggleable__label {background-color: #d4ebff;}#sk-container-id-3 input.sk-hidden--visually {border: 0;clip: rect(1px 1px 1px 1px);clip: rect(1px, 1px, 1px, 1px);height: 1px;margin: -1px;overflow: hidden;padding: 0;position: absolute;width: 1px;}#sk-container-id-3 div.sk-estimator {font-family: monospace;background-color: #f0f8ff;border: 1px dotted black;border-radius: 0.25em;box-sizing: border-box;margin-bottom: 0.5em;}#sk-container-id-3 div.sk-estimator:hover {background-color: #d4ebff;}#sk-container-id-3 div.sk-parallel-item::after {content: \"\";width: 100%;border-bottom: 1px solid gray;flex-grow: 1;}#sk-container-id-3 div.sk-label:hover label.sk-toggleable__label {background-color: #d4ebff;}#sk-container-id-3 div.sk-serial::before {content: \"\";position: absolute;border-left: 1px solid gray;box-sizing: border-box;top: 0;bottom: 0;left: 50%;z-index: 0;}#sk-container-id-3 div.sk-serial {display: flex;flex-direction: column;align-items: center;background-color: white;padding-right: 0.2em;padding-left: 0.2em;position: relative;}#sk-container-id-3 div.sk-item {position: relative;z-index: 1;}#sk-container-id-3 div.sk-parallel {display: flex;align-items: stretch;justify-content: center;background-color: white;position: relative;}#sk-container-id-3 div.sk-item::before, #sk-container-id-3 div.sk-parallel-item::before {content: \"\";position: absolute;border-left: 1px solid gray;box-sizing: border-box;top: 0;bottom: 0;left: 50%;z-index: -1;}#sk-container-id-3 div.sk-parallel-item {display: flex;flex-direction: column;z-index: 1;position: relative;background-color: white;}#sk-container-id-3 div.sk-parallel-item:first-child::after {align-self: flex-end;width: 50%;}#sk-container-id-3 div.sk-parallel-item:last-child::after {align-self: flex-start;width: 50%;}#sk-container-id-3 div.sk-parallel-item:only-child::after {width: 0;}#sk-container-id-3 div.sk-dashed-wrapped {border: 1px dashed gray;margin: 0 0.4em 0.5em 0.4em;box-sizing: border-box;padding-bottom: 0.4em;background-color: white;}#sk-container-id-3 div.sk-label label {font-family: monospace;font-weight: bold;display: inline-block;line-height: 1.2em;}#sk-container-id-3 div.sk-label-container {text-align: center;}#sk-container-id-3 div.sk-container {/* jupyter's `normalize.less` sets `[hidden] { display: none; }` but bootstrap.min.css set `[hidden] { display: none !important; }` so we also need the `!important` here to be able to override the default hidden behavior on the sphinx rendered scikit-learn.org. See: https://github.com/scikit-learn/scikit-learn/issues/21755 */display: inline-block !important;position: relative;}#sk-container-id-3 div.sk-text-repr-fallback {display: none;}</style><div id=\"sk-container-id-3\" class=\"sk-top-container\"><div class=\"sk-text-repr-fallback\"><pre>Pipeline(steps=[(&#x27;median_imputer&#x27;,\n",
              "                 MeanMedianImputer(variables=[&#x27;LINEA_DE_TC&#x27;, &#x27;EDAD_T&#x27;,\n",
              "                                              &#x27;INGRESO_CLIENTE&#x27;])),\n",
              "                (&#x27;arbitrary_imputer&#x27;,\n",
              "                 ArbitraryNumberImputer(arbitrary_number=0,\n",
              "                                        variables=[&#x27;CUOTA&#x27;,\n",
              "                                                   &#x27;DEUDA_TOTAL_SISTEMA&#x27;,\n",
              "                                                   &#x27;MEDIANA_AHORROS_ULT_6M&#x27;,\n",
              "                                                   &#x27;MESES_AHORROS_ULT_6M&#x27;,\n",
              "                                                   &#x27;ATRASO_MAXIMO_ULT_24M&#x27;,\n",
              "                                                   &#x27;ATRASO_MAXIMO_ULT_12M&#x27;,\n",
              "                                                   &#x27;MONTO_TC_MEMBRESIA&#x27;]))])</pre><b>In a Jupyter environment, please rerun this cell to show the HTML representation or trust the notebook. <br />On GitHub, the HTML representation is unable to render, please try loading this page with nbviewer.org.</b></div><div class=\"sk-container\" hidden><div class=\"sk-item sk-dashed-wrapped\"><div class=\"sk-label-container\"><div class=\"sk-label sk-toggleable\"><input class=\"sk-toggleable__control sk-hidden--visually\" id=\"sk-estimator-id-3\" type=\"checkbox\" ><label for=\"sk-estimator-id-3\" class=\"sk-toggleable__label sk-toggleable__label-arrow\">Pipeline</label><div class=\"sk-toggleable__content\"><pre>Pipeline(steps=[(&#x27;median_imputer&#x27;,\n",
              "                 MeanMedianImputer(variables=[&#x27;LINEA_DE_TC&#x27;, &#x27;EDAD_T&#x27;,\n",
              "                                              &#x27;INGRESO_CLIENTE&#x27;])),\n",
              "                (&#x27;arbitrary_imputer&#x27;,\n",
              "                 ArbitraryNumberImputer(arbitrary_number=0,\n",
              "                                        variables=[&#x27;CUOTA&#x27;,\n",
              "                                                   &#x27;DEUDA_TOTAL_SISTEMA&#x27;,\n",
              "                                                   &#x27;MEDIANA_AHORROS_ULT_6M&#x27;,\n",
              "                                                   &#x27;MESES_AHORROS_ULT_6M&#x27;,\n",
              "                                                   &#x27;ATRASO_MAXIMO_ULT_24M&#x27;,\n",
              "                                                   &#x27;ATRASO_MAXIMO_ULT_12M&#x27;,\n",
              "                                                   &#x27;MONTO_TC_MEMBRESIA&#x27;]))])</pre></div></div></div><div class=\"sk-serial\"><div class=\"sk-item\"><div class=\"sk-estimator sk-toggleable\"><input class=\"sk-toggleable__control sk-hidden--visually\" id=\"sk-estimator-id-4\" type=\"checkbox\" ><label for=\"sk-estimator-id-4\" class=\"sk-toggleable__label sk-toggleable__label-arrow\">MeanMedianImputer</label><div class=\"sk-toggleable__content\"><pre>MeanMedianImputer(variables=[&#x27;LINEA_DE_TC&#x27;, &#x27;EDAD_T&#x27;, &#x27;INGRESO_CLIENTE&#x27;])</pre></div></div></div><div class=\"sk-item\"><div class=\"sk-estimator sk-toggleable\"><input class=\"sk-toggleable__control sk-hidden--visually\" id=\"sk-estimator-id-5\" type=\"checkbox\" ><label for=\"sk-estimator-id-5\" class=\"sk-toggleable__label sk-toggleable__label-arrow\">ArbitraryNumberImputer</label><div class=\"sk-toggleable__content\"><pre>ArbitraryNumberImputer(arbitrary_number=0,\n",
              "                       variables=[&#x27;CUOTA&#x27;, &#x27;DEUDA_TOTAL_SISTEMA&#x27;,\n",
              "                                  &#x27;MEDIANA_AHORROS_ULT_6M&#x27;,\n",
              "                                  &#x27;MESES_AHORROS_ULT_6M&#x27;,\n",
              "                                  &#x27;ATRASO_MAXIMO_ULT_24M&#x27;,\n",
              "                                  &#x27;ATRASO_MAXIMO_ULT_12M&#x27;,\n",
              "                                  &#x27;MONTO_TC_MEMBRESIA&#x27;])</pre></div></div></div></div></div></div></div>"
            ]
          },
          "metadata": {},
          "execution_count": 44
        }
      ],
      "source": [
        "pipe_1.fit(X_train)"
      ]
    },
    {
      "cell_type": "code",
      "execution_count": 45,
      "metadata": {
        "id": "YmsahT_n11FN",
        "colab": {
          "base_uri": "https://localhost:8080/"
        },
        "outputId": "0757dc30-45bc-4df3-ac5d-37cff8287167"
      },
      "outputs": [
        {
          "output_type": "execute_result",
          "data": {
            "text/plain": [
              "{'LINEA_DE_TC': 9609.0, 'EDAD_T': 35.0, 'INGRESO_CLIENTE': 2271.1773555}"
            ]
          },
          "metadata": {},
          "execution_count": 45
        }
      ],
      "source": [
        "pipe_1.named_steps[\"median_imputer\"].imputer_dict_"
      ]
    },
    {
      "cell_type": "code",
      "execution_count": 46,
      "metadata": {
        "id": "lkOsv-Mm11Bf",
        "colab": {
          "base_uri": "https://localhost:8080/"
        },
        "outputId": "4a451688-f231-40ee-d363-876f68229642"
      },
      "outputs": [
        {
          "output_type": "execute_result",
          "data": {
            "text/plain": [
              "{'CUOTA': 0,\n",
              " 'DEUDA_TOTAL_SISTEMA': 0,\n",
              " 'MEDIANA_AHORROS_ULT_6M': 0,\n",
              " 'MESES_AHORROS_ULT_6M': 0,\n",
              " 'ATRASO_MAXIMO_ULT_24M': 0,\n",
              " 'ATRASO_MAXIMO_ULT_12M': 0,\n",
              " 'MONTO_TC_MEMBRESIA': 0}"
            ]
          },
          "metadata": {},
          "execution_count": 46
        }
      ],
      "source": [
        "pipe_1.named_steps[\"arbitrary_imputer\"].imputer_dict_"
      ]
    },
    {
      "cell_type": "code",
      "execution_count": 47,
      "metadata": {
        "id": "-TsluqXS2JCb"
      },
      "outputs": [],
      "source": [
        "X_train_t = pipe_1.transform(X_train)\n",
        "X_test_t = pipe_1.transform(X_test)"
      ]
    },
    {
      "cell_type": "code",
      "execution_count": 48,
      "metadata": {
        "id": "6cVdFyQo2I-6",
        "colab": {
          "base_uri": "https://localhost:8080/"
        },
        "outputId": "46905776-3fe1-466b-c2a2-cf288056f01c"
      },
      "outputs": [
        {
          "output_type": "execute_result",
          "data": {
            "text/plain": [
              "CODMES                     0.000000\n",
              "CODSOLICITUD               0.000000\n",
              "DEUDA                      0.000000\n",
              "PLAZO_CREDITO              0.000000\n",
              "FLG_GARANTIA               0.000000\n",
              "MIN_MES_DE_DEFAULT         0.000000\n",
              "SEGMENTOCLIENTE            0.000000\n",
              "TARJETA_RELACIONADA        0.000000\n",
              "VEHICULAR_RELACIONADA      0.000000\n",
              "HIPOTECARIO_RELACIONADA    0.000000\n",
              "ATRASO_MAXIMO_ULT_6M       0.000000\n",
              "ATRASO_MAXIMO_ULT_12M      0.000000\n",
              "ATRASO_MAXIMO_ULT_24M      0.000000\n",
              "MESES_AHORROS_ULT_6M       0.000000\n",
              "MEDIANA_AHORROS_ULT_6M     0.000000\n",
              "DEUDA_TOTAL_SISTEMA        0.000000\n",
              "CLASIF_SISTEMA_ULT_12M     0.000000\n",
              "FLG_PDH                    0.000000\n",
              "NUMERO_DE_PAGOS_PDH        0.000000\n",
              "MONTO_TC_SISTEMA           0.000000\n",
              "INGRESO_CLIENTE            0.000000\n",
              "PROFESION                  0.010286\n",
              "ZONA_DEL_DESEMBOLSO        0.030367\n",
              "ESTADO_CIVIL               0.030367\n",
              "EDAD_T                     0.000000\n",
              "CUOTA                      0.000000\n",
              "LINEA_DE_TC                0.000000\n",
              "MONTO_TC_MEMBRESIA         0.000000\n",
              "FLG_TC_VISA                0.000000\n",
              "FLG_TC_MC                  0.000000\n",
              "dtype: float64"
            ]
          },
          "metadata": {},
          "execution_count": 48
        }
      ],
      "source": [
        "X_train_t.isnull().mean()"
      ]
    },
    {
      "cell_type": "code",
      "execution_count": 49,
      "metadata": {
        "id": "dpxn0Rqh2I6m",
        "colab": {
          "base_uri": "https://localhost:8080/"
        },
        "outputId": "6dd5f87b-12b5-42b6-ab22-6b3895ff488c"
      },
      "outputs": [
        {
          "output_type": "execute_result",
          "data": {
            "text/plain": [
              "CODMES                     0.000000\n",
              "CODSOLICITUD               0.000000\n",
              "DEUDA                      0.000000\n",
              "PLAZO_CREDITO              0.000000\n",
              "FLG_GARANTIA               0.000000\n",
              "MIN_MES_DE_DEFAULT         0.000000\n",
              "SEGMENTOCLIENTE            0.000000\n",
              "TARJETA_RELACIONADA        0.000000\n",
              "VEHICULAR_RELACIONADA      0.000000\n",
              "HIPOTECARIO_RELACIONADA    0.000000\n",
              "ATRASO_MAXIMO_ULT_6M       0.000000\n",
              "ATRASO_MAXIMO_ULT_12M      0.000000\n",
              "ATRASO_MAXIMO_ULT_24M      0.000000\n",
              "MESES_AHORROS_ULT_6M       0.000000\n",
              "MEDIANA_AHORROS_ULT_6M     0.000000\n",
              "DEUDA_TOTAL_SISTEMA        0.000000\n",
              "CLASIF_SISTEMA_ULT_12M     0.000000\n",
              "FLG_PDH                    0.000000\n",
              "NUMERO_DE_PAGOS_PDH        0.000000\n",
              "MONTO_TC_SISTEMA           0.000000\n",
              "INGRESO_CLIENTE            0.000000\n",
              "PROFESION                  0.011477\n",
              "ZONA_DEL_DESEMBOLSO        0.032450\n",
              "ESTADO_CIVIL               0.032450\n",
              "EDAD_T                     0.000000\n",
              "CUOTA                      0.000000\n",
              "LINEA_DE_TC                0.000000\n",
              "MONTO_TC_MEMBRESIA         0.000000\n",
              "FLG_TC_VISA                0.000000\n",
              "FLG_TC_MC                  0.000000\n",
              "dtype: float64"
            ]
          },
          "metadata": {},
          "execution_count": 49
        }
      ],
      "source": [
        "X_test_t.isnull().mean()"
      ]
    },
    {
      "cell_type": "markdown",
      "metadata": {
        "id": "fVwSOBDAKbym"
      },
      "source": [
        "### Continuemos con las variables categóricas"
      ]
    },
    {
      "cell_type": "code",
      "execution_count": 50,
      "metadata": {
        "id": "9tG0divc104W",
        "colab": {
          "base_uri": "https://localhost:8080/"
        },
        "outputId": "ef736187-aebe-4e3c-9037-a9a47b77c6b4"
      },
      "outputs": [
        {
          "output_type": "execute_result",
          "data": {
            "text/plain": [
              "CODMES                          NaN\n",
              "CODSOLICITUD                    NaN\n",
              "FLG_GARANTIA                    NaN\n",
              "MIN_MES_DE_DEFAULT              NaN\n",
              "SEGMENTOCLIENTE                 NaN\n",
              "TARJETA_RELACIONADA             NaN\n",
              "VEHICULAR_RELACIONADA           NaN\n",
              "HIPOTECARIO_RELACIONADA         NaN\n",
              "CLASIF_SISTEMA_ULT_12M          NaN\n",
              "FLG_PDH                         NaN\n",
              "PROFESION                  0.010286\n",
              "ZONA_DEL_DESEMBOLSO        0.030367\n",
              "ESTADO_CIVIL               0.030367\n",
              "FLG_TC_VISA                     NaN\n",
              "FLG_TC_MC                       NaN\n",
              "dtype: float64"
            ]
          },
          "metadata": {},
          "execution_count": 50
        }
      ],
      "source": [
        "var_cat = X_train.select_dtypes(exclude = [\"number\"])\n",
        "var_cat.isnull().mean().where(var_cat.isnull().mean()>0)"
      ]
    },
    {
      "cell_type": "code",
      "execution_count": 51,
      "metadata": {
        "id": "JCfHOct83cO_"
      },
      "outputs": [],
      "source": [
        "from feature_engine.imputation import CategoricalImputer"
      ]
    },
    {
      "cell_type": "code",
      "execution_count": 52,
      "metadata": {
        "id": "XLSo7b3u3cK_",
        "colab": {
          "base_uri": "https://localhost:8080/",
          "height": 109
        },
        "outputId": "5a46678c-1c37-4839-dd05-f14e6d049e4c"
      },
      "outputs": [
        {
          "output_type": "execute_result",
          "data": {
            "text/plain": [
              "CategoricalImputer(imputation_method='frequent',\n",
              "                   variables=['PROFESION', 'ZONA_DEL_DESEMBOLSO',\n",
              "                              'ESTADO_CIVIL'])"
            ],
            "text/html": [
              "<style>#sk-container-id-4 {color: black;background-color: white;}#sk-container-id-4 pre{padding: 0;}#sk-container-id-4 div.sk-toggleable {background-color: white;}#sk-container-id-4 label.sk-toggleable__label {cursor: pointer;display: block;width: 100%;margin-bottom: 0;padding: 0.3em;box-sizing: border-box;text-align: center;}#sk-container-id-4 label.sk-toggleable__label-arrow:before {content: \"▸\";float: left;margin-right: 0.25em;color: #696969;}#sk-container-id-4 label.sk-toggleable__label-arrow:hover:before {color: black;}#sk-container-id-4 div.sk-estimator:hover label.sk-toggleable__label-arrow:before {color: black;}#sk-container-id-4 div.sk-toggleable__content {max-height: 0;max-width: 0;overflow: hidden;text-align: left;background-color: #f0f8ff;}#sk-container-id-4 div.sk-toggleable__content pre {margin: 0.2em;color: black;border-radius: 0.25em;background-color: #f0f8ff;}#sk-container-id-4 input.sk-toggleable__control:checked~div.sk-toggleable__content {max-height: 200px;max-width: 100%;overflow: auto;}#sk-container-id-4 input.sk-toggleable__control:checked~label.sk-toggleable__label-arrow:before {content: \"▾\";}#sk-container-id-4 div.sk-estimator input.sk-toggleable__control:checked~label.sk-toggleable__label {background-color: #d4ebff;}#sk-container-id-4 div.sk-label input.sk-toggleable__control:checked~label.sk-toggleable__label {background-color: #d4ebff;}#sk-container-id-4 input.sk-hidden--visually {border: 0;clip: rect(1px 1px 1px 1px);clip: rect(1px, 1px, 1px, 1px);height: 1px;margin: -1px;overflow: hidden;padding: 0;position: absolute;width: 1px;}#sk-container-id-4 div.sk-estimator {font-family: monospace;background-color: #f0f8ff;border: 1px dotted black;border-radius: 0.25em;box-sizing: border-box;margin-bottom: 0.5em;}#sk-container-id-4 div.sk-estimator:hover {background-color: #d4ebff;}#sk-container-id-4 div.sk-parallel-item::after {content: \"\";width: 100%;border-bottom: 1px solid gray;flex-grow: 1;}#sk-container-id-4 div.sk-label:hover label.sk-toggleable__label {background-color: #d4ebff;}#sk-container-id-4 div.sk-serial::before {content: \"\";position: absolute;border-left: 1px solid gray;box-sizing: border-box;top: 0;bottom: 0;left: 50%;z-index: 0;}#sk-container-id-4 div.sk-serial {display: flex;flex-direction: column;align-items: center;background-color: white;padding-right: 0.2em;padding-left: 0.2em;position: relative;}#sk-container-id-4 div.sk-item {position: relative;z-index: 1;}#sk-container-id-4 div.sk-parallel {display: flex;align-items: stretch;justify-content: center;background-color: white;position: relative;}#sk-container-id-4 div.sk-item::before, #sk-container-id-4 div.sk-parallel-item::before {content: \"\";position: absolute;border-left: 1px solid gray;box-sizing: border-box;top: 0;bottom: 0;left: 50%;z-index: -1;}#sk-container-id-4 div.sk-parallel-item {display: flex;flex-direction: column;z-index: 1;position: relative;background-color: white;}#sk-container-id-4 div.sk-parallel-item:first-child::after {align-self: flex-end;width: 50%;}#sk-container-id-4 div.sk-parallel-item:last-child::after {align-self: flex-start;width: 50%;}#sk-container-id-4 div.sk-parallel-item:only-child::after {width: 0;}#sk-container-id-4 div.sk-dashed-wrapped {border: 1px dashed gray;margin: 0 0.4em 0.5em 0.4em;box-sizing: border-box;padding-bottom: 0.4em;background-color: white;}#sk-container-id-4 div.sk-label label {font-family: monospace;font-weight: bold;display: inline-block;line-height: 1.2em;}#sk-container-id-4 div.sk-label-container {text-align: center;}#sk-container-id-4 div.sk-container {/* jupyter's `normalize.less` sets `[hidden] { display: none; }` but bootstrap.min.css set `[hidden] { display: none !important; }` so we also need the `!important` here to be able to override the default hidden behavior on the sphinx rendered scikit-learn.org. See: https://github.com/scikit-learn/scikit-learn/issues/21755 */display: inline-block !important;position: relative;}#sk-container-id-4 div.sk-text-repr-fallback {display: none;}</style><div id=\"sk-container-id-4\" class=\"sk-top-container\"><div class=\"sk-text-repr-fallback\"><pre>CategoricalImputer(imputation_method=&#x27;frequent&#x27;,\n",
              "                   variables=[&#x27;PROFESION&#x27;, &#x27;ZONA_DEL_DESEMBOLSO&#x27;,\n",
              "                              &#x27;ESTADO_CIVIL&#x27;])</pre><b>In a Jupyter environment, please rerun this cell to show the HTML representation or trust the notebook. <br />On GitHub, the HTML representation is unable to render, please try loading this page with nbviewer.org.</b></div><div class=\"sk-container\" hidden><div class=\"sk-item\"><div class=\"sk-estimator sk-toggleable\"><input class=\"sk-toggleable__control sk-hidden--visually\" id=\"sk-estimator-id-6\" type=\"checkbox\" checked><label for=\"sk-estimator-id-6\" class=\"sk-toggleable__label sk-toggleable__label-arrow\">CategoricalImputer</label><div class=\"sk-toggleable__content\"><pre>CategoricalImputer(imputation_method=&#x27;frequent&#x27;,\n",
              "                   variables=[&#x27;PROFESION&#x27;, &#x27;ZONA_DEL_DESEMBOLSO&#x27;,\n",
              "                              &#x27;ESTADO_CIVIL&#x27;])</pre></div></div></div></div></div>"
            ]
          },
          "metadata": {},
          "execution_count": 52
        }
      ],
      "source": [
        "imputer_3 = CategoricalImputer(imputation_method=\"frequent\", variables=['PROFESION','ZONA_DEL_DESEMBOLSO','ESTADO_CIVIL'])\n",
        "# si no se especifica el método de imputación, le imputará el valor \"Missing\"\n",
        "imputer_3.fit(X_train)"
      ]
    },
    {
      "cell_type": "code",
      "execution_count": 53,
      "metadata": {
        "id": "4Z4ecoA03cHY",
        "colab": {
          "base_uri": "https://localhost:8080/"
        },
        "outputId": "41d8d8f0-ac5d-4392-e5ad-cd6d0bf774af"
      },
      "outputs": [
        {
          "output_type": "execute_result",
          "data": {
            "text/plain": [
              "['PROFESION', 'ZONA_DEL_DESEMBOLSO', 'ESTADO_CIVIL']"
            ]
          },
          "metadata": {},
          "execution_count": 53
        }
      ],
      "source": [
        "imputer_3.variables_"
      ]
    },
    {
      "cell_type": "code",
      "execution_count": 54,
      "metadata": {
        "id": "tR84K8DP6lze",
        "colab": {
          "base_uri": "https://localhost:8080/"
        },
        "outputId": "9856d5e9-d0d4-4ce8-8aae-fe32c1224bad"
      },
      "outputs": [
        {
          "output_type": "execute_result",
          "data": {
            "text/plain": [
              "{'PROFESION': 'TECNICO',\n",
              " 'ZONA_DEL_DESEMBOLSO': 'AREQUIPA',\n",
              " 'ESTADO_CIVIL': 'SOL'}"
            ]
          },
          "metadata": {},
          "execution_count": 54
        }
      ],
      "source": [
        "imputer_3.imputer_dict_"
      ]
    },
    {
      "cell_type": "code",
      "execution_count": 55,
      "metadata": {
        "id": "59SfdfCj6lvg"
      },
      "outputs": [],
      "source": [
        "X_train_t = imputer_3.transform(X_train_t)\n",
        "X_test_t = imputer_3.transform(X_test_t)"
      ]
    },
    {
      "cell_type": "code",
      "execution_count": 56,
      "metadata": {
        "id": "RDEt8e0T6lqm",
        "colab": {
          "base_uri": "https://localhost:8080/"
        },
        "outputId": "9ed2c97d-453d-4da2-ca6b-131cd575f8f3"
      },
      "outputs": [
        {
          "output_type": "execute_result",
          "data": {
            "text/plain": [
              "CODMES                     0.0\n",
              "CODSOLICITUD               0.0\n",
              "DEUDA                      0.0\n",
              "PLAZO_CREDITO              0.0\n",
              "FLG_GARANTIA               0.0\n",
              "MIN_MES_DE_DEFAULT         0.0\n",
              "SEGMENTOCLIENTE            0.0\n",
              "TARJETA_RELACIONADA        0.0\n",
              "VEHICULAR_RELACIONADA      0.0\n",
              "HIPOTECARIO_RELACIONADA    0.0\n",
              "ATRASO_MAXIMO_ULT_6M       0.0\n",
              "ATRASO_MAXIMO_ULT_12M      0.0\n",
              "ATRASO_MAXIMO_ULT_24M      0.0\n",
              "MESES_AHORROS_ULT_6M       0.0\n",
              "MEDIANA_AHORROS_ULT_6M     0.0\n",
              "DEUDA_TOTAL_SISTEMA        0.0\n",
              "CLASIF_SISTEMA_ULT_12M     0.0\n",
              "FLG_PDH                    0.0\n",
              "NUMERO_DE_PAGOS_PDH        0.0\n",
              "MONTO_TC_SISTEMA           0.0\n",
              "INGRESO_CLIENTE            0.0\n",
              "PROFESION                  0.0\n",
              "ZONA_DEL_DESEMBOLSO        0.0\n",
              "ESTADO_CIVIL               0.0\n",
              "EDAD_T                     0.0\n",
              "CUOTA                      0.0\n",
              "LINEA_DE_TC                0.0\n",
              "MONTO_TC_MEMBRESIA         0.0\n",
              "FLG_TC_VISA                0.0\n",
              "FLG_TC_MC                  0.0\n",
              "dtype: float64"
            ]
          },
          "metadata": {},
          "execution_count": 56
        }
      ],
      "source": [
        "X_train_t.isnull().mean()"
      ]
    },
    {
      "cell_type": "code",
      "execution_count": 57,
      "metadata": {
        "id": "Oj4InKLt7EBq",
        "colab": {
          "base_uri": "https://localhost:8080/"
        },
        "outputId": "e769c0b8-cd15-4a26-fd73-884cc8130c99"
      },
      "outputs": [
        {
          "output_type": "execute_result",
          "data": {
            "text/plain": [
              "CODMES                     0.0\n",
              "CODSOLICITUD               0.0\n",
              "DEUDA                      0.0\n",
              "PLAZO_CREDITO              0.0\n",
              "FLG_GARANTIA               0.0\n",
              "MIN_MES_DE_DEFAULT         0.0\n",
              "SEGMENTOCLIENTE            0.0\n",
              "TARJETA_RELACIONADA        0.0\n",
              "VEHICULAR_RELACIONADA      0.0\n",
              "HIPOTECARIO_RELACIONADA    0.0\n",
              "ATRASO_MAXIMO_ULT_6M       0.0\n",
              "ATRASO_MAXIMO_ULT_12M      0.0\n",
              "ATRASO_MAXIMO_ULT_24M      0.0\n",
              "MESES_AHORROS_ULT_6M       0.0\n",
              "MEDIANA_AHORROS_ULT_6M     0.0\n",
              "DEUDA_TOTAL_SISTEMA        0.0\n",
              "CLASIF_SISTEMA_ULT_12M     0.0\n",
              "FLG_PDH                    0.0\n",
              "NUMERO_DE_PAGOS_PDH        0.0\n",
              "MONTO_TC_SISTEMA           0.0\n",
              "INGRESO_CLIENTE            0.0\n",
              "PROFESION                  0.0\n",
              "ZONA_DEL_DESEMBOLSO        0.0\n",
              "ESTADO_CIVIL               0.0\n",
              "EDAD_T                     0.0\n",
              "CUOTA                      0.0\n",
              "LINEA_DE_TC                0.0\n",
              "MONTO_TC_MEMBRESIA         0.0\n",
              "FLG_TC_VISA                0.0\n",
              "FLG_TC_MC                  0.0\n",
              "dtype: float64"
            ]
          },
          "metadata": {},
          "execution_count": 57
        }
      ],
      "source": [
        "X_test_t.isnull().mean()"
      ]
    },
    {
      "cell_type": "code",
      "execution_count": 58,
      "metadata": {
        "id": "0_lSZmOv7D96"
      },
      "outputs": [],
      "source": [
        "# Construyamos alternativamente un nuevo pipeline con todos los métodos de imputación en uno solo\n",
        "pipe_2 = Pipeline(\n",
        "    [\n",
        "        (\n",
        "            \"median_imputer\",\n",
        "            MeanMedianImputer(imputation_method=\"median\", variables=['LINEA_DE_TC','EDAD_T','INGRESO_CLIENTE']),\n",
        "        ),\n",
        "        (\n",
        "            \"arbitrary_imputer\",\n",
        "            ArbitraryNumberImputer(arbitrary_number=0, variables=['CUOTA', 'DEUDA_TOTAL_SISTEMA', 'MEDIANA_AHORROS_ULT_6M', 'MESES_AHORROS_ULT_6M', 'ATRASO_MAXIMO_ULT_24M','ATRASO_MAXIMO_ULT_12M','MONTO_TC_MEMBRESIA']),\n",
        "        ),\n",
        "        (   \"mode_imputer\",\n",
        "           CategoricalImputer(imputation_method=\"frequent\", variables=['PROFESION','ZONA_DEL_DESEMBOLSO','ESTADO_CIVIL'])\n",
        "        ),\n",
        "    ]\n",
        ")"
      ]
    },
    {
      "cell_type": "code",
      "execution_count": 59,
      "metadata": {
        "id": "fjsnBIt_98-4",
        "colab": {
          "base_uri": "https://localhost:8080/",
          "height": 159
        },
        "outputId": "960fa22b-9ef7-45c2-a9bf-9c761bc2af52"
      },
      "outputs": [
        {
          "output_type": "execute_result",
          "data": {
            "text/plain": [
              "Pipeline(steps=[('median_imputer',\n",
              "                 MeanMedianImputer(variables=['LINEA_DE_TC', 'EDAD_T',\n",
              "                                              'INGRESO_CLIENTE'])),\n",
              "                ('arbitrary_imputer',\n",
              "                 ArbitraryNumberImputer(arbitrary_number=0,\n",
              "                                        variables=['CUOTA',\n",
              "                                                   'DEUDA_TOTAL_SISTEMA',\n",
              "                                                   'MEDIANA_AHORROS_ULT_6M',\n",
              "                                                   'MESES_AHORROS_ULT_6M',\n",
              "                                                   'ATRASO_MAXIMO_ULT_24M',\n",
              "                                                   'ATRASO_MAXIMO_ULT_12M',\n",
              "                                                   'MONTO_TC_MEMBRESIA'])),\n",
              "                ('mode_imputer',\n",
              "                 CategoricalImputer(imputation_method='frequent',\n",
              "                                    variables=['PROFESION',\n",
              "                                               'ZONA_DEL_DESEMBOLSO',\n",
              "                                               'ESTADO_CIVIL']))])"
            ],
            "text/html": [
              "<style>#sk-container-id-5 {color: black;background-color: white;}#sk-container-id-5 pre{padding: 0;}#sk-container-id-5 div.sk-toggleable {background-color: white;}#sk-container-id-5 label.sk-toggleable__label {cursor: pointer;display: block;width: 100%;margin-bottom: 0;padding: 0.3em;box-sizing: border-box;text-align: center;}#sk-container-id-5 label.sk-toggleable__label-arrow:before {content: \"▸\";float: left;margin-right: 0.25em;color: #696969;}#sk-container-id-5 label.sk-toggleable__label-arrow:hover:before {color: black;}#sk-container-id-5 div.sk-estimator:hover label.sk-toggleable__label-arrow:before {color: black;}#sk-container-id-5 div.sk-toggleable__content {max-height: 0;max-width: 0;overflow: hidden;text-align: left;background-color: #f0f8ff;}#sk-container-id-5 div.sk-toggleable__content pre {margin: 0.2em;color: black;border-radius: 0.25em;background-color: #f0f8ff;}#sk-container-id-5 input.sk-toggleable__control:checked~div.sk-toggleable__content {max-height: 200px;max-width: 100%;overflow: auto;}#sk-container-id-5 input.sk-toggleable__control:checked~label.sk-toggleable__label-arrow:before {content: \"▾\";}#sk-container-id-5 div.sk-estimator input.sk-toggleable__control:checked~label.sk-toggleable__label {background-color: #d4ebff;}#sk-container-id-5 div.sk-label input.sk-toggleable__control:checked~label.sk-toggleable__label {background-color: #d4ebff;}#sk-container-id-5 input.sk-hidden--visually {border: 0;clip: rect(1px 1px 1px 1px);clip: rect(1px, 1px, 1px, 1px);height: 1px;margin: -1px;overflow: hidden;padding: 0;position: absolute;width: 1px;}#sk-container-id-5 div.sk-estimator {font-family: monospace;background-color: #f0f8ff;border: 1px dotted black;border-radius: 0.25em;box-sizing: border-box;margin-bottom: 0.5em;}#sk-container-id-5 div.sk-estimator:hover {background-color: #d4ebff;}#sk-container-id-5 div.sk-parallel-item::after {content: \"\";width: 100%;border-bottom: 1px solid gray;flex-grow: 1;}#sk-container-id-5 div.sk-label:hover label.sk-toggleable__label {background-color: #d4ebff;}#sk-container-id-5 div.sk-serial::before {content: \"\";position: absolute;border-left: 1px solid gray;box-sizing: border-box;top: 0;bottom: 0;left: 50%;z-index: 0;}#sk-container-id-5 div.sk-serial {display: flex;flex-direction: column;align-items: center;background-color: white;padding-right: 0.2em;padding-left: 0.2em;position: relative;}#sk-container-id-5 div.sk-item {position: relative;z-index: 1;}#sk-container-id-5 div.sk-parallel {display: flex;align-items: stretch;justify-content: center;background-color: white;position: relative;}#sk-container-id-5 div.sk-item::before, #sk-container-id-5 div.sk-parallel-item::before {content: \"\";position: absolute;border-left: 1px solid gray;box-sizing: border-box;top: 0;bottom: 0;left: 50%;z-index: -1;}#sk-container-id-5 div.sk-parallel-item {display: flex;flex-direction: column;z-index: 1;position: relative;background-color: white;}#sk-container-id-5 div.sk-parallel-item:first-child::after {align-self: flex-end;width: 50%;}#sk-container-id-5 div.sk-parallel-item:last-child::after {align-self: flex-start;width: 50%;}#sk-container-id-5 div.sk-parallel-item:only-child::after {width: 0;}#sk-container-id-5 div.sk-dashed-wrapped {border: 1px dashed gray;margin: 0 0.4em 0.5em 0.4em;box-sizing: border-box;padding-bottom: 0.4em;background-color: white;}#sk-container-id-5 div.sk-label label {font-family: monospace;font-weight: bold;display: inline-block;line-height: 1.2em;}#sk-container-id-5 div.sk-label-container {text-align: center;}#sk-container-id-5 div.sk-container {/* jupyter's `normalize.less` sets `[hidden] { display: none; }` but bootstrap.min.css set `[hidden] { display: none !important; }` so we also need the `!important` here to be able to override the default hidden behavior on the sphinx rendered scikit-learn.org. See: https://github.com/scikit-learn/scikit-learn/issues/21755 */display: inline-block !important;position: relative;}#sk-container-id-5 div.sk-text-repr-fallback {display: none;}</style><div id=\"sk-container-id-5\" class=\"sk-top-container\"><div class=\"sk-text-repr-fallback\"><pre>Pipeline(steps=[(&#x27;median_imputer&#x27;,\n",
              "                 MeanMedianImputer(variables=[&#x27;LINEA_DE_TC&#x27;, &#x27;EDAD_T&#x27;,\n",
              "                                              &#x27;INGRESO_CLIENTE&#x27;])),\n",
              "                (&#x27;arbitrary_imputer&#x27;,\n",
              "                 ArbitraryNumberImputer(arbitrary_number=0,\n",
              "                                        variables=[&#x27;CUOTA&#x27;,\n",
              "                                                   &#x27;DEUDA_TOTAL_SISTEMA&#x27;,\n",
              "                                                   &#x27;MEDIANA_AHORROS_ULT_6M&#x27;,\n",
              "                                                   &#x27;MESES_AHORROS_ULT_6M&#x27;,\n",
              "                                                   &#x27;ATRASO_MAXIMO_ULT_24M&#x27;,\n",
              "                                                   &#x27;ATRASO_MAXIMO_ULT_12M&#x27;,\n",
              "                                                   &#x27;MONTO_TC_MEMBRESIA&#x27;])),\n",
              "                (&#x27;mode_imputer&#x27;,\n",
              "                 CategoricalImputer(imputation_method=&#x27;frequent&#x27;,\n",
              "                                    variables=[&#x27;PROFESION&#x27;,\n",
              "                                               &#x27;ZONA_DEL_DESEMBOLSO&#x27;,\n",
              "                                               &#x27;ESTADO_CIVIL&#x27;]))])</pre><b>In a Jupyter environment, please rerun this cell to show the HTML representation or trust the notebook. <br />On GitHub, the HTML representation is unable to render, please try loading this page with nbviewer.org.</b></div><div class=\"sk-container\" hidden><div class=\"sk-item sk-dashed-wrapped\"><div class=\"sk-label-container\"><div class=\"sk-label sk-toggleable\"><input class=\"sk-toggleable__control sk-hidden--visually\" id=\"sk-estimator-id-7\" type=\"checkbox\" ><label for=\"sk-estimator-id-7\" class=\"sk-toggleable__label sk-toggleable__label-arrow\">Pipeline</label><div class=\"sk-toggleable__content\"><pre>Pipeline(steps=[(&#x27;median_imputer&#x27;,\n",
              "                 MeanMedianImputer(variables=[&#x27;LINEA_DE_TC&#x27;, &#x27;EDAD_T&#x27;,\n",
              "                                              &#x27;INGRESO_CLIENTE&#x27;])),\n",
              "                (&#x27;arbitrary_imputer&#x27;,\n",
              "                 ArbitraryNumberImputer(arbitrary_number=0,\n",
              "                                        variables=[&#x27;CUOTA&#x27;,\n",
              "                                                   &#x27;DEUDA_TOTAL_SISTEMA&#x27;,\n",
              "                                                   &#x27;MEDIANA_AHORROS_ULT_6M&#x27;,\n",
              "                                                   &#x27;MESES_AHORROS_ULT_6M&#x27;,\n",
              "                                                   &#x27;ATRASO_MAXIMO_ULT_24M&#x27;,\n",
              "                                                   &#x27;ATRASO_MAXIMO_ULT_12M&#x27;,\n",
              "                                                   &#x27;MONTO_TC_MEMBRESIA&#x27;])),\n",
              "                (&#x27;mode_imputer&#x27;,\n",
              "                 CategoricalImputer(imputation_method=&#x27;frequent&#x27;,\n",
              "                                    variables=[&#x27;PROFESION&#x27;,\n",
              "                                               &#x27;ZONA_DEL_DESEMBOLSO&#x27;,\n",
              "                                               &#x27;ESTADO_CIVIL&#x27;]))])</pre></div></div></div><div class=\"sk-serial\"><div class=\"sk-item\"><div class=\"sk-estimator sk-toggleable\"><input class=\"sk-toggleable__control sk-hidden--visually\" id=\"sk-estimator-id-8\" type=\"checkbox\" ><label for=\"sk-estimator-id-8\" class=\"sk-toggleable__label sk-toggleable__label-arrow\">MeanMedianImputer</label><div class=\"sk-toggleable__content\"><pre>MeanMedianImputer(variables=[&#x27;LINEA_DE_TC&#x27;, &#x27;EDAD_T&#x27;, &#x27;INGRESO_CLIENTE&#x27;])</pre></div></div></div><div class=\"sk-item\"><div class=\"sk-estimator sk-toggleable\"><input class=\"sk-toggleable__control sk-hidden--visually\" id=\"sk-estimator-id-9\" type=\"checkbox\" ><label for=\"sk-estimator-id-9\" class=\"sk-toggleable__label sk-toggleable__label-arrow\">ArbitraryNumberImputer</label><div class=\"sk-toggleable__content\"><pre>ArbitraryNumberImputer(arbitrary_number=0,\n",
              "                       variables=[&#x27;CUOTA&#x27;, &#x27;DEUDA_TOTAL_SISTEMA&#x27;,\n",
              "                                  &#x27;MEDIANA_AHORROS_ULT_6M&#x27;,\n",
              "                                  &#x27;MESES_AHORROS_ULT_6M&#x27;,\n",
              "                                  &#x27;ATRASO_MAXIMO_ULT_24M&#x27;,\n",
              "                                  &#x27;ATRASO_MAXIMO_ULT_12M&#x27;,\n",
              "                                  &#x27;MONTO_TC_MEMBRESIA&#x27;])</pre></div></div></div><div class=\"sk-item\"><div class=\"sk-estimator sk-toggleable\"><input class=\"sk-toggleable__control sk-hidden--visually\" id=\"sk-estimator-id-10\" type=\"checkbox\" ><label for=\"sk-estimator-id-10\" class=\"sk-toggleable__label sk-toggleable__label-arrow\">CategoricalImputer</label><div class=\"sk-toggleable__content\"><pre>CategoricalImputer(imputation_method=&#x27;frequent&#x27;,\n",
              "                   variables=[&#x27;PROFESION&#x27;, &#x27;ZONA_DEL_DESEMBOLSO&#x27;,\n",
              "                              &#x27;ESTADO_CIVIL&#x27;])</pre></div></div></div></div></div></div></div>"
            ]
          },
          "metadata": {},
          "execution_count": 59
        }
      ],
      "source": [
        "pipe_2.fit(X_train)"
      ]
    },
    {
      "cell_type": "code",
      "execution_count": 60,
      "metadata": {
        "id": "9GwyjwW4987v"
      },
      "outputs": [],
      "source": [
        "X_train_t = pipe_2.transform(X_train)\n",
        "X_test_t = pipe_2.transform(X_test)"
      ]
    },
    {
      "cell_type": "code",
      "execution_count": 61,
      "metadata": {
        "id": "hWKj84BG_RR8",
        "colab": {
          "base_uri": "https://localhost:8080/"
        },
        "outputId": "708c73b4-27af-40fe-dcca-071eb843f9a1"
      },
      "outputs": [
        {
          "output_type": "execute_result",
          "data": {
            "text/plain": [
              "CODMES                     0.0\n",
              "CODSOLICITUD               0.0\n",
              "DEUDA                      0.0\n",
              "PLAZO_CREDITO              0.0\n",
              "FLG_GARANTIA               0.0\n",
              "MIN_MES_DE_DEFAULT         0.0\n",
              "SEGMENTOCLIENTE            0.0\n",
              "TARJETA_RELACIONADA        0.0\n",
              "VEHICULAR_RELACIONADA      0.0\n",
              "HIPOTECARIO_RELACIONADA    0.0\n",
              "ATRASO_MAXIMO_ULT_6M       0.0\n",
              "ATRASO_MAXIMO_ULT_12M      0.0\n",
              "ATRASO_MAXIMO_ULT_24M      0.0\n",
              "MESES_AHORROS_ULT_6M       0.0\n",
              "MEDIANA_AHORROS_ULT_6M     0.0\n",
              "DEUDA_TOTAL_SISTEMA        0.0\n",
              "CLASIF_SISTEMA_ULT_12M     0.0\n",
              "FLG_PDH                    0.0\n",
              "NUMERO_DE_PAGOS_PDH        0.0\n",
              "MONTO_TC_SISTEMA           0.0\n",
              "INGRESO_CLIENTE            0.0\n",
              "PROFESION                  0.0\n",
              "ZONA_DEL_DESEMBOLSO        0.0\n",
              "ESTADO_CIVIL               0.0\n",
              "EDAD_T                     0.0\n",
              "CUOTA                      0.0\n",
              "LINEA_DE_TC                0.0\n",
              "MONTO_TC_MEMBRESIA         0.0\n",
              "FLG_TC_VISA                0.0\n",
              "FLG_TC_MC                  0.0\n",
              "dtype: float64"
            ]
          },
          "metadata": {},
          "execution_count": 61
        }
      ],
      "source": [
        "X_train_t.isnull().mean()"
      ]
    },
    {
      "cell_type": "code",
      "execution_count": 62,
      "metadata": {
        "id": "t_8gISoe_V-j",
        "colab": {
          "base_uri": "https://localhost:8080/"
        },
        "outputId": "5e0a759f-3418-44bc-eab8-b32e873d115d"
      },
      "outputs": [
        {
          "output_type": "execute_result",
          "data": {
            "text/plain": [
              "CODMES                     0.0\n",
              "CODSOLICITUD               0.0\n",
              "DEUDA                      0.0\n",
              "PLAZO_CREDITO              0.0\n",
              "FLG_GARANTIA               0.0\n",
              "MIN_MES_DE_DEFAULT         0.0\n",
              "SEGMENTOCLIENTE            0.0\n",
              "TARJETA_RELACIONADA        0.0\n",
              "VEHICULAR_RELACIONADA      0.0\n",
              "HIPOTECARIO_RELACIONADA    0.0\n",
              "ATRASO_MAXIMO_ULT_6M       0.0\n",
              "ATRASO_MAXIMO_ULT_12M      0.0\n",
              "ATRASO_MAXIMO_ULT_24M      0.0\n",
              "MESES_AHORROS_ULT_6M       0.0\n",
              "MEDIANA_AHORROS_ULT_6M     0.0\n",
              "DEUDA_TOTAL_SISTEMA        0.0\n",
              "CLASIF_SISTEMA_ULT_12M     0.0\n",
              "FLG_PDH                    0.0\n",
              "NUMERO_DE_PAGOS_PDH        0.0\n",
              "MONTO_TC_SISTEMA           0.0\n",
              "INGRESO_CLIENTE            0.0\n",
              "PROFESION                  0.0\n",
              "ZONA_DEL_DESEMBOLSO        0.0\n",
              "ESTADO_CIVIL               0.0\n",
              "EDAD_T                     0.0\n",
              "CUOTA                      0.0\n",
              "LINEA_DE_TC                0.0\n",
              "MONTO_TC_MEMBRESIA         0.0\n",
              "FLG_TC_VISA                0.0\n",
              "FLG_TC_MC                  0.0\n",
              "dtype: float64"
            ]
          },
          "metadata": {},
          "execution_count": 62
        }
      ],
      "source": [
        "X_test_t.isnull().mean()"
      ]
    },
    {
      "cell_type": "markdown",
      "metadata": {
        "id": "6ba14EMaIGKI"
      },
      "source": [
        "### 3.2 Tratamiento de Valores Raros o Poco frecuentes\n",
        "En este punto, nos detenemos para revisar problemas de cardinalidad y si existen valores raros o poco frecuentes en nuestras variables categóricas"
      ]
    },
    {
      "cell_type": "code",
      "execution_count": null,
      "metadata": {
        "id": "5hi8S1nlPKDy"
      },
      "outputs": [],
      "source": [
        "cat_cols=['FLG_GARANTIA','SEGMENTOCLIENTE','TARJETA_RELACIONADA','VEHICULAR_RELACIONADA','HIPOTECARIO_RELACIONADA','CLASIF_SISTEMA_ULT_12M',\n",
        "          'FLG_PDH','PROFESION','ZONA_DEL_DESEMBOLSO','ESTADO_CIVIL','FLG_TC_VISA','FLG_TC_MC']"
      ]
    },
    {
      "cell_type": "code",
      "execution_count": null,
      "metadata": {
        "id": "NAWGz0gxNAIq"
      },
      "outputs": [],
      "source": [
        "# Examinemos esto en la muestra de train\n",
        "for col in cat_cols:\n",
        "    print('variable: ', col, ' nro de categorias: ', X_train_t[col].nunique())"
      ]
    },
    {
      "cell_type": "code",
      "execution_count": null,
      "metadata": {
        "id": "PWqsEfKWM_y9"
      },
      "outputs": [],
      "source": [
        "#Examinemos esto en la muestra de test\n",
        "for col in cat_cols:\n",
        "    print('variable: ', col, ' nro de categorias: ', X_test_t[col].nunique())"
      ]
    },
    {
      "cell_type": "code",
      "execution_count": null,
      "metadata": {
        "id": "sTShRUdPQ4yv"
      },
      "outputs": [],
      "source": [
        "# Analicemos la variable Profesión\n",
        "unique_to_train_set = [x for x in X_train_t.PROFESION.unique() if x not in X_test_t.PROFESION.unique()]\n",
        "print('El nro de categorias que aparecen en el train y no en el test es', len(unique_to_train_set))\n",
        "unique_to_test_set = [x for x in X_test_t.PROFESION.unique() if x not in X_train_t.PROFESION.unique()]\n",
        "print('El nro de categorias que aparecen en el test y no en el train es', len(unique_to_test_set))"
      ]
    },
    {
      "cell_type": "code",
      "execution_count": null,
      "metadata": {
        "id": "BHglBNCzQRew"
      },
      "outputs": [],
      "source": [
        "# Analicemos la variable SEGMENTOCLIENTE\n",
        "unique_to_train_set = [x for x in X_train_t.SEGMENTOCLIENTE.unique() if x not in X_test_t.SEGMENTOCLIENTE.unique()]\n",
        "print('El nro de categorias que aparecen en el train y no en el test es', len(unique_to_train_set))\n",
        "unique_to_test_set = [x for x in X_test_t.SEGMENTOCLIENTE.unique() if x not in X_train_t.SEGMENTOCLIENTE.unique()]\n",
        "print('El nro de categorias que aparecen en el test y no en el train es', len(unique_to_test_set))"
      ]
    },
    {
      "cell_type": "code",
      "execution_count": null,
      "metadata": {
        "id": "FqYWnTj-RTk4"
      },
      "outputs": [],
      "source": [
        "# Analicemos la variable Zona\n",
        "unique_to_train_set = [x for x in X_train_t.ZONA_DEL_DESEMBOLSO.unique() if x not in X_test_t.ZONA_DEL_DESEMBOLSO.unique()]\n",
        "print('El nro de categorias que aparecen en el train y no en el test es', len(unique_to_train_set))\n",
        "unique_to_test_set = [x for x in X_test_t.ZONA_DEL_DESEMBOLSO.unique() if x not in X_train_t.ZONA_DEL_DESEMBOLSO.unique()]\n",
        "print('El nro de categorias que aparecen en el test y no en el train es', len(unique_to_test_set))"
      ]
    },
    {
      "cell_type": "markdown",
      "metadata": {
        "id": "HKNkC5z6TryP"
      },
      "source": [
        "### Podemos decir que las demás variables categóricas efectivamente no presentan ningún problema en train o test?"
      ]
    },
    {
      "cell_type": "code",
      "execution_count": null,
      "metadata": {
        "id": "jSBRQvgBRXjH"
      },
      "outputs": [],
      "source": []
    },
    {
      "cell_type": "code",
      "execution_count": null,
      "metadata": {
        "id": "DQEbGO7oRXZk"
      },
      "outputs": [],
      "source": []
    },
    {
      "cell_type": "code",
      "execution_count": null,
      "metadata": {
        "id": "kXPURFRuRXNs"
      },
      "outputs": [],
      "source": []
    },
    {
      "cell_type": "markdown",
      "metadata": {
        "id": "jOjKU4nRSsm7"
      },
      "source": [
        "#### Entonces debemos de revisar cardinalidad y valores raros"
      ]
    },
    {
      "cell_type": "code",
      "execution_count": null,
      "metadata": {
        "id": "zQtXhdPgDDQb"
      },
      "outputs": [],
      "source": [
        "total = len(X_train_t)\n",
        "for col in cat_cols:\n",
        "    temp_df = pd.Series(X_train_t[col].value_counts() / total)\n",
        "    fig = temp_df.sort_values(ascending=False).plot.bar() #figsize=(10,5)\n",
        "    fig.set_xlabel(col)\n",
        "    fig.axhline(y=0.05, color='red')\n",
        "    fig.set_ylabel('%')\n",
        "    plt.show()"
      ]
    },
    {
      "cell_type": "code",
      "execution_count": null,
      "metadata": {
        "id": "_WrDx9Q-IFtE"
      },
      "outputs": [],
      "source": [
        "tot_train_t=pd.concat([X_train_t, y_train], axis=1)\n",
        "tot_train_t.head()"
      ]
    },
    {
      "cell_type": "code",
      "execution_count": null,
      "metadata": {
        "id": "tX1NsJ--FC2m"
      },
      "outputs": [],
      "source": [
        "def calculate_mean_target_per_category(df, var):\n",
        "    total = len(df)\n",
        "    temp_df = pd.Series(df[var].value_counts() / total).reset_index()\n",
        "    temp_df.columns = [var, '%']\n",
        "    temp_df = temp_df.merge(df.groupby([var])['FLG_DEFAULT_12M'].mean().reset_index(),\n",
        "                            on=var,\n",
        "                            how='left')\n",
        "    return temp_df"
      ]
    },
    {
      "cell_type": "code",
      "execution_count": null,
      "metadata": {
        "id": "ZPaa67nTGr4T"
      },
      "outputs": [],
      "source": [
        "temp_df = calculate_mean_target_per_category(tot_train_t, 'PROFESION')\n",
        "temp_df"
      ]
    },
    {
      "cell_type": "code",
      "execution_count": null,
      "metadata": {
        "id": "36XViRowGrtu"
      },
      "outputs": [],
      "source": [
        "def plot_categories(df, var):\n",
        "    fig, ax = plt.subplots(figsize=(8, 4))\n",
        "    plt.xticks(df.index, df[var], rotation=90)\n",
        "    ax2 = ax.twinx()\n",
        "    ax.bar(df.index, df[\"%\"], color='lightgrey')\n",
        "    ax2.plot(df.index, df[\"FLG_DEFAULT_12M\"], color='green', label='Seconds')\n",
        "    ax.axhline(y=0.05, color='red')\n",
        "    ax.set_ylabel('Freq %')\n",
        "    ax.set_xlabel(var)\n",
        "    ax2.set_ylabel('Bad Rate')\n",
        "    plt.show()"
      ]
    },
    {
      "cell_type": "code",
      "execution_count": null,
      "metadata": {
        "id": "8bTWklu-Kmmp"
      },
      "outputs": [],
      "source": [
        "for col in cat_cols:\n",
        "  temp_df = calculate_mean_target_per_category(tot_train_t, col)\n",
        "  plot_categories(temp_df, col)"
      ]
    },
    {
      "cell_type": "code",
      "execution_count": null,
      "metadata": {
        "id": "OI0-nbuO6z4J"
      },
      "outputs": [],
      "source": [
        "from feature_engine.encoding import RareLabelEncoder\n",
        "rare_encoder = RareLabelEncoder(\n",
        "    tol=0.01,\n",
        "    n_categories=5,\n",
        "    variables=[\"PROFESION\",\"SEGMENTOCLIENTE\",],\n",
        ")"
      ]
    },
    {
      "cell_type": "code",
      "execution_count": null,
      "metadata": {
        "id": "z7hpsqdF6z1j"
      },
      "outputs": [],
      "source": [
        "rare_encoder.fit(X_train_t)"
      ]
    },
    {
      "cell_type": "code",
      "execution_count": null,
      "metadata": {
        "id": "3MQysj8l6zwQ"
      },
      "outputs": [],
      "source": [
        "rare_encoder.variables_"
      ]
    },
    {
      "cell_type": "code",
      "execution_count": null,
      "metadata": {
        "id": "zsjYHbu36ztP"
      },
      "outputs": [],
      "source": [
        "rare_encoder.encoder_dict_"
      ]
    },
    {
      "cell_type": "code",
      "execution_count": null,
      "metadata": {
        "id": "dQf-rmvMVEyO"
      },
      "outputs": [],
      "source": [
        "X_train_t = rare_encoder.transform(X_train_t)\n",
        "X_test_t = rare_encoder.transform(X_test_t)"
      ]
    },
    {
      "cell_type": "code",
      "execution_count": null,
      "metadata": {
        "id": "BCU5CWHCXnKv"
      },
      "outputs": [],
      "source": [
        "X_train_t.PROFESION.value_counts()"
      ]
    },
    {
      "cell_type": "code",
      "execution_count": null,
      "metadata": {
        "id": "24tjkOMzVngq"
      },
      "outputs": [],
      "source": [
        "X_train_t.SEGMENTOCLIENTE.value_counts()"
      ]
    },
    {
      "cell_type": "code",
      "execution_count": null,
      "metadata": {
        "id": "11eSIRjjYquG"
      },
      "outputs": [],
      "source": [
        "# Analicemos la variable PROFESION\n",
        "unique_to_train_set = [x for x in X_train_t.PROFESION.unique() if x not in X_test_t.PROFESION.unique()]\n",
        "print('El nro de categorias que aparecen en el train y no en el test es', len(unique_to_train_set))\n",
        "unique_to_test_set = [x for x in X_test_t.PROFESION.unique() if x not in X_train_t.PROFESION.unique()]\n",
        "print('El nro de categorias que aparecen en el test y no en el train es', len(unique_to_test_set))"
      ]
    },
    {
      "cell_type": "code",
      "execution_count": null,
      "metadata": {
        "id": "SjPBTxikYqht"
      },
      "outputs": [],
      "source": [
        "# Analicemos la variable SEGMENTOCLIENTE\n",
        "unique_to_train_set = [x for x in X_train_t.SEGMENTOCLIENTE.unique() if x not in X_test_t.SEGMENTOCLIENTE.unique()]\n",
        "print('El nro de categorias que aparecen en el train y no en el test es', len(unique_to_train_set))\n",
        "unique_to_test_set = [x for x in X_test_t.SEGMENTOCLIENTE.unique() if x not in X_train_t.SEGMENTOCLIENTE.unique()]\n",
        "print('El nro de categorias que aparecen en el test y no en el train es', len(unique_to_test_set))"
      ]
    },
    {
      "cell_type": "code",
      "execution_count": null,
      "metadata": {
        "id": "q6WPmL2Aaufy"
      },
      "outputs": [],
      "source": [
        "# Construyamos alternativamente un tercer pipeline con todos los métodos de imputación y codificación de valores raros en uno solo\n",
        "pipe_3 = Pipeline(\n",
        "    [\n",
        "        (\n",
        "            \"median_imputer\",\n",
        "            MeanMedianImputer(imputation_method=\"median\", variables=['LINEA_DE_TC','EDAD_T','INGRESO_CLIENTE']),\n",
        "        ),\n",
        "        (\n",
        "            \"arbitrary_imputer\",\n",
        "            ArbitraryNumberImputer(arbitrary_number=0, variables=['CUOTA', 'DEUDA_TOTAL_SISTEMA', 'MEDIANA_AHORROS_ULT_6M', 'MESES_AHORROS_ULT_6M', 'ATRASO_MAXIMO_ULT_24M','ATRASO_MAXIMO_ULT_12M','MONTO_TC_MEMBRESIA']),\n",
        "        ),\n",
        "        (   \"mode_imputer\",\n",
        "           CategoricalImputer(imputation_method=\"frequent\", variables=['PROFESION','ZONA_DEL_DESEMBOLSO','ESTADO_CIVIL'])\n",
        "        ),\n",
        "        (\n",
        "            \"rare_encoder\",\n",
        "            RareLabelEncoder(tol=0.01,n_categories=5,variables=[\"PROFESION\",\"SEGMENTOCLIENTE\",])\n",
        "        ),\n",
        "    ]\n",
        ")"
      ]
    },
    {
      "cell_type": "code",
      "execution_count": null,
      "metadata": {
        "id": "rpWg6o9jauav"
      },
      "outputs": [],
      "source": [
        "pipe_3.fit(X_train)"
      ]
    },
    {
      "cell_type": "code",
      "execution_count": null,
      "metadata": {
        "id": "TB1MU-GzauLm"
      },
      "outputs": [],
      "source": [
        "X_train_t = pipe_3.transform(X_train)\n",
        "X_test_t = pipe_3.transform(X_test)"
      ]
    },
    {
      "cell_type": "code",
      "execution_count": null,
      "metadata": {
        "id": "6W_64TyvcJgg"
      },
      "outputs": [],
      "source": [
        "# Comprobando el funcionamiento del pipeline\n",
        "unique_to_train_set = [x for x in X_train_t.SEGMENTOCLIENTE.unique() if x not in X_test_t.SEGMENTOCLIENTE.unique()]\n",
        "print('El nro de categorias que aparecen en el train y no en el test es', len(unique_to_train_set))\n",
        "unique_to_test_set = [x for x in X_test_t.SEGMENTOCLIENTE.unique() if x not in X_train_t.SEGMENTOCLIENTE.unique()]\n",
        "print('El nro de categorias que aparecen en el test y no en el train es', len(unique_to_test_set))"
      ]
    },
    {
      "cell_type": "markdown",
      "metadata": {
        "id": "8PDwaO9kcQzY"
      },
      "source": [
        "### IMPORTANTE: Hasta aqui tenemos un pipeline para imputar nuestras variables numéricas y categóricas en caso de missing, además de generar un grupo de casos \"Raros\" para las variables categóricas donde encontramos problemas."
      ]
    },
    {
      "cell_type": "markdown",
      "metadata": {
        "id": "ljtYIk9VGDks"
      },
      "source": [
        "### 4.3 Feature Selection\n",
        "Ahora, podemos determinar cuanto aportan estas variables? para esto calculemos su IV"
      ]
    },
    {
      "cell_type": "code",
      "execution_count": null,
      "metadata": {
        "id": "Hbk61CO_HY4B"
      },
      "outputs": [],
      "source": [
        "tot_train_t=pd.concat([X_train_t, y_train], axis=1)\n",
        "tot_train_t.head()"
      ]
    },
    {
      "cell_type": "code",
      "execution_count": null,
      "metadata": {
        "id": "axrO1Wt3GC4K"
      },
      "outputs": [],
      "source": [
        "def calculate_woe_iv(dataset, feature_cat, target):\n",
        "    lst = []\n",
        "    feature=feature_cat\n",
        "    for i in range(dataset[feature].nunique()):\n",
        "        val = list(dataset[feature].unique())[i]\n",
        "        lst.append({\n",
        "            'Value': val,\n",
        "            'All': dataset[dataset[feature] == val].count()[feature],\n",
        "            'Good': dataset[(dataset[feature] == val) & (dataset[target] == 0)].count()[feature],\n",
        "            'Bad': dataset[(dataset[feature] == val) & (dataset[target] == 1)].count()[feature]\n",
        "        })\n",
        "    dset = pd.DataFrame(lst)\n",
        "    dset['Distr_Good'] = dset['Good'] / dset['Good'].sum()\n",
        "    dset['Distr_Bad'] = dset['Bad'] / dset['Bad'].sum()\n",
        "    dset['WoE'] = np.log(dset['Distr_Good'] / dset['Distr_Bad'])\n",
        "    dset = dset.replace({'WoE': {np.inf: 0, -np.inf: 0}})\n",
        "    dset['IV'] = (dset['Distr_Good'] - dset['Distr_Bad']) * dset['WoE']\n",
        "    iv = dset['IV'].sum()\n",
        "    dset = dset.sort_values(by='WoE')\n",
        "    return iv, dset"
      ]
    },
    {
      "cell_type": "code",
      "execution_count": null,
      "metadata": {
        "id": "ScV2bLpxHgoX"
      },
      "outputs": [],
      "source": [
        "IV_v, ReporteWoe_v=calculate_woe_iv(tot_train_t, \"SEGMENTOCLIENTE\", \"FLG_DEFAULT_12M\")\n",
        "IV_v"
      ]
    },
    {
      "cell_type": "code",
      "execution_count": null,
      "metadata": {
        "id": "ahGoV-4MT88P"
      },
      "outputs": [],
      "source": [
        "ReporteWoe_v"
      ]
    },
    {
      "cell_type": "code",
      "execution_count": null,
      "metadata": {
        "id": "qx6JwfhiRp5s"
      },
      "outputs": [],
      "source": [
        "def plot_by_woe(df_WoE, rotation_of_x_axis_labels = 0):\n",
        "    x = np.array(df_WoE.iloc[:, 0].apply(str))\n",
        "    y = df_WoE['WoE']\n",
        "    plt.figure(figsize=(18, 6))\n",
        "    plt.plot(x, y, marker = 'o', linestyle = '--', color = 'k')\n",
        "    plt.xlabel(df_WoE.columns[0])\n",
        "    plt.ylabel('WOE')\n",
        "    plt.title(str('WOE por ' + df_WoE.columns[0]))\n",
        "    plt.xticks(rotation = rotation_of_x_axis_labels)"
      ]
    },
    {
      "cell_type": "code",
      "execution_count": null,
      "metadata": {
        "id": "IamRJby5R_Bj"
      },
      "outputs": [],
      "source": [
        "plot_by_woe(ReporteWoe_v)"
      ]
    },
    {
      "cell_type": "markdown",
      "metadata": {
        "id": "mnu3Kg-VYz9E"
      },
      "source": [
        "### Revisemos esto por variable"
      ]
    },
    {
      "cell_type": "code",
      "execution_count": null,
      "metadata": {
        "id": "pbwsTNwpYzhA"
      },
      "outputs": [],
      "source": []
    },
    {
      "cell_type": "code",
      "execution_count": null,
      "metadata": {
        "id": "A59PdQT6YzVg"
      },
      "outputs": [],
      "source": []
    },
    {
      "cell_type": "code",
      "execution_count": null,
      "metadata": {
        "id": "htBEA0DjYzJ8"
      },
      "outputs": [],
      "source": []
    },
    {
      "cell_type": "markdown",
      "metadata": {
        "id": "aIRnJYumZ91Q"
      },
      "source": [
        "### Generemos un reporte con todas los IVs"
      ]
    },
    {
      "cell_type": "code",
      "execution_count": null,
      "metadata": {
        "id": "6EK9JgS_Y8gs"
      },
      "outputs": [],
      "source": [
        "def getFeatureIV_Importance(df,features,target):\n",
        "    featureIV_Importance=list()\n",
        "    for v in features:\n",
        "      iv, rep=calculate_woe_iv(df,v,target)\n",
        "      featureIV_Importance.append(iv)\n",
        "    display(pd.DataFrame({\"Feature\":features, \"IV\":featureIV_Importance}).sort_values(\"IV\",ascending=False))"
      ]
    },
    {
      "cell_type": "code",
      "execution_count": null,
      "metadata": {
        "id": "T8LskV-5bp6e"
      },
      "outputs": [],
      "source": [
        "getFeatureIV_Importance(tot_train_t,cat_cols,\"FLG_DEFAULT_12M\")"
      ]
    },
    {
      "cell_type": "markdown",
      "metadata": {
        "id": "t6IJKTQQdcgp"
      },
      "source": [
        "### En este punto, quedémonos solo con las variables cuyo IV es mayor al 5%"
      ]
    },
    {
      "cell_type": "code",
      "execution_count": null,
      "metadata": {
        "id": "zC1QlXI_dbl1"
      },
      "outputs": [],
      "source": [
        "cat_cols_2=['SEGMENTOCLIENTE','CLASIF_SISTEMA_ULT_12M','FLG_PDH','PROFESION','ZONA_DEL_DESEMBOLSO','ESTADO_CIVIL']"
      ]
    },
    {
      "cell_type": "markdown",
      "metadata": {
        "id": "0pYkFqcLrlSk"
      },
      "source": [
        "### 4.4.1 Codificación de variables categóricas\n",
        "### En esta sección buscaremos convertir las variables categóricas de nuestro datasets en numéricos para su inclusión en el modelo"
      ]
    },
    {
      "cell_type": "code",
      "execution_count": null,
      "metadata": {
        "id": "knZ2W99r_fU3"
      },
      "outputs": [],
      "source": [
        "from feature_engine.encoding import OneHotEncoder"
      ]
    },
    {
      "cell_type": "code",
      "execution_count": null,
      "metadata": {
        "id": "nkPL6mPv_fRS"
      },
      "outputs": [],
      "source": [
        "encoder_1 = OneHotEncoder(\n",
        "    variables=['SEGMENTOCLIENTE','CLASIF_SISTEMA_ULT_12M','FLG_PDH','PROFESION','ZONA_DEL_DESEMBOLSO','ESTADO_CIVIL'],  # aquí también se puede dejar en None\n",
        "    drop_last=True,  # generará k-1 variables dummy (donde k es el total de categorias de la variable)\n",
        ")\n",
        "encoder_1.fit(X_train_t[cat_cols_2])"
      ]
    },
    {
      "cell_type": "code",
      "execution_count": null,
      "metadata": {
        "id": "6A-wpgM3_fLG"
      },
      "outputs": [],
      "source": [
        "encoder_1.variables_"
      ]
    },
    {
      "cell_type": "code",
      "execution_count": null,
      "metadata": {
        "id": "zYfdpM4x_fGv"
      },
      "outputs": [],
      "source": [
        "# encoder_1.encoder_dict_"
      ]
    },
    {
      "cell_type": "code",
      "execution_count": null,
      "metadata": {
        "id": "bz5tHhZq_eu8"
      },
      "outputs": [],
      "source": [
        "X_train_ohe_enc = encoder_1.transform(X_train_t[cat_cols_2])\n",
        "X_test_ohe_enc = encoder_1.transform(X_test_t[cat_cols_2])"
      ]
    },
    {
      "cell_type": "code",
      "execution_count": null,
      "metadata": {
        "id": "vckEYoIgGtkq"
      },
      "outputs": [],
      "source": [
        "X_train_ohe_enc.head()"
      ]
    },
    {
      "cell_type": "code",
      "execution_count": null,
      "metadata": {
        "id": "TTdWjWNDGthj"
      },
      "outputs": [],
      "source": [
        "encoder_1.get_feature_names_out()"
      ]
    },
    {
      "cell_type": "code",
      "execution_count": null,
      "metadata": {
        "id": "pn8nuESSGten"
      },
      "outputs": [],
      "source": [
        "# El codificador que elijamos también se puede incluir en los pipelines anteriormente creados"
      ]
    },
    {
      "cell_type": "code",
      "execution_count": null,
      "metadata": {
        "id": "LpWSHFCUGtba"
      },
      "outputs": [],
      "source": [
        "from feature_engine.encoding import WoEEncoder"
      ]
    },
    {
      "cell_type": "code",
      "execution_count": null,
      "metadata": {
        "id": "RJM_1hEDGtX_"
      },
      "outputs": [],
      "source": [
        "encoder_2 = WoEEncoder(variables=['SEGMENTOCLIENTE','CLASIF_SISTEMA_ULT_12M','FLG_PDH','PROFESION','ZONA_DEL_DESEMBOLSO','ESTADO_CIVIL'],\n",
        "                       fill_value=0) #ignore_format=False\n",
        "encoder_2.fit(X_train_t[cat_cols_2], y_train)"
      ]
    },
    {
      "cell_type": "code",
      "execution_count": null,
      "metadata": {
        "id": "OEaN3hIZGtUW"
      },
      "outputs": [],
      "source": [
        "# encoder_2.encoder_dict_"
      ]
    },
    {
      "cell_type": "code",
      "execution_count": null,
      "metadata": {
        "id": "9kDOCALXOcpn"
      },
      "outputs": [],
      "source": [
        "encoder_2.variables_"
      ]
    },
    {
      "cell_type": "code",
      "execution_count": null,
      "metadata": {
        "id": "gzCO1Sj-OcmU"
      },
      "outputs": [],
      "source": [
        "X_train_woe_enc = encoder_2.transform(X_train_t[cat_cols_2])\n",
        "X_test_woe_enc = encoder_2.transform(X_test_t[cat_cols_2])"
      ]
    },
    {
      "cell_type": "code",
      "execution_count": null,
      "metadata": {
        "id": "d_2KTs5HOceR"
      },
      "outputs": [],
      "source": [
        "X_train_woe_enc.head()"
      ]
    },
    {
      "cell_type": "markdown",
      "metadata": {
        "id": "G_pWEVsGfvcl"
      },
      "source": [
        "#### Solo con las variables categóricas, probemos un modelo logit usando las codificaciones ya trabajadas"
      ]
    },
    {
      "cell_type": "code",
      "execution_count": null,
      "metadata": {
        "id": "NDXOslXsiXoQ"
      },
      "outputs": [],
      "source": [
        "from sklearn.linear_model import LogisticRegression\n",
        "from sklearn.ensemble import RandomForestClassifier\n",
        "from sklearn.ensemble import GradientBoostingClassifier\n",
        "from sklearn.metrics import roc_auc_score"
      ]
    },
    {
      "cell_type": "code",
      "execution_count": null,
      "metadata": {
        "id": "YwkuNH_tffth"
      },
      "outputs": [],
      "source": [
        "# Usando el OHE\n",
        "logit = LogisticRegression(random_state=44, solver='lbfgs')\n",
        "logit.fit(X_train_ohe_enc, y_train)\n",
        "pred_train = logit.predict_proba(X_train_ohe_enc)\n",
        "pred_test = logit.predict_proba(X_test_ohe_enc)\n",
        "print('Train set')\n",
        "print('Logistic regression roc-auc: {}'.format(roc_auc_score(y_train, pred_train[:,1])))\n",
        "print('Test set')\n",
        "print('Logistic regression roc-auc: {}'.format(roc_auc_score(y_test, pred_test[:,1])))"
      ]
    },
    {
      "cell_type": "code",
      "execution_count": null,
      "metadata": {
        "id": "O0hYehATffm_"
      },
      "outputs": [],
      "source": [
        "GINI_train=2*roc_auc_score(y_train, pred_train[:,1])-1\n",
        "GINI_test=2*roc_auc_score(y_test, pred_test[:,1])-1\n",
        "print('El Gini en train es',GINI_train)\n",
        "print('El Gini en test es',GINI_test)"
      ]
    },
    {
      "cell_type": "code",
      "execution_count": null,
      "metadata": {
        "id": "ZnxEwatlfff9"
      },
      "outputs": [],
      "source": [
        "# Usando el WOE Encoder\n",
        "logit2 = LogisticRegression(random_state=44, solver='lbfgs')\n",
        "logit2.fit(X_train_woe_enc, y_train)\n",
        "pred_train2 = logit2.predict_proba(X_train_woe_enc)\n",
        "pred_test2 = logit2.predict_proba(X_test_woe_enc)\n",
        "print('Train set')\n",
        "print('Logistic regression roc-auc: {}'.format(roc_auc_score(y_train, pred_train2[:,1])))\n",
        "print('Test set')\n",
        "print('Logistic regression roc-auc: {}'.format(roc_auc_score(y_test, pred_test2[:,1])))"
      ]
    },
    {
      "cell_type": "code",
      "execution_count": null,
      "metadata": {
        "id": "gB8DcvYfs3zh"
      },
      "outputs": [],
      "source": [
        "GINI2_train=2*roc_auc_score(y_train, pred_train2[:,1])-1\n",
        "GINI2_test=2*roc_auc_score(y_test, pred_test2[:,1])-1\n",
        "print('El Gini 2 en train es',GINI2_train)\n",
        "print('El Gini 2 en test es',GINI2_test)"
      ]
    },
    {
      "cell_type": "markdown",
      "metadata": {
        "id": "HOfaKvitv4tw"
      },
      "source": [
        "### Un pequeño adelanto de como se vería esto usando Random Forest"
      ]
    },
    {
      "cell_type": "code",
      "execution_count": null,
      "metadata": {
        "id": "yUflUkmTtp-F"
      },
      "outputs": [],
      "source": [
        "rf1 = RandomForestClassifier(n_estimators=200, random_state=39)\n",
        "rf1.fit(X_train_ohe_enc,y_train)\n",
        "pred_train1 = rf1.predict_proba(X_train_ohe_enc)\n",
        "pred_test1 = rf1.predict_proba(X_test_ohe_enc)\n",
        "print('Train set')\n",
        "print('Random Forests roc-auc: {}'.format(roc_auc_score(y_train, pred_train1[:,1])))\n",
        "print('Test set')\n",
        "print('Random Forests roc-auc: {}'.format(roc_auc_score(y_test, pred_test1[:,1])))"
      ]
    },
    {
      "cell_type": "code",
      "execution_count": null,
      "metadata": {
        "id": "knhOURhBW1US"
      },
      "outputs": [],
      "source": [
        "GINI_train_rf=2*roc_auc_score(y_train, pred_train1[:,1])-1\n",
        "GINI_test_rf=2*roc_auc_score(y_test, pred_test1[:,1])-1\n",
        "print('El Gini en train es',GINI_train_rf)\n",
        "print('El Gini en test es',GINI_test_rf)"
      ]
    },
    {
      "cell_type": "code",
      "execution_count": null,
      "metadata": {
        "id": "s4-1fqX5ucMn"
      },
      "outputs": [],
      "source": [
        "rf2 = RandomForestClassifier(n_estimators=200, random_state=39)\n",
        "rf2.fit(X_train_woe_enc,y_train)\n",
        "pred_train2 = rf2.predict_proba(X_train_woe_enc)\n",
        "pred_test2 = rf2.predict_proba(X_test_woe_enc)\n",
        "print('Train set')\n",
        "print('Random Forests roc-auc: {}'.format(roc_auc_score(y_train, pred_train2[:,1])))\n",
        "print('Test set')\n",
        "print('Random Forests roc-auc: {}'.format(roc_auc_score(y_test, pred_test2[:,1])))"
      ]
    },
    {
      "cell_type": "markdown",
      "metadata": {
        "id": "3bpBLjJWwDn6"
      },
      "source": [
        "### Y si usamos GBoosting"
      ]
    },
    {
      "cell_type": "code",
      "execution_count": null,
      "metadata": {
        "id": "xlo2tZlewJm7"
      },
      "outputs": [],
      "source": [
        "gbc1 = GradientBoostingClassifier(n_estimators=300, random_state=44)\n",
        "gbc1.fit(X_train_ohe_enc, y_train)\n",
        "pred_train1 = gbc1.predict_proba(X_train_ohe_enc)\n",
        "pred_test1 = gbc1.predict_proba(X_test_ohe_enc)\n",
        "print('Train set')\n",
        "print('Gradient Boosted Trees roc-auc: {}'.format(roc_auc_score(y_train, pred_train1[:,1])))\n",
        "print('Test set')\n",
        "print('Gradient Boosted Trees roc-auc: {}'.format(roc_auc_score(y_test, pred_test1[:,1])))"
      ]
    },
    {
      "cell_type": "code",
      "execution_count": null,
      "metadata": {
        "id": "7aiHYKgQbaA7"
      },
      "outputs": [],
      "source": [
        "2*0.7405618826730389-1"
      ]
    },
    {
      "cell_type": "code",
      "execution_count": null,
      "metadata": {
        "id": "wDC96-Xtbmcq"
      },
      "outputs": [],
      "source": [
        "2*0.6682432443592348-1"
      ]
    },
    {
      "cell_type": "code",
      "execution_count": null,
      "metadata": {
        "id": "Q5PN7cxWxYm4"
      },
      "outputs": [],
      "source": [
        "gbc2 = GradientBoostingClassifier(n_estimators=300, random_state=44)\n",
        "gbc2.fit(X_train_woe_enc, y_train)\n",
        "pred_train2 = gbc2.predict_proba(X_train_woe_enc)\n",
        "pred_test2 = gbc2.predict_proba(X_test_woe_enc)\n",
        "print('Train set')\n",
        "print('Gradient Boosted Trees roc-auc: {}'.format(roc_auc_score(y_train, pred_train2[:,1])))\n",
        "print('Test set')\n",
        "print('Gradient Boosted Trees roc-auc: {}'.format(roc_auc_score(y_test, pred_test2[:,1])))"
      ]
    },
    {
      "cell_type": "code",
      "execution_count": null,
      "metadata": {
        "id": "myH0-zXlb3fr"
      },
      "outputs": [],
      "source": [
        "2*0.7269353712740678-1"
      ]
    },
    {
      "cell_type": "code",
      "execution_count": null,
      "metadata": {
        "id": "tJfA_R78b80g"
      },
      "outputs": [],
      "source": [
        "2*0.6714684002078164-1"
      ]
    },
    {
      "cell_type": "markdown",
      "metadata": {
        "id": "PTh6ioBKNOxn"
      },
      "source": [
        "## 4.4.2 Discretización de variables numéricas"
      ]
    },
    {
      "cell_type": "code",
      "execution_count": null,
      "metadata": {
        "id": "w35SeP4iNiKH"
      },
      "outputs": [],
      "source": [
        "X_train_t.select_dtypes(include=['number']).columns"
      ]
    },
    {
      "cell_type": "code",
      "execution_count": null,
      "metadata": {
        "id": "L8wG7L2YOpcQ"
      },
      "outputs": [],
      "source": [
        "num_cols=['DEUDA', 'PLAZO_CREDITO', 'ATRASO_MAXIMO_ULT_6M','ATRASO_MAXIMO_ULT_12M', 'ATRASO_MAXIMO_ULT_24M','MESES_AHORROS_ULT_6M',\n",
        "          'MEDIANA_AHORROS_ULT_6M', 'DEUDA_TOTAL_SISTEMA','NUMERO_DE_PAGOS_PDH', 'MONTO_TC_SISTEMA', 'INGRESO_CLIENTE', 'EDAD_T','CUOTA',\n",
        "          'LINEA_DE_TC', 'MONTO_TC_MEMBRESIA']"
      ]
    },
    {
      "cell_type": "code",
      "execution_count": null,
      "metadata": {
        "id": "kFci4lftPSGC"
      },
      "outputs": [],
      "source": [
        "from feature_engine.discretisation import EqualFrequencyDiscretiser"
      ]
    },
    {
      "cell_type": "code",
      "execution_count": null,
      "metadata": {
        "id": "PBXnCKSdHwHk"
      },
      "outputs": [],
      "source": [
        "disc1 = EqualFrequencyDiscretiser(q=10,\n",
        "                                  variables=num_cols,\n",
        "                                  return_boundaries=True,)\n",
        "disc1.fit(X_train_t)"
      ]
    },
    {
      "cell_type": "code",
      "execution_count": null,
      "metadata": {
        "id": "hHWvBIYgNA_D"
      },
      "outputs": [],
      "source": [
        "disc1.binner_dict_"
      ]
    },
    {
      "cell_type": "code",
      "execution_count": null,
      "metadata": {
        "id": "3a85vYL_HwDZ"
      },
      "outputs": [],
      "source": [
        "X_train_t=disc1.transform(X_train_t)\n",
        "X_test_t=disc1.transform(X_test_t)"
      ]
    },
    {
      "cell_type": "code",
      "execution_count": null,
      "metadata": {
        "id": "Hqpt_LTHHv-w"
      },
      "outputs": [],
      "source": [
        "X_train_t.head()"
      ]
    },
    {
      "cell_type": "code",
      "execution_count": null,
      "metadata": {
        "id": "TJqJXt4hQniR"
      },
      "outputs": [],
      "source": [
        "t1 = X_train_t['EDAD_T'].value_counts(normalize=True).sort_index()\n",
        "t2 = X_test_t['EDAD_T'].value_counts(normalize=True).sort_index()\n",
        "tmp = pd.concat([t1, t2], axis=1)\n",
        "tmp.columns = ['train', 'test']\n",
        "tmp.plot.bar()\n",
        "plt.xticks(rotation=45)\n",
        "plt.ylabel('Nro de Observaciones por Bin')"
      ]
    },
    {
      "cell_type": "markdown",
      "metadata": {
        "id": "hgCR6LNpRBoG"
      },
      "source": [
        "### Probar con el resto de variables numéricas"
      ]
    },
    {
      "cell_type": "code",
      "execution_count": null,
      "metadata": {
        "id": "H4g6dbQfRAr2"
      },
      "outputs": [],
      "source": []
    },
    {
      "cell_type": "code",
      "execution_count": null,
      "metadata": {
        "id": "2MUH_tPpRAoT"
      },
      "outputs": [],
      "source": []
    },
    {
      "cell_type": "markdown",
      "metadata": {
        "id": "eM5ZLwmVbP12"
      },
      "source": [
        "#### Ya que binarizamos nuestras variables numéricas, podemos tratarla como categóricas, es decir, calcularles el WOE y codificarlas para entrenarlas."
      ]
    },
    {
      "cell_type": "code",
      "execution_count": null,
      "metadata": {
        "id": "SHJVUulgQneg"
      },
      "outputs": [],
      "source": [
        "tot_train_t=pd.concat([X_train_t, y_train], axis=1)\n",
        "tot_train_t.head()"
      ]
    },
    {
      "cell_type": "code",
      "execution_count": null,
      "metadata": {
        "id": "0ZDwYyaGQnbQ"
      },
      "outputs": [],
      "source": [
        "IV_v, ReporteWoe_v=calculate_woe_iv(tot_train_t, \"EDAD_T\", \"FLG_DEFAULT_12M\")\n",
        "IV_v"
      ]
    },
    {
      "cell_type": "code",
      "execution_count": null,
      "metadata": {
        "id": "K0rfBrKJQnXx"
      },
      "outputs": [],
      "source": [
        "ReporteWoe_v"
      ]
    },
    {
      "cell_type": "code",
      "execution_count": null,
      "metadata": {
        "id": "-Z0RUcMAQnTw"
      },
      "outputs": [],
      "source": [
        "plot_by_woe(ReporteWoe_v)"
      ]
    },
    {
      "cell_type": "markdown",
      "metadata": {
        "id": "TCNkyk4Kg0Fj"
      },
      "source": [
        "### Verificar el resto de variables numéricas (Ejercicio)"
      ]
    },
    {
      "cell_type": "code",
      "execution_count": null,
      "metadata": {
        "id": "jsH0ks_VgzmE"
      },
      "outputs": [],
      "source": []
    },
    {
      "cell_type": "code",
      "execution_count": null,
      "metadata": {
        "id": "JSwUVwsRgzg8"
      },
      "outputs": [],
      "source": []
    },
    {
      "cell_type": "markdown",
      "metadata": {
        "id": "rV-SooDrhAcX"
      },
      "source": [
        "### Veamos cuales son las variables numéricas más importantes, basado en su IV"
      ]
    },
    {
      "cell_type": "code",
      "execution_count": null,
      "metadata": {
        "id": "OMvQHBNNcUkB"
      },
      "outputs": [],
      "source": [
        "getFeatureIV_Importance(tot_train_t,num_cols,\"FLG_DEFAULT_12M\")"
      ]
    },
    {
      "cell_type": "markdown",
      "metadata": {
        "id": "0iwE3WRyjxh9"
      },
      "source": [
        "### Nuevamente, en este punto también solo quedémonos con las variables numéricas con IV mayor a 5%"
      ]
    },
    {
      "cell_type": "code",
      "execution_count": null,
      "metadata": {
        "id": "bs3t5gM8cUb8"
      },
      "outputs": [],
      "source": [
        "num_cols_2=['PLAZO_CREDITO','MESES_AHORROS_ULT_6M','MEDIANA_AHORROS_ULT_6M','NUMERO_DE_PAGOS_PDH', 'INGRESO_CLIENTE',\n",
        "            'EDAD_T','LINEA_DE_TC', 'MONTO_TC_MEMBRESIA']"
      ]
    },
    {
      "cell_type": "code",
      "execution_count": null,
      "metadata": {
        "id": "I6C_wmNPg4y9"
      },
      "outputs": [],
      "source": [
        "X_train_t.head()"
      ]
    },
    {
      "cell_type": "markdown",
      "metadata": {
        "id": "QRTzI3z1kd3i"
      },
      "source": [
        "### Ahora probemos un modelo únicamente con las variables numéricas bajo dos enfoques"
      ]
    },
    {
      "cell_type": "markdown",
      "metadata": {
        "id": "qJ8ro3vSfAdb"
      },
      "source": [
        "### Primero probémoslas en su estado natural, en un modelo"
      ]
    },
    {
      "cell_type": "markdown",
      "metadata": {
        "id": "buleY20fnNzm"
      },
      "source": [
        "#### Antes de ello, dado que vamos a usar las variables en su estado natural, es importante no olvidar que debemos tratar los outliers y escalar las variables"
      ]
    },
    {
      "cell_type": "code",
      "execution_count": null,
      "metadata": {
        "id": "pkczznXdqt8M"
      },
      "outputs": [],
      "source": [
        "pipe_3.fit(X_train)\n",
        "X_train_t2 = pipe_3.transform(X_train)\n",
        "X_test_t2 = pipe_3.transform(X_test)"
      ]
    },
    {
      "cell_type": "code",
      "execution_count": null,
      "metadata": {
        "id": "vAuBEeW8raTu"
      },
      "outputs": [],
      "source": [
        "X_train_t2.describe().transpose()"
      ]
    },
    {
      "cell_type": "code",
      "execution_count": null,
      "metadata": {
        "id": "EihZDQDmqEqu"
      },
      "outputs": [],
      "source": [
        "from feature_engine.outliers import Winsorizer\n",
        "capper = Winsorizer(\n",
        "    variables=num_cols,\n",
        "    capping_method=\"quantiles\",\n",
        "    tail=\"right\",\n",
        "    fold=0.01,\n",
        ")\n",
        "capper.fit(X_train_t2)"
      ]
    },
    {
      "cell_type": "code",
      "execution_count": null,
      "metadata": {
        "id": "VeH0PO0eqEds"
      },
      "outputs": [],
      "source": [
        "capper.right_tail_caps_"
      ]
    },
    {
      "cell_type": "code",
      "execution_count": null,
      "metadata": {
        "id": "UWw7WMKes5nY"
      },
      "outputs": [],
      "source": [
        "X_train_t2 = capper.transform(X_train_t2)\n",
        "X_test_t2 = capper.transform(X_test_t2)"
      ]
    },
    {
      "cell_type": "code",
      "execution_count": null,
      "metadata": {
        "id": "LFafzSQ5s5jg"
      },
      "outputs": [],
      "source": [
        "#plot_boxplot_and_hist(X_train_t2, \"var\")\n",
        "X_train_t2.describe().transpose()"
      ]
    },
    {
      "cell_type": "code",
      "execution_count": null,
      "metadata": {
        "id": "WNKmjep9yYef"
      },
      "outputs": [],
      "source": [
        "X_train_t2.head()"
      ]
    },
    {
      "cell_type": "markdown",
      "metadata": {
        "id": "8w-izOdHujJo"
      },
      "source": [
        "### Ahora hagamos el escalado de variables"
      ]
    },
    {
      "cell_type": "code",
      "execution_count": null,
      "metadata": {
        "id": "y8rDs9DEuvgy"
      },
      "outputs": [],
      "source": [
        "#from sklearn.preprocessing import MinMaxScaler\n",
        "#scaler = MinMaxScaler().set_output(transform=\"pandas\")\n",
        "#scaler.fit(X_train)\n",
        "#X_train_scaled = scaler.transform(X_train)\n",
        "#X_test_scaled = scaler.transform(X_test)"
      ]
    },
    {
      "cell_type": "code",
      "execution_count": null,
      "metadata": {
        "id": "WfWWfeVUs5Oo"
      },
      "outputs": [],
      "source": [
        "from sklearn.preprocessing import RobustScaler\n",
        "scaler = RobustScaler().set_output(transform=\"pandas\")\n",
        "scaler.fit(X_train_t2[num_cols])\n",
        "X_train_t2 = scaler.transform(X_train_t2[num_cols])\n",
        "X_test_t2 = scaler.transform(X_test_t2[num_cols])"
      ]
    },
    {
      "cell_type": "code",
      "execution_count": null,
      "metadata": {
        "id": "HuOcbKEjw2Ds"
      },
      "outputs": [],
      "source": [
        "X_train_t2.describe().transpose()"
      ]
    },
    {
      "cell_type": "code",
      "execution_count": null,
      "metadata": {
        "id": "DWHdOhRMe_u8"
      },
      "outputs": [],
      "source": [
        "logit_p = LogisticRegression(random_state=44, solver='lbfgs')\n",
        "logit_p.fit(X_train_t2[num_cols_2], y_train)\n",
        "pred_train_p = logit_p.predict_proba(X_train_t2[num_cols_2])\n",
        "pred_test_p = logit_p.predict_proba(X_test_t2[num_cols_2])\n",
        "print('Train set')\n",
        "print('Logistic regression roc-auc: {}'.format(roc_auc_score(y_train, pred_train_p[:,1])))\n",
        "print('Test set')\n",
        "print('Logistic regression roc-auc: {}'.format(roc_auc_score(y_test, pred_test_p[:,1])))"
      ]
    },
    {
      "cell_type": "code",
      "execution_count": null,
      "metadata": {
        "id": "0KNm08DEfBZ2"
      },
      "outputs": [],
      "source": [
        "GINI_train_p=2*roc_auc_score(y_train, pred_train_p[:,1])-1\n",
        "GINI_test_p=2*roc_auc_score(y_test, pred_test_p[:,1])-1\n",
        "print('El Gini en train es',GINI_train_p)\n",
        "print('El Gini en test es',GINI_test_p)"
      ]
    },
    {
      "cell_type": "markdown",
      "metadata": {
        "id": "Y14B14kp8yR8"
      },
      "source": [
        "### 4.5 Análisis de Correlaciones\n",
        "En este punto, verifiquemos si existe correlación en las variables predictoras que hemos elegido, con el fin de depurarlas"
      ]
    },
    {
      "cell_type": "code",
      "execution_count": null,
      "metadata": {
        "id": "250OICvp9BNq"
      },
      "outputs": [],
      "source": [
        "X_train_woe_enc.head()"
      ]
    },
    {
      "cell_type": "code",
      "execution_count": null,
      "metadata": {
        "id": "YaD2VdyD9BJz"
      },
      "outputs": [],
      "source": [
        "corrmat = X_train_woe_enc.corr(method='pearson')\n",
        "cmap = sns.diverging_palette(220, 20, as_cmap=True)\n",
        "fig, ax = plt.subplots()\n",
        "fig.set_size_inches(4,4)\n",
        "sns.heatmap(corrmat, cmap=cmap)"
      ]
    },
    {
      "cell_type": "code",
      "execution_count": null,
      "metadata": {
        "id": "PAmkEL_hGn8E"
      },
      "outputs": [],
      "source": [
        "X_train_t2[num_cols_2].head()"
      ]
    },
    {
      "cell_type": "code",
      "execution_count": null,
      "metadata": {
        "id": "HygavgDHEqXI"
      },
      "outputs": [],
      "source": [
        "corrmat2 = X_train_t2[num_cols_2].corr(method='pearson')\n",
        "cmap = sns.diverging_palette(220, 20, as_cmap=True)\n",
        "fig, ax = plt.subplots()\n",
        "fig.set_size_inches(5,5)\n",
        "sns.heatmap(corrmat2, cmap=cmap)"
      ]
    },
    {
      "cell_type": "code",
      "execution_count": null,
      "metadata": {
        "id": "sMh5mKAs_5ow"
      },
      "outputs": [],
      "source": [
        "# Creemos una función para identificar de manera masiva a las variables correlacionadas, en caso de tener un mayor volumen de variables\n",
        "def correlation(dataset, threshold):\n",
        "    col_corr = set()\n",
        "    corr_matrix = dataset.corr()\n",
        "    for i in range(len(corr_matrix.columns)):\n",
        "        for j in range(i):\n",
        "            if abs(corr_matrix.iloc[i, j]) > threshold: # we are interested in absolute coeff value\n",
        "                print(abs(corr_matrix.iloc[i, j]), corr_matrix.columns[i], corr_matrix.columns[j])\n",
        "                colname = corr_matrix.columns[j]\n",
        "                col_corr.add(colname)\n",
        "    return col_corr"
      ]
    },
    {
      "cell_type": "code",
      "execution_count": null,
      "metadata": {
        "id": "16Mv-oyD_5b9"
      },
      "outputs": [],
      "source": [
        "corr_features_1 = correlation(X_train_woe_enc, 0.8)\n",
        "len(set(corr_features_1))"
      ]
    },
    {
      "cell_type": "code",
      "execution_count": null,
      "metadata": {
        "id": "APkDefxWHAPO"
      },
      "outputs": [],
      "source": [
        "corr_features_2 = correlation(X_train_t2[num_cols_2], 0.8)\n",
        "len(set(corr_features_2))"
      ]
    },
    {
      "cell_type": "code",
      "execution_count": null,
      "metadata": {
        "id": "kBGrWHOK9BGa"
      },
      "outputs": [],
      "source": [
        "# Si hubiesen variables correlacionadas deberían ser extraidas, de la siguiente forma\n",
        "# X_train.drop(labels=corr_features, axis=1, inplace=True)\n",
        "# X_test.drop(labels=corr_features, axis=1, inplace=True)\n",
        "# X_train.shape, X_test.shape"
      ]
    },
    {
      "cell_type": "code",
      "execution_count": null,
      "metadata": {
        "id": "w704NZvLD4Ar"
      },
      "outputs": [],
      "source": [
        "X_train_t3=pd.concat([X_train_woe_enc, X_train_t2[num_cols_2]], axis=1)\n",
        "X_train_t3.head()"
      ]
    },
    {
      "cell_type": "code",
      "execution_count": null,
      "metadata": {
        "id": "JD_rOp2tD31X"
      },
      "outputs": [],
      "source": [
        "corr_features_3 = correlation(X_train_t3, 0.8)\n",
        "len(set(corr_features_3))"
      ]
    },
    {
      "cell_type": "code",
      "execution_count": null,
      "metadata": {
        "id": "V7D5PaohOsa6"
      },
      "outputs": [],
      "source": [
        "#from feature_engine.selection import DropCorrelatedFeatures\n",
        "#sel = DropCorrelatedFeatures(\n",
        "#    threshold=0.8,\n",
        "#    method='pearson',\n",
        "#    missing_values='ignore'\n",
        "#)\n",
        "#sel.fit(X_train)\n",
        "#X_train = sel.transform(X_train)\n",
        "#X_test = sel.transform(X_test)\n",
        "#X_train.shape, X_test.shape"
      ]
    },
    {
      "cell_type": "markdown",
      "metadata": {
        "id": "FMNjQHF5hrwg"
      },
      "source": [
        "### Ahora, que pasaría si trabajamos el modelo con las variables numéricas discretizadas. Procedemos a codificarlas"
      ]
    },
    {
      "cell_type": "code",
      "execution_count": null,
      "metadata": {
        "id": "kiXye27HcUYQ"
      },
      "outputs": [],
      "source": [
        "encoder_3 = OneHotEncoder(\n",
        "    variables=['PLAZO_CREDITO','MESES_AHORROS_ULT_6M','MEDIANA_AHORROS_ULT_6M','NUMERO_DE_PAGOS_PDH', 'INGRESO_CLIENTE',\n",
        "              'EDAD_T','LINEA_DE_TC', 'MONTO_TC_MEMBRESIA'],  # aquí también se puede dejar en None\n",
        "    drop_last=True,  # generará k-1 variables dummy (donde k es el total de categorias de la variable)\n",
        ")\n",
        "encoder_3.fit(X_train_t[num_cols_2])"
      ]
    },
    {
      "cell_type": "code",
      "execution_count": null,
      "metadata": {
        "id": "bQfP5NCEcUVB"
      },
      "outputs": [],
      "source": [
        "X_train_ohe_enc2 = encoder_3.transform(X_train_t[num_cols_2])\n",
        "X_test_ohe_enc2 = encoder_3.transform(X_test_t[num_cols_2])"
      ]
    },
    {
      "cell_type": "code",
      "execution_count": null,
      "metadata": {
        "id": "RhjBrRCyih4e"
      },
      "outputs": [],
      "source": [
        "X_train_ohe_enc2.head()"
      ]
    },
    {
      "cell_type": "code",
      "execution_count": null,
      "metadata": {
        "id": "KYAQaTX6io5O"
      },
      "outputs": [],
      "source": [
        "encoder_4 = WoEEncoder(variables=['PLAZO_CREDITO','MESES_AHORROS_ULT_6M','MEDIANA_AHORROS_ULT_6M','NUMERO_DE_PAGOS_PDH', 'INGRESO_CLIENTE',\n",
        "                                  'EDAD_T','LINEA_DE_TC', 'MONTO_TC_MEMBRESIA'],\n",
        "                       fill_value=0) #ignore_format=False\n",
        "encoder_4.fit(X_train_t[num_cols_2], y_train)"
      ]
    },
    {
      "cell_type": "code",
      "execution_count": null,
      "metadata": {
        "id": "RiDQHMEVio2I"
      },
      "outputs": [],
      "source": [
        "X_train_woe_enc2 = encoder_4.transform(X_train_t[num_cols_2])\n",
        "X_test_woe_enc2 = encoder_4.transform(X_test_t[num_cols_2])"
      ]
    },
    {
      "cell_type": "markdown",
      "metadata": {
        "id": "2gAuiycjjy0S"
      },
      "source": [
        "### Al igual que con las variables categóricas, probemos con las variables numéricas, un modelo preliminar"
      ]
    },
    {
      "cell_type": "code",
      "execution_count": null,
      "metadata": {
        "id": "Hcsd1R4giozV"
      },
      "outputs": [],
      "source": [
        "# Usando el OHE\n",
        "logit = LogisticRegression(random_state=44, solver='lbfgs')\n",
        "logit.fit(X_train_ohe_enc2, y_train)\n",
        "pred_train = logit.predict_proba(X_train_ohe_enc2)\n",
        "pred_test = logit.predict_proba(X_test_ohe_enc2)\n",
        "print('Train set')\n",
        "print('Logistic regression roc-auc: {}'.format(roc_auc_score(y_train, pred_train[:,1])))\n",
        "print('Test set')\n",
        "print('Logistic regression roc-auc: {}'.format(roc_auc_score(y_test, pred_test[:,1])))"
      ]
    },
    {
      "cell_type": "code",
      "execution_count": null,
      "metadata": {
        "id": "NZReS_V3iowd"
      },
      "outputs": [],
      "source": [
        "GINI_train=2*roc_auc_score(y_train, pred_train[:,1])-1\n",
        "GINI_test=2*roc_auc_score(y_test, pred_test[:,1])-1\n",
        "print('El Gini en train es',GINI_train)\n",
        "print('El Gini en test es',GINI_test)"
      ]
    },
    {
      "cell_type": "code",
      "execution_count": null,
      "metadata": {
        "id": "JT6QccGFiosl"
      },
      "outputs": [],
      "source": [
        "# Usemos el WOE Encoder\n",
        "logit2 = LogisticRegression(random_state=44, solver='lbfgs')\n",
        "logit2.fit(X_train_woe_enc2, y_train)\n",
        "pred_train2 = logit2.predict_proba(X_train_woe_enc2)\n",
        "pred_test2 = logit2.predict_proba(X_test_woe_enc2)\n",
        "print('Train set')\n",
        "print('Logistic regression roc-auc: {}'.format(roc_auc_score(y_train, pred_train2[:,1])))\n",
        "print('Test set')\n",
        "print('Logistic regression roc-auc: {}'.format(roc_auc_score(y_test, pred_test2[:,1])))"
      ]
    },
    {
      "cell_type": "code",
      "execution_count": null,
      "metadata": {
        "id": "Nzux6KNlkv7r"
      },
      "outputs": [],
      "source": [
        "GINI_train2=2*roc_auc_score(y_train, pred_train2[:,1])-1\n",
        "GINI_test2=2*roc_auc_score(y_test, pred_test2[:,1])-1\n",
        "print('El Gini en train es',GINI_train2)\n",
        "print('El Gini en test es',GINI_test2)"
      ]
    },
    {
      "cell_type": "markdown",
      "metadata": {
        "id": "Dyk77sp7mCM-"
      },
      "source": [
        "### 5. Entrenamiento del Modelo\n",
        "En las secciones anteriores hemos probado algunos modelos preliminares con variables tanto categóricas como numéricas. Ahora uno los dos tipos de variables para entrenar nuestro primer modelo candidato"
      ]
    },
    {
      "cell_type": "code",
      "execution_count": null,
      "metadata": {
        "id": "kCWQKLd1kvyA"
      },
      "outputs": [],
      "source": [
        "logit_mix = LogisticRegression(random_state=44, solver='lbfgs')\n",
        "logit_mix.fit(pd.concat([X_train_woe_enc,X_train_woe_enc2],axis=1), y_train)\n",
        "pred_train_mix = logit_mix.predict_proba(pd.concat([X_train_woe_enc,X_train_woe_enc2],axis=1))\n",
        "pred_test_mix = logit_mix.predict_proba(pd.concat([X_test_woe_enc,X_test_woe_enc2],axis=1))\n",
        "print('Train set')\n",
        "print('Logistic regression roc-auc: {}'.format(roc_auc_score(y_train, pred_train_mix[:,1])))\n",
        "print('Test set')\n",
        "print('Logistic regression roc-auc: {}'.format(roc_auc_score(y_test, pred_test_mix[:,1])))"
      ]
    },
    {
      "cell_type": "code",
      "execution_count": null,
      "metadata": {
        "id": "oeHqqj-vmXJM"
      },
      "outputs": [],
      "source": [
        "GINI_train_mix=2*roc_auc_score(y_train, pred_train_mix[:,1])-1\n",
        "GINI_test_mix=2*roc_auc_score(y_test, pred_test_mix[:,1])-1\n",
        "print('El Gini en train es',GINI_train_mix)\n",
        "print('El Gini en test es',GINI_test_mix)"
      ]
    },
    {
      "cell_type": "markdown",
      "metadata": {
        "id": "QyFwlqg0UQp_"
      },
      "source": [
        "### 6. Valoración del Modelo\n",
        "Empecemos a revisar con el modelo final algunas métricas de valoración del modelo"
      ]
    },
    {
      "cell_type": "markdown",
      "metadata": {
        "id": "hP1NOrLnaRpq"
      },
      "source": [
        "### Accuracy\n",
        "Porcentaje de predicciones correctas"
      ]
    },
    {
      "cell_type": "code",
      "execution_count": null,
      "metadata": {
        "id": "xIJoRTagbHQ7"
      },
      "outputs": [],
      "source": [
        "from sklearn.metrics import accuracy_score"
      ]
    },
    {
      "cell_type": "code",
      "execution_count": null,
      "metadata": {
        "id": "epSZ4-AWaTwr"
      },
      "outputs": [],
      "source": [
        "br_test=y_test.value_counts() / len(y_test)\n",
        "br_test"
      ]
    },
    {
      "cell_type": "code",
      "execution_count": null,
      "metadata": {
        "id": "kaM6gEtNbbFI"
      },
      "outputs": [],
      "source": [
        "y_train_base = pd.Series(np.zeros(len(y_train)))\n",
        "y_test_base = pd.Series(np.zeros(len(y_test)))"
      ]
    },
    {
      "cell_type": "code",
      "execution_count": null,
      "metadata": {
        "id": "yvI7th76bghY"
      },
      "outputs": [],
      "source": [
        "print('Accuracy Baseline test: ', accuracy_score(y_test, y_test_base))\n",
        "print('Accuracy Logistic Regression test:', accuracy_score(y_test, logit_mix.predict(pd.concat([X_test_woe_enc,X_test_woe_enc2],axis=1))))"
      ]
    },
    {
      "cell_type": "code",
      "execution_count": null,
      "metadata": {
        "id": "Uo7P5uvgpV4G"
      },
      "outputs": [],
      "source": [
        "from sklearn.metrics import (\n",
        "    #accuracy_score,\n",
        "    balanced_accuracy_score,\n",
        "    recall_score,\n",
        ")"
      ]
    },
    {
      "cell_type": "code",
      "execution_count": null,
      "metadata": {
        "id": "4Hn67goDpO4x"
      },
      "outputs": [],
      "source": [
        "print('Balanced accuracy, Baseline test: ', balanced_accuracy_score(y_test, y_test_base))\n",
        "print('Balanced accuracy, Regression test:',  balanced_accuracy_score(y_test, logit_mix.predict(pd.concat([X_test_woe_enc,X_test_woe_enc2],axis=1))))"
      ]
    },
    {
      "cell_type": "markdown",
      "metadata": {
        "id": "mexmrjZ-Z6fN"
      },
      "source": [
        "## Precision, Recall, F-measure, Support\n",
        "\n",
        "- **Precision** = tp / (tp + fp)\n",
        "\n",
        "- **Recall** = tp / (tp + fn)\n",
        "\n",
        "- **F1** = 2 * (precision * recall) / (precision + recall)\n",
        "\n",
        "- **Support** = Number of cases on each class"
      ]
    },
    {
      "cell_type": "code",
      "execution_count": null,
      "metadata": {
        "id": "nAsXYpdGZCmp"
      },
      "outputs": [],
      "source": [
        "from sklearn.metrics import (\n",
        "    precision_score,\n",
        "    recall_score,\n",
        "    f1_score,\n",
        "    precision_recall_fscore_support,\n",
        ")"
      ]
    },
    {
      "cell_type": "code",
      "execution_count": null,
      "metadata": {
        "id": "pNlBArqrZIqc"
      },
      "outputs": [],
      "source": [
        "# Precision\n",
        "print('Precision Baseline test: ', precision_score(y_test, y_test_base))\n",
        "print('Precision Logistic Regression test:', precision_score(y_test,logit_mix.predict(pd.concat([X_test_woe_enc,X_test_woe_enc2],axis=1))))"
      ]
    },
    {
      "cell_type": "code",
      "execution_count": null,
      "metadata": {
        "id": "k_QawKIgZCcL"
      },
      "outputs": [],
      "source": [
        "# Recall\n",
        "print('Recall Baseline test: ', recall_score(y_test, y_test_base))\n",
        "print('Recall Logistic Regression test:', recall_score(y_test,logit_mix.predict(pd.concat([X_test_woe_enc,X_test_woe_enc2],axis=1))))"
      ]
    },
    {
      "cell_type": "code",
      "execution_count": null,
      "metadata": {
        "id": "pkboDmWjZIz_"
      },
      "outputs": [],
      "source": [
        "# F1-Score\n",
        "print('F-measure Baseline test: ', f1_score(y_test, y_test_base))\n",
        "print('F-measure Logistic Regression test:', f1_score(y_test, logit_mix.predict(pd.concat([X_test_woe_enc,X_test_woe_enc2],axis=1))))"
      ]
    },
    {
      "cell_type": "code",
      "execution_count": null,
      "metadata": {
        "id": "6gS98YKCkZPa"
      },
      "outputs": [],
      "source": [
        "precision, recall, fscore, support = precision_recall_fscore_support(\n",
        "    y_test, logit_mix.predict(pd.concat([X_test_woe_enc,X_test_woe_enc2],axis=1)))\n",
        "\n",
        "print('Precision: ', precision)\n",
        "print('Recall: ', recall)\n",
        "print('F1-score: ', fscore)\n",
        "print('Support: ', support)"
      ]
    },
    {
      "cell_type": "code",
      "execution_count": null,
      "metadata": {
        "id": "YhsyybO2tzyT"
      },
      "outputs": [],
      "source": [
        "X_train_woe_enc_tot=pd.concat([X_train_woe_enc,X_train_woe_enc2],axis=1)\n",
        "X_test_woe_enc_tot=pd.concat([X_test_woe_enc,X_test_woe_enc2],axis=1)"
      ]
    },
    {
      "cell_type": "code",
      "execution_count": null,
      "metadata": {
        "id": "d4b2goxguEBO"
      },
      "outputs": [],
      "source": [
        "X_train_woe_enc_tot.shape"
      ]
    },
    {
      "cell_type": "code",
      "execution_count": null,
      "metadata": {
        "id": "umPulklmuH_X"
      },
      "outputs": [],
      "source": [
        "X_test_woe_enc_tot.shape"
      ]
    },
    {
      "cell_type": "markdown",
      "metadata": {
        "id": "hs4jnJxVoJG9"
      },
      "source": [
        "## Matriz de Confusión"
      ]
    },
    {
      "cell_type": "markdown",
      "metadata": {
        "id": "JDKAvqpGoB65"
      },
      "source": [
        "TN | FP\n",
        "\n",
        "FN | TP"
      ]
    },
    {
      "cell_type": "code",
      "execution_count": null,
      "metadata": {
        "id": "QoRfLharm3xx"
      },
      "outputs": [],
      "source": [
        "from sklearn.metrics import confusion_matrix"
      ]
    },
    {
      "cell_type": "code",
      "execution_count": null,
      "metadata": {
        "id": "W9REvS0Em5yB"
      },
      "outputs": [],
      "source": [
        "confusion_matrix(y_test, y_test_base, labels=[0,1])"
      ]
    },
    {
      "cell_type": "code",
      "execution_count": null,
      "metadata": {
        "id": "-A62MpuDoVz6"
      },
      "outputs": [],
      "source": [
        "confusion_matrix(y_test, logit_mix.predict(pd.concat([X_test_woe_enc,X_test_woe_enc2],axis=1)), labels=[0,1])"
      ]
    },
    {
      "cell_type": "markdown",
      "metadata": {
        "id": "ENGOTnl4ZL5L"
      },
      "source": [
        "## Identificamos un punto de corte óptimo que maximice el F1 Score"
      ]
    },
    {
      "cell_type": "code",
      "execution_count": null,
      "metadata": {
        "id": "jCC2q1gC0r7G"
      },
      "outputs": [],
      "source": [
        "from yellowbrick.classifier import (\n",
        "    DiscriminationThreshold,\n",
        ")"
      ]
    },
    {
      "cell_type": "code",
      "execution_count": null,
      "metadata": {
        "id": "c4vrK_bWoVvO"
      },
      "outputs": [],
      "source": [
        "visualizer = DiscriminationThreshold(logit_mix, is_fitted=True, random_state=0, argmax='fscore')#fbeta=3\n",
        "visualizer.fit(X_test_woe_enc_tot, y_test)\n",
        "visualizer.score(X_test_woe_enc_tot, y_test)\n",
        "visualizer.show()"
      ]
    },
    {
      "cell_type": "markdown",
      "metadata": {
        "id": "8u71irvyZUTC"
      },
      "source": [
        "### Adicionamos un cálculo de ROC"
      ]
    },
    {
      "cell_type": "code",
      "execution_count": null,
      "metadata": {
        "id": "N8MvGF1l0tmL"
      },
      "outputs": [],
      "source": [
        "from yellowbrick.classifier import ROCAUC"
      ]
    },
    {
      "cell_type": "code",
      "execution_count": null,
      "metadata": {
        "id": "qKAHcFA1NguF"
      },
      "outputs": [],
      "source": [
        "visualizer2 = ROCAUC(logit_mix, is_fitted=True, micro=False, macro=False,)\n",
        "visualizer2.fit(X_test_woe_enc_tot, y_test)\n",
        "visualizer2.score(X_test_woe_enc_tot, y_test)\n",
        "visualizer2.show()"
      ]
    },
    {
      "cell_type": "markdown",
      "metadata": {
        "id": "3F99pmyHZe6l"
      },
      "source": [
        "### 7. Técnicas de balanceo\n",
        "En este punto, propongamos algunos métodos de balanceo y revisemos su impacto en el performance del modelo candidato"
      ]
    },
    {
      "cell_type": "code",
      "execution_count": null,
      "metadata": {
        "id": "dvVBCmNSbCFR"
      },
      "outputs": [],
      "source": [
        "from imblearn.under_sampling import RandomUnderSampler"
      ]
    },
    {
      "cell_type": "markdown",
      "metadata": {
        "id": "k1fX6kT9egFZ"
      },
      "source": [
        "#### Undersampling"
      ]
    },
    {
      "cell_type": "code",
      "execution_count": null,
      "metadata": {
        "id": "Lc_Knvj50trV"
      },
      "outputs": [],
      "source": [
        "rus = RandomUnderSampler(\n",
        "    sampling_strategy='auto',\n",
        "    random_state=0,\n",
        "    replacement=True\n",
        ")\n",
        "X_train_woe_enc_tot_rus, y_train_rus = rus.fit_resample(X_train_woe_enc_tot, y_train)"
      ]
    },
    {
      "cell_type": "code",
      "execution_count": null,
      "metadata": {
        "id": "7M0qBR1xbaF4"
      },
      "outputs": [],
      "source": [
        "logit_mix2 = LogisticRegression(random_state=44, solver='lbfgs')\n",
        "logit_mix2.fit(X_train_woe_enc_tot_rus, y_train_rus)\n",
        "pred_train_mix2 = logit_mix2.predict_proba(X_train_woe_enc_tot_rus)\n",
        "pred_test_mix2 = logit_mix2.predict_proba(X_test_woe_enc_tot)\n",
        "print('Train set')\n",
        "print('Logistic regression roc-auc: {}'.format(roc_auc_score(y_train_rus, pred_train_mix2[:,1])))\n",
        "print('Test set')\n",
        "print('Logistic regression roc-auc: {}'.format(roc_auc_score(y_test, pred_test_mix2[:,1])))"
      ]
    },
    {
      "cell_type": "code",
      "execution_count": null,
      "metadata": {
        "id": "3HlChILBdVDa"
      },
      "outputs": [],
      "source": [
        "GINI_train_mix2=2*roc_auc_score(y_train_rus, pred_train_mix2[:,1])-1\n",
        "GINI_test_mix2=2*roc_auc_score(y_test, pred_test_mix2[:,1])-1\n",
        "print('El Gini en train es',GINI_train_mix2)\n",
        "print('El Gini en test es',GINI_test_mix2)"
      ]
    },
    {
      "cell_type": "code",
      "execution_count": null,
      "metadata": {
        "id": "DQ0AFDaTg2MR"
      },
      "outputs": [],
      "source": [
        "# Otras alternativas o metodos de Undersampling para probar la contribución en el performance del modelo\n",
        "from imblearn.under_sampling import (\n",
        "    RandomUnderSampler,\n",
        "    CondensedNearestNeighbour,\n",
        "    TomekLinks,\n",
        "    OneSidedSelection,\n",
        "    EditedNearestNeighbours,\n",
        "    RepeatedEditedNearestNeighbours,\n",
        "    AllKNN,\n",
        "    NeighbourhoodCleaningRule,\n",
        "    NearMiss,\n",
        "    InstanceHardnessThreshold\n",
        ")"
      ]
    },
    {
      "cell_type": "code",
      "execution_count": null,
      "metadata": {
        "id": "13Vi6gZZieoP"
      },
      "outputs": [],
      "source": [
        "#undersampler_dict = {\n",
        "#    'random': RandomUnderSampler(\n",
        "#        sampling_strategy='auto',\n",
        "#        random_state=0,\n",
        "#        replacement=False),\n",
        "#    'cnn': CondensedNearestNeighbour(\n",
        "#        sampling_strategy='auto',\n",
        "#        random_state=0,\n",
        "#        n_neighbors=1,\n",
        "#        n_jobs=4),\n",
        "#    'tomek': TomekLinks(\n",
        "#        sampling_strategy='auto',\n",
        "#        n_jobs=4),\n",
        "#    'oss': OneSidedSelection(\n",
        "#        sampling_strategy='auto',\n",
        "#        random_state=0,\n",
        "#        n_neighbors=1,\n",
        "#        n_jobs=4),\n",
        "#    'enn': EditedNearestNeighbours(\n",
        "#        sampling_strategy='auto',\n",
        "#        n_neighbors=3,\n",
        "#        kind_sel='all',\n",
        "#        n_jobs=4),\n",
        "#    'renn': RepeatedEditedNearestNeighbours(\n",
        "#        sampling_strategy='auto',\n",
        "#        n_neighbors=3,\n",
        "#        kind_sel='all',\n",
        "#        n_jobs=4,\n",
        "#        max_iter=100),\n",
        "#    'allknn': AllKNN(\n",
        "#        sampling_strategy='auto',\n",
        "#        n_neighbors=3,\n",
        "#        kind_sel='all',\n",
        "#        n_jobs=4),\n",
        "#    'ncr': NeighbourhoodCleaningRule(\n",
        "#        sampling_strategy='auto',\n",
        "#        n_neighbors=3,\n",
        "#        kind_sel='all',\n",
        "#        n_jobs=4,\n",
        "#        threshold_cleaning=0.5),\n",
        "#    'nm1': NearMiss(\n",
        "#        sampling_strategy='auto',\n",
        "#        version=1,\n",
        "#        n_neighbors=3,\n",
        "#        n_jobs=4),\n",
        "#    'nm2': NearMiss(\n",
        "#        sampling_strategy='auto',\n",
        "#        version=2,\n",
        "#        n_neighbors=3,\n",
        "#        n_jobs=4),\n",
        "#    'iht': InstanceHardnessThreshold(\n",
        "#        estimator=LogisticRegression(random_state=0),\n",
        "#        sampling_strategy='auto',\n",
        "#        random_state=0,\n",
        "#        n_jobs=4,\n",
        "#        cv=3)\n",
        "#}"
      ]
    },
    {
      "cell_type": "code",
      "execution_count": null,
      "metadata": {
        "id": "xXP3p4C0yWjT"
      },
      "outputs": [],
      "source": [
        "from sklearn.metrics import average_precision_score\n",
        "from sklearn.model_selection import cross_validate\n",
        "from imblearn.pipeline import make_pipeline"
      ]
    },
    {
      "cell_type": "code",
      "execution_count": null,
      "metadata": {
        "id": "0oSAIZBQ6PxM"
      },
      "outputs": [],
      "source": [
        "model = make_pipeline(\n",
        "    RandomUnderSampler(sampling_strategy='auto',random_state=0,replacement=True),\n",
        "    LogisticRegression(random_state=44, solver='lbfgs'),\n",
        "    )"
      ]
    },
    {
      "cell_type": "code",
      "execution_count": null,
      "metadata": {
        "id": "VFUj21rm61aB"
      },
      "outputs": [],
      "source": [
        "cv_results_1 = cross_validate(\n",
        "    LogisticRegression(random_state=44, solver='lbfgs'),\n",
        "    X_train_woe_enc_tot,\n",
        "    y_train,\n",
        "    scoring=\"roc_auc\",\n",
        "    cv=5,\n",
        "    )"
      ]
    },
    {
      "cell_type": "code",
      "execution_count": null,
      "metadata": {
        "id": "cAqzQzzj67_t"
      },
      "outputs": [],
      "source": [
        "cv_results_1['test_score'].mean()"
      ]
    },
    {
      "cell_type": "code",
      "execution_count": null,
      "metadata": {
        "id": "VMQOBmX5yCO-"
      },
      "outputs": [],
      "source": [
        "cv_results_2 = cross_validate(\n",
        "    model,\n",
        "    X_train_woe_enc_tot,\n",
        "    y_train,\n",
        "    scoring=\"roc_auc\",\n",
        "    cv=5,\n",
        "    )"
      ]
    },
    {
      "cell_type": "code",
      "execution_count": null,
      "metadata": {
        "id": "SBDi_s8wzV62"
      },
      "outputs": [],
      "source": [
        "cv_results_2['test_score'].mean()"
      ]
    },
    {
      "cell_type": "markdown",
      "metadata": {
        "id": "QGcR2dG7emXg"
      },
      "source": [
        "#### Oversampling"
      ]
    },
    {
      "cell_type": "code",
      "execution_count": null,
      "metadata": {
        "id": "aEA4Q7x7fr6z"
      },
      "outputs": [],
      "source": [
        "from imblearn.over_sampling import RandomOverSampler"
      ]
    },
    {
      "cell_type": "code",
      "execution_count": null,
      "metadata": {
        "id": "Jx7eKtWKelq4"
      },
      "outputs": [],
      "source": [
        "ros = RandomOverSampler(\n",
        "    sampling_strategy='auto',\n",
        "    random_state=0,\n",
        ")\n",
        "\n",
        "X_train_woe_enc_tot_ros, y_train_ros = ros.fit_resample(X_train_woe_enc_tot, y_train)"
      ]
    },
    {
      "cell_type": "code",
      "execution_count": null,
      "metadata": {
        "id": "wY3t3UKng2Sr"
      },
      "outputs": [],
      "source": [
        "logit_mix3 = LogisticRegression(random_state=44, solver='lbfgs')\n",
        "logit_mix3.fit(X_train_woe_enc_tot_ros, y_train_ros)\n",
        "pred_train_mix3 = logit_mix3.predict_proba(X_train_woe_enc_tot_ros)\n",
        "pred_test_mix3 = logit_mix3.predict_proba(X_test_woe_enc_tot)\n",
        "print('Train set')\n",
        "print('Logistic regression roc-auc: {}'.format(roc_auc_score(y_train_ros, pred_train_mix3[:,1])))\n",
        "print('Test set')\n",
        "print('Logistic regression roc-auc: {}'.format(roc_auc_score(y_test, pred_test_mix3[:,1])))"
      ]
    },
    {
      "cell_type": "code",
      "execution_count": null,
      "metadata": {
        "id": "_oMr8R_hg2Pr"
      },
      "outputs": [],
      "source": [
        "GINI_train_mix3=2*roc_auc_score(y_train_ros, pred_train_mix3[:,1])-1\n",
        "GINI_test_mix3=2*roc_auc_score(y_test, pred_test_mix3[:,1])-1\n",
        "print('El Gini en train es',GINI_train_mix3)\n",
        "print('El Gini en test es',GINI_test_mix3)"
      ]
    },
    {
      "cell_type": "code",
      "execution_count": null,
      "metadata": {
        "id": "bpC91FYEqi_a"
      },
      "outputs": [],
      "source": [
        "# Otras alternativas o métodos de Oversampling para probar su contribución en el modelo\n",
        "from imblearn.over_sampling import (\n",
        "    RandomOverSampler,\n",
        "    SMOTE,\n",
        "    ADASYN,\n",
        "    BorderlineSMOTE,\n",
        "    SVMSMOTE,\n",
        ")"
      ]
    },
    {
      "cell_type": "code",
      "execution_count": null,
      "metadata": {
        "id": "QzxlkxPUqiro"
      },
      "outputs": [],
      "source": [
        "#oversampler_dict = {\n",
        "\n",
        "#    'random': RandomOverSampler(\n",
        "#        sampling_strategy='auto',\n",
        "#        random_state=0),\n",
        "\n",
        "#    'smote': SMOTE(\n",
        "#        sampling_strategy='auto',  # samples only the minority class\n",
        "#        random_state=0,  # for reproducibility\n",
        "#        k_neighbors=5,\n",
        "#        n_jobs=4),\n",
        "#\n",
        "#    'adasyn': ADASYN(\n",
        "#        sampling_strategy='auto',  # samples only the minority class\n",
        "#        random_state=0,  # for reproducibility\n",
        "#        n_neighbors=5,\n",
        "#        n_jobs=4),\n",
        "#\n",
        "#    'border1': BorderlineSMOTE(\n",
        "#        sampling_strategy='auto',  # samples only the minority class\n",
        "#        random_state=0,  # for reproducibility\n",
        "#        k_neighbors=5,\n",
        "#        m_neighbors=10,\n",
        "#        kind='borderline-1',\n",
        "#        n_jobs=4),\n",
        "#\n",
        "#    'border2': BorderlineSMOTE(\n",
        "#        sampling_strategy='auto',  # samples only the minority class\n",
        "#        random_state=0,  # for reproducibility\n",
        "#        k_neighbors=5,\n",
        "#        m_neighbors=10,\n",
        "#        kind='borderline-2',\n",
        "#        n_jobs=4),\n",
        "\n",
        "#    'svm': SVMSMOTE(\n",
        "#        sampling_strategy='auto',  # samples only the minority class\n",
        "#        random_state=0,  # for reproducibility\n",
        "#        k_neighbors=5,\n",
        "#        m_neighbors=10,\n",
        "#        n_jobs=4,\n",
        "#        svm_estimator=SVC(kernel='linear')),\n",
        "#}"
      ]
    },
    {
      "cell_type": "markdown",
      "source": [
        "### 8. Calibración del Modelo:\n",
        "En esta parte verificaremos, y de ser necesario, calibraremos el modelo revisando la relación entre los valores los ratios de default reales y las PDs promedios que arroja el modelo."
      ],
      "metadata": {
        "id": "pxrRe-Q5naph"
      }
    },
    {
      "cell_type": "code",
      "source": [
        "from sklearn.calibration import calibration_curve"
      ],
      "metadata": {
        "id": "wa6Id-KgnaJi"
      },
      "execution_count": null,
      "outputs": []
    },
    {
      "cell_type": "code",
      "source": [
        "# Veamos los RDs y los promedios de PDs en cada bucket para el modelo original (sin balanceo)\n",
        "fraction_of_positives, mean_predicted_value = calibration_curve(\n",
        "    y_test, pred_test_mix[:, 1], n_bins=10, strategy='uniform')\n",
        "\n",
        "len(mean_predicted_value), len(fraction_of_positives)"
      ],
      "metadata": {
        "id": "utMFKX0as24t"
      },
      "execution_count": null,
      "outputs": []
    },
    {
      "cell_type": "code",
      "source": [
        "mean_predicted_value"
      ],
      "metadata": {
        "id": "MANuM1ymu0lC"
      },
      "execution_count": null,
      "outputs": []
    },
    {
      "cell_type": "code",
      "source": [
        "fraction_of_positives"
      ],
      "metadata": {
        "id": "4Qwn-A8Bs21D"
      },
      "execution_count": null,
      "outputs": []
    },
    {
      "cell_type": "code",
      "source": [
        "# Una función para consolidar lo anterior\n",
        "def plot_calibration_curve(y_true, probs, bins, strategy):\n",
        "\n",
        "    fraction_of_positives, mean_predicted_value = calibration_curve(\n",
        "        y_true, probs, n_bins=bins, strategy=strategy)\n",
        "\n",
        "    max_val = max(mean_predicted_value)\n",
        "\n",
        "    plt.figure(figsize=(8,10))\n",
        "    plt.subplot(2, 1, 1)\n",
        "    plt.plot(mean_predicted_value, fraction_of_positives, label='Logistic Regression')\n",
        "    plt.plot(np.linspace(0, max_val, bins), np.linspace(0, max_val, bins),\n",
        "         linestyle='--', color='red', label='Perfect calibration')\n",
        "\n",
        "    plt.xlabel('Probability Predictions')\n",
        "    plt.ylabel('Fraction of positive examples')\n",
        "    plt.title('Calibration Curve')\n",
        "    plt.legend(loc='upper left')\n",
        "\n",
        "\n",
        "    plt.subplot(2, 1, 2)\n",
        "    plt.hist(probs, range=(0, 1), bins=bins, density=True, stacked=True, alpha=0.3)\n",
        "    plt.xlabel('Probability Predictions')\n",
        "    plt.ylabel('Fraction of examples')\n",
        "    plt.title('Density')\n",
        "    plt.show()"
      ],
      "metadata": {
        "id": "qmAMdI0Rwh20"
      },
      "execution_count": null,
      "outputs": []
    },
    {
      "cell_type": "code",
      "source": [
        "# Modelo Original, sin balanceo\n",
        "plot_calibration_curve(y_test, pred_test_mix[:, 1], bins=10, strategy='uniform')"
      ],
      "metadata": {
        "id": "3jhHYABYwhzz"
      },
      "execution_count": null,
      "outputs": []
    },
    {
      "cell_type": "code",
      "source": [
        "from sklearn.metrics import brier_score_loss"
      ],
      "metadata": {
        "id": "XrgIfsXJJo9P"
      },
      "execution_count": null,
      "outputs": []
    },
    {
      "cell_type": "code",
      "source": [
        "brier_score_loss(y_test, pred_test_mix[:, 1])"
      ],
      "metadata": {
        "id": "uhVNCbvLJsPS"
      },
      "execution_count": null,
      "outputs": []
    },
    {
      "cell_type": "code",
      "source": [
        "# Modelo con Undersampling\n",
        "plot_calibration_curve(y_test, pred_test_mix2[:, 1], bins=10, strategy='uniform')"
      ],
      "metadata": {
        "id": "oPguaKYkwhQ_"
      },
      "execution_count": null,
      "outputs": []
    },
    {
      "cell_type": "code",
      "source": [
        "brier_score_loss(y_test, pred_test_mix2[:, 1])"
      ],
      "metadata": {
        "id": "QPSkn0aAKAN4"
      },
      "execution_count": null,
      "outputs": []
    },
    {
      "cell_type": "code",
      "source": [
        "# Modelo con Oversampling\n",
        "plot_calibration_curve(y_test, pred_test_mix3[:, 1], bins=10, strategy='uniform')"
      ],
      "metadata": {
        "id": "9OfAobpW15y2"
      },
      "execution_count": null,
      "outputs": []
    },
    {
      "cell_type": "code",
      "source": [
        "brier_score_loss(y_test, pred_test_mix3[:, 1])"
      ],
      "metadata": {
        "id": "jBfjZa8LKE4G"
      },
      "execution_count": null,
      "outputs": []
    },
    {
      "cell_type": "code",
      "source": [
        "from sklearn.calibration import CalibratedClassifierCV"
      ],
      "metadata": {
        "id": "O0EnRNQG3wmf"
      },
      "execution_count": null,
      "outputs": []
    },
    {
      "cell_type": "markdown",
      "source": [
        "### Planteemos dos métodos, el ajuste por función sigmoide y el ajuste por función isotónica"
      ],
      "metadata": {
        "id": "rVF1LA1V7cOt"
      }
    },
    {
      "cell_type": "code",
      "source": [
        "# Sobre el modelo original\n",
        "# Calibración Sigmoide\n",
        "cal_sigmoid = CalibratedClassifierCV(logit_mix, cv='prefit', method='sigmoid')\n",
        "cal_sigmoid.fit(X_test_woe_enc_tot, y_test)\n",
        "prob_sigmoid = cal_sigmoid.predict_proba(X_test_woe_enc_tot)[:, 1]\n",
        "\n",
        "# Calibración Isotónica\n",
        "cal_isotonic = CalibratedClassifierCV(logit_mix, cv='prefit', method='isotonic')\n",
        "cal_isotonic.fit(X_test_woe_enc_tot, y_test)\n",
        "prob_isotonic = cal_isotonic.predict_proba(X_test_woe_enc_tot)[:, 1]"
      ],
      "metadata": {
        "id": "Gbrkew2g3meZ"
      },
      "execution_count": null,
      "outputs": []
    },
    {
      "cell_type": "markdown",
      "source": [
        "#### Revisemos la calibración Sigmoide"
      ],
      "metadata": {
        "id": "6ehctH_5_PDk"
      }
    },
    {
      "cell_type": "code",
      "source": [
        "plot_calibration_curve(y_test, prob_sigmoid, bins=10, strategy='uniform')"
      ],
      "metadata": {
        "id": "iflEyvUd5Bo7"
      },
      "execution_count": null,
      "outputs": []
    },
    {
      "cell_type": "markdown",
      "source": [
        "### Acaso la calibración varía la discriminación del modelo?"
      ],
      "metadata": {
        "id": "WDoa0YJU-UuI"
      }
    },
    {
      "cell_type": "code",
      "source": [
        "print('Test set')\n",
        "print('Logistic regression roc-auc: {}'.format(roc_auc_score(y_test, pred_test_mix[:,1])))\n",
        "print('Test set con Calibrado')\n",
        "print('Logistic regression roc-auc: {}'.format(roc_auc_score(y_test, prob_sigmoid)))"
      ],
      "metadata": {
        "id": "SD6UfuRT-TmJ"
      },
      "execution_count": null,
      "outputs": []
    },
    {
      "cell_type": "code",
      "source": [
        "print('Test set')\n",
        "print('Brier Score: {}'.format(brier_score_loss(y_test, pred_test_mix[:, 1])))\n",
        "print('Test set con Calibrado')\n",
        "print('Brier Score: {}'.format(brier_score_loss(y_test, prob_sigmoid)))"
      ],
      "metadata": {
        "id": "ORzXYRiMKOB2"
      },
      "execution_count": null,
      "outputs": []
    },
    {
      "cell_type": "markdown",
      "source": [
        "### Ahora revisemos la calibración isotónica"
      ],
      "metadata": {
        "id": "uiu6o_Q9_Wah"
      }
    },
    {
      "cell_type": "code",
      "source": [
        "plot_calibration_curve(y_test, prob_isotonic, bins=10, strategy='uniform')"
      ],
      "metadata": {
        "id": "679ku4_c4rvz"
      },
      "execution_count": null,
      "outputs": []
    },
    {
      "cell_type": "code",
      "source": [
        "print('Test set')\n",
        "print('Logistic regression roc-auc: {}'.format(roc_auc_score(y_test, pred_test_mix[:,1])))\n",
        "print('Test set con Calibrado')\n",
        "print('Logistic regression roc-auc: {}'.format(roc_auc_score(y_test, prob_isotonic)))"
      ],
      "metadata": {
        "id": "zkrtNaP-_L4j"
      },
      "execution_count": null,
      "outputs": []
    },
    {
      "cell_type": "code",
      "source": [
        "print('Test set')\n",
        "print('Brier Score: {}'.format(brier_score_loss(y_test, pred_test_mix[:, 1])))\n",
        "print('Test set con Calibrado')\n",
        "print('Brier Score: {}'.format(brier_score_loss(y_test, prob_isotonic)))"
      ],
      "metadata": {
        "id": "5lGHqbIlLCYf"
      },
      "execution_count": null,
      "outputs": []
    },
    {
      "cell_type": "code",
      "source": [
        "plt.figure(figsize=(5,5))\n",
        "plt.plot(pred_test_mix[:,1], prob_sigmoid)\n",
        "plt.xlabel('Original Probabilities')\n",
        "plt.ylabel('Calibrated Probabilities')\n",
        "plt.title('Original vs Calibration')"
      ],
      "metadata": {
        "id": "jjy__m5HCHcM"
      },
      "execution_count": null,
      "outputs": []
    },
    {
      "cell_type": "code",
      "source": [
        "plt.figure(figsize=(5,5))\n",
        "plt.plot(pred_test_mix[:,1], prob_isotonic)\n",
        "plt.xlabel('Original Probabilities')\n",
        "plt.ylabel('Calibrated Probabilities')\n",
        "plt.title('Original vs Calibration')"
      ],
      "metadata": {
        "id": "OyiXl_0TD1fe"
      },
      "execution_count": null,
      "outputs": []
    },
    {
      "cell_type": "code",
      "source": [
        "# Sobre el modelo balanceado por undersampling\n",
        "# Calibración Sigmoide\n",
        "cal_sigmoid2 = CalibratedClassifierCV(logit_mix2, cv='prefit', method='sigmoid')\n",
        "cal_sigmoid2.fit(X_test_woe_enc_tot, y_test)\n",
        "prob_sigmoid2 = cal_sigmoid2.predict_proba(X_test_woe_enc_tot)[:, 1]\n",
        "\n",
        "# Calibración Isotónica\n",
        "cal_isotonic2 = CalibratedClassifierCV(logit_mix2, cv='prefit', method='isotonic')\n",
        "cal_isotonic2.fit(X_test_woe_enc_tot, y_test)\n",
        "prob_isotonic2 = cal_isotonic2.predict_proba(X_test_woe_enc_tot)[:, 1]"
      ],
      "metadata": {
        "id": "uSU7rC1NEwos"
      },
      "execution_count": null,
      "outputs": []
    },
    {
      "cell_type": "code",
      "source": [
        "# Calibración sigmoidea\n",
        "plot_calibration_curve(y_test, prob_sigmoid2, bins=10, strategy='uniform')"
      ],
      "metadata": {
        "id": "Tz5i64OWFQFe"
      },
      "execution_count": null,
      "outputs": []
    },
    {
      "cell_type": "code",
      "source": [
        "print('Test set')\n",
        "print('Logistic regression roc-auc: {}'.format(roc_auc_score(y_test, pred_test_mix2[:,1])))\n",
        "print('Test set con Calibrado')\n",
        "print('Logistic regression roc-auc: {}'.format(roc_auc_score(y_test, prob_sigmoid2)))"
      ],
      "metadata": {
        "id": "Ecba6vgaGkUM"
      },
      "execution_count": null,
      "outputs": []
    },
    {
      "cell_type": "code",
      "source": [
        "print('Test set')\n",
        "print('Brier Score: {}'.format(brier_score_loss(y_test, pred_test_mix2[:, 1])))\n",
        "print('Test set con Calibrado')\n",
        "print('Brier Score: {}'.format(brier_score_loss(y_test, prob_sigmoid2)))"
      ],
      "metadata": {
        "id": "8FsQHmrqLLvp"
      },
      "execution_count": null,
      "outputs": []
    },
    {
      "cell_type": "code",
      "source": [
        "# Calibración isotónica\n",
        "plot_calibration_curve(y_test, prob_isotonic2, bins=10, strategy='uniform')"
      ],
      "metadata": {
        "id": "89K134WnF1wy"
      },
      "execution_count": null,
      "outputs": []
    },
    {
      "cell_type": "code",
      "source": [
        "print('Test set')\n",
        "print('Logistic regression roc-auc: {}'.format(roc_auc_score(y_test, pred_test_mix2[:,1])))\n",
        "print('Test set con Calibrado')\n",
        "print('Logistic regression roc-auc: {}'.format(roc_auc_score(y_test, prob_isotonic2)))"
      ],
      "metadata": {
        "id": "BUEYh08HH6PF"
      },
      "execution_count": null,
      "outputs": []
    },
    {
      "cell_type": "code",
      "source": [
        "print('Test set')\n",
        "print('Brier Score: {}'.format(brier_score_loss(y_test, pred_test_mix2[:, 1])))\n",
        "print('Test set con Calibrado')\n",
        "print('Brier Score: {}'.format(brier_score_loss(y_test, prob_isotonic2)))"
      ],
      "metadata": {
        "id": "AFhvBdC5LnrG"
      },
      "execution_count": null,
      "outputs": []
    },
    {
      "cell_type": "code",
      "source": [
        "plt.figure(figsize=(5,5))\n",
        "plt.plot(pred_test_mix[:,1], prob_sigmoid2)\n",
        "plt.xlabel('Original Probabilities')\n",
        "plt.ylabel('Calibrated Probabilities')\n",
        "plt.title('Original vs Calibration')"
      ],
      "metadata": {
        "id": "HuoSLhERGAIR"
      },
      "execution_count": null,
      "outputs": []
    },
    {
      "cell_type": "code",
      "source": [
        "plt.figure(figsize=(5,5))\n",
        "plt.plot(pred_test_mix[:,1], prob_isotonic2)\n",
        "plt.xlabel('Original Probabilities')\n",
        "plt.ylabel('Calibrated Probabilities')\n",
        "plt.title('Original vs Calibration')"
      ],
      "metadata": {
        "id": "LXtTDQ1pGHRO"
      },
      "execution_count": null,
      "outputs": []
    },
    {
      "cell_type": "markdown",
      "source": [
        "### Cómo se vería en el caso de la calibración del modelo con oversampling?"
      ],
      "metadata": {
        "id": "hpk5GqnbIOnD"
      }
    },
    {
      "cell_type": "code",
      "source": [],
      "metadata": {
        "id": "kRK_OZ38IYrG"
      },
      "execution_count": null,
      "outputs": []
    },
    {
      "cell_type": "code",
      "source": [],
      "metadata": {
        "id": "RXFRp7OZIZhB"
      },
      "execution_count": null,
      "outputs": []
    }
  ],
  "metadata": {
    "colab": {
      "provenance": [],
      "include_colab_link": true
    },
    "kernelspec": {
      "display_name": "Python 3",
      "name": "python3"
    },
    "language_info": {
      "name": "python"
    }
  },
  "nbformat": 4,
  "nbformat_minor": 0
}